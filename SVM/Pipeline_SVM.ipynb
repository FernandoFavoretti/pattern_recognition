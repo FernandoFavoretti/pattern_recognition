{
 "cells": [
  {
   "cell_type": "code",
   "execution_count": 4,
   "metadata": {},
   "outputs": [
    {
     "data": {
      "text/plain": [
       "<module 'feature_selection' from '/home/favoretti/mestrado/reconhecimento_padroes/pattern_recognition/SVM/feature_selection.py'>"
      ]
     },
     "execution_count": 4,
     "metadata": {},
     "output_type": "execute_result"
    }
   ],
   "source": [
    "# import das libs necessárias\n",
    "import pandas as pd # trabalhar com dataframes\n",
    "import numpy as np # realizacao de algumas operacoes com matrizes\n",
    "\n",
    "#imagens\n",
    "import cv2 # transformacoes faceis em imagens\n",
    "from PIL import Image # trabalhar com imagens\n",
    "\n",
    "# ferramentas\n",
    "import glob # exploracao de diretorios\n",
    "from pylab import *\n",
    "import tqdm\n",
    "import importlib\n",
    "import time\n",
    "\n",
    "# plot \n",
    "import matplotlib.pyplot as plt # plotagem\n",
    "%matplotlib inline\n",
    "\n",
    "# Machine Learning\n",
    "from sklearn import svm\n",
    "from sklearn.model_selection import GridSearchCV # Grid Search para rodar todos os parametros\n",
    "from sklearn.model_selection import train_test_split # split treino e teste\n",
    "from sklearn.metrics import roc_auc_score\n",
    "from sklearn.svm import SVC\n",
    "\n",
    "#importando ferramentas já implementadas anteriormente\n",
    "import sampling #retorna uma amostra para treino\n",
    "importlib.reload(sampling)\n",
    "import PCA_and_Inverse\n",
    "importlib.reload(PCA_and_Inverse)\n",
    "import feature_selection\n",
    "importlib.reload(feature_selection)\n"
   ]
  },
  {
   "cell_type": "markdown",
   "metadata": {},
   "source": [
    "## Cria uma amostra das imagens do tamanho definido e carrega em dataframes"
   ]
  },
  {
   "cell_type": "code",
   "execution_count": 7,
   "metadata": {
    "scrolled": false
   },
   "outputs": [
    {
     "name": "stderr",
     "output_type": "stream",
     "text": [
      "100%|██████████| 400/400 [00:00<00:00, 957.81it/s]\n"
     ]
    }
   ],
   "source": [
    "#carregando amostra dos dados\n",
    "X, Y = sampling.get_sample(400)"
   ]
  },
  {
   "cell_type": "code",
   "execution_count": 8,
   "metadata": {},
   "outputs": [],
   "source": [
    "X_train, X_test, y_train, y_test = train_test_split(X, Y, test_size=0.33, random_state=42)"
   ]
  },
  {
   "cell_type": "code",
   "execution_count": 10,
   "metadata": {},
   "outputs": [],
   "source": [
    "X_train.to_csv('../data/X_train.csv', index=False)\n",
    "X_test.to_csv('../data/X_test.csv', index=False)\n",
    "y_train.to_csv('../data/y_train.csv', index=False)\n",
    "y_test.to_csv('../data/y_test.csv', index=False)"
   ]
  },
  {
   "cell_type": "markdown",
   "metadata": {},
   "source": [
    "### Baseline para predicoes"
   ]
  },
  {
   "cell_type": "code",
   "execution_count": 88,
   "metadata": {},
   "outputs": [
    {
     "name": "stderr",
     "output_type": "stream",
     "text": [
      "/home/fernando.favoretti/.local/lib/python3.6/site-packages/sklearn/utils/validation.py:578: DataConversionWarning: A column-vector y was passed when a 1d array was expected. Please change the shape of y to (n_samples, ), for example using ravel().\n",
      "  y = column_or_1d(y, warn=True)\n"
     ]
    },
    {
     "data": {
      "text/plain": [
       "0.5"
      ]
     },
     "execution_count": 88,
     "metadata": {},
     "output_type": "execute_result"
    }
   ],
   "source": [
    "svm_bs = SVC()\n",
    "\n",
    "svm_bs.fit(X_train, y_train)\n",
    "roc_auc_score(y_test, svm_bs.predict(X_test))"
   ]
  },
  {
   "cell_type": "markdown",
   "metadata": {},
   "source": [
    "## Extração de características\n",
    "\n",
    "- Calcula as Componentes principais para os dados carregados"
   ]
  },
  {
   "cell_type": "code",
   "execution_count": 112,
   "metadata": {},
   "outputs": [],
   "source": [
    "pca = PCA_and_Inverse.PCA_and_Inverse()\n",
    "pca_components = pca.get_PCA(X=X, n_components=1600)\n",
    "X_train_pca, X_test_pca, y_train_pca, y_test_pca = train_test_split(pca_components, Y, test_size=0.33, random_state=42)\n"
   ]
  },
  {
   "cell_type": "markdown",
   "metadata": {},
   "source": [
    "## Seleção de características\n",
    "\n",
    "- Calcula as melhores features a serem utilizadas pelos métodos de:\n",
    "    - Informação Mútua\n",
    "    - Algoritmo Genético"
   ]
  },
  {
   "cell_type": "markdown",
   "metadata": {},
   "source": [
    "#### Informação Mútua"
   ]
  },
  {
   "cell_type": "code",
   "execution_count": 68,
   "metadata": {},
   "outputs": [
    {
     "name": "stdout",
     "output_type": "stream",
     "text": [
      "Done\n"
     ]
    }
   ],
   "source": [
    "print(\"Done\")"
   ]
  },
  {
   "cell_type": "code",
   "execution_count": 66,
   "metadata": {
    "scrolled": true
   },
   "outputs": [
    {
     "name": "stderr",
     "output_type": "stream",
     "text": [
      "/home/fernando.favoretti/.local/lib/python3.6/site-packages/sklearn/utils/validation.py:578: DataConversionWarning: A column-vector y was passed when a 1d array was expected. Please change the shape of y to (n_samples, ), for example using ravel().\n",
      "  y = column_or_1d(y, warn=True)\n"
     ]
    }
   ],
   "source": [
    "mic_threshold = 0.05\n",
    "mic_features_df = feature_selection.get_MIC_features(X=X, Y=Y)\n",
    "mic_features = list(mic_features_df[mic_features_df[0] > mic_threshold].index)"
   ]
  },
  {
   "cell_type": "markdown",
   "metadata": {},
   "source": [
    "#### Algoritmo Genético"
   ]
  },
  {
   "cell_type": "code",
   "execution_count": 67,
   "metadata": {},
   "outputs": [
    {
     "name": "stdout",
     "output_type": "stream",
     "text": [
      "Training Features Shape: (750, 160000)\n",
      "Training Labels Shape: (750, 1)\n",
      "Testing Features Shape: (250, 160000)\n",
      "Testing Labels Shape: (250, 1)\n",
      "Baseline AUC 0.6187243852459017\n",
      "Optimizing with 1000 generations\n",
      "Generation 0\n",
      "Best result : 0.6003457991803279\n",
      "Generation 1\n",
      "Best result : 0.6064293032786885\n",
      "Generation 2\n",
      "Best result : 0.6116803278688525\n",
      "Generation 3\n",
      "Best result : 0.6116803278688525\n",
      "Generation 4\n",
      "Best result : 0.6116803278688525\n",
      "Generation 5\n",
      "Best result : 0.6116803278688525\n",
      "Generation 6\n",
      "Best result : 0.6116803278688525\n",
      "Generation 7\n",
      "Best result : 0.6116803278688525\n",
      "Generation 8\n",
      "Best result : 0.6116803278688525\n",
      "Generation 9\n",
      "Best result : 0.6116803278688525\n",
      "Generation 10\n",
      "Best result : 0.6116803278688525\n",
      "Generation 11\n",
      "Best result : 0.6116803278688525\n",
      "Generation 12\n",
      "Best result : 0.6116803278688525\n",
      "Generation 13\n",
      "Best result : 0.6116803278688525\n",
      "Generation 14\n",
      "Best result : 0.6116803278688525\n",
      "Generation 15\n",
      "Best result : 0.6116803278688525\n",
      "Generation 16\n",
      "Best result : 0.6327484631147541\n",
      "Generation 17\n",
      "Best result : 0.6327484631147541\n",
      "Generation 18\n",
      "Best result : 0.6327484631147541\n",
      "Generation 19\n",
      "Best result : 0.6327484631147541\n",
      "Generation 20\n",
      "Best result : 0.6327484631147541\n",
      "Generation 21\n",
      "Best result : 0.6327484631147541\n",
      "Generation 22\n",
      "Best result : 0.6327484631147541\n",
      "Generation 23\n",
      "Best result : 0.6327484631147541\n",
      "Generation 24\n",
      "Best result : 0.6327484631147541\n",
      "Generation 25\n",
      "Best result : 0.6327484631147541\n",
      "Generation 26\n",
      "Best result : 0.6327484631147541\n",
      "Generation 27\n",
      "Best result : 0.6327484631147541\n",
      "Generation 28\n",
      "Best result : 0.6327484631147541\n",
      "Generation 29\n",
      "Best result : 0.6327484631147541\n",
      "Generation 30\n",
      "Best result : 0.6327484631147541\n",
      "Generation 31\n",
      "Best result : 0.6327484631147541\n",
      "Generation 32\n",
      "Best result : 0.6327484631147541\n",
      "Generation 33\n",
      "Best result : 0.6327484631147541\n",
      "Generation 34\n",
      "Best result : 0.6327484631147541\n",
      "Generation 35\n",
      "Best result : 0.6327484631147541\n",
      "Generation 36\n",
      "Best result : 0.6327484631147541\n",
      "Generation 37\n",
      "Best result : 0.6327484631147541\n",
      "Generation 38\n",
      "Best result : 0.6327484631147541\n",
      "Generation 39\n",
      "Best result : 0.6327484631147541\n",
      "Generation 40\n",
      "Best result : 0.6327484631147541\n",
      "Generation 41\n",
      "Best result : 0.6327484631147541\n",
      "Generation 42\n",
      "Best result : 0.6327484631147541\n",
      "Generation 43\n",
      "Best result : 0.6327484631147541\n",
      "Generation 44\n",
      "Best result : 0.6327484631147541\n",
      "Generation 45\n",
      "Best result : 0.6327484631147541\n",
      "Generation 46\n",
      "Best result : 0.6327484631147541\n",
      "Generation 47\n",
      "Best result : 0.6327484631147541\n",
      "Generation 48\n",
      "Best result : 0.6327484631147541\n",
      "Generation 49\n",
      "Best result : 0.6327484631147541\n",
      "Generation 50\n",
      "Best result : 0.6327484631147541\n",
      "Generation 51\n",
      "Best result : 0.6327484631147541\n",
      "Generation 52\n",
      "Best result : 0.6327484631147541\n",
      "Generation 53\n",
      "Best result : 0.6327484631147541\n",
      "Generation 54\n",
      "Best result : 0.6327484631147541\n",
      "Generation 55\n",
      "Best result : 0.6327484631147541\n",
      "Generation 56\n",
      "Best result : 0.6327484631147541\n",
      "Generation 57\n",
      "Best result : 0.6327484631147541\n",
      "Generation 58\n",
      "Best result : 0.6327484631147541\n",
      "Generation 59\n",
      "Best result : 0.6327484631147541\n",
      "Generation 60\n",
      "Best result : 0.6327484631147541\n",
      "Generation 61\n",
      "Best result : 0.6327484631147541\n",
      "Generation 62\n",
      "Best result : 0.6327484631147541\n",
      "Generation 63\n",
      "Best result : 0.6327484631147541\n",
      "Generation 64\n",
      "Best result : 0.6327484631147541\n",
      "Generation 65\n",
      "Best result : 0.6327484631147541\n",
      "Generation 66\n",
      "Best result : 0.6327484631147541\n",
      "Generation 67\n",
      "Best result : 0.6327484631147541\n",
      "Generation 68\n",
      "Best result : 0.6327484631147541\n",
      "Generation 69\n",
      "Best result : 0.6327484631147541\n",
      "Generation 70\n",
      "Best result : 0.6327484631147541\n",
      "Generation 71\n",
      "Best result : 0.6327484631147541\n",
      "Generation 72\n",
      "Best result : 0.6327484631147541\n",
      "Generation 73\n",
      "Best result : 0.6327484631147541\n",
      "Generation 74\n",
      "Best result : 0.6327484631147541\n",
      "Generation 75\n",
      "Best result : 0.6327484631147541\n",
      "Generation 76\n",
      "Best result : 0.6327484631147541\n",
      "Generation 77\n",
      "Best result : 0.6327484631147541\n",
      "Generation 78\n",
      "Best result : 0.6327484631147541\n",
      "Generation 79\n",
      "Best result : 0.6327484631147541\n",
      "Generation 80\n",
      "Best result : 0.6327484631147541\n",
      "Generation 81\n",
      "Best result : 0.6327484631147541\n",
      "Generation 82\n",
      "Best result : 0.6327484631147541\n",
      "Generation 83\n",
      "Best result : 0.6327484631147541\n",
      "Generation 84\n",
      "Best result : 0.6327484631147541\n",
      "Generation 85\n",
      "Best result : 0.6327484631147541\n",
      "Generation 86\n",
      "Best result : 0.6327484631147541\n",
      "Generation 87\n",
      "Best result : 0.6327484631147541\n",
      "Generation 88\n",
      "Best result : 0.6327484631147541\n",
      "Generation 89\n",
      "Best result : 0.6327484631147541\n",
      "Generation 90\n",
      "Best result : 0.6327484631147541\n",
      "Generation 91\n",
      "Best result : 0.6327484631147541\n",
      "Generation 92\n",
      "Best result : 0.6327484631147541\n",
      "Generation 93\n",
      "Best result : 0.6327484631147541\n",
      "Generation 94\n",
      "Best result : 0.6327484631147541\n",
      "Generation 95\n",
      "Best result : 0.6327484631147541\n",
      "Generation 96\n",
      "Best result : 0.6327484631147541\n",
      "Generation 97\n",
      "Best result : 0.6327484631147541\n",
      "Generation 98\n",
      "Best result : 0.6327484631147541\n",
      "Generation 99\n",
      "Best result : 0.6327484631147541\n",
      "Generation 100\n",
      "Best result : 0.6327484631147541\n",
      "Generation 101\n",
      "Best result : 0.6327484631147541\n",
      "Generation 102\n",
      "Best result : 0.6327484631147541\n",
      "Generation 103\n",
      "Best result : 0.6327484631147541\n",
      "Generation 104\n",
      "Best result : 0.6327484631147541\n",
      "Generation 105\n",
      "Best result : 0.6327484631147541\n",
      "Generation 106\n",
      "Best result : 0.6327484631147541\n",
      "Generation 107\n",
      "Best result : 0.6327484631147541\n",
      "Generation 108\n",
      "Best result : 0.6327484631147541\n",
      "Generation 109\n",
      "Best result : 0.6327484631147541\n",
      "Generation 110\n",
      "Best result : 0.6327484631147541\n",
      "Generation 111\n",
      "Best result : 0.6327484631147541\n",
      "Generation 112\n",
      "Best result : 0.6327484631147541\n",
      "Generation 113\n",
      "Best result : 0.6327484631147541\n",
      "Generation 114\n",
      "Best result : 0.6327484631147541\n",
      "Generation 115\n",
      "Best result : 0.6327484631147541\n",
      "Generation 116\n",
      "Best result : 0.6327484631147541\n",
      "Generation 117\n",
      "Best result : 0.6327484631147541\n",
      "Generation 118\n",
      "Best result : 0.6327484631147541\n",
      "Generation 119\n",
      "Best result : 0.6327484631147541\n",
      "Generation 120\n",
      "Best result : 0.6327484631147541\n",
      "Generation 121\n",
      "Best result : 0.6327484631147541\n",
      "Generation 122\n",
      "Best result : 0.6327484631147541\n",
      "Generation 123\n",
      "Best result : 0.6327484631147541\n",
      "Generation 124\n",
      "Best result : 0.6327484631147541\n",
      "Generation 125\n",
      "Best result : 0.6327484631147541\n",
      "Generation 126\n",
      "Best result : 0.6327484631147541\n",
      "Generation 127\n",
      "Best result : 0.6327484631147541\n",
      "Generation 128\n",
      "Best result : 0.6327484631147541\n",
      "Generation 129\n",
      "Best result : 0.6327484631147541\n",
      "Generation 130\n",
      "Best result : 0.6327484631147541\n",
      "Generation 131\n",
      "Best result : 0.6327484631147541\n",
      "Generation 132\n",
      "Best result : 0.6327484631147541\n",
      "Generation 133\n",
      "Best result : 0.6327484631147541\n",
      "Generation 134\n",
      "Best result : 0.6327484631147541\n",
      "Generation 135\n",
      "Best result : 0.6327484631147541\n",
      "Generation 136\n",
      "Best result : 0.6327484631147541\n",
      "Generation 137\n",
      "Best result : 0.6327484631147541\n",
      "Generation 138\n",
      "Best result : 0.6327484631147541\n",
      "Generation 139\n",
      "Best result : 0.6327484631147541\n",
      "Generation 140\n",
      "Best result : 0.6327484631147541\n",
      "Generation 141\n",
      "Best result : 0.6327484631147541\n",
      "Generation 142\n",
      "Best result : 0.6327484631147541\n",
      "Generation 143\n",
      "Best result : 0.6327484631147541\n",
      "Generation 144\n",
      "Best result : 0.6327484631147541\n",
      "Generation 145\n",
      "Best result : 0.6327484631147541\n",
      "Generation 146\n",
      "Best result : 0.6327484631147541\n",
      "Generation 147\n",
      "Best result : 0.6327484631147541\n",
      "Generation 148\n",
      "Best result : 0.6327484631147541\n",
      "Generation 149\n",
      "Best result : 0.6327484631147541\n",
      "Generation 150\n",
      "Best result : 0.6327484631147541\n",
      "Generation 151\n",
      "Best result : 0.6327484631147541\n",
      "Generation 152\n",
      "Best result : 0.6327484631147541\n",
      "Generation 153\n",
      "Best result : 0.6327484631147541\n",
      "Generation 154\n",
      "Best result : 0.6327484631147541\n",
      "Generation 155\n",
      "Best result : 0.6327484631147541\n",
      "Generation 156\n",
      "Best result : 0.6327484631147541\n",
      "Generation 157\n",
      "Best result : 0.6327484631147541\n",
      "Generation 158\n",
      "Best result : 0.6327484631147541\n",
      "Generation 159\n",
      "Best result : 0.6356941598360656\n",
      "Generation 160\n",
      "Best result : 0.6356941598360656\n",
      "Generation 161\n",
      "Best result : 0.6356941598360656\n",
      "Generation 162\n",
      "Best result : 0.6356941598360656\n",
      "Generation 163\n",
      "Best result : 0.6356941598360656\n",
      "Generation 164\n",
      "Best result : 0.6356941598360656\n",
      "Generation 165\n",
      "Best result : 0.6356941598360656\n",
      "Generation 166\n",
      "Best result : 0.6356941598360656\n",
      "Generation 167\n",
      "Best result : 0.6356941598360656\n",
      "Generation 168\n",
      "Best result : 0.6356941598360656\n",
      "Generation 169\n",
      "Best result : 0.6356941598360656\n",
      "Generation 170\n",
      "Best result : 0.6356941598360656\n",
      "Generation 171\n",
      "Best result : 0.6356941598360656\n",
      "Generation 172\n",
      "Best result : 0.6356941598360656\n",
      "Generation 173\n",
      "Best result : 0.6356941598360656\n",
      "Generation 174\n",
      "Best result : 0.6356941598360656\n",
      "Generation 175\n",
      "Best result : 0.6356941598360656\n",
      "Generation 176\n",
      "Best result : 0.6356941598360656\n",
      "Generation 177\n",
      "Best result : 0.6356941598360656\n",
      "Generation 178\n",
      "Best result : 0.6356941598360656\n",
      "Generation 179\n",
      "Best result : 0.6356941598360656\n",
      "Generation 180\n",
      "Best result : 0.6356941598360656\n",
      "Generation 181\n",
      "Best result : 0.6356941598360656\n",
      "Generation 182\n",
      "Best result : 0.6356941598360656\n",
      "Generation 183\n",
      "Best result : 0.6356941598360656\n",
      "Generation 184\n",
      "Best result : 0.6356941598360656\n",
      "Generation 185\n",
      "Best result : 0.6356941598360656\n",
      "Generation 186\n",
      "Best result : 0.6356941598360656\n",
      "Generation 187\n",
      "Best result : 0.6356941598360656\n",
      "Generation 188\n",
      "Best result : 0.6356941598360656\n",
      "Generation 189\n",
      "Best result : 0.6356941598360656\n",
      "Generation 190\n",
      "Best result : 0.6356941598360656\n",
      "Generation 191\n",
      "Best result : 0.6356941598360656\n",
      "Generation 192\n",
      "Best result : 0.6356941598360656\n",
      "Generation 193\n",
      "Best result : 0.6356941598360656\n",
      "Generation 194\n",
      "Best result : 0.6356941598360656\n",
      "Generation 195\n",
      "Best result : 0.6356941598360656\n",
      "Generation 196\n",
      "Best result : 0.6356941598360656\n",
      "Generation 197\n",
      "Best result : 0.6356941598360656\n",
      "Generation 198\n",
      "Best result : 0.6356941598360656\n",
      "Generation 199\n",
      "Best result : 0.6356941598360656\n",
      "Generation 200\n",
      "Best result : 0.6356941598360656\n",
      "Generation 201\n",
      "Best result : 0.6356941598360656\n",
      "Generation 202\n",
      "Best result : 0.6356941598360656\n",
      "Generation 203\n",
      "Best result : 0.6356941598360656\n",
      "Generation 204\n",
      "Best result : 0.6356941598360656\n",
      "Generation 205\n",
      "Best result : 0.6356941598360656\n",
      "Generation 206\n",
      "Best result : 0.6356941598360656\n",
      "Generation 207\n",
      "Best result : 0.6356941598360656\n",
      "Generation 208\n",
      "Best result : 0.6356941598360656\n",
      "Generation 209\n",
      "Best result : 0.6356941598360656\n",
      "Generation 210\n",
      "Best result : 0.6356941598360656\n",
      "Generation 211\n",
      "Best result : 0.6356941598360656\n",
      "Generation 212\n",
      "Best result : 0.6356941598360656\n",
      "Generation 213\n",
      "Best result : 0.6356941598360656\n",
      "Generation 214\n",
      "Best result : 0.6356941598360656\n",
      "Generation 215\n",
      "Best result : 0.6356941598360656\n",
      "Generation 216\n",
      "Best result : 0.6356941598360656\n",
      "Generation 217\n",
      "Best result : 0.6356941598360656\n",
      "Generation 218\n",
      "Best result : 0.6356941598360656\n",
      "Generation 219\n",
      "Best result : 0.6356941598360656\n",
      "Generation 220\n",
      "Best result : 0.6356941598360656\n",
      "Generation 221\n",
      "Best result : 0.6356941598360656\n",
      "Generation 222\n",
      "Best result : 0.6356941598360656\n",
      "Generation 223\n",
      "Best result : 0.6356941598360656\n",
      "Generation 224\n",
      "Best result : 0.6356941598360656\n",
      "Generation 225\n",
      "Best result : 0.6356941598360656\n",
      "Generation 226\n",
      "Best result : 0.6356941598360656\n",
      "Generation 227\n",
      "Best result : 0.6356941598360656\n",
      "Generation 228\n",
      "Best result : 0.6356941598360656\n",
      "Generation 229\n",
      "Best result : 0.6356941598360656\n",
      "Generation 230\n",
      "Best result : 0.6356941598360656\n",
      "Generation 231\n",
      "Best result : 0.6356941598360656\n",
      "Generation 232\n",
      "Best result : 0.6356941598360656\n",
      "Generation 233\n",
      "Best result : 0.6356941598360656\n",
      "Generation 234\n",
      "Best result : 0.6356941598360656\n",
      "Generation 235\n",
      "Best result : 0.6356941598360656\n",
      "Generation 236\n",
      "Best result : 0.6356941598360656\n",
      "Generation 237\n",
      "Best result : 0.6356941598360656\n",
      "Generation 238\n",
      "Best result : 0.6356941598360656\n",
      "Generation 239\n",
      "Best result : 0.6356941598360656\n",
      "Generation 240\n",
      "Best result : 0.6356941598360656\n",
      "Generation 241\n",
      "Best result : 0.6356941598360656\n",
      "Generation 242\n",
      "Best result : 0.6356941598360656\n",
      "Generation 243\n",
      "Best result : 0.6356941598360656\n",
      "Generation 244\n",
      "Best result : 0.6356941598360656\n",
      "Generation 245\n",
      "Best result : 0.6356941598360656\n",
      "Generation 246\n",
      "Best result : 0.6356941598360656\n",
      "Generation 247\n",
      "Best result : 0.6356941598360656\n",
      "Generation 248\n",
      "Best result : 0.6356941598360656\n",
      "Generation 249\n",
      "Best result : 0.6356941598360656\n",
      "Generation 250\n",
      "Best result : 0.6356941598360656\n",
      "Generation 251\n",
      "Best result : 0.6356941598360656\n",
      "Generation 252\n",
      "Best result : 0.6356941598360656\n",
      "Generation 253\n",
      "Best result : 0.6356941598360656\n",
      "Generation 254\n",
      "Best result : 0.6356941598360656\n",
      "Generation 255\n",
      "Best result : 0.6356941598360656\n",
      "Generation 256\n",
      "Best result : 0.6356941598360656\n",
      "Generation 257\n",
      "Best result : 0.6356941598360656\n",
      "Generation 258\n",
      "Best result : 0.6356941598360656\n",
      "Generation 259\n",
      "Best result : 0.6356941598360656\n",
      "Generation 260\n",
      "Best result : 0.6356941598360656\n",
      "Generation 261\n",
      "Best result : 0.6356941598360656\n",
      "Generation 262\n",
      "Best result : 0.6356941598360656\n",
      "Generation 263\n",
      "Best result : 0.6356941598360656\n",
      "Generation 264\n",
      "Best result : 0.6356941598360656\n",
      "Generation 265\n",
      "Best result : 0.6356941598360656\n",
      "Generation 266\n",
      "Best result : 0.6356941598360656\n",
      "Generation 267\n",
      "Best result : 0.6356941598360656\n",
      "Generation 268\n",
      "Best result : 0.6356941598360656\n",
      "Generation 269\n",
      "Best result : 0.6356941598360656\n",
      "Generation 270\n",
      "Best result : 0.6356941598360656\n",
      "Generation 271\n",
      "Best result : 0.6356941598360656\n",
      "Generation 272\n",
      "Best result : 0.6356941598360656\n",
      "Generation 273\n",
      "Best result : 0.6356941598360656\n",
      "Generation 274\n",
      "Best result : 0.6356941598360656\n",
      "Generation 275\n",
      "Best result : 0.6356941598360656\n",
      "Generation 276\n",
      "Best result : 0.6356941598360656\n",
      "Generation 277\n",
      "Best result : 0.6356941598360656\n",
      "Generation 278\n",
      "Best result : 0.6356941598360656\n",
      "Generation 279\n",
      "Best result : 0.6356941598360656\n",
      "Generation 280\n",
      "Best result : 0.6356941598360656\n",
      "Generation 281\n",
      "Best result : 0.6356941598360656\n",
      "Generation 282\n",
      "Best result : 0.6356941598360656\n",
      "Generation 283\n",
      "Best result : 0.6356941598360656\n",
      "Generation 284\n",
      "Best result : 0.6356941598360656\n",
      "Generation 285\n",
      "Best result : 0.6356941598360656\n",
      "Generation 286\n",
      "Best result : 0.6356941598360656\n",
      "Generation 287\n",
      "Best result : 0.6356941598360656\n",
      "Generation 288\n",
      "Best result : 0.6356941598360656\n",
      "Generation 289\n",
      "Best result : 0.6356941598360656\n",
      "Generation 290\n",
      "Best result : 0.6356941598360656\n",
      "Generation 291\n",
      "Best result : 0.6356941598360656\n",
      "Generation 292\n",
      "Best result : 0.6356941598360656\n",
      "Generation 293\n",
      "Best result : 0.6356941598360656\n",
      "Generation 294\n",
      "Best result : 0.6356941598360656\n",
      "Generation 295\n",
      "Best result : 0.6356941598360656\n",
      "Generation 296\n",
      "Best result : 0.6356941598360656\n",
      "Generation 297\n",
      "Best result : 0.6356941598360656\n",
      "Generation 298\n",
      "Best result : 0.6356941598360656\n",
      "Generation 299\n",
      "Best result : 0.6356941598360656\n",
      "Generation 300\n",
      "Best result : 0.6356941598360656\n",
      "Generation 301\n",
      "Best result : 0.6356941598360656\n",
      "Generation 302\n",
      "Best result : 0.6356941598360656\n",
      "Generation 303\n",
      "Best result : 0.6356941598360656\n",
      "Generation 304\n",
      "Best result : 0.6356941598360656\n",
      "Generation 305\n",
      "Best result : 0.6356941598360656\n",
      "Generation 306\n",
      "Best result : 0.6356941598360656\n",
      "Generation 307\n",
      "Best result : 0.6356941598360656\n",
      "Generation 308\n",
      "Best result : 0.6356941598360656\n",
      "Generation 309\n",
      "Best result : 0.6356941598360656\n",
      "Generation 310\n",
      "Best result : 0.6356941598360656\n",
      "Generation 311\n",
      "Best result : 0.6356941598360656\n",
      "Generation 312\n",
      "Best result : 0.6356941598360656\n",
      "Generation 313\n",
      "Best result : 0.6356941598360656\n",
      "Generation 314\n",
      "Best result : 0.6356941598360656\n",
      "Generation 315\n",
      "Best result : 0.6356941598360656\n",
      "Generation 316\n",
      "Best result : 0.6356941598360656\n",
      "Generation 317\n",
      "Best result : 0.6356941598360656\n",
      "Generation 318\n",
      "Best result : 0.6356941598360656\n",
      "Generation 319\n",
      "Best result : 0.6356941598360656\n",
      "Generation 320\n",
      "Best result : 0.6356941598360656\n",
      "Generation 321\n",
      "Best result : 0.6356941598360656\n",
      "Generation 322\n",
      "Best result : 0.6356941598360656\n",
      "Generation 323\n",
      "Best result : 0.6356941598360656\n",
      "Generation 324\n",
      "Best result : 0.6356941598360656\n",
      "Generation 325\n",
      "Best result : 0.6356941598360656\n",
      "Generation 326\n",
      "Best result : 0.6356941598360656\n",
      "Generation 327\n",
      "Best result : 0.6356941598360656\n",
      "Generation 328\n",
      "Best result : 0.6397925204918032\n",
      "Generation 329\n",
      "Best result : 0.6397925204918032\n",
      "Generation 330\n",
      "Best result : 0.6397925204918032\n",
      "Generation 331\n",
      "Best result : 0.6397925204918032\n",
      "Generation 332\n",
      "Best result : 0.6397925204918032\n",
      "Generation 333\n",
      "Best result : 0.6397925204918032\n",
      "Generation 334\n",
      "Best result : 0.6397925204918032\n",
      "Generation 335\n",
      "Best result : 0.6397925204918032\n",
      "Generation 336\n",
      "Best result : 0.6397925204918032\n",
      "Generation 337\n",
      "Best result : 0.6397925204918032\n",
      "Generation 338\n",
      "Best result : 0.6397925204918032\n",
      "Generation 339\n",
      "Best result : 0.6397925204918032\n",
      "Generation 340\n",
      "Best result : 0.6397925204918032\n",
      "Generation 341\n",
      "Best result : 0.6397925204918032\n",
      "Generation 342\n",
      "Best result : 0.6397925204918032\n",
      "Generation 343\n",
      "Best result : 0.6397925204918032\n",
      "Generation 344\n",
      "Best result : 0.6397925204918032\n",
      "Generation 345\n",
      "Best result : 0.6397925204918032\n",
      "Generation 346\n",
      "Best result : 0.6397925204918032\n",
      "Generation 347\n",
      "Best result : 0.6397925204918032\n",
      "Generation 348\n",
      "Best result : 0.6397925204918032\n",
      "Generation 349\n",
      "Best result : 0.6397925204918032\n",
      "Generation 350\n",
      "Best result : 0.6397925204918032\n",
      "Generation 351\n",
      "Best result : 0.6397925204918032\n",
      "Generation 352\n",
      "Best result : 0.6397925204918032\n",
      "Generation 353\n",
      "Best result : 0.6397925204918032\n",
      "Generation 354\n",
      "Best result : 0.6397925204918032\n",
      "Generation 355\n",
      "Best result : 0.6397925204918032\n",
      "Generation 356\n",
      "Best result : 0.6397925204918032\n",
      "Generation 357\n",
      "Best result : 0.6397925204918032\n",
      "Generation 358\n",
      "Best result : 0.6397925204918032\n",
      "Generation 359\n",
      "Best result : 0.6397925204918032\n",
      "Generation 360\n",
      "Best result : 0.6397925204918032\n",
      "Generation 361\n",
      "Best result : 0.6397925204918032\n",
      "Generation 362\n",
      "Best result : 0.6397925204918032\n",
      "Generation 363\n",
      "Best result : 0.6397925204918032\n",
      "Generation 364\n",
      "Best result : 0.6397925204918032\n",
      "Generation 365\n",
      "Best result : 0.6397925204918032\n",
      "Generation 366\n",
      "Best result : 0.6397925204918032\n",
      "Generation 367\n",
      "Best result : 0.6397925204918032\n",
      "Generation 368\n",
      "Best result : 0.6397925204918032\n",
      "Generation 369\n",
      "Best result : 0.6397925204918032\n",
      "Generation 370\n",
      "Best result : 0.6397925204918032\n",
      "Generation 371\n",
      "Best result : 0.6397925204918032\n",
      "Generation 372\n",
      "Best result : 0.6397925204918032\n",
      "Generation 373\n",
      "Best result : 0.6397925204918032\n",
      "Generation 374\n",
      "Best result : 0.6397925204918032\n",
      "Generation 375\n",
      "Best result : 0.6397925204918032\n",
      "Generation 376\n",
      "Best result : 0.6397925204918032\n",
      "Generation 377\n",
      "Best result : 0.6397925204918032\n",
      "Generation 378\n",
      "Best result : 0.6397925204918032\n",
      "Generation 379\n",
      "Best result : 0.6397925204918032\n",
      "Generation 380\n",
      "Best result : 0.6397925204918032\n",
      "Generation 381\n",
      "Best result : 0.6397925204918032\n",
      "Generation 382\n",
      "Best result : 0.6397925204918032\n",
      "Generation 383\n",
      "Best result : 0.6397925204918032\n",
      "Generation 384\n",
      "Best result : 0.6397925204918032\n",
      "Generation 385\n",
      "Best result : 0.6397925204918032\n",
      "Generation 386\n",
      "Best result : 0.6397925204918032\n",
      "Generation 387\n",
      "Best result : 0.6397925204918032\n",
      "Generation 388\n",
      "Best result : 0.6397925204918032\n",
      "Generation 389\n",
      "Best result : 0.6397925204918032\n",
      "Generation 390\n",
      "Best result : 0.6397925204918032\n",
      "Generation 391\n",
      "Best result : 0.6397925204918032\n",
      "Generation 392\n",
      "Best result : 0.6397925204918032\n",
      "Generation 393\n",
      "Best result : 0.6397925204918032\n",
      "Generation 394\n",
      "Best result : 0.6397925204918032\n",
      "Generation 395\n",
      "Best result : 0.6397925204918032\n",
      "Generation 396\n",
      "Best result : 0.6397925204918032\n",
      "Generation 397\n",
      "Best result : 0.6397925204918032\n",
      "Generation 398\n",
      "Best result : 0.6397925204918032\n",
      "Generation 399\n",
      "Best result : 0.6397925204918032\n",
      "Generation 400\n",
      "Best result : 0.6397925204918032\n",
      "Generation 401\n",
      "Best result : 0.6397925204918032\n",
      "Generation 402\n",
      "Best result : 0.6397925204918032\n",
      "Generation 403\n",
      "Best result : 0.6397925204918032\n",
      "Generation 404\n",
      "Best result : 0.6397925204918032\n",
      "Generation 405\n",
      "Best result : 0.6397925204918032\n",
      "Generation 406\n",
      "Best result : 0.6397925204918032\n",
      "Generation 407\n",
      "Best result : 0.6397925204918032\n",
      "Generation 408\n",
      "Best result : 0.6397925204918032\n",
      "Generation 409\n",
      "Best result : 0.6397925204918032\n",
      "Generation 410\n",
      "Best result : 0.6397925204918032\n",
      "Generation 411\n",
      "Best result : 0.6397925204918032\n",
      "Generation 412\n",
      "Best result : 0.6397925204918032\n",
      "Generation 413\n",
      "Best result : 0.6397925204918032\n",
      "Generation 414\n",
      "Best result : 0.6397925204918032\n",
      "Generation 415\n",
      "Best result : 0.6397925204918032\n",
      "Generation 416\n",
      "Best result : 0.6397925204918032\n",
      "Generation 417\n",
      "Best result : 0.6397925204918032\n",
      "Generation 418\n",
      "Best result : 0.6397925204918032\n",
      "Generation 419\n",
      "Best result : 0.6397925204918032\n",
      "Generation 420\n",
      "Best result : 0.6397925204918032\n",
      "Generation 421\n",
      "Best result : 0.6397925204918032\n",
      "Generation 422\n",
      "Best result : 0.6397925204918032\n",
      "Generation 423\n",
      "Best result : 0.6397925204918032\n",
      "Generation 424\n",
      "Best result : 0.6397925204918032\n",
      "Generation 425\n",
      "Best result : 0.6397925204918032\n",
      "Generation 426\n",
      "Best result : 0.6397925204918032\n",
      "Generation 427\n",
      "Best result : 0.6397925204918032\n",
      "Generation 428\n",
      "Best result : 0.6397925204918032\n",
      "Generation 429\n",
      "Best result : 0.6397925204918032\n",
      "Generation 430\n",
      "Best result : 0.6397925204918032\n",
      "Generation 431\n",
      "Best result : 0.6397925204918032\n",
      "Generation 432\n",
      "Best result : 0.6397925204918032\n",
      "Generation 433\n",
      "Best result : 0.6397925204918032\n",
      "Generation 434\n",
      "Best result : 0.6397925204918032\n",
      "Generation 435\n",
      "Best result : 0.6397925204918032\n",
      "Generation 436\n",
      "Best result : 0.6397925204918032\n",
      "Generation 437\n",
      "Best result : 0.6397925204918032\n",
      "Generation 438\n",
      "Best result : 0.6397925204918032\n",
      "Generation 439\n",
      "Best result : 0.6397925204918032\n",
      "Generation 440\n",
      "Best result : 0.6397925204918032\n",
      "Generation 441\n",
      "Best result : 0.6397925204918032\n",
      "Generation 442\n",
      "Best result : 0.6397925204918032\n",
      "Generation 443\n",
      "Best result : 0.6397925204918032\n",
      "Generation 444\n",
      "Best result : 0.6397925204918032\n",
      "Generation 445\n",
      "Best result : 0.6397925204918032\n",
      "Generation 446\n",
      "Best result : 0.6397925204918032\n",
      "Generation 447\n",
      "Best result : 0.6397925204918032\n",
      "Generation 448\n",
      "Best result : 0.6397925204918032\n",
      "Generation 449\n",
      "Best result : 0.6397925204918032\n",
      "Generation 450\n",
      "Best result : 0.6397925204918032\n",
      "Generation 451\n",
      "Best result : 0.6397925204918032\n",
      "Generation 452\n",
      "Best result : 0.6397925204918032\n",
      "Generation 453\n",
      "Best result : 0.6397925204918032\n",
      "Generation 454\n",
      "Best result : 0.6397925204918032\n",
      "Generation 455\n",
      "Best result : 0.6397925204918032\n",
      "Generation 456\n",
      "Best result : 0.6397925204918032\n",
      "Generation 457\n",
      "Best result : 0.6397925204918032\n",
      "Generation 458\n",
      "Best result : 0.6397925204918032\n",
      "Generation 459\n",
      "Best result : 0.6397925204918032\n",
      "Generation 460\n",
      "Best result : 0.6397925204918032\n",
      "Generation 461\n",
      "Best result : 0.6397925204918032\n",
      "Generation 462\n",
      "Best result : 0.6397925204918032\n",
      "Generation 463\n",
      "Best result : 0.6397925204918032\n",
      "Generation 464\n",
      "Best result : 0.6397925204918032\n",
      "Generation 465\n",
      "Best result : 0.6397925204918032\n",
      "Generation 466\n",
      "Best result : 0.6397925204918032\n",
      "Generation 467\n",
      "Best result : 0.6397925204918032\n",
      "Generation 468\n",
      "Best result : 0.6397925204918032\n",
      "Generation 469\n",
      "Best result : 0.6397925204918032\n",
      "Generation 470\n",
      "Best result : 0.6397925204918032\n",
      "Generation 471\n",
      "Best result : 0.6397925204918032\n",
      "Generation 472\n",
      "Best result : 0.6397925204918032\n",
      "Generation 473\n",
      "Best result : 0.6397925204918032\n",
      "Generation 474\n",
      "Best result : 0.6397925204918032\n",
      "Generation 475\n",
      "Best result : 0.6397925204918032\n",
      "Generation 476\n",
      "Best result : 0.6397925204918032\n",
      "Generation 477\n",
      "Best result : 0.6397925204918032\n",
      "Generation 478\n",
      "Best result : 0.6397925204918032\n",
      "Generation 479\n",
      "Best result : 0.6397925204918032\n",
      "Generation 480\n",
      "Best result : 0.6397925204918032\n",
      "Generation 481\n",
      "Best result : 0.6397925204918032\n",
      "Generation 482\n",
      "Best result : 0.6397925204918032\n",
      "Generation 483\n",
      "Best result : 0.6397925204918032\n",
      "Generation 484\n",
      "Best result : 0.6397925204918032\n",
      "Generation 485\n",
      "Best result : 0.6397925204918032\n",
      "Generation 486\n",
      "Best result : 0.6397925204918032\n",
      "Generation 487\n",
      "Best result : 0.6397925204918032\n",
      "Generation 488\n",
      "Best result : 0.6397925204918032\n",
      "Generation 489\n",
      "Best result : 0.6397925204918032\n",
      "Generation 490\n",
      "Best result : 0.6397925204918032\n",
      "Generation 491\n",
      "Best result : 0.6397925204918032\n",
      "Generation 492\n",
      "Best result : 0.6397925204918032\n",
      "Generation 493\n",
      "Best result : 0.6397925204918032\n",
      "Generation 494\n",
      "Best result : 0.6397925204918032\n",
      "Generation 495\n",
      "Best result : 0.6397925204918032\n",
      "Generation 496\n",
      "Best result : 0.6397925204918032\n",
      "Generation 497\n",
      "Best result : 0.6397925204918032\n",
      "Generation 498\n",
      "Best result : 0.6397925204918032\n",
      "Generation 499\n",
      "Best result : 0.6397925204918032\n",
      "Generation 500\n",
      "Best result : 0.6397925204918032\n",
      "Generation 501\n",
      "Best result : 0.6397925204918032\n",
      "Generation 502\n",
      "Best result : 0.6397925204918032\n",
      "Generation 503\n",
      "Best result : 0.6397925204918032\n",
      "Generation 504\n",
      "Best result : 0.6397925204918032\n",
      "Generation 505\n",
      "Best result : 0.6397925204918032\n",
      "Generation 506\n",
      "Best result : 0.6397925204918032\n",
      "Generation 507\n",
      "Best result : 0.6397925204918032\n",
      "Generation 508\n",
      "Best result : 0.6397925204918032\n",
      "Generation 509\n",
      "Best result : 0.6397925204918032\n",
      "Generation 510\n",
      "Best result : 0.6397925204918032\n",
      "Generation 511\n",
      "Best result : 0.6397925204918032\n",
      "Generation 512\n",
      "Best result : 0.6397925204918032\n",
      "Generation 513\n",
      "Best result : 0.6397925204918032\n",
      "Generation 514\n",
      "Best result : 0.6397925204918032\n",
      "Generation 515\n",
      "Best result : 0.6397925204918032\n",
      "Generation 516\n",
      "Best result : 0.6397925204918032\n",
      "Generation 517\n",
      "Best result : 0.6397925204918032\n",
      "Generation 518\n",
      "Best result : 0.6397925204918032\n",
      "Generation 519\n",
      "Best result : 0.6397925204918032\n",
      "Generation 520\n",
      "Best result : 0.6397925204918032\n",
      "Generation 521\n",
      "Best result : 0.6397925204918032\n",
      "Generation 522\n",
      "Best result : 0.6397925204918032\n",
      "Generation 523\n",
      "Best result : 0.6397925204918032\n",
      "Generation 524\n",
      "Best result : 0.6397925204918032\n",
      "Generation 525\n",
      "Best result : 0.6397925204918032\n",
      "Generation 526\n",
      "Best result : 0.6397925204918032\n",
      "Generation 527\n",
      "Best result : 0.6397925204918032\n",
      "Generation 528\n",
      "Best result : 0.6397925204918032\n",
      "Generation 529\n",
      "Best result : 0.6397925204918032\n",
      "Generation 530\n",
      "Best result : 0.6397925204918032\n",
      "Generation 531\n",
      "Best result : 0.6397925204918032\n",
      "Generation 532\n",
      "Best result : 0.6397925204918032\n",
      "Generation 533\n",
      "Best result : 0.6397925204918032\n",
      "Generation 534\n",
      "Best result : 0.6397925204918032\n",
      "Generation 535\n",
      "Best result : 0.6397925204918032\n",
      "Generation 536\n",
      "Best result : 0.6397925204918032\n",
      "Generation 537\n",
      "Best result : 0.6397925204918032\n",
      "Generation 538\n",
      "Best result : 0.6397925204918032\n",
      "Generation 539\n",
      "Best result : 0.6397925204918032\n",
      "Generation 540\n",
      "Best result : 0.6397925204918032\n",
      "Generation 541\n",
      "Best result : 0.6397925204918032\n",
      "Generation 542\n",
      "Best result : 0.6397925204918032\n",
      "Generation 543\n",
      "Best result : 0.6397925204918032\n",
      "Generation 544\n",
      "Best result : 0.6397925204918032\n",
      "Generation 545\n",
      "Best result : 0.6397925204918032\n",
      "Generation 546\n",
      "Best result : 0.6397925204918032\n",
      "Generation 547\n",
      "Best result : 0.6397925204918032\n",
      "Generation 548\n",
      "Best result : 0.6397925204918032\n",
      "Generation 549\n",
      "Best result : 0.6397925204918032\n",
      "Generation 550\n",
      "Best result : 0.6397925204918032\n",
      "Generation 551\n",
      "Best result : 0.6397925204918032\n",
      "Generation 552\n",
      "Best result : 0.6397925204918032\n",
      "Generation 553\n",
      "Best result : 0.6397925204918032\n",
      "Generation 554\n",
      "Best result : 0.6397925204918032\n",
      "Generation 555\n",
      "Best result : 0.6397925204918032\n",
      "Generation 556\n",
      "Best result : 0.6397925204918032\n",
      "Generation 557\n",
      "Best result : 0.6397925204918032\n",
      "Generation 558\n",
      "Best result : 0.6397925204918032\n",
      "Generation 559\n",
      "Best result : 0.6397925204918032\n",
      "Generation 560\n",
      "Best result : 0.6397925204918032\n",
      "Generation 561\n",
      "Best result : 0.6397925204918032\n",
      "Generation 562\n",
      "Best result : 0.6397925204918032\n",
      "Generation 563\n",
      "Best result : 0.6397925204918032\n",
      "Generation 564\n",
      "Best result : 0.6397925204918032\n",
      "Generation 565\n",
      "Best result : 0.6397925204918032\n",
      "Generation 566\n",
      "Best result : 0.6397925204918032\n",
      "Generation 567\n",
      "Best result : 0.6397925204918032\n",
      "Generation 568\n",
      "Best result : 0.6397925204918032\n",
      "Generation 569\n",
      "Best result : 0.6397925204918032\n",
      "Generation 570\n",
      "Best result : 0.6397925204918032\n",
      "Generation 571\n",
      "Best result : 0.6397925204918032\n",
      "Generation 572\n",
      "Best result : 0.6397925204918032\n",
      "Generation 573\n",
      "Best result : 0.6397925204918032\n",
      "Generation 574\n",
      "Best result : 0.6397925204918032\n",
      "Generation 575\n",
      "Best result : 0.6397925204918032\n",
      "Generation 576\n",
      "Best result : 0.6397925204918032\n",
      "Generation 577\n",
      "Best result : 0.6397925204918032\n",
      "Generation 578\n",
      "Best result : 0.6397925204918032\n",
      "Generation 579\n",
      "Best result : 0.6397925204918032\n",
      "Generation 580\n",
      "Best result : 0.6397925204918032\n",
      "Generation 581\n",
      "Best result : 0.6397925204918032\n",
      "Generation 582\n",
      "Best result : 0.6397925204918032\n",
      "Generation 583\n",
      "Best result : 0.6397925204918032\n",
      "Generation 584\n",
      "Best result : 0.6397925204918032\n",
      "Generation 585\n",
      "Best result : 0.6397925204918032\n",
      "Generation 586\n",
      "Best result : 0.6397925204918032\n",
      "Generation 587\n",
      "Best result : 0.6397925204918032\n",
      "Generation 588\n",
      "Best result : 0.6397925204918032\n",
      "Generation 589\n",
      "Best result : 0.6397925204918032\n",
      "Generation 590\n",
      "Best result : 0.6397925204918032\n",
      "Generation 591\n",
      "Best result : 0.6397925204918032\n",
      "Generation 592\n",
      "Best result : 0.6397925204918032\n",
      "Generation 593\n",
      "Best result : 0.6397925204918032\n",
      "Generation 594\n",
      "Best result : 0.6397925204918032\n",
      "Generation 595\n",
      "Best result : 0.6397925204918032\n",
      "Generation 596\n",
      "Best result : 0.6397925204918032\n",
      "Generation 597\n",
      "Best result : 0.6397925204918032\n",
      "Generation 598\n",
      "Best result : 0.6397925204918032\n",
      "Generation 599\n",
      "Best result : 0.6397925204918032\n",
      "Generation 600\n",
      "Best result : 0.6397925204918032\n",
      "Generation 601\n",
      "Best result : 0.6397925204918032\n",
      "Generation 602\n",
      "Best result : 0.6397925204918032\n",
      "Generation 603\n",
      "Best result : 0.6397925204918032\n",
      "Generation 604\n",
      "Best result : 0.6397925204918032\n",
      "Generation 605\n",
      "Best result : 0.6397925204918032\n",
      "Generation 606\n",
      "Best result : 0.6397925204918032\n",
      "Generation 607\n",
      "Best result : 0.6397925204918032\n",
      "Generation 608\n",
      "Best result : 0.6397925204918032\n",
      "Generation 609\n",
      "Best result : 0.6397925204918032\n",
      "Generation 610\n",
      "Best result : 0.6397925204918032\n",
      "Generation 611\n",
      "Best result : 0.6397925204918032\n",
      "Generation 612\n",
      "Best result : 0.6397925204918032\n",
      "Generation 613\n",
      "Best result : 0.6397925204918032\n",
      "Generation 614\n",
      "Best result : 0.6397925204918032\n",
      "Generation 615\n",
      "Best result : 0.6397925204918032\n",
      "Generation 616\n",
      "Best result : 0.6397925204918032\n",
      "Generation 617\n",
      "Best result : 0.6397925204918032\n",
      "Generation 618\n",
      "Best result : 0.6397925204918032\n",
      "Generation 619\n",
      "Best result : 0.6397925204918032\n",
      "Generation 620\n",
      "Best result : 0.6397925204918032\n",
      "Generation 621\n",
      "Best result : 0.6397925204918032\n",
      "Generation 622\n",
      "Best result : 0.6397925204918032\n",
      "Generation 623\n",
      "Best result : 0.6397925204918032\n",
      "Generation 624\n",
      "Best result : 0.6397925204918032\n",
      "Generation 625\n",
      "Best result : 0.6397925204918032\n",
      "Generation 626\n",
      "Best result : 0.6397925204918032\n",
      "Generation 627\n",
      "Best result : 0.6397925204918032\n",
      "Generation 628\n",
      "Best result : 0.6397925204918032\n",
      "Generation 629\n",
      "Best result : 0.6397925204918032\n",
      "Generation 630\n",
      "Best result : 0.6397925204918032\n",
      "Generation 631\n",
      "Best result : 0.6397925204918032\n",
      "Generation 632\n",
      "Best result : 0.6397925204918032\n",
      "Generation 633\n",
      "Best result : 0.6397925204918032\n",
      "Generation 634\n",
      "Best result : 0.6397925204918032\n",
      "Generation 635\n",
      "Best result : 0.6397925204918032\n",
      "Generation 636\n",
      "Best result : 0.6397925204918032\n",
      "Generation 637\n",
      "Best result : 0.6397925204918032\n",
      "Generation 638\n",
      "Best result : 0.6397925204918032\n",
      "Generation 639\n",
      "Best result : 0.6397925204918032\n",
      "Generation 640\n",
      "Best result : 0.6397925204918032\n",
      "Generation 641\n",
      "Best result : 0.6397925204918032\n",
      "Generation 642\n",
      "Best result : 0.6397925204918032\n",
      "Generation 643\n",
      "Best result : 0.6397925204918032\n",
      "Generation 644\n",
      "Best result : 0.6397925204918032\n",
      "Generation 645\n",
      "Best result : 0.6397925204918032\n",
      "Generation 646\n",
      "Best result : 0.6397925204918032\n",
      "Generation 647\n",
      "Best result : 0.6397925204918032\n",
      "Generation 648\n",
      "Best result : 0.6397925204918032\n",
      "Generation 649\n",
      "Best result : 0.6397925204918032\n",
      "Generation 650\n",
      "Best result : 0.6397925204918032\n",
      "Generation 651\n",
      "Best result : 0.6397925204918032\n",
      "Generation 652\n",
      "Best result : 0.6397925204918032\n",
      "Generation 653\n",
      "Best result : 0.6397925204918032\n",
      "Generation 654\n",
      "Best result : 0.6397925204918032\n",
      "Generation 655\n",
      "Best result : 0.6397925204918032\n",
      "Generation 656\n",
      "Best result : 0.6397925204918032\n",
      "Generation 657\n",
      "Best result : 0.6397925204918032\n",
      "Generation 658\n",
      "Best result : 0.6397925204918032\n",
      "Generation 659\n",
      "Best result : 0.6397925204918032\n",
      "Generation 660\n",
      "Best result : 0.6397925204918032\n",
      "Generation 661\n",
      "Best result : 0.6397925204918032\n",
      "Generation 662\n",
      "Best result : 0.6397925204918032\n",
      "Generation 663\n",
      "Best result : 0.6397925204918032\n",
      "Generation 664\n",
      "Best result : 0.6397925204918032\n",
      "Generation 665\n",
      "Best result : 0.6397925204918032\n",
      "Generation 666\n",
      "Best result : 0.6397925204918032\n",
      "Generation 667\n",
      "Best result : 0.6397925204918032\n",
      "Generation 668\n",
      "Best result : 0.6397925204918032\n",
      "Generation 669\n",
      "Best result : 0.6397925204918032\n",
      "Generation 670\n",
      "Best result : 0.6397925204918032\n",
      "Generation 671\n",
      "Best result : 0.6397925204918032\n",
      "Generation 672\n",
      "Best result : 0.6397925204918032\n",
      "Generation 673\n",
      "Best result : 0.6397925204918032\n",
      "Generation 674\n",
      "Best result : 0.6397925204918032\n",
      "Generation 675\n",
      "Best result : 0.6397925204918032\n",
      "Generation 676\n",
      "Best result : 0.6397925204918032\n",
      "Generation 677\n",
      "Best result : 0.6397925204918032\n",
      "Generation 678\n",
      "Best result : 0.6397925204918032\n",
      "Generation 679\n",
      "Best result : 0.6397925204918032\n",
      "Generation 680\n",
      "Best result : 0.6397925204918032\n",
      "Generation 681\n",
      "Best result : 0.6397925204918032\n",
      "Generation 682\n",
      "Best result : 0.6397925204918032\n",
      "Generation 683\n",
      "Best result : 0.6397925204918032\n",
      "Generation 684\n",
      "Best result : 0.6397925204918032\n",
      "Generation 685\n",
      "Best result : 0.6397925204918032\n",
      "Generation 686\n",
      "Best result : 0.6397925204918032\n",
      "Generation 687\n",
      "Best result : 0.6397925204918032\n",
      "Generation 688\n",
      "Best result : 0.6397925204918032\n",
      "Generation 689\n",
      "Best result : 0.6397925204918032\n",
      "Generation 690\n",
      "Best result : 0.6397925204918032\n",
      "Generation 691\n",
      "Best result : 0.6397925204918032\n",
      "Generation 692\n",
      "Best result : 0.6397925204918032\n",
      "Generation 693\n",
      "Best result : 0.6397925204918032\n",
      "Generation 694\n",
      "Best result : 0.6397925204918032\n",
      "Generation 695\n",
      "Best result : 0.6397925204918032\n",
      "Generation 696\n",
      "Best result : 0.6397925204918032\n",
      "Generation 697\n",
      "Best result : 0.6397925204918032\n",
      "Generation 698\n",
      "Best result : 0.6397925204918032\n",
      "Generation 699\n",
      "Best result : 0.6397925204918032\n",
      "Generation 700\n",
      "Best result : 0.6397925204918032\n",
      "Generation 701\n",
      "Best result : 0.6397925204918032\n",
      "Generation 702\n",
      "Best result : 0.6397925204918032\n",
      "Generation 703\n",
      "Best result : 0.6397925204918032\n",
      "Generation 704\n",
      "Best result : 0.6397925204918032\n",
      "Generation 705\n",
      "Best result : 0.6397925204918032\n",
      "Generation 706\n",
      "Best result : 0.6397925204918032\n",
      "Generation 707\n",
      "Best result : 0.6397925204918032\n",
      "Generation 708\n",
      "Best result : 0.6397925204918032\n",
      "Generation 709\n",
      "Best result : 0.6397925204918032\n",
      "Generation 710\n",
      "Best result : 0.6397925204918032\n",
      "Generation 711\n",
      "Best result : 0.6397925204918032\n",
      "Generation 712\n",
      "Best result : 0.6397925204918032\n",
      "Generation 713\n",
      "Best result : 0.6397925204918032\n",
      "Generation 714\n",
      "Best result : 0.6397925204918032\n",
      "Generation 715\n",
      "Best result : 0.6397925204918032\n",
      "Generation 716\n",
      "Best result : 0.6397925204918032\n",
      "Generation 717\n",
      "Best result : 0.6397925204918032\n",
      "Generation 718\n",
      "Best result : 0.6397925204918032\n",
      "Generation 719\n",
      "Best result : 0.6397925204918032\n",
      "Generation 720\n",
      "Best result : 0.6397925204918032\n",
      "Generation 721\n",
      "Best result : 0.6397925204918032\n",
      "Generation 722\n",
      "Best result : 0.6397925204918032\n",
      "Generation 723\n",
      "Best result : 0.6397925204918032\n",
      "Generation 724\n",
      "Best result : 0.6397925204918032\n",
      "Generation 725\n",
      "Best result : 0.6397925204918032\n",
      "Generation 726\n",
      "Best result : 0.6397925204918032\n",
      "Generation 727\n",
      "Best result : 0.6397925204918032\n",
      "Generation 728\n",
      "Best result : 0.6397925204918032\n",
      "Generation 729\n",
      "Best result : 0.6397925204918032\n",
      "Generation 730\n",
      "Best result : 0.6397925204918032\n",
      "Generation 731\n",
      "Best result : 0.6397925204918032\n",
      "Generation 732\n",
      "Best result : 0.6397925204918032\n",
      "Generation 733\n",
      "Best result : 0.6397925204918032\n",
      "Generation 734\n",
      "Best result : 0.6397925204918032\n",
      "Generation 735\n",
      "Best result : 0.6397925204918032\n",
      "Generation 736\n",
      "Best result : 0.6397925204918032\n",
      "Generation 737\n",
      "Best result : 0.6397925204918032\n",
      "Generation 738\n",
      "Best result : 0.6397925204918032\n",
      "Generation 739\n",
      "Best result : 0.6397925204918032\n",
      "Generation 740\n",
      "Best result : 0.6397925204918032\n",
      "Generation 741\n",
      "Best result : 0.6397925204918032\n",
      "Generation 742\n",
      "Best result : 0.6397925204918032\n",
      "Generation 743\n",
      "Best result : 0.6397925204918032\n",
      "Generation 744\n",
      "Best result : 0.6397925204918032\n",
      "Generation 745\n",
      "Best result : 0.6397925204918032\n",
      "Generation 746\n",
      "Best result : 0.6397925204918032\n",
      "Generation 747\n",
      "Best result : 0.6397925204918032\n",
      "Generation 748\n",
      "Best result : 0.6397925204918032\n",
      "Generation 749\n",
      "Best result : 0.6397925204918032\n",
      "Generation 750\n",
      "Best result : 0.6397925204918032\n",
      "Generation 751\n",
      "Best result : 0.6397925204918032\n",
      "Generation 752\n",
      "Best result : 0.6397925204918032\n",
      "Generation 753\n",
      "Best result : 0.6397925204918032\n",
      "Generation 754\n",
      "Best result : 0.6397925204918032\n",
      "Generation 755\n",
      "Best result : 0.6397925204918032\n",
      "Generation 756\n",
      "Best result : 0.6397925204918032\n",
      "Generation 757\n",
      "Best result : 0.6397925204918032\n",
      "Generation 758\n",
      "Best result : 0.6397925204918032\n",
      "Generation 759\n",
      "Best result : 0.6397925204918032\n",
      "Generation 760\n",
      "Best result : 0.6397925204918032\n",
      "Generation 761\n",
      "Best result : 0.6397925204918032\n",
      "Generation 762\n",
      "Best result : 0.6397925204918032\n",
      "Generation 763\n",
      "Best result : 0.6397925204918032\n",
      "Generation 764\n",
      "Best result : 0.6397925204918032\n",
      "Generation 765\n",
      "Best result : 0.6397925204918032\n",
      "Generation 766\n",
      "Best result : 0.6397925204918032\n",
      "Generation 767\n",
      "Best result : 0.6397925204918032\n",
      "Generation 768\n",
      "Best result : 0.6397925204918032\n",
      "Generation 769\n",
      "Best result : 0.6397925204918032\n",
      "Generation 770\n",
      "Best result : 0.6397925204918032\n",
      "Generation 771\n",
      "Best result : 0.6397925204918032\n",
      "Generation 772\n",
      "Best result : 0.6397925204918032\n",
      "Generation 773\n",
      "Best result : 0.6397925204918032\n",
      "Generation 774\n",
      "Best result : 0.6397925204918032\n",
      "Generation 775\n",
      "Best result : 0.6397925204918032\n",
      "Generation 776\n",
      "Best result : 0.6397925204918032\n",
      "Generation 777\n",
      "Best result : 0.6397925204918032\n",
      "Generation 778\n",
      "Best result : 0.6397925204918032\n",
      "Generation 779\n",
      "Best result : 0.6397925204918032\n",
      "Generation 780\n",
      "Best result : 0.6397925204918032\n",
      "Generation 781\n",
      "Best result : 0.6397925204918032\n",
      "Generation 782\n",
      "Best result : 0.6397925204918032\n",
      "Generation 783\n",
      "Best result : 0.6397925204918032\n",
      "Generation 784\n",
      "Best result : 0.6397925204918032\n",
      "Generation 785\n",
      "Best result : 0.6397925204918032\n",
      "Generation 786\n",
      "Best result : 0.6397925204918032\n",
      "Generation 787\n",
      "Best result : 0.6397925204918032\n",
      "Generation 788\n",
      "Best result : 0.6397925204918032\n",
      "Generation 789\n",
      "Best result : 0.6397925204918032\n",
      "Generation 790\n",
      "Best result : 0.6397925204918032\n",
      "Generation 791\n",
      "Best result : 0.6397925204918032\n",
      "Generation 792\n",
      "Best result : 0.6397925204918032\n",
      "Generation 793\n",
      "Best result : 0.6397925204918032\n",
      "Generation 794\n",
      "Best result : 0.6397925204918032\n",
      "Generation 795\n",
      "Best result : 0.6397925204918032\n",
      "Generation 796\n",
      "Best result : 0.6397925204918032\n",
      "Generation 797\n",
      "Best result : 0.6397925204918032\n",
      "Generation 798\n",
      "Best result : 0.6397925204918032\n",
      "Generation 799\n",
      "Best result : 0.6397925204918032\n",
      "Generation 800\n",
      "Best result : 0.6397925204918032\n",
      "Generation 801\n",
      "Best result : 0.6397925204918032\n",
      "Generation 802\n",
      "Best result : 0.6397925204918032\n",
      "Generation 803\n",
      "Best result : 0.6397925204918032\n",
      "Generation 804\n",
      "Best result : 0.6397925204918032\n",
      "Generation 805\n",
      "Best result : 0.6397925204918032\n",
      "Generation 806\n",
      "Best result : 0.6397925204918032\n",
      "Generation 807\n",
      "Best result : 0.6397925204918032\n",
      "Generation 808\n",
      "Best result : 0.6397925204918032\n",
      "Generation 809\n",
      "Best result : 0.6397925204918032\n",
      "Generation 810\n",
      "Best result : 0.6397925204918032\n",
      "Generation 811\n",
      "Best result : 0.6397925204918032\n",
      "Generation 812\n",
      "Best result : 0.6397925204918032\n",
      "Generation 813\n",
      "Best result : 0.6397925204918032\n",
      "Generation 814\n",
      "Best result : 0.6397925204918032\n",
      "Generation 815\n",
      "Best result : 0.6397925204918032\n",
      "Generation 816\n",
      "Best result : 0.6397925204918032\n",
      "Generation 817\n",
      "Best result : 0.6397925204918032\n",
      "Generation 818\n",
      "Best result : 0.6397925204918032\n",
      "Generation 819\n",
      "Best result : 0.6397925204918032\n",
      "Generation 820\n",
      "Best result : 0.6397925204918032\n",
      "Generation 821\n",
      "Best result : 0.6397925204918032\n",
      "Generation 822\n",
      "Best result : 0.6397925204918032\n",
      "Generation 823\n",
      "Best result : 0.6397925204918032\n",
      "Generation 824\n",
      "Best result : 0.6397925204918032\n",
      "Generation 825\n",
      "Best result : 0.6397925204918032\n",
      "Generation 826\n",
      "Best result : 0.6397925204918032\n",
      "Generation 827\n",
      "Best result : 0.6397925204918032\n",
      "Generation 828\n",
      "Best result : 0.6397925204918032\n",
      "Generation 829\n",
      "Best result : 0.6397925204918032\n",
      "Generation 830\n",
      "Best result : 0.6397925204918032\n",
      "Generation 831\n",
      "Best result : 0.6397925204918032\n",
      "Generation 832\n",
      "Best result : 0.6397925204918032\n",
      "Generation 833\n",
      "Best result : 0.6397925204918032\n",
      "Generation 834\n",
      "Best result : 0.6397925204918032\n",
      "Generation 835\n",
      "Best result : 0.6397925204918032\n",
      "Generation 836\n",
      "Best result : 0.6397925204918032\n",
      "Generation 837\n",
      "Best result : 0.6397925204918032\n",
      "Generation 838\n",
      "Best result : 0.6397925204918032\n",
      "Generation 839\n",
      "Best result : 0.6397925204918032\n",
      "Generation 840\n",
      "Best result : 0.6397925204918032\n",
      "Generation 841\n",
      "Best result : 0.6397925204918032\n",
      "Generation 842\n",
      "Best result : 0.6397925204918032\n",
      "Generation 843\n",
      "Best result : 0.6397925204918032\n",
      "Generation 844\n",
      "Best result : 0.6397925204918032\n",
      "Generation 845\n",
      "Best result : 0.6397925204918032\n",
      "Generation 846\n",
      "Best result : 0.6397925204918032\n",
      "Generation 847\n",
      "Best result : 0.6397925204918032\n",
      "Generation 848\n",
      "Best result : 0.6397925204918032\n",
      "Generation 849\n",
      "Best result : 0.6397925204918032\n",
      "Generation 850\n",
      "Best result : 0.6397925204918032\n",
      "Generation 851\n",
      "Best result : 0.6397925204918032\n",
      "Generation 852\n",
      "Best result : 0.6397925204918032\n",
      "Generation 853\n",
      "Best result : 0.6397925204918032\n",
      "Generation 854\n",
      "Best result : 0.6397925204918032\n",
      "Generation 855\n",
      "Best result : 0.6397925204918032\n",
      "Generation 856\n",
      "Best result : 0.6397925204918032\n",
      "Generation 857\n",
      "Best result : 0.6397925204918032\n",
      "Generation 858\n",
      "Best result : 0.6397925204918032\n",
      "Generation 859\n",
      "Best result : 0.6397925204918032\n",
      "Generation 860\n",
      "Best result : 0.6397925204918032\n",
      "Generation 861\n",
      "Best result : 0.6397925204918032\n",
      "Generation 862\n",
      "Best result : 0.6397925204918032\n",
      "Generation 863\n",
      "Best result : 0.6397925204918032\n",
      "Generation 864\n",
      "Best result : 0.6397925204918032\n",
      "Generation 865\n",
      "Best result : 0.6397925204918032\n",
      "Generation 866\n",
      "Best result : 0.6397925204918032\n",
      "Generation 867\n",
      "Best result : 0.6397925204918032\n",
      "Generation 868\n",
      "Best result : 0.6397925204918032\n",
      "Generation 869\n",
      "Best result : 0.6397925204918032\n",
      "Generation 870\n",
      "Best result : 0.6397925204918032\n",
      "Generation 871\n",
      "Best result : 0.6397925204918032\n",
      "Generation 872\n",
      "Best result : 0.6397925204918032\n",
      "Generation 873\n",
      "Best result : 0.6397925204918032\n",
      "Generation 874\n",
      "Best result : 0.6397925204918032\n",
      "Generation 875\n",
      "Best result : 0.6397925204918032\n",
      "Generation 876\n",
      "Best result : 0.6397925204918032\n",
      "Generation 877\n",
      "Best result : 0.6397925204918032\n",
      "Generation 878\n",
      "Best result : 0.6397925204918032\n",
      "Generation 879\n",
      "Best result : 0.6397925204918032\n",
      "Generation 880\n",
      "Best result : 0.6397925204918032\n",
      "Generation 881\n",
      "Best result : 0.6397925204918032\n",
      "Generation 882\n",
      "Best result : 0.6397925204918032\n",
      "Generation 883\n",
      "Best result : 0.6397925204918032\n",
      "Generation 884\n",
      "Best result : 0.6397925204918032\n",
      "Generation 885\n",
      "Best result : 0.6397925204918032\n",
      "Generation 886\n",
      "Best result : 0.6397925204918032\n",
      "Generation 887\n",
      "Best result : 0.6397925204918032\n",
      "Generation 888\n",
      "Best result : 0.6397925204918032\n",
      "Generation 889\n",
      "Best result : 0.6397925204918032\n",
      "Generation 890\n",
      "Best result : 0.6397925204918032\n",
      "Generation 891\n",
      "Best result : 0.6397925204918032\n",
      "Generation 892\n",
      "Best result : 0.6397925204918032\n",
      "Generation 893\n",
      "Best result : 0.6397925204918032\n",
      "Generation 894\n",
      "Best result : 0.6397925204918032\n",
      "Generation 895\n",
      "Best result : 0.6397925204918032\n",
      "Generation 896\n",
      "Best result : 0.6397925204918032\n",
      "Generation 897\n",
      "Best result : 0.6397925204918032\n",
      "Generation 898\n",
      "Best result : 0.6397925204918032\n",
      "Generation 899\n",
      "Best result : 0.6397925204918032\n",
      "Generation 900\n",
      "Best result : 0.6397925204918032\n",
      "Generation 901\n",
      "Best result : 0.6397925204918032\n",
      "Generation 902\n",
      "Best result : 0.6397925204918032\n",
      "Generation 903\n",
      "Best result : 0.6397925204918032\n",
      "Generation 904\n",
      "Best result : 0.6397925204918032\n",
      "Generation 905\n",
      "Best result : 0.6397925204918032\n",
      "Generation 906\n",
      "Best result : 0.6397925204918032\n",
      "Generation 907\n",
      "Best result : 0.6397925204918032\n",
      "Generation 908\n",
      "Best result : 0.6397925204918032\n",
      "Generation 909\n",
      "Best result : 0.6397925204918032\n",
      "Generation 910\n",
      "Best result : 0.6397925204918032\n",
      "Generation 911\n",
      "Best result : 0.6397925204918032\n",
      "Generation 912\n",
      "Best result : 0.6397925204918032\n",
      "Generation 913\n",
      "Best result : 0.6397925204918032\n",
      "Generation 914\n",
      "Best result : 0.6397925204918032\n",
      "Generation 915\n",
      "Best result : 0.6397925204918032\n",
      "Generation 916\n",
      "Best result : 0.6397925204918032\n",
      "Generation 917\n",
      "Best result : 0.6397925204918032\n",
      "Generation 918\n",
      "Best result : 0.6397925204918032\n",
      "Generation 919\n",
      "Best result : 0.6397925204918032\n",
      "Generation 920\n",
      "Best result : 0.6397925204918032\n",
      "Generation 921\n",
      "Best result : 0.6397925204918032\n",
      "Generation 922\n",
      "Best result : 0.6397925204918032\n",
      "Generation 923\n",
      "Best result : 0.6397925204918032\n",
      "Generation 924\n",
      "Best result : 0.6397925204918032\n",
      "Generation 925\n",
      "Best result : 0.6397925204918032\n",
      "Generation 926\n",
      "Best result : 0.6397925204918032\n",
      "Generation 927\n",
      "Best result : 0.6397925204918032\n",
      "Generation 928\n",
      "Best result : 0.6397925204918032\n",
      "Generation 929\n",
      "Best result : 0.6397925204918032\n",
      "Generation 930\n",
      "Best result : 0.6397925204918032\n",
      "Generation 931\n",
      "Best result : 0.6397925204918032\n",
      "Generation 932\n",
      "Best result : 0.6397925204918032\n",
      "Generation 933\n",
      "Best result : 0.6397925204918032\n",
      "Generation 934\n",
      "Best result : 0.6397925204918032\n",
      "Generation 935\n",
      "Best result : 0.6397925204918032\n",
      "Generation 936\n",
      "Best result : 0.6397925204918032\n",
      "Generation 937\n",
      "Best result : 0.6397925204918032\n",
      "Generation 938\n",
      "Best result : 0.6397925204918032\n",
      "Generation 939\n",
      "Best result : 0.6397925204918032\n",
      "Generation 940\n",
      "Best result : 0.6397925204918032\n",
      "Generation 941\n",
      "Best result : 0.6397925204918032\n",
      "Generation 942\n",
      "Best result : 0.6397925204918032\n",
      "Generation 943\n",
      "Best result : 0.6397925204918032\n",
      "Generation 944\n",
      "Best result : 0.6397925204918032\n",
      "Generation 945\n",
      "Best result : 0.6397925204918032\n",
      "Generation 946\n",
      "Best result : 0.6397925204918032\n",
      "Generation 947\n",
      "Best result : 0.6397925204918032\n",
      "Generation 948\n",
      "Best result : 0.6397925204918032\n",
      "Generation 949\n",
      "Best result : 0.6397925204918032\n",
      "Generation 950\n",
      "Best result : 0.6397925204918032\n",
      "Generation 951\n",
      "Best result : 0.6397925204918032\n",
      "Generation 952\n",
      "Best result : 0.6397925204918032\n",
      "Generation 953\n",
      "Best result : 0.6397925204918032\n",
      "Generation 954\n",
      "Best result : 0.6397925204918032\n",
      "Generation 955\n",
      "Best result : 0.6397925204918032\n",
      "Generation 956\n",
      "Best result : 0.6397925204918032\n",
      "Generation 957\n",
      "Best result : 0.6397925204918032\n",
      "Generation 958\n",
      "Best result : 0.6397925204918032\n",
      "Generation 959\n",
      "Best result : 0.6397925204918032\n",
      "Generation 960\n",
      "Best result : 0.6397925204918032\n",
      "Generation 961\n",
      "Best result : 0.6397925204918032\n",
      "Generation 962\n",
      "Best result : 0.6397925204918032\n",
      "Generation 963\n",
      "Best result : 0.6397925204918032\n",
      "Generation 964\n",
      "Best result : 0.6397925204918032\n",
      "Generation 965\n",
      "Best result : 0.6397925204918032\n",
      "Generation 966\n",
      "Best result : 0.6397925204918032\n",
      "Generation 967\n",
      "Best result : 0.6397925204918032\n",
      "Generation 968\n",
      "Best result : 0.6397925204918032\n",
      "Generation 969\n",
      "Best result : 0.6397925204918032\n",
      "Generation 970\n",
      "Best result : 0.6397925204918032\n",
      "Generation 971\n",
      "Best result : 0.6397925204918032\n",
      "Generation 972\n",
      "Best result : 0.6397925204918032\n",
      "Generation 973\n",
      "Best result : 0.6397925204918032\n",
      "Generation 974\n",
      "Best result : 0.6397925204918032\n",
      "Generation 975\n",
      "Best result : 0.6397925204918032\n",
      "Generation 976\n",
      "Best result : 0.6397925204918032\n",
      "Generation 977\n",
      "Best result : 0.6397925204918032\n",
      "Generation 978\n",
      "Best result : 0.6397925204918032\n",
      "Generation 979\n",
      "Best result : 0.6397925204918032\n",
      "Generation 980\n",
      "Best result : 0.6397925204918032\n",
      "Generation 981\n",
      "Best result : 0.6397925204918032\n",
      "Generation 982\n",
      "Best result : 0.6397925204918032\n",
      "Generation 983\n",
      "Best result : 0.6397925204918032\n",
      "Generation 984\n",
      "Best result : 0.6397925204918032\n",
      "Generation 985\n",
      "Best result : 0.6397925204918032\n",
      "Generation 986\n",
      "Best result : 0.6397925204918032\n",
      "Generation 987\n",
      "Best result : 0.6397925204918032\n",
      "Generation 988\n",
      "Best result : 0.6397925204918032\n",
      "Generation 989\n",
      "Best result : 0.6397925204918032\n",
      "Generation 990\n",
      "Best result : 0.6397925204918032\n",
      "Generation 991\n",
      "Best result : 0.6397925204918032\n",
      "Generation 992\n",
      "Best result : 0.6397925204918032\n",
      "Generation 993\n",
      "Best result : 0.6397925204918032\n",
      "Generation 994\n",
      "Best result : 0.6397925204918032\n",
      "Generation 995\n",
      "Best result : 0.6397925204918032\n",
      "Generation 996\n",
      "Best result : 0.6397925204918032\n",
      "Generation 997\n",
      "Best result : 0.6397925204918032\n",
      "Generation 998\n",
      "Best result : 0.6397925204918032\n",
      "Generation 999\n",
      "Best result : 0.6397925204918032\n",
      "Final AUC 0.6397925204918032\n"
     ]
    },
    {
     "data": {
      "text/plain": [
       "[128515,\n",
       " 138477,\n",
       " 132255,\n",
       " 143589,\n",
       " 22188,\n",
       " 152930,\n",
       " 86147,\n",
       " 56543,\n",
       " 91911,\n",
       " 48183,\n",
       " 59694,\n",
       " 7193,\n",
       " 47222,\n",
       " 66679,\n",
       " 55916,\n",
       " 31658,\n",
       " 125725,\n",
       " 21529,\n",
       " 112734,\n",
       " 104469,\n",
       " 20176,\n",
       " 3680,\n",
       " 57643,\n",
       " 35251,\n",
       " 149207,\n",
       " 120841,\n",
       " 140958,\n",
       " 97942,\n",
       " 158742,\n",
       " 13906,\n",
       " 136824,\n",
       " 64132,\n",
       " 86019,\n",
       " 154352,\n",
       " 133861,\n",
       " 74806,\n",
       " 51144,\n",
       " 92605,\n",
       " 80188,\n",
       " 58106,\n",
       " 36000,\n",
       " 143670,\n",
       " 87032,\n",
       " 25571,\n",
       " 127229,\n",
       " 143865,\n",
       " 33918,\n",
       " 96804,\n",
       " 29893,\n",
       " 3950,\n",
       " 77920,\n",
       " 97702,\n",
       " 79991,\n",
       " 83773,\n",
       " 77396,\n",
       " 47633,\n",
       " 6948,\n",
       " 60374,\n",
       " 117213,\n",
       " 138519,\n",
       " 35513,\n",
       " 113331,\n",
       " 134283,\n",
       " 106963,\n",
       " 153301,\n",
       " 71802,\n",
       " 105403,\n",
       " 117124,\n",
       " 120424,\n",
       " 47813,\n",
       " 57709,\n",
       " 107761,\n",
       " 96045,\n",
       " 29130,\n",
       " 134201,\n",
       " 130579,\n",
       " 105880,\n",
       " 78129,\n",
       " 156927,\n",
       " 13048,\n",
       " 152732,\n",
       " 119719,\n",
       " 61755,\n",
       " 150752,\n",
       " 126658,\n",
       " 64091,\n",
       " 37868,\n",
       " 18990,\n",
       " 87684,\n",
       " 23792,\n",
       " 52015,\n",
       " 77916,\n",
       " 82203,\n",
       " 59860,\n",
       " 20481,\n",
       " 107974,\n",
       " 109194,\n",
       " 40418,\n",
       " 136594,\n",
       " 147942,\n",
       " 127024,\n",
       " 66729,\n",
       " 141059,\n",
       " 22547,\n",
       " 22646,\n",
       " 50125,\n",
       " 89713,\n",
       " 18662,\n",
       " 34235,\n",
       " 2939,\n",
       " 55590,\n",
       " 123630,\n",
       " 28662,\n",
       " 86453,\n",
       " 38202,\n",
       " 12259,\n",
       " 16075,\n",
       " 143406,\n",
       " 30591,\n",
       " 20491,\n",
       " 5027,\n",
       " 86859,\n",
       " 147897,\n",
       " 9007,\n",
       " 30839,\n",
       " 17209,\n",
       " 107646,\n",
       " 125920,\n",
       " 130480,\n",
       " 92798,\n",
       " 123002,\n",
       " 38638,\n",
       " 6281,\n",
       " 154246,\n",
       " 55412,\n",
       " 158996,\n",
       " 95914,\n",
       " 142455,\n",
       " 158567,\n",
       " 82830,\n",
       " 51122,\n",
       " 9817,\n",
       " 16417,\n",
       " 132446,\n",
       " 64046,\n",
       " 63595,\n",
       " 152048,\n",
       " 140019,\n",
       " 145036,\n",
       " 11542,\n",
       " 22904,\n",
       " 146372,\n",
       " 6414,\n",
       " 105793,\n",
       " 9022,\n",
       " 105539,\n",
       " 158080,\n",
       " 118128,\n",
       " 91283,\n",
       " 87045,\n",
       " 147191,\n",
       " 123331,\n",
       " 142369,\n",
       " 127908,\n",
       " 23015,\n",
       " 19994,\n",
       " 38267,\n",
       " 25443,\n",
       " 45676,\n",
       " 80807,\n",
       " 38757,\n",
       " 124771,\n",
       " 33291,\n",
       " 74643,\n",
       " 55465,\n",
       " 53323,\n",
       " 53959,\n",
       " 77898,\n",
       " 150472,\n",
       " 114552,\n",
       " 13492,\n",
       " 66498,\n",
       " 105708,\n",
       " 108091,\n",
       " 4451,\n",
       " 132309,\n",
       " 64587,\n",
       " 4388,\n",
       " 120997,\n",
       " 82321,\n",
       " 27006,\n",
       " 20820,\n",
       " 33523,\n",
       " 137764,\n",
       " 88970,\n",
       " 95184,\n",
       " 85822,\n",
       " 27099,\n",
       " 58688,\n",
       " 54766,\n",
       " 127183,\n",
       " 139592,\n",
       " 128089,\n",
       " 133844,\n",
       " 61478,\n",
       " 8496,\n",
       " 20696,\n",
       " 89111,\n",
       " 155682,\n",
       " 63703,\n",
       " 63606,\n",
       " 120400,\n",
       " 139296,\n",
       " 39691,\n",
       " 63264,\n",
       " 153236,\n",
       " 16004,\n",
       " 36564,\n",
       " 56749,\n",
       " 21912,\n",
       " 54649,\n",
       " 7932,\n",
       " 59659,\n",
       " 47075,\n",
       " 133943,\n",
       " 16269,\n",
       " 16517,\n",
       " 146011,\n",
       " 93858,\n",
       " 3650,\n",
       " 110874,\n",
       " 99275,\n",
       " 121301,\n",
       " 93554,\n",
       " 159302,\n",
       " 143362,\n",
       " 7394,\n",
       " 95256,\n",
       " 67200,\n",
       " 146528,\n",
       " 99854,\n",
       " 46317,\n",
       " 69982,\n",
       " 107589,\n",
       " 31487,\n",
       " 94519,\n",
       " 128685,\n",
       " 111547,\n",
       " 121378,\n",
       " 2459,\n",
       " 33517,\n",
       " 23114,\n",
       " 2384,\n",
       " 89479,\n",
       " 107706,\n",
       " 62096,\n",
       " 156357,\n",
       " 55054,\n",
       " 11535,\n",
       " 105868,\n",
       " 42052,\n",
       " 107396,\n",
       " 28160,\n",
       " 121904,\n",
       " 15513,\n",
       " 12499,\n",
       " 11560,\n",
       " 35809,\n",
       " 141380,\n",
       " 141751,\n",
       " 150000,\n",
       " 144190,\n",
       " 66657,\n",
       " 40870,\n",
       " 101349,\n",
       " 37832,\n",
       " 156626,\n",
       " 67841,\n",
       " 82370,\n",
       " 115497,\n",
       " 98958,\n",
       " 52091,\n",
       " 73066,\n",
       " 144206,\n",
       " 127082,\n",
       " 36568,\n",
       " 135193,\n",
       " 151850,\n",
       " 140552,\n",
       " 15780,\n",
       " 41024,\n",
       " 112176,\n",
       " 69301,\n",
       " 17307,\n",
       " 140718,\n",
       " 118402,\n",
       " 132038,\n",
       " 8409,\n",
       " 76667,\n",
       " 110965,\n",
       " 19461,\n",
       " 147212,\n",
       " 4997,\n",
       " 45664,\n",
       " 155464,\n",
       " 11311,\n",
       " 26774,\n",
       " 19536,\n",
       " 142778,\n",
       " 89067,\n",
       " 75867,\n",
       " 10639,\n",
       " 68382,\n",
       " 42705,\n",
       " 114021,\n",
       " 53667,\n",
       " 130984,\n",
       " 129109,\n",
       " 103366,\n",
       " 21583,\n",
       " 131679,\n",
       " 55302,\n",
       " 107829,\n",
       " 104025,\n",
       " 63437,\n",
       " 158487,\n",
       " 31424,\n",
       " 24933,\n",
       " 148044,\n",
       " 104367,\n",
       " 60339,\n",
       " 139719,\n",
       " 155559,\n",
       " 154507,\n",
       " 108455,\n",
       " 84414,\n",
       " 100927,\n",
       " 53916,\n",
       " 129913,\n",
       " 153723,\n",
       " 151657,\n",
       " 106874,\n",
       " 64917,\n",
       " 100128,\n",
       " 151358,\n",
       " 120614,\n",
       " 140449,\n",
       " 80067,\n",
       " 11992,\n",
       " 130921,\n",
       " 117960,\n",
       " 101075,\n",
       " 121155,\n",
       " 100669,\n",
       " 98864,\n",
       " 58887,\n",
       " 72962,\n",
       " 57962,\n",
       " 56948,\n",
       " 42056,\n",
       " 141745,\n",
       " 122966,\n",
       " 127549,\n",
       " 116170,\n",
       " 129755,\n",
       " 136782,\n",
       " 42211,\n",
       " 746,\n",
       " 3626,\n",
       " 131536,\n",
       " 69107,\n",
       " 42467,\n",
       " 114742,\n",
       " 10370,\n",
       " 136180,\n",
       " 144823,\n",
       " 32132,\n",
       " 153485,\n",
       " 78247,\n",
       " 100877,\n",
       " 7163,\n",
       " 48675,\n",
       " 11120,\n",
       " 138478,\n",
       " 85199,\n",
       " 158804,\n",
       " 17602,\n",
       " 133574,\n",
       " 137872,\n",
       " 130881,\n",
       " 112080,\n",
       " 32727,\n",
       " 109982,\n",
       " 33020,\n",
       " 131773,\n",
       " 36945,\n",
       " 60643,\n",
       " 11301,\n",
       " 158241,\n",
       " 78469,\n",
       " 114735,\n",
       " 88860,\n",
       " 97035,\n",
       " 86886,\n",
       " 94624,\n",
       " 151647,\n",
       " 14117,\n",
       " 87532,\n",
       " 100952,\n",
       " 50119,\n",
       " 83422,\n",
       " 104721,\n",
       " 111328,\n",
       " 366,\n",
       " 4538,\n",
       " 124094,\n",
       " 10640,\n",
       " 32726,\n",
       " 34922,\n",
       " 65443,\n",
       " 34357,\n",
       " 90411,\n",
       " 45140,\n",
       " 81577,\n",
       " 48033,\n",
       " 125502,\n",
       " 127802,\n",
       " 112174,\n",
       " 108073,\n",
       " 75595,\n",
       " 3125,\n",
       " 30194,\n",
       " 53480,\n",
       " 69162,\n",
       " 63439,\n",
       " 125018,\n",
       " 124222,\n",
       " 36873,\n",
       " 74669,\n",
       " 113015,\n",
       " 43385,\n",
       " 141343,\n",
       " 3550,\n",
       " 47922,\n",
       " 82408,\n",
       " 82767,\n",
       " 3768,\n",
       " 28804,\n",
       " 53690,\n",
       " 14682,\n",
       " 148444,\n",
       " 48786,\n",
       " 111783,\n",
       " 23377,\n",
       " 25119,\n",
       " 136382,\n",
       " 97981,\n",
       " 148529,\n",
       " 28517,\n",
       " 46577,\n",
       " 51600,\n",
       " 120703,\n",
       " 111041,\n",
       " 50476,\n",
       " 107081,\n",
       " 68639,\n",
       " 47948,\n",
       " 91936,\n",
       " 54726,\n",
       " 114353,\n",
       " 140957,\n",
       " 124334,\n",
       " 86317,\n",
       " 119644,\n",
       " 69406,\n",
       " 81819,\n",
       " 96474,\n",
       " 99337,\n",
       " 87205,\n",
       " 114867,\n",
       " 81331,\n",
       " 98080,\n",
       " 55625,\n",
       " 105813,\n",
       " 35171,\n",
       " 80718,\n",
       " 115058,\n",
       " 40107,\n",
       " 120371,\n",
       " 152303,\n",
       " 104585,\n",
       " 34962,\n",
       " 56878,\n",
       " 101629,\n",
       " 99344,\n",
       " 77623,\n",
       " 82577,\n",
       " 7324,\n",
       " 77222,\n",
       " 8811,\n",
       " 69042,\n",
       " 146957,\n",
       " 79325,\n",
       " 93802,\n",
       " 108740,\n",
       " 48138,\n",
       " 40569,\n",
       " 35917,\n",
       " 93521,\n",
       " 52264,\n",
       " 30555,\n",
       " 77408,\n",
       " 4297,\n",
       " 35815,\n",
       " 71505,\n",
       " 120083,\n",
       " 18556,\n",
       " 26216,\n",
       " 127009,\n",
       " 29842,\n",
       " 11394,\n",
       " 657,\n",
       " 158239,\n",
       " 4573,\n",
       " 129668,\n",
       " 95657,\n",
       " 120332,\n",
       " 105735,\n",
       " 159677,\n",
       " 98087,\n",
       " 107597,\n",
       " 99984,\n",
       " 143420,\n",
       " 87172,\n",
       " 84941,\n",
       " 104063,\n",
       " 122615,\n",
       " 158902,\n",
       " 22097,\n",
       " 11404,\n",
       " 83608,\n",
       " 44922,\n",
       " 65883,\n",
       " 155881,\n",
       " 93127,\n",
       " 69923,\n",
       " 129038,\n",
       " 80614,\n",
       " 4726,\n",
       " 121743,\n",
       " 132660,\n",
       " 6308,\n",
       " 15248,\n",
       " 53112,\n",
       " 82100,\n",
       " 126410,\n",
       " 110257,\n",
       " 40015,\n",
       " 61311,\n",
       " 18435,\n",
       " 50328,\n",
       " 101982,\n",
       " 133879,\n",
       " 10770,\n",
       " 53596,\n",
       " 42739,\n",
       " 46619,\n",
       " 73707,\n",
       " 51997,\n",
       " 35750,\n",
       " 30988,\n",
       " 6690,\n",
       " 22684,\n",
       " 61236,\n",
       " 70399,\n",
       " 120044,\n",
       " 89711,\n",
       " 21017,\n",
       " 108746,\n",
       " 80648,\n",
       " 120806,\n",
       " 141062,\n",
       " 96038,\n",
       " 24735,\n",
       " 141306,\n",
       " 1066,\n",
       " 102260,\n",
       " 81751,\n",
       " 139210,\n",
       " 90035,\n",
       " 34595,\n",
       " 69032,\n",
       " 113774,\n",
       " 75998,\n",
       " 113650,\n",
       " 16115,\n",
       " 53395,\n",
       " 16202,\n",
       " 41839,\n",
       " 102156,\n",
       " 18249,\n",
       " 53085,\n",
       " 113139,\n",
       " 149129,\n",
       " 5874,\n",
       " 63008,\n",
       " 52868,\n",
       " 98671,\n",
       " 55669,\n",
       " 146309,\n",
       " 77343,\n",
       " 113035,\n",
       " 144612,\n",
       " 140201,\n",
       " 148128,\n",
       " 114208,\n",
       " 38344,\n",
       " 94518,\n",
       " 62740,\n",
       " 8888,\n",
       " 28184,\n",
       " 136649,\n",
       " 55798,\n",
       " 117550,\n",
       " 86662,\n",
       " 101434,\n",
       " 83437,\n",
       " 82990,\n",
       " 102629,\n",
       " 125188,\n",
       " 68270,\n",
       " 98995,\n",
       " 62770,\n",
       " 46106,\n",
       " 22915,\n",
       " 68990,\n",
       " 96743,\n",
       " 61264,\n",
       " 37484,\n",
       " 147145,\n",
       " 52982,\n",
       " 66990,\n",
       " 37083,\n",
       " 141647,\n",
       " 49107,\n",
       " 19185,\n",
       " 132902,\n",
       " 132929,\n",
       " 42740,\n",
       " 105841,\n",
       " 126578,\n",
       " 151290,\n",
       " 135758,\n",
       " 43765,\n",
       " 87352,\n",
       " 54742,\n",
       " 92068,\n",
       " 49251,\n",
       " 157019,\n",
       " 29791,\n",
       " 64760,\n",
       " 49263,\n",
       " 25267,\n",
       " 155512,\n",
       " 118488,\n",
       " 6295,\n",
       " 125357,\n",
       " 103143,\n",
       " 98276,\n",
       " 66798,\n",
       " 117709,\n",
       " 158476,\n",
       " 12044,\n",
       " 27856,\n",
       " 110859,\n",
       " 104993,\n",
       " 56231,\n",
       " 105369,\n",
       " 83979,\n",
       " 124181,\n",
       " 91128,\n",
       " 134921,\n",
       " 70907,\n",
       " 2978,\n",
       " 27789,\n",
       " 2227,\n",
       " 45001,\n",
       " 125321,\n",
       " 145724,\n",
       " 14025,\n",
       " 148202,\n",
       " 86737,\n",
       " 129021,\n",
       " 76405,\n",
       " 83298,\n",
       " 1156,\n",
       " 157172,\n",
       " 130017,\n",
       " 65300,\n",
       " 157686,\n",
       " 8194,\n",
       " 84715,\n",
       " 33997,\n",
       " 11650,\n",
       " 102360,\n",
       " 87644,\n",
       " 71870,\n",
       " 72999,\n",
       " 33569,\n",
       " 96464,\n",
       " 36230,\n",
       " 159851,\n",
       " 1341,\n",
       " 93622,\n",
       " 60695,\n",
       " 96825,\n",
       " 28612,\n",
       " 63176,\n",
       " 147186,\n",
       " 104660,\n",
       " 16601,\n",
       " 50669,\n",
       " 91077,\n",
       " 85860,\n",
       " 132888,\n",
       " 28479,\n",
       " 127996,\n",
       " 96674,\n",
       " 107339,\n",
       " 156694,\n",
       " 68418,\n",
       " 102947,\n",
       " 67632,\n",
       " 134916,\n",
       " 130709,\n",
       " 36135,\n",
       " 54858,\n",
       " 123487,\n",
       " 32327,\n",
       " 28642,\n",
       " 103614,\n",
       " 57048,\n",
       " 149713,\n",
       " 66919,\n",
       " 141464,\n",
       " 32505,\n",
       " 25172,\n",
       " 151301,\n",
       " 64652,\n",
       " 92123,\n",
       " 110662,\n",
       " 31383,\n",
       " 4024,\n",
       " 53566,\n",
       " 131332,\n",
       " 114362,\n",
       " 80659,\n",
       " 17074,\n",
       " 123702,\n",
       " 52033,\n",
       " 5340,\n",
       " 123291,\n",
       " 83988,\n",
       " 14753,\n",
       " 18939,\n",
       " 19170,\n",
       " 128242,\n",
       " 149680,\n",
       " 111829,\n",
       " 26533,\n",
       " 124390,\n",
       " 36040,\n",
       " 89080,\n",
       " 79249,\n",
       " 151258,\n",
       " 90708,\n",
       " 75753,\n",
       " 64431,\n",
       " 32027,\n",
       " 12607,\n",
       " 98123,\n",
       " 104220,\n",
       " 53362,\n",
       " 133046,\n",
       " 141824,\n",
       " 16151,\n",
       " 66258,\n",
       " 120196,\n",
       " 11515,\n",
       " 131763,\n",
       " 17022,\n",
       " 107008,\n",
       " 26385,\n",
       " 121847,\n",
       " 99910,\n",
       " 19397,\n",
       " 55078,\n",
       " 90502,\n",
       " 79858,\n",
       " 87530,\n",
       " 94464,\n",
       " 31195,\n",
       " 92832,\n",
       " 144107,\n",
       " 93968,\n",
       " 76776,\n",
       " 95185,\n",
       " 118606,\n",
       " 17710,\n",
       " 96030,\n",
       " 121650,\n",
       " 67735,\n",
       " 115563,\n",
       " 19543,\n",
       " 45697,\n",
       " 104004,\n",
       " 136855,\n",
       " 133209,\n",
       " 48374,\n",
       " 143490,\n",
       " 31281,\n",
       " 74492,\n",
       " 139805,\n",
       " 151863,\n",
       " 125587,\n",
       " 49264,\n",
       " 45969,\n",
       " 140222,\n",
       " 97317,\n",
       " 91202,\n",
       " 149811,\n",
       " 61682,\n",
       " 135591,\n",
       " 154227,\n",
       " 83394,\n",
       " 120629,\n",
       " 116683,\n",
       " 101427,\n",
       " 157715,\n",
       " 41483,\n",
       " 21307,\n",
       " 123651,\n",
       " 156719,\n",
       " 155472,\n",
       " 147655,\n",
       " 144164,\n",
       " 23227,\n",
       " 115247,\n",
       " 34634,\n",
       " 134367,\n",
       " 88019,\n",
       " 106499,\n",
       " 8754,\n",
       " 61633,\n",
       " 128480,\n",
       " 158217,\n",
       " 8984,\n",
       " 84218,\n",
       " 125496,\n",
       " 73218,\n",
       " 83767,\n",
       " 81695,\n",
       " 86346,\n",
       " 6519,\n",
       " 94716,\n",
       " 2099,\n",
       " 36996,\n",
       " 51009,\n",
       " 24413,\n",
       " 102998,\n",
       " 105519,\n",
       " 48311,\n",
       " 150599,\n",
       " 53227,\n",
       " 141081,\n",
       " 7377,\n",
       " 107422,\n",
       " 48663,\n",
       " 61418,\n",
       " 56359,\n",
       " 101218,\n",
       " 72435,\n",
       " 7355,\n",
       " 45881,\n",
       " 102232,\n",
       " 97728,\n",
       " 109464,\n",
       " 61287,\n",
       " 129503,\n",
       " 153901,\n",
       " 103282,\n",
       " 130469,\n",
       " 57271,\n",
       " 16137,\n",
       " 51631,\n",
       " 20810,\n",
       " 11414,\n",
       " 89857,\n",
       " 143084,\n",
       " 57210,\n",
       " 18107,\n",
       " 88203,\n",
       " 56026,\n",
       " 53963,\n",
       " 90664,\n",
       " 74226,\n",
       " 60645,\n",
       " 80642,\n",
       " 122299,\n",
       " 74386,\n",
       " 92406,\n",
       " 83432,\n",
       " 48006,\n",
       " 152129,\n",
       " 48342,\n",
       " 60907,\n",
       " 31161,\n",
       " 11044,\n",
       " 143119,\n",
       " 100782,\n",
       " 71930,\n",
       " 65572,\n",
       " 143641,\n",
       " 24830,\n",
       " 40890,\n",
       " 119577,\n",
       " 76039,\n",
       " 45413,\n",
       " 95831,\n",
       " 63155,\n",
       " 44214,\n",
       " 131967,\n",
       " 96444,\n",
       " 46713,\n",
       " 78839,\n",
       " 55224,\n",
       " 90533,\n",
       " 73478,\n",
       " 77034,\n",
       " 67080,\n",
       " 6513,\n",
       " 35395,\n",
       " 132207,\n",
       " 114548,\n",
       " 97152,\n",
       " 31527,\n",
       " 6340,\n",
       " 100436,\n",
       " 39172,\n",
       " 108197,\n",
       " 151800,\n",
       " 57474,\n",
       " 60697,\n",
       " 140077,\n",
       " 42275,\n",
       " 125452,\n",
       " 33147,\n",
       " 18022,\n",
       " 153587,\n",
       " 29942,\n",
       " 15844,\n",
       " 85415,\n",
       " 20961,\n",
       " 106472,\n",
       " 52837,\n",
       " 702,\n",
       " 103561,\n",
       " 77654,\n",
       " 15432,\n",
       " 73658,\n",
       " 24827,\n",
       " 149326,\n",
       " 132846,\n",
       " 75950,\n",
       " 36177,\n",
       " 144501,\n",
       " 140078,\n",
       " 131260,\n",
       " 123234,\n",
       " 118418,\n",
       " 92082,\n",
       " 131399,\n",
       " 66574,\n",
       " 105338,\n",
       " 72949,\n",
       " 67863,\n",
       " 110345,\n",
       " 98926,\n",
       " 105853,\n",
       " 123221,\n",
       " 25974,\n",
       " 136323,\n",
       " 74306,\n",
       " 21509,\n",
       " 42743,\n",
       " 62030,\n",
       " 143521,\n",
       " 153238,\n",
       " 10691,\n",
       " 72438,\n",
       " ...]"
      ]
     },
     "execution_count": 67,
     "metadata": {},
     "output_type": "execute_result"
    }
   ],
   "source": [
    "ga_features = feature_selection.get_GA_features(X=X, Y=Y)\n",
    "ga_features"
   ]
  },
  {
   "cell_type": "markdown",
   "metadata": {},
   "source": [
    "## Gera as combinações de parâmetros para rodar o SVM"
   ]
  },
  {
   "cell_type": "code",
   "execution_count": 6,
   "metadata": {},
   "outputs": [],
   "source": [
    "svm_classifier = svm.SVC()\n",
    "parameters = [{\"kernel\":[\"linear\"], \"C\":[0.1, 1, 10]},\n",
    "              {\"kernel\":[\"rbf\"], \"C\":[0.1, 1, 10], \"gamma\":[0.1, 1, 10]},\n",
    "              {\"kernel\":[\"sigmoid\"], \"C\":[0.1, 5, 10], \"coef0\":[1,5], \"gamma\":[0.1, 1, 10]},\n",
    "              {\"kernel\":[\"poly\"], \"C\":[0.1, 5, 10], \"coef0\":[1,5], \"degree\":[1, 2, 3], \"gamma\":[0.1, 1, 10]}\n",
    "             ]"
   ]
  },
  {
   "cell_type": "markdown",
   "metadata": {},
   "source": [
    "#### Roda todas as combinações da SVM para as features"
   ]
  },
  {
   "cell_type": "code",
   "execution_count": 7,
   "metadata": {},
   "outputs": [],
   "source": [
    "grid_search_full = GridSearchCV(svm_classifier, parameters, verbose=5, n_jobs=-1, cv=3)"
   ]
  },
  {
   "cell_type": "code",
   "execution_count": 17,
   "metadata": {},
   "outputs": [
    {
     "name": "stdout",
     "output_type": "stream",
     "text": [
      "Fitting 3 folds for each of 84 candidates, totalling 252 fits\n",
      "[CV] C=0.1, kernel=linear ............................................\n",
      "[CV] C=0.1, kernel=linear ............................................\n",
      "[CV] C=0.1, kernel=linear ............................................\n",
      "[CV] C=1, kernel=linear ..............................................\n"
     ]
    },
    {
     "name": "stderr",
     "output_type": "stream",
     "text": [
      "/home/fernando.favoretti/.local/lib/python3.6/site-packages/sklearn/utils/validation.py:578: DataConversionWarning: A column-vector y was passed when a 1d array was expected. Please change the shape of y to (n_samples, ), for example using ravel().\n",
      "  y = column_or_1d(y, warn=True)\n"
     ]
    },
    {
     "name": "stdout",
     "output_type": "stream",
     "text": [
      "[CV] C=1, kernel=linear ..............................................\n"
     ]
    },
    {
     "name": "stderr",
     "output_type": "stream",
     "text": [
      "/home/fernando.favoretti/.local/lib/python3.6/site-packages/sklearn/utils/validation.py:578: DataConversionWarning: A column-vector y was passed when a 1d array was expected. Please change the shape of y to (n_samples, ), for example using ravel().\n",
      "  y = column_or_1d(y, warn=True)\n",
      "/home/fernando.favoretti/.local/lib/python3.6/site-packages/sklearn/utils/validation.py:578: DataConversionWarning: A column-vector y was passed when a 1d array was expected. Please change the shape of y to (n_samples, ), for example using ravel().\n",
      "  y = column_or_1d(y, warn=True)\n"
     ]
    },
    {
     "name": "stdout",
     "output_type": "stream",
     "text": [
      "[CV] C=1, kernel=linear ..............................................\n"
     ]
    },
    {
     "name": "stderr",
     "output_type": "stream",
     "text": [
      "/home/fernando.favoretti/.local/lib/python3.6/site-packages/sklearn/utils/validation.py:578: DataConversionWarning: A column-vector y was passed when a 1d array was expected. Please change the shape of y to (n_samples, ), for example using ravel().\n",
      "  y = column_or_1d(y, warn=True)\n"
     ]
    },
    {
     "name": "stdout",
     "output_type": "stream",
     "text": [
      "[CV] C=10, kernel=linear .............................................\n"
     ]
    },
    {
     "name": "stderr",
     "output_type": "stream",
     "text": [
      "/home/fernando.favoretti/.local/lib/python3.6/site-packages/sklearn/utils/validation.py:578: DataConversionWarning: A column-vector y was passed when a 1d array was expected. Please change the shape of y to (n_samples, ), for example using ravel().\n",
      "  y = column_or_1d(y, warn=True)\n"
     ]
    },
    {
     "name": "stdout",
     "output_type": "stream",
     "text": [
      "[CV] C=10, kernel=linear .............................................\n"
     ]
    },
    {
     "name": "stderr",
     "output_type": "stream",
     "text": [
      "/home/fernando.favoretti/.local/lib/python3.6/site-packages/sklearn/utils/validation.py:578: DataConversionWarning: A column-vector y was passed when a 1d array was expected. Please change the shape of y to (n_samples, ), for example using ravel().\n",
      "  y = column_or_1d(y, warn=True)\n"
     ]
    },
    {
     "name": "stdout",
     "output_type": "stream",
     "text": [
      "[CV] C=10, kernel=linear .............................................\n"
     ]
    },
    {
     "name": "stderr",
     "output_type": "stream",
     "text": [
      "/home/fernando.favoretti/.local/lib/python3.6/site-packages/sklearn/utils/validation.py:578: DataConversionWarning: A column-vector y was passed when a 1d array was expected. Please change the shape of y to (n_samples, ), for example using ravel().\n",
      "  y = column_or_1d(y, warn=True)\n"
     ]
    },
    {
     "name": "stdout",
     "output_type": "stream",
     "text": [
      "[CV] C=0.1, gamma=0.1, kernel=rbf ....................................\n",
      "[CV] C=0.1, gamma=0.1, kernel=rbf ....................................\n"
     ]
    },
    {
     "name": "stderr",
     "output_type": "stream",
     "text": [
      "/home/fernando.favoretti/.local/lib/python3.6/site-packages/sklearn/utils/validation.py:578: DataConversionWarning: A column-vector y was passed when a 1d array was expected. Please change the shape of y to (n_samples, ), for example using ravel().\n",
      "  y = column_or_1d(y, warn=True)\n"
     ]
    },
    {
     "name": "stdout",
     "output_type": "stream",
     "text": [
      "[CV] C=0.1, gamma=0.1, kernel=rbf ....................................\n"
     ]
    },
    {
     "name": "stderr",
     "output_type": "stream",
     "text": [
      "/home/fernando.favoretti/.local/lib/python3.6/site-packages/sklearn/utils/validation.py:578: DataConversionWarning: A column-vector y was passed when a 1d array was expected. Please change the shape of y to (n_samples, ), for example using ravel().\n",
      "  y = column_or_1d(y, warn=True)\n"
     ]
    },
    {
     "name": "stdout",
     "output_type": "stream",
     "text": [
      "[CV] C=0.1, gamma=1, kernel=rbf ......................................\n"
     ]
    },
    {
     "name": "stderr",
     "output_type": "stream",
     "text": [
      "/home/fernando.favoretti/.local/lib/python3.6/site-packages/sklearn/utils/validation.py:578: DataConversionWarning: A column-vector y was passed when a 1d array was expected. Please change the shape of y to (n_samples, ), for example using ravel().\n",
      "  y = column_or_1d(y, warn=True)\n"
     ]
    },
    {
     "name": "stdout",
     "output_type": "stream",
     "text": [
      "[CV] C=0.1, gamma=1, kernel=rbf ......................................\n"
     ]
    },
    {
     "name": "stderr",
     "output_type": "stream",
     "text": [
      "/home/fernando.favoretti/.local/lib/python3.6/site-packages/sklearn/utils/validation.py:578: DataConversionWarning: A column-vector y was passed when a 1d array was expected. Please change the shape of y to (n_samples, ), for example using ravel().\n",
      "  y = column_or_1d(y, warn=True)\n"
     ]
    },
    {
     "name": "stdout",
     "output_type": "stream",
     "text": [
      "[CV] C=0.1, gamma=1, kernel=rbf ......................................\n"
     ]
    },
    {
     "name": "stderr",
     "output_type": "stream",
     "text": [
      "/home/fernando.favoretti/.local/lib/python3.6/site-packages/sklearn/utils/validation.py:578: DataConversionWarning: A column-vector y was passed when a 1d array was expected. Please change the shape of y to (n_samples, ), for example using ravel().\n",
      "  y = column_or_1d(y, warn=True)\n"
     ]
    },
    {
     "name": "stdout",
     "output_type": "stream",
     "text": [
      "[CV] C=0.1, gamma=10, kernel=rbf .....................................\n"
     ]
    },
    {
     "name": "stderr",
     "output_type": "stream",
     "text": [
      "/home/fernando.favoretti/.local/lib/python3.6/site-packages/sklearn/utils/validation.py:578: DataConversionWarning: A column-vector y was passed when a 1d array was expected. Please change the shape of y to (n_samples, ), for example using ravel().\n",
      "  y = column_or_1d(y, warn=True)\n",
      "/home/fernando.favoretti/.local/lib/python3.6/site-packages/sklearn/utils/validation.py:578: DataConversionWarning: A column-vector y was passed when a 1d array was expected. Please change the shape of y to (n_samples, ), for example using ravel().\n",
      "  y = column_or_1d(y, warn=True)\n",
      "/home/fernando.favoretti/.local/lib/python3.6/site-packages/sklearn/utils/validation.py:578: DataConversionWarning: A column-vector y was passed when a 1d array was expected. Please change the shape of y to (n_samples, ), for example using ravel().\n",
      "  y = column_or_1d(y, warn=True)\n",
      "/home/fernando.favoretti/.local/lib/python3.6/site-packages/sklearn/utils/validation.py:578: DataConversionWarning: A column-vector y was passed when a 1d array was expected. Please change the shape of y to (n_samples, ), for example using ravel().\n",
      "  y = column_or_1d(y, warn=True)\n"
     ]
    },
    {
     "name": "stdout",
     "output_type": "stream",
     "text": [
      "[CV] ................... C=10, kernel=linear, score=0.5, total= 1.5min\n",
      "[CV] C=0.1, gamma=10, kernel=rbf .....................................\n",
      "[CV] .................... C=1, kernel=linear, score=0.5, total= 1.5min\n",
      "[CV] C=0.1, gamma=10, kernel=rbf .....................................\n",
      "[CV] .................. C=0.1, kernel=linear, score=0.5, total= 1.5min\n",
      "[CV] C=1, gamma=0.1, kernel=rbf ......................................\n"
     ]
    },
    {
     "name": "stderr",
     "output_type": "stream",
     "text": [
      "/home/fernando.favoretti/.local/lib/python3.6/site-packages/sklearn/utils/validation.py:578: DataConversionWarning: A column-vector y was passed when a 1d array was expected. Please change the shape of y to (n_samples, ), for example using ravel().\n",
      "  y = column_or_1d(y, warn=True)\n",
      "/home/fernando.favoretti/.local/lib/python3.6/site-packages/sklearn/utils/validation.py:578: DataConversionWarning: A column-vector y was passed when a 1d array was expected. Please change the shape of y to (n_samples, ), for example using ravel().\n",
      "  y = column_or_1d(y, warn=True)\n",
      "/home/fernando.favoretti/.local/lib/python3.6/site-packages/sklearn/utils/validation.py:578: DataConversionWarning: A column-vector y was passed when a 1d array was expected. Please change the shape of y to (n_samples, ), for example using ravel().\n",
      "  y = column_or_1d(y, warn=True)\n"
     ]
    },
    {
     "name": "stdout",
     "output_type": "stream",
     "text": [
      "[CV] ... C=0.1, kernel=linear, score=0.4594594594594595, total= 1.5min\n",
      "[CV] C=1, gamma=0.1, kernel=rbf ......................................\n"
     ]
    },
    {
     "name": "stderr",
     "output_type": "stream",
     "text": [
      "/home/fernando.favoretti/.local/lib/python3.6/site-packages/sklearn/utils/validation.py:578: DataConversionWarning: A column-vector y was passed when a 1d array was expected. Please change the shape of y to (n_samples, ), for example using ravel().\n",
      "  y = column_or_1d(y, warn=True)\n"
     ]
    },
    {
     "name": "stdout",
     "output_type": "stream",
     "text": [
      "[CV] ..... C=1, kernel=linear, score=0.5491071428571429, total= 1.5min\n",
      "[CV] C=1, gamma=0.1, kernel=rbf ......................................\n",
      "[CV] .... C=10, kernel=linear, score=0.4594594594594595, total= 1.5min\n",
      "[CV] C=1, gamma=1, kernel=rbf ........................................\n",
      "[CV] ..... C=1, kernel=linear, score=0.4594594594594595, total= 1.5min\n",
      "[CV] C=1, gamma=1, kernel=rbf ........................................\n",
      "[CV] ... C=0.1, kernel=linear, score=0.5491071428571429, total= 1.5min\n",
      "[CV] C=1, gamma=1, kernel=rbf ........................................\n"
     ]
    },
    {
     "name": "stderr",
     "output_type": "stream",
     "text": [
      "/home/fernando.favoretti/.local/lib/python3.6/site-packages/sklearn/utils/validation.py:578: DataConversionWarning: A column-vector y was passed when a 1d array was expected. Please change the shape of y to (n_samples, ), for example using ravel().\n",
      "  y = column_or_1d(y, warn=True)\n",
      "/home/fernando.favoretti/.local/lib/python3.6/site-packages/sklearn/utils/validation.py:578: DataConversionWarning: A column-vector y was passed when a 1d array was expected. Please change the shape of y to (n_samples, ), for example using ravel().\n",
      "  y = column_or_1d(y, warn=True)\n",
      "/home/fernando.favoretti/.local/lib/python3.6/site-packages/sklearn/utils/validation.py:578: DataConversionWarning: A column-vector y was passed when a 1d array was expected. Please change the shape of y to (n_samples, ), for example using ravel().\n",
      "  y = column_or_1d(y, warn=True)\n",
      "/home/fernando.favoretti/.local/lib/python3.6/site-packages/sklearn/utils/validation.py:578: DataConversionWarning: A column-vector y was passed when a 1d array was expected. Please change the shape of y to (n_samples, ), for example using ravel().\n",
      "  y = column_or_1d(y, warn=True)\n"
     ]
    },
    {
     "name": "stdout",
     "output_type": "stream",
     "text": [
      "[CV] .... C=10, kernel=linear, score=0.5491071428571429, total= 1.5min\n",
      "[CV] C=1, gamma=10, kernel=rbf .......................................\n"
     ]
    },
    {
     "name": "stderr",
     "output_type": "stream",
     "text": [
      "/home/fernando.favoretti/.local/lib/python3.6/site-packages/sklearn/utils/validation.py:578: DataConversionWarning: A column-vector y was passed when a 1d array was expected. Please change the shape of y to (n_samples, ), for example using ravel().\n",
      "  y = column_or_1d(y, warn=True)\n"
     ]
    },
    {
     "name": "stdout",
     "output_type": "stream",
     "text": [
      "[CV] .......... C=0.1, gamma=0.1, kernel=rbf, score=0.5, total= 1.6min\n",
      "[CV] C=1, gamma=10, kernel=rbf .......................................\n",
      "[CV] ............ C=0.1, gamma=1, kernel=rbf, score=0.5, total= 1.6min\n",
      "[CV] C=1, gamma=10, kernel=rbf .......................................\n"
     ]
    },
    {
     "name": "stderr",
     "output_type": "stream",
     "text": [
      "/home/fernando.favoretti/.local/lib/python3.6/site-packages/sklearn/utils/validation.py:578: DataConversionWarning: A column-vector y was passed when a 1d array was expected. Please change the shape of y to (n_samples, ), for example using ravel().\n",
      "  y = column_or_1d(y, warn=True)\n",
      "/home/fernando.favoretti/.local/lib/python3.6/site-packages/sklearn/utils/validation.py:578: DataConversionWarning: A column-vector y was passed when a 1d array was expected. Please change the shape of y to (n_samples, ), for example using ravel().\n",
      "  y = column_or_1d(y, warn=True)\n"
     ]
    },
    {
     "name": "stdout",
     "output_type": "stream",
     "text": [
      "[CV] .......... C=0.1, gamma=0.1, kernel=rbf, score=0.5, total= 1.6min\n",
      "[CV] C=10, gamma=0.1, kernel=rbf .....................................\n",
      "[CV] ........... C=0.1, gamma=10, kernel=rbf, score=0.5, total= 1.6min\n",
      "[CV] C=10, gamma=0.1, kernel=rbf .....................................\n"
     ]
    },
    {
     "name": "stderr",
     "output_type": "stream",
     "text": [
      "/home/fernando.favoretti/.local/lib/python3.6/site-packages/sklearn/utils/validation.py:578: DataConversionWarning: A column-vector y was passed when a 1d array was expected. Please change the shape of y to (n_samples, ), for example using ravel().\n",
      "  y = column_or_1d(y, warn=True)\n"
     ]
    },
    {
     "name": "stdout",
     "output_type": "stream",
     "text": [
      "[CV] ............ C=0.1, gamma=1, kernel=rbf, score=0.5, total= 1.6min\n"
     ]
    },
    {
     "name": "stderr",
     "output_type": "stream",
     "text": [
      "/home/fernando.favoretti/.local/lib/python3.6/site-packages/sklearn/utils/validation.py:578: DataConversionWarning: A column-vector y was passed when a 1d array was expected. Please change the shape of y to (n_samples, ), for example using ravel().\n",
      "  y = column_or_1d(y, warn=True)\n"
     ]
    },
    {
     "name": "stdout",
     "output_type": "stream",
     "text": [
      "[CV] C=10, gamma=0.1, kernel=rbf .....................................\n",
      "[CV] .......... C=0.1, gamma=0.1, kernel=rbf, score=0.5, total= 1.7min\n",
      "[CV] C=10, gamma=1, kernel=rbf .......................................\n"
     ]
    },
    {
     "name": "stderr",
     "output_type": "stream",
     "text": [
      "/home/fernando.favoretti/.local/lib/python3.6/site-packages/sklearn/utils/validation.py:578: DataConversionWarning: A column-vector y was passed when a 1d array was expected. Please change the shape of y to (n_samples, ), for example using ravel().\n",
      "  y = column_or_1d(y, warn=True)\n",
      "/home/fernando.favoretti/.local/lib/python3.6/site-packages/sklearn/utils/validation.py:578: DataConversionWarning: A column-vector y was passed when a 1d array was expected. Please change the shape of y to (n_samples, ), for example using ravel().\n",
      "  y = column_or_1d(y, warn=True)\n"
     ]
    },
    {
     "name": "stdout",
     "output_type": "stream",
     "text": [
      "[CV] ............ C=0.1, gamma=1, kernel=rbf, score=0.5, total= 1.6min\n",
      "[CV] C=10, gamma=1, kernel=rbf .......................................\n"
     ]
    },
    {
     "name": "stderr",
     "output_type": "stream",
     "text": [
      "/home/fernando.favoretti/.local/lib/python3.6/site-packages/sklearn/utils/validation.py:578: DataConversionWarning: A column-vector y was passed when a 1d array was expected. Please change the shape of y to (n_samples, ), for example using ravel().\n",
      "  y = column_or_1d(y, warn=True)\n"
     ]
    },
    {
     "name": "stdout",
     "output_type": "stream",
     "text": [
      "[CV] ............ C=1, gamma=0.1, kernel=rbf, score=0.5, total= 1.6min\n",
      "[CV] C=10, gamma=1, kernel=rbf .......................................\n",
      "[CV] ........... C=0.1, gamma=10, kernel=rbf, score=0.5, total= 1.6min\n",
      "[CV] C=10, gamma=10, kernel=rbf ......................................\n"
     ]
    },
    {
     "name": "stderr",
     "output_type": "stream",
     "text": [
      "/home/fernando.favoretti/.local/lib/python3.6/site-packages/sklearn/utils/validation.py:578: DataConversionWarning: A column-vector y was passed when a 1d array was expected. Please change the shape of y to (n_samples, ), for example using ravel().\n",
      "  y = column_or_1d(y, warn=True)\n",
      "/home/fernando.favoretti/.local/lib/python3.6/site-packages/sklearn/utils/validation.py:578: DataConversionWarning: A column-vector y was passed when a 1d array was expected. Please change the shape of y to (n_samples, ), for example using ravel().\n",
      "  y = column_or_1d(y, warn=True)\n"
     ]
    },
    {
     "name": "stdout",
     "output_type": "stream",
     "text": [
      "[CV] ............ C=1, gamma=0.1, kernel=rbf, score=0.5, total= 1.6min\n",
      "[CV] C=10, gamma=10, kernel=rbf ......................................\n"
     ]
    },
    {
     "name": "stderr",
     "output_type": "stream",
     "text": [
      "/home/fernando.favoretti/.local/lib/python3.6/site-packages/sklearn/utils/validation.py:578: DataConversionWarning: A column-vector y was passed when a 1d array was expected. Please change the shape of y to (n_samples, ), for example using ravel().\n",
      "  y = column_or_1d(y, warn=True)\n"
     ]
    },
    {
     "name": "stdout",
     "output_type": "stream",
     "text": [
      "[CV] ............ C=1, gamma=0.1, kernel=rbf, score=0.5, total= 1.6min\n",
      "[CV] C=10, gamma=10, kernel=rbf ......................................\n",
      "[CV] ........... C=0.1, gamma=10, kernel=rbf, score=0.5, total= 1.6min\n",
      "[CV] C=0.1, coef0=1, gamma=0.1, kernel=sigmoid .......................\n",
      "[CV] .............. C=1, gamma=1, kernel=rbf, score=0.5, total= 1.6min\n",
      "[CV] C=0.1, coef0=1, gamma=0.1, kernel=sigmoid .......................\n"
     ]
    },
    {
     "name": "stderr",
     "output_type": "stream",
     "text": [
      "/home/fernando.favoretti/.local/lib/python3.6/site-packages/sklearn/utils/validation.py:578: DataConversionWarning: A column-vector y was passed when a 1d array was expected. Please change the shape of y to (n_samples, ), for example using ravel().\n",
      "  y = column_or_1d(y, warn=True)\n",
      "/home/fernando.favoretti/.local/lib/python3.6/site-packages/sklearn/utils/validation.py:578: DataConversionWarning: A column-vector y was passed when a 1d array was expected. Please change the shape of y to (n_samples, ), for example using ravel().\n",
      "  y = column_or_1d(y, warn=True)\n",
      "/home/fernando.favoretti/.local/lib/python3.6/site-packages/sklearn/utils/validation.py:578: DataConversionWarning: A column-vector y was passed when a 1d array was expected. Please change the shape of y to (n_samples, ), for example using ravel().\n",
      "  y = column_or_1d(y, warn=True)\n"
     ]
    },
    {
     "name": "stdout",
     "output_type": "stream",
     "text": [
      "[CV] .............. C=1, gamma=1, kernel=rbf, score=0.5, total= 1.6min\n",
      "[CV] C=0.1, coef0=1, gamma=0.1, kernel=sigmoid .......................\n",
      "[CV] .............. C=1, gamma=1, kernel=rbf, score=0.5, total= 1.6min\n",
      "[CV] ............. C=1, gamma=10, kernel=rbf, score=0.5, total= 1.6min\n",
      "[CV] C=0.1, coef0=1, gamma=1, kernel=sigmoid .........................\n",
      "[CV] C=0.1, coef0=1, gamma=1, kernel=sigmoid .........................\n"
     ]
    },
    {
     "name": "stderr",
     "output_type": "stream",
     "text": [
      "/home/fernando.favoretti/.local/lib/python3.6/site-packages/sklearn/utils/validation.py:578: DataConversionWarning: A column-vector y was passed when a 1d array was expected. Please change the shape of y to (n_samples, ), for example using ravel().\n",
      "  y = column_or_1d(y, warn=True)\n",
      "/home/fernando.favoretti/.local/lib/python3.6/site-packages/sklearn/utils/validation.py:578: DataConversionWarning: A column-vector y was passed when a 1d array was expected. Please change the shape of y to (n_samples, ), for example using ravel().\n",
      "  y = column_or_1d(y, warn=True)\n",
      "/home/fernando.favoretti/.local/lib/python3.6/site-packages/sklearn/utils/validation.py:578: DataConversionWarning: A column-vector y was passed when a 1d array was expected. Please change the shape of y to (n_samples, ), for example using ravel().\n",
      "  y = column_or_1d(y, warn=True)\n"
     ]
    },
    {
     "name": "stdout",
     "output_type": "stream",
     "text": [
      "[CV] ............. C=1, gamma=10, kernel=rbf, score=0.5, total= 1.6min\n",
      "[CV] C=0.1, coef0=1, gamma=1, kernel=sigmoid .........................\n"
     ]
    },
    {
     "name": "stderr",
     "output_type": "stream",
     "text": [
      "/home/fernando.favoretti/.local/lib/python3.6/site-packages/sklearn/utils/validation.py:578: DataConversionWarning: A column-vector y was passed when a 1d array was expected. Please change the shape of y to (n_samples, ), for example using ravel().\n",
      "  y = column_or_1d(y, warn=True)\n"
     ]
    },
    {
     "name": "stdout",
     "output_type": "stream",
     "text": [
      "[CV] ............. C=10, gamma=1, kernel=rbf, score=0.5, total= 1.7min\n",
      "[CV] C=0.1, coef0=1, gamma=10, kernel=sigmoid ........................\n",
      "[CV] ........... C=10, gamma=0.1, kernel=rbf, score=0.5, total= 1.6min\n",
      "[CV] C=0.1, coef0=1, gamma=10, kernel=sigmoid ........................\n",
      "[CV] ........... C=10, gamma=0.1, kernel=rbf, score=0.5, total= 1.6min\n",
      "[CV] C=0.1, coef0=1, gamma=10, kernel=sigmoid ........................\n",
      "[CV] ............. C=1, gamma=10, kernel=rbf, score=0.5, total= 1.7min\n",
      "[CV] C=0.1, coef0=5, gamma=0.1, kernel=sigmoid .......................\n"
     ]
    },
    {
     "name": "stderr",
     "output_type": "stream",
     "text": [
      "/home/fernando.favoretti/.local/lib/python3.6/site-packages/sklearn/utils/validation.py:578: DataConversionWarning: A column-vector y was passed when a 1d array was expected. Please change the shape of y to (n_samples, ), for example using ravel().\n",
      "  y = column_or_1d(y, warn=True)\n",
      "/home/fernando.favoretti/.local/lib/python3.6/site-packages/sklearn/utils/validation.py:578: DataConversionWarning: A column-vector y was passed when a 1d array was expected. Please change the shape of y to (n_samples, ), for example using ravel().\n",
      "  y = column_or_1d(y, warn=True)\n",
      "/home/fernando.favoretti/.local/lib/python3.6/site-packages/sklearn/utils/validation.py:578: DataConversionWarning: A column-vector y was passed when a 1d array was expected. Please change the shape of y to (n_samples, ), for example using ravel().\n",
      "  y = column_or_1d(y, warn=True)\n",
      "/home/fernando.favoretti/.local/lib/python3.6/site-packages/sklearn/utils/validation.py:578: DataConversionWarning: A column-vector y was passed when a 1d array was expected. Please change the shape of y to (n_samples, ), for example using ravel().\n",
      "  y = column_or_1d(y, warn=True)\n"
     ]
    },
    {
     "name": "stdout",
     "output_type": "stream",
     "text": [
      "[CV] ........... C=10, gamma=0.1, kernel=rbf, score=0.5, total= 1.6min\n",
      "[CV] C=0.1, coef0=5, gamma=0.1, kernel=sigmoid .......................\n",
      "[CV] ............. C=10, gamma=1, kernel=rbf, score=0.5, total= 1.6min\n",
      "[CV] C=0.1, coef0=5, gamma=0.1, kernel=sigmoid .......................\n"
     ]
    },
    {
     "name": "stderr",
     "output_type": "stream",
     "text": [
      "/home/fernando.favoretti/.local/lib/python3.6/site-packages/sklearn/utils/validation.py:578: DataConversionWarning: A column-vector y was passed when a 1d array was expected. Please change the shape of y to (n_samples, ), for example using ravel().\n",
      "  y = column_or_1d(y, warn=True)\n",
      "/home/fernando.favoretti/.local/lib/python3.6/site-packages/sklearn/utils/validation.py:578: DataConversionWarning: A column-vector y was passed when a 1d array was expected. Please change the shape of y to (n_samples, ), for example using ravel().\n",
      "  y = column_or_1d(y, warn=True)\n"
     ]
    },
    {
     "name": "stdout",
     "output_type": "stream",
     "text": [
      "[CV] ............ C=10, gamma=10, kernel=rbf, score=0.5, total= 1.6min\n",
      "[CV] C=0.1, coef0=5, gamma=1, kernel=sigmoid .........................\n"
     ]
    },
    {
     "name": "stderr",
     "output_type": "stream",
     "text": [
      "/home/fernando.favoretti/.local/lib/python3.6/site-packages/sklearn/utils/validation.py:578: DataConversionWarning: A column-vector y was passed when a 1d array was expected. Please change the shape of y to (n_samples, ), for example using ravel().\n",
      "  y = column_or_1d(y, warn=True)\n"
     ]
    },
    {
     "name": "stdout",
     "output_type": "stream",
     "text": [
      "[CV] ............ C=10, gamma=10, kernel=rbf, score=0.5, total= 1.6min\n",
      "[CV] C=0.1, coef0=5, gamma=1, kernel=sigmoid .........................\n",
      "[CV]  C=0.1, coef0=1, gamma=0.1, kernel=sigmoid, score=0.5, total= 1.6min\n"
     ]
    },
    {
     "name": "stderr",
     "output_type": "stream",
     "text": [
      "/home/fernando.favoretti/.local/lib/python3.6/site-packages/sklearn/utils/validation.py:578: DataConversionWarning: A column-vector y was passed when a 1d array was expected. Please change the shape of y to (n_samples, ), for example using ravel().\n",
      "  y = column_or_1d(y, warn=True)\n"
     ]
    },
    {
     "name": "stdout",
     "output_type": "stream",
     "text": [
      "[CV] C=0.1, coef0=5, gamma=1, kernel=sigmoid .........................\n",
      "[CV] ............. C=10, gamma=1, kernel=rbf, score=0.5, total= 1.6min\n",
      "[CV] C=0.1, coef0=5, gamma=10, kernel=sigmoid ........................\n",
      "[CV]  C=0.1, coef0=1, gamma=1, kernel=sigmoid, score=0.5, total= 1.6min\n",
      "[CV] C=0.1, coef0=5, gamma=10, kernel=sigmoid ........................\n"
     ]
    },
    {
     "name": "stderr",
     "output_type": "stream",
     "text": [
      "/home/fernando.favoretti/.local/lib/python3.6/site-packages/sklearn/utils/validation.py:578: DataConversionWarning: A column-vector y was passed when a 1d array was expected. Please change the shape of y to (n_samples, ), for example using ravel().\n",
      "  y = column_or_1d(y, warn=True)\n",
      "/home/fernando.favoretti/.local/lib/python3.6/site-packages/sklearn/utils/validation.py:578: DataConversionWarning: A column-vector y was passed when a 1d array was expected. Please change the shape of y to (n_samples, ), for example using ravel().\n",
      "  y = column_or_1d(y, warn=True)\n"
     ]
    },
    {
     "name": "stdout",
     "output_type": "stream",
     "text": [
      "[CV] ............ C=10, gamma=10, kernel=rbf, score=0.5, total= 1.6min\n",
      "[CV] C=0.1, coef0=5, gamma=10, kernel=sigmoid ........................\n",
      "[CV]  C=0.1, coef0=1, gamma=0.1, kernel=sigmoid, score=0.5, total= 1.6min\n",
      "[CV] C=5, coef0=1, gamma=0.1, kernel=sigmoid .........................\n"
     ]
    },
    {
     "name": "stderr",
     "output_type": "stream",
     "text": [
      "/home/fernando.favoretti/.local/lib/python3.6/site-packages/sklearn/utils/validation.py:578: DataConversionWarning: A column-vector y was passed when a 1d array was expected. Please change the shape of y to (n_samples, ), for example using ravel().\n",
      "  y = column_or_1d(y, warn=True)\n",
      "/home/fernando.favoretti/.local/lib/python3.6/site-packages/sklearn/utils/validation.py:578: DataConversionWarning: A column-vector y was passed when a 1d array was expected. Please change the shape of y to (n_samples, ), for example using ravel().\n",
      "  y = column_or_1d(y, warn=True)\n"
     ]
    },
    {
     "name": "stdout",
     "output_type": "stream",
     "text": [
      "[CV]  C=0.1, coef0=1, gamma=1, kernel=sigmoid, score=0.5, total= 1.6min\n",
      "[CV] C=5, coef0=1, gamma=0.1, kernel=sigmoid .........................\n"
     ]
    },
    {
     "name": "stderr",
     "output_type": "stream",
     "text": [
      "/home/fernando.favoretti/.local/lib/python3.6/site-packages/sklearn/utils/validation.py:578: DataConversionWarning: A column-vector y was passed when a 1d array was expected. Please change the shape of y to (n_samples, ), for example using ravel().\n",
      "  y = column_or_1d(y, warn=True)\n",
      "[Parallel(n_jobs=-1)]: Done  40 tasks      | elapsed:  7.9min\n"
     ]
    },
    {
     "name": "stdout",
     "output_type": "stream",
     "text": [
      "[CV]  C=0.1, coef0=1, gamma=0.1, kernel=sigmoid, score=0.5, total= 1.6min\n",
      "[CV] C=5, coef0=1, gamma=0.1, kernel=sigmoid .........................\n"
     ]
    },
    {
     "name": "stderr",
     "output_type": "stream",
     "text": [
      "/home/fernando.favoretti/.local/lib/python3.6/site-packages/sklearn/utils/validation.py:578: DataConversionWarning: A column-vector y was passed when a 1d array was expected. Please change the shape of y to (n_samples, ), for example using ravel().\n",
      "  y = column_or_1d(y, warn=True)\n",
      "/home/fernando.favoretti/.local/lib/python3.6/site-packages/sklearn/utils/validation.py:578: DataConversionWarning: A column-vector y was passed when a 1d array was expected. Please change the shape of y to (n_samples, ), for example using ravel().\n",
      "  y = column_or_1d(y, warn=True)\n"
     ]
    },
    {
     "name": "stdout",
     "output_type": "stream",
     "text": [
      "[CV]  C=0.1, coef0=1, gamma=10, kernel=sigmoid, score=0.5, total= 1.5min\n",
      "[CV] C=5, coef0=1, gamma=1, kernel=sigmoid ...........................\n",
      "[CV]  C=0.1, coef0=1, gamma=1, kernel=sigmoid, score=0.5, total= 1.5min\n",
      "[CV] C=5, coef0=1, gamma=1, kernel=sigmoid ...........................\n"
     ]
    },
    {
     "name": "stderr",
     "output_type": "stream",
     "text": [
      "/home/fernando.favoretti/.local/lib/python3.6/site-packages/sklearn/utils/validation.py:578: DataConversionWarning: A column-vector y was passed when a 1d array was expected. Please change the shape of y to (n_samples, ), for example using ravel().\n",
      "  y = column_or_1d(y, warn=True)\n",
      "/home/fernando.favoretti/.local/lib/python3.6/site-packages/sklearn/utils/validation.py:578: DataConversionWarning: A column-vector y was passed when a 1d array was expected. Please change the shape of y to (n_samples, ), for example using ravel().\n",
      "  y = column_or_1d(y, warn=True)\n"
     ]
    },
    {
     "name": "stdout",
     "output_type": "stream",
     "text": [
      "[CV]  C=0.1, coef0=5, gamma=0.1, kernel=sigmoid, score=0.5, total= 1.6min\n",
      "[CV] C=5, coef0=1, gamma=1, kernel=sigmoid ...........................\n"
     ]
    },
    {
     "name": "stderr",
     "output_type": "stream",
     "text": [
      "/home/fernando.favoretti/.local/lib/python3.6/site-packages/sklearn/utils/validation.py:578: DataConversionWarning: A column-vector y was passed when a 1d array was expected. Please change the shape of y to (n_samples, ), for example using ravel().\n",
      "  y = column_or_1d(y, warn=True)\n"
     ]
    },
    {
     "name": "stdout",
     "output_type": "stream",
     "text": [
      "[CV]  C=0.1, coef0=1, gamma=10, kernel=sigmoid, score=0.5, total= 1.6min\n",
      "[CV] C=5, coef0=1, gamma=10, kernel=sigmoid ..........................\n",
      "[CV]  C=0.1, coef0=5, gamma=0.1, kernel=sigmoid, score=0.5, total= 1.6min\n",
      "[CV] C=5, coef0=1, gamma=10, kernel=sigmoid ..........................\n"
     ]
    },
    {
     "name": "stderr",
     "output_type": "stream",
     "text": [
      "/home/fernando.favoretti/.local/lib/python3.6/site-packages/sklearn/utils/validation.py:578: DataConversionWarning: A column-vector y was passed when a 1d array was expected. Please change the shape of y to (n_samples, ), for example using ravel().\n",
      "  y = column_or_1d(y, warn=True)\n",
      "/home/fernando.favoretti/.local/lib/python3.6/site-packages/sklearn/utils/validation.py:578: DataConversionWarning: A column-vector y was passed when a 1d array was expected. Please change the shape of y to (n_samples, ), for example using ravel().\n",
      "  y = column_or_1d(y, warn=True)\n"
     ]
    },
    {
     "name": "stdout",
     "output_type": "stream",
     "text": [
      "[CV]  C=0.1, coef0=1, gamma=10, kernel=sigmoid, score=0.5, total= 1.6min\n",
      "[CV] C=5, coef0=1, gamma=10, kernel=sigmoid ..........................\n"
     ]
    },
    {
     "name": "stderr",
     "output_type": "stream",
     "text": [
      "/home/fernando.favoretti/.local/lib/python3.6/site-packages/sklearn/utils/validation.py:578: DataConversionWarning: A column-vector y was passed when a 1d array was expected. Please change the shape of y to (n_samples, ), for example using ravel().\n",
      "  y = column_or_1d(y, warn=True)\n"
     ]
    },
    {
     "name": "stdout",
     "output_type": "stream",
     "text": [
      "[CV]  C=0.1, coef0=5, gamma=0.1, kernel=sigmoid, score=0.5, total= 1.6min\n",
      "[CV] C=5, coef0=5, gamma=0.1, kernel=sigmoid .........................\n"
     ]
    },
    {
     "name": "stderr",
     "output_type": "stream",
     "text": [
      "/home/fernando.favoretti/.local/lib/python3.6/site-packages/sklearn/utils/validation.py:578: DataConversionWarning: A column-vector y was passed when a 1d array was expected. Please change the shape of y to (n_samples, ), for example using ravel().\n",
      "  y = column_or_1d(y, warn=True)\n"
     ]
    },
    {
     "name": "stdout",
     "output_type": "stream",
     "text": [
      "[CV]  C=0.1, coef0=5, gamma=1, kernel=sigmoid, score=0.5, total= 1.6min\n",
      "[CV] C=5, coef0=5, gamma=0.1, kernel=sigmoid .........................\n"
     ]
    },
    {
     "name": "stderr",
     "output_type": "stream",
     "text": [
      "/home/fernando.favoretti/.local/lib/python3.6/site-packages/sklearn/utils/validation.py:578: DataConversionWarning: A column-vector y was passed when a 1d array was expected. Please change the shape of y to (n_samples, ), for example using ravel().\n",
      "  y = column_or_1d(y, warn=True)\n"
     ]
    },
    {
     "name": "stdout",
     "output_type": "stream",
     "text": [
      "[CV]  C=0.1, coef0=5, gamma=1, kernel=sigmoid, score=0.5, total= 1.6min\n",
      "[CV] C=5, coef0=5, gamma=0.1, kernel=sigmoid .........................\n"
     ]
    },
    {
     "name": "stderr",
     "output_type": "stream",
     "text": [
      "/home/fernando.favoretti/.local/lib/python3.6/site-packages/sklearn/utils/validation.py:578: DataConversionWarning: A column-vector y was passed when a 1d array was expected. Please change the shape of y to (n_samples, ), for example using ravel().\n",
      "  y = column_or_1d(y, warn=True)\n"
     ]
    },
    {
     "name": "stdout",
     "output_type": "stream",
     "text": [
      "[CV]  C=0.1, coef0=5, gamma=10, kernel=sigmoid, score=0.5, total= 1.6min\n",
      "[CV] C=5, coef0=5, gamma=1, kernel=sigmoid ...........................\n"
     ]
    },
    {
     "name": "stderr",
     "output_type": "stream",
     "text": [
      "/home/fernando.favoretti/.local/lib/python3.6/site-packages/sklearn/utils/validation.py:578: DataConversionWarning: A column-vector y was passed when a 1d array was expected. Please change the shape of y to (n_samples, ), for example using ravel().\n",
      "  y = column_or_1d(y, warn=True)\n"
     ]
    },
    {
     "name": "stdout",
     "output_type": "stream",
     "text": [
      "[CV]  C=5, coef0=1, gamma=0.1, kernel=sigmoid, score=0.5, total= 1.6min\n",
      "[CV] C=5, coef0=5, gamma=1, kernel=sigmoid ...........................\n",
      "[CV]  C=0.1, coef0=5, gamma=10, kernel=sigmoid, score=0.5, total= 1.6min\n",
      "[CV] C=5, coef0=5, gamma=1, kernel=sigmoid ...........................\n",
      "[CV]  C=5, coef0=1, gamma=0.1, kernel=sigmoid, score=0.5, total= 1.6min\n",
      "[CV] C=5, coef0=5, gamma=10, kernel=sigmoid ..........................\n"
     ]
    },
    {
     "name": "stderr",
     "output_type": "stream",
     "text": [
      "/home/fernando.favoretti/.local/lib/python3.6/site-packages/sklearn/utils/validation.py:578: DataConversionWarning: A column-vector y was passed when a 1d array was expected. Please change the shape of y to (n_samples, ), for example using ravel().\n",
      "  y = column_or_1d(y, warn=True)\n"
     ]
    },
    {
     "name": "stdout",
     "output_type": "stream",
     "text": [
      "[CV]  C=0.1, coef0=5, gamma=1, kernel=sigmoid, score=0.5, total= 1.6min\n",
      "[CV] C=5, coef0=5, gamma=10, kernel=sigmoid ..........................\n",
      "[CV]  C=0.1, coef0=5, gamma=10, kernel=sigmoid, score=0.5, total= 1.6min\n",
      "[CV] C=5, coef0=5, gamma=10, kernel=sigmoid ..........................\n"
     ]
    },
    {
     "name": "stderr",
     "output_type": "stream",
     "text": [
      "/home/fernando.favoretti/.local/lib/python3.6/site-packages/sklearn/utils/validation.py:578: DataConversionWarning: A column-vector y was passed when a 1d array was expected. Please change the shape of y to (n_samples, ), for example using ravel().\n",
      "  y = column_or_1d(y, warn=True)\n"
     ]
    },
    {
     "name": "stdout",
     "output_type": "stream",
     "text": [
      "[CV]  C=5, coef0=1, gamma=0.1, kernel=sigmoid, score=0.5, total= 1.6min\n",
      "[CV] C=10, coef0=1, gamma=0.1, kernel=sigmoid ........................\n"
     ]
    },
    {
     "name": "stderr",
     "output_type": "stream",
     "text": [
      "/home/fernando.favoretti/.local/lib/python3.6/site-packages/sklearn/utils/validation.py:578: DataConversionWarning: A column-vector y was passed when a 1d array was expected. Please change the shape of y to (n_samples, ), for example using ravel().\n",
      "  y = column_or_1d(y, warn=True)\n",
      "/home/fernando.favoretti/.local/lib/python3.6/site-packages/sklearn/utils/validation.py:578: DataConversionWarning: A column-vector y was passed when a 1d array was expected. Please change the shape of y to (n_samples, ), for example using ravel().\n",
      "  y = column_or_1d(y, warn=True)\n",
      "/home/fernando.favoretti/.local/lib/python3.6/site-packages/sklearn/utils/validation.py:578: DataConversionWarning: A column-vector y was passed when a 1d array was expected. Please change the shape of y to (n_samples, ), for example using ravel().\n",
      "  y = column_or_1d(y, warn=True)\n",
      "/home/fernando.favoretti/.local/lib/python3.6/site-packages/sklearn/utils/validation.py:578: DataConversionWarning: A column-vector y was passed when a 1d array was expected. Please change the shape of y to (n_samples, ), for example using ravel().\n",
      "  y = column_or_1d(y, warn=True)\n"
     ]
    },
    {
     "name": "stdout",
     "output_type": "stream",
     "text": [
      "[CV] . C=5, coef0=1, gamma=1, kernel=sigmoid, score=0.5, total= 1.6min\n",
      "[CV] C=10, coef0=1, gamma=0.1, kernel=sigmoid ........................\n"
     ]
    },
    {
     "name": "stderr",
     "output_type": "stream",
     "text": [
      "/home/fernando.favoretti/.local/lib/python3.6/site-packages/sklearn/utils/validation.py:578: DataConversionWarning: A column-vector y was passed when a 1d array was expected. Please change the shape of y to (n_samples, ), for example using ravel().\n",
      "  y = column_or_1d(y, warn=True)\n"
     ]
    },
    {
     "name": "stdout",
     "output_type": "stream",
     "text": [
      "[CV] . C=5, coef0=1, gamma=1, kernel=sigmoid, score=0.5, total= 1.6min\n",
      "[CV] C=10, coef0=1, gamma=0.1, kernel=sigmoid ........................\n"
     ]
    },
    {
     "name": "stderr",
     "output_type": "stream",
     "text": [
      "/home/fernando.favoretti/.local/lib/python3.6/site-packages/sklearn/utils/validation.py:578: DataConversionWarning: A column-vector y was passed when a 1d array was expected. Please change the shape of y to (n_samples, ), for example using ravel().\n",
      "  y = column_or_1d(y, warn=True)\n"
     ]
    },
    {
     "name": "stdout",
     "output_type": "stream",
     "text": [
      "[CV] . C=5, coef0=1, gamma=1, kernel=sigmoid, score=0.5, total= 1.6min\n",
      "[CV] C=10, coef0=1, gamma=1, kernel=sigmoid ..........................\n"
     ]
    },
    {
     "name": "stderr",
     "output_type": "stream",
     "text": [
      "/home/fernando.favoretti/.local/lib/python3.6/site-packages/sklearn/utils/validation.py:578: DataConversionWarning: A column-vector y was passed when a 1d array was expected. Please change the shape of y to (n_samples, ), for example using ravel().\n",
      "  y = column_or_1d(y, warn=True)\n"
     ]
    },
    {
     "name": "stdout",
     "output_type": "stream",
     "text": [
      "[CV]  C=5, coef0=1, gamma=10, kernel=sigmoid, score=0.5, total= 1.6min\n",
      "[CV] C=10, coef0=1, gamma=1, kernel=sigmoid ..........................\n",
      "[CV]  C=5, coef0=1, gamma=10, kernel=sigmoid, score=0.5, total= 1.6min\n",
      "[CV] C=10, coef0=1, gamma=1, kernel=sigmoid ..........................\n"
     ]
    },
    {
     "name": "stderr",
     "output_type": "stream",
     "text": [
      "/home/fernando.favoretti/.local/lib/python3.6/site-packages/sklearn/utils/validation.py:578: DataConversionWarning: A column-vector y was passed when a 1d array was expected. Please change the shape of y to (n_samples, ), for example using ravel().\n",
      "  y = column_or_1d(y, warn=True)\n",
      "/home/fernando.favoretti/.local/lib/python3.6/site-packages/sklearn/utils/validation.py:578: DataConversionWarning: A column-vector y was passed when a 1d array was expected. Please change the shape of y to (n_samples, ), for example using ravel().\n",
      "  y = column_or_1d(y, warn=True)\n"
     ]
    },
    {
     "name": "stdout",
     "output_type": "stream",
     "text": [
      "[CV]  C=5, coef0=5, gamma=0.1, kernel=sigmoid, score=0.5, total= 1.6min\n",
      "[CV] C=10, coef0=1, gamma=10, kernel=sigmoid .........................\n"
     ]
    },
    {
     "name": "stderr",
     "output_type": "stream",
     "text": [
      "/home/fernando.favoretti/.local/lib/python3.6/site-packages/sklearn/utils/validation.py:578: DataConversionWarning: A column-vector y was passed when a 1d array was expected. Please change the shape of y to (n_samples, ), for example using ravel().\n",
      "  y = column_or_1d(y, warn=True)\n"
     ]
    },
    {
     "name": "stdout",
     "output_type": "stream",
     "text": [
      "[CV]  C=5, coef0=1, gamma=10, kernel=sigmoid, score=0.5, total= 1.6min\n",
      "[CV] C=10, coef0=1, gamma=10, kernel=sigmoid .........................\n"
     ]
    },
    {
     "name": "stderr",
     "output_type": "stream",
     "text": [
      "/home/fernando.favoretti/.local/lib/python3.6/site-packages/sklearn/utils/validation.py:578: DataConversionWarning: A column-vector y was passed when a 1d array was expected. Please change the shape of y to (n_samples, ), for example using ravel().\n",
      "  y = column_or_1d(y, warn=True)\n"
     ]
    },
    {
     "name": "stdout",
     "output_type": "stream",
     "text": [
      "[CV] . C=5, coef0=5, gamma=1, kernel=sigmoid, score=0.5, total= 1.6min\n",
      "[CV] C=10, coef0=1, gamma=10, kernel=sigmoid .........................\n",
      "[CV]  C=5, coef0=5, gamma=0.1, kernel=sigmoid, score=0.5, total= 1.6min\n",
      "[CV] C=10, coef0=5, gamma=0.1, kernel=sigmoid ........................\n",
      "[CV]  C=5, coef0=5, gamma=0.1, kernel=sigmoid, score=0.5, total= 1.6min\n",
      "[CV] C=10, coef0=5, gamma=0.1, kernel=sigmoid ........................\n"
     ]
    },
    {
     "name": "stderr",
     "output_type": "stream",
     "text": [
      "/home/fernando.favoretti/.local/lib/python3.6/site-packages/sklearn/utils/validation.py:578: DataConversionWarning: A column-vector y was passed when a 1d array was expected. Please change the shape of y to (n_samples, ), for example using ravel().\n",
      "  y = column_or_1d(y, warn=True)\n",
      "/home/fernando.favoretti/.local/lib/python3.6/site-packages/sklearn/utils/validation.py:578: DataConversionWarning: A column-vector y was passed when a 1d array was expected. Please change the shape of y to (n_samples, ), for example using ravel().\n",
      "  y = column_or_1d(y, warn=True)\n",
      "/home/fernando.favoretti/.local/lib/python3.6/site-packages/sklearn/utils/validation.py:578: DataConversionWarning: A column-vector y was passed when a 1d array was expected. Please change the shape of y to (n_samples, ), for example using ravel().\n",
      "  y = column_or_1d(y, warn=True)\n"
     ]
    },
    {
     "name": "stdout",
     "output_type": "stream",
     "text": [
      "[CV] . C=5, coef0=5, gamma=1, kernel=sigmoid, score=0.5, total= 1.6min\n",
      "[CV] C=10, coef0=5, gamma=0.1, kernel=sigmoid ........................\n"
     ]
    },
    {
     "name": "stderr",
     "output_type": "stream",
     "text": [
      "/home/fernando.favoretti/.local/lib/python3.6/site-packages/sklearn/utils/validation.py:578: DataConversionWarning: A column-vector y was passed when a 1d array was expected. Please change the shape of y to (n_samples, ), for example using ravel().\n",
      "  y = column_or_1d(y, warn=True)\n"
     ]
    },
    {
     "name": "stdout",
     "output_type": "stream",
     "text": [
      "[CV] . C=5, coef0=5, gamma=1, kernel=sigmoid, score=0.5, total= 1.6min\n",
      "[CV] C=10, coef0=5, gamma=1, kernel=sigmoid ..........................\n",
      "[CV]  C=5, coef0=5, gamma=10, kernel=sigmoid, score=0.5, total= 1.6min\n",
      "[CV] C=10, coef0=5, gamma=1, kernel=sigmoid ..........................\n"
     ]
    },
    {
     "name": "stderr",
     "output_type": "stream",
     "text": [
      "/home/fernando.favoretti/.local/lib/python3.6/site-packages/sklearn/utils/validation.py:578: DataConversionWarning: A column-vector y was passed when a 1d array was expected. Please change the shape of y to (n_samples, ), for example using ravel().\n",
      "  y = column_or_1d(y, warn=True)\n"
     ]
    },
    {
     "name": "stdout",
     "output_type": "stream",
     "text": [
      "[CV]  C=5, coef0=5, gamma=10, kernel=sigmoid, score=0.5, total= 1.6min\n",
      "[CV] C=10, coef0=5, gamma=1, kernel=sigmoid ..........................\n"
     ]
    },
    {
     "name": "stderr",
     "output_type": "stream",
     "text": [
      "/home/fernando.favoretti/.local/lib/python3.6/site-packages/sklearn/utils/validation.py:578: DataConversionWarning: A column-vector y was passed when a 1d array was expected. Please change the shape of y to (n_samples, ), for example using ravel().\n",
      "  y = column_or_1d(y, warn=True)\n"
     ]
    },
    {
     "name": "stdout",
     "output_type": "stream",
     "text": [
      "[CV]  C=10, coef0=1, gamma=0.1, kernel=sigmoid, score=0.5, total= 1.6min\n"
     ]
    },
    {
     "name": "stderr",
     "output_type": "stream",
     "text": [
      "/home/fernando.favoretti/.local/lib/python3.6/site-packages/sklearn/utils/validation.py:578: DataConversionWarning: A column-vector y was passed when a 1d array was expected. Please change the shape of y to (n_samples, ), for example using ravel().\n",
      "  y = column_or_1d(y, warn=True)\n"
     ]
    },
    {
     "name": "stdout",
     "output_type": "stream",
     "text": [
      "[CV] C=10, coef0=5, gamma=10, kernel=sigmoid .........................\n"
     ]
    },
    {
     "name": "stderr",
     "output_type": "stream",
     "text": [
      "/home/fernando.favoretti/.local/lib/python3.6/site-packages/sklearn/utils/validation.py:578: DataConversionWarning: A column-vector y was passed when a 1d array was expected. Please change the shape of y to (n_samples, ), for example using ravel().\n",
      "  y = column_or_1d(y, warn=True)\n"
     ]
    },
    {
     "name": "stdout",
     "output_type": "stream",
     "text": [
      "[CV]  C=5, coef0=5, gamma=10, kernel=sigmoid, score=0.5, total= 1.6min\n",
      "[CV] C=10, coef0=5, gamma=10, kernel=sigmoid .........................\n"
     ]
    },
    {
     "name": "stderr",
     "output_type": "stream",
     "text": [
      "/home/fernando.favoretti/.local/lib/python3.6/site-packages/sklearn/utils/validation.py:578: DataConversionWarning: A column-vector y was passed when a 1d array was expected. Please change the shape of y to (n_samples, ), for example using ravel().\n",
      "  y = column_or_1d(y, warn=True)\n"
     ]
    },
    {
     "name": "stdout",
     "output_type": "stream",
     "text": [
      "[CV]  C=10, coef0=1, gamma=0.1, kernel=sigmoid, score=0.5, total= 1.6min\n",
      "[CV] C=10, coef0=5, gamma=10, kernel=sigmoid .........................\n"
     ]
    },
    {
     "name": "stderr",
     "output_type": "stream",
     "text": [
      "/home/fernando.favoretti/.local/lib/python3.6/site-packages/sklearn/utils/validation.py:578: DataConversionWarning: A column-vector y was passed when a 1d array was expected. Please change the shape of y to (n_samples, ), for example using ravel().\n",
      "  y = column_or_1d(y, warn=True)\n"
     ]
    },
    {
     "name": "stdout",
     "output_type": "stream",
     "text": [
      "[CV]  C=10, coef0=1, gamma=0.1, kernel=sigmoid, score=0.5, total= 1.6min\n",
      "[CV] C=0.1, coef0=1, degree=1, gamma=0.1, kernel=poly ................\n"
     ]
    },
    {
     "name": "stderr",
     "output_type": "stream",
     "text": [
      "/home/fernando.favoretti/.local/lib/python3.6/site-packages/sklearn/utils/validation.py:578: DataConversionWarning: A column-vector y was passed when a 1d array was expected. Please change the shape of y to (n_samples, ), for example using ravel().\n",
      "  y = column_or_1d(y, warn=True)\n"
     ]
    },
    {
     "name": "stdout",
     "output_type": "stream",
     "text": [
      "[CV]  C=10, coef0=1, gamma=1, kernel=sigmoid, score=0.5, total= 1.6min\n",
      "[CV] C=0.1, coef0=1, degree=1, gamma=0.1, kernel=poly ................\n",
      "[CV]  C=10, coef0=1, gamma=1, kernel=sigmoid, score=0.5, total= 1.6min\n",
      "[CV] C=0.1, coef0=1, degree=1, gamma=0.1, kernel=poly ................\n"
     ]
    },
    {
     "name": "stderr",
     "output_type": "stream",
     "text": [
      "/home/fernando.favoretti/.local/lib/python3.6/site-packages/sklearn/utils/validation.py:578: DataConversionWarning: A column-vector y was passed when a 1d array was expected. Please change the shape of y to (n_samples, ), for example using ravel().\n",
      "  y = column_or_1d(y, warn=True)\n"
     ]
    },
    {
     "name": "stdout",
     "output_type": "stream",
     "text": [
      "[CV]  C=10, coef0=1, gamma=1, kernel=sigmoid, score=0.5, total= 1.6min\n",
      "[CV] C=0.1, coef0=1, degree=1, gamma=1, kernel=poly ..................\n"
     ]
    },
    {
     "name": "stderr",
     "output_type": "stream",
     "text": [
      "/home/fernando.favoretti/.local/lib/python3.6/site-packages/sklearn/utils/validation.py:578: DataConversionWarning: A column-vector y was passed when a 1d array was expected. Please change the shape of y to (n_samples, ), for example using ravel().\n",
      "  y = column_or_1d(y, warn=True)\n",
      "/home/fernando.favoretti/.local/lib/python3.6/site-packages/sklearn/utils/validation.py:578: DataConversionWarning: A column-vector y was passed when a 1d array was expected. Please change the shape of y to (n_samples, ), for example using ravel().\n",
      "  y = column_or_1d(y, warn=True)\n"
     ]
    },
    {
     "name": "stdout",
     "output_type": "stream",
     "text": [
      "[CV]  C=10, coef0=1, gamma=10, kernel=sigmoid, score=0.5, total= 1.6min\n",
      "[CV] C=0.1, coef0=1, degree=1, gamma=1, kernel=poly ..................\n"
     ]
    },
    {
     "name": "stderr",
     "output_type": "stream",
     "text": [
      "/home/fernando.favoretti/.local/lib/python3.6/site-packages/sklearn/utils/validation.py:578: DataConversionWarning: A column-vector y was passed when a 1d array was expected. Please change the shape of y to (n_samples, ), for example using ravel().\n",
      "  y = column_or_1d(y, warn=True)\n"
     ]
    },
    {
     "name": "stdout",
     "output_type": "stream",
     "text": [
      "[CV]  C=10, coef0=1, gamma=10, kernel=sigmoid, score=0.5, total= 1.6min\n",
      "[CV] C=0.1, coef0=1, degree=1, gamma=1, kernel=poly ..................\n"
     ]
    },
    {
     "name": "stderr",
     "output_type": "stream",
     "text": [
      "/home/fernando.favoretti/.local/lib/python3.6/site-packages/sklearn/utils/validation.py:578: DataConversionWarning: A column-vector y was passed when a 1d array was expected. Please change the shape of y to (n_samples, ), for example using ravel().\n",
      "  y = column_or_1d(y, warn=True)\n"
     ]
    },
    {
     "name": "stdout",
     "output_type": "stream",
     "text": [
      "[CV]  C=0.1, coef0=1, degree=1, gamma=0.1, kernel=poly, score=0.5, total= 1.5min\n",
      "[CV] C=0.1, coef0=1, degree=1, gamma=10, kernel=poly .................\n",
      "[CV]  C=10, coef0=5, gamma=0.1, kernel=sigmoid, score=0.5, total= 1.6min\n",
      "[CV] C=0.1, coef0=1, degree=1, gamma=10, kernel=poly .................\n"
     ]
    },
    {
     "name": "stderr",
     "output_type": "stream",
     "text": [
      "/home/fernando.favoretti/.local/lib/python3.6/site-packages/sklearn/utils/validation.py:578: DataConversionWarning: A column-vector y was passed when a 1d array was expected. Please change the shape of y to (n_samples, ), for example using ravel().\n",
      "  y = column_or_1d(y, warn=True)\n"
     ]
    },
    {
     "name": "stdout",
     "output_type": "stream",
     "text": [
      "[CV]  C=10, coef0=5, gamma=0.1, kernel=sigmoid, score=0.5, total= 1.6min\n",
      "[CV] C=0.1, coef0=1, degree=1, gamma=10, kernel=poly .................\n"
     ]
    },
    {
     "name": "stderr",
     "output_type": "stream",
     "text": [
      "/home/fernando.favoretti/.local/lib/python3.6/site-packages/sklearn/utils/validation.py:578: DataConversionWarning: A column-vector y was passed when a 1d array was expected. Please change the shape of y to (n_samples, ), for example using ravel().\n",
      "  y = column_or_1d(y, warn=True)\n",
      "/home/fernando.favoretti/.local/lib/python3.6/site-packages/sklearn/utils/validation.py:578: DataConversionWarning: A column-vector y was passed when a 1d array was expected. Please change the shape of y to (n_samples, ), for example using ravel().\n",
      "  y = column_or_1d(y, warn=True)\n"
     ]
    },
    {
     "name": "stdout",
     "output_type": "stream",
     "text": [
      "[CV]  C=10, coef0=1, gamma=10, kernel=sigmoid, score=0.5, total= 1.6min\n",
      "[CV] C=0.1, coef0=1, degree=2, gamma=0.1, kernel=poly ................\n"
     ]
    },
    {
     "name": "stderr",
     "output_type": "stream",
     "text": [
      "/home/fernando.favoretti/.local/lib/python3.6/site-packages/sklearn/utils/validation.py:578: DataConversionWarning: A column-vector y was passed when a 1d array was expected. Please change the shape of y to (n_samples, ), for example using ravel().\n",
      "  y = column_or_1d(y, warn=True)\n"
     ]
    },
    {
     "name": "stdout",
     "output_type": "stream",
     "text": [
      "[CV]  C=10, coef0=5, gamma=0.1, kernel=sigmoid, score=0.5, total= 1.6min\n",
      "[CV] C=0.1, coef0=1, degree=2, gamma=0.1, kernel=poly ................\n",
      "[CV]  C=0.1, coef0=1, degree=1, gamma=0.1, kernel=poly, score=0.4594594594594595, total= 1.5min\n",
      "[CV] C=0.1, coef0=1, degree=2, gamma=0.1, kernel=poly ................\n"
     ]
    },
    {
     "name": "stderr",
     "output_type": "stream",
     "text": [
      "/home/fernando.favoretti/.local/lib/python3.6/site-packages/sklearn/utils/validation.py:578: DataConversionWarning: A column-vector y was passed when a 1d array was expected. Please change the shape of y to (n_samples, ), for example using ravel().\n",
      "  y = column_or_1d(y, warn=True)\n"
     ]
    },
    {
     "name": "stdout",
     "output_type": "stream",
     "text": [
      "[CV]  C=10, coef0=5, gamma=10, kernel=sigmoid, score=0.5, total= 1.6min\n",
      "[CV] C=0.1, coef0=1, degree=2, gamma=1, kernel=poly ..................\n"
     ]
    },
    {
     "name": "stderr",
     "output_type": "stream",
     "text": [
      "/home/fernando.favoretti/.local/lib/python3.6/site-packages/sklearn/utils/validation.py:578: DataConversionWarning: A column-vector y was passed when a 1d array was expected. Please change the shape of y to (n_samples, ), for example using ravel().\n",
      "  y = column_or_1d(y, warn=True)\n"
     ]
    },
    {
     "name": "stdout",
     "output_type": "stream",
     "text": [
      "[CV]  C=10, coef0=5, gamma=1, kernel=sigmoid, score=0.5, total= 1.6min\n",
      "[CV] C=0.1, coef0=1, degree=2, gamma=1, kernel=poly ..................\n"
     ]
    },
    {
     "name": "stderr",
     "output_type": "stream",
     "text": [
      "/home/fernando.favoretti/.local/lib/python3.6/site-packages/sklearn/utils/validation.py:578: DataConversionWarning: A column-vector y was passed when a 1d array was expected. Please change the shape of y to (n_samples, ), for example using ravel().\n",
      "  y = column_or_1d(y, warn=True)\n",
      "/home/fernando.favoretti/.local/lib/python3.6/site-packages/sklearn/utils/validation.py:578: DataConversionWarning: A column-vector y was passed when a 1d array was expected. Please change the shape of y to (n_samples, ), for example using ravel().\n",
      "  y = column_or_1d(y, warn=True)\n"
     ]
    },
    {
     "name": "stdout",
     "output_type": "stream",
     "text": [
      "[CV]  C=10, coef0=5, gamma=1, kernel=sigmoid, score=0.5, total= 1.6min\n",
      "[CV] C=0.1, coef0=1, degree=2, gamma=1, kernel=poly ..................\n"
     ]
    },
    {
     "name": "stderr",
     "output_type": "stream",
     "text": [
      "/home/fernando.favoretti/.local/lib/python3.6/site-packages/sklearn/utils/validation.py:578: DataConversionWarning: A column-vector y was passed when a 1d array was expected. Please change the shape of y to (n_samples, ), for example using ravel().\n",
      "  y = column_or_1d(y, warn=True)\n"
     ]
    },
    {
     "name": "stdout",
     "output_type": "stream",
     "text": [
      "[CV]  C=0.1, coef0=1, degree=1, gamma=1, kernel=poly, score=0.5, total= 1.5min\n",
      "[CV]  C=10, coef0=5, gamma=1, kernel=sigmoid, score=0.5, total= 1.6min\n",
      "[CV] C=0.1, coef0=1, degree=2, gamma=10, kernel=poly .................\n",
      "[CV] C=0.1, coef0=1, degree=2, gamma=10, kernel=poly .................\n"
     ]
    },
    {
     "name": "stderr",
     "output_type": "stream",
     "text": [
      "/home/fernando.favoretti/.local/lib/python3.6/site-packages/sklearn/utils/validation.py:578: DataConversionWarning: A column-vector y was passed when a 1d array was expected. Please change the shape of y to (n_samples, ), for example using ravel().\n",
      "  y = column_or_1d(y, warn=True)\n",
      "/home/fernando.favoretti/.local/lib/python3.6/site-packages/sklearn/utils/validation.py:578: DataConversionWarning: A column-vector y was passed when a 1d array was expected. Please change the shape of y to (n_samples, ), for example using ravel().\n",
      "  y = column_or_1d(y, warn=True)\n"
     ]
    },
    {
     "name": "stdout",
     "output_type": "stream",
     "text": [
      "[CV]  C=10, coef0=5, gamma=10, kernel=sigmoid, score=0.5, total= 1.6min\n",
      "[CV] C=0.1, coef0=1, degree=2, gamma=10, kernel=poly .................\n",
      "[CV]  C=0.1, coef0=1, degree=1, gamma=0.1, kernel=poly, score=0.5491071428571429, total= 1.6min\n",
      "[CV] C=0.1, coef0=1, degree=3, gamma=0.1, kernel=poly ................\n"
     ]
    },
    {
     "name": "stderr",
     "output_type": "stream",
     "text": [
      "/home/fernando.favoretti/.local/lib/python3.6/site-packages/sklearn/utils/validation.py:578: DataConversionWarning: A column-vector y was passed when a 1d array was expected. Please change the shape of y to (n_samples, ), for example using ravel().\n",
      "  y = column_or_1d(y, warn=True)\n",
      "/home/fernando.favoretti/.local/lib/python3.6/site-packages/sklearn/utils/validation.py:578: DataConversionWarning: A column-vector y was passed when a 1d array was expected. Please change the shape of y to (n_samples, ), for example using ravel().\n",
      "  y = column_or_1d(y, warn=True)\n"
     ]
    },
    {
     "name": "stdout",
     "output_type": "stream",
     "text": [
      "[CV]  C=0.1, coef0=1, degree=1, gamma=1, kernel=poly, score=0.4594594594594595, total= 1.5min\n",
      "[CV] C=0.1, coef0=1, degree=3, gamma=0.1, kernel=poly ................\n",
      "[CV]  C=0.1, coef0=1, degree=1, gamma=1, kernel=poly, score=0.5491071428571429, total= 1.5min\n",
      "[CV] C=0.1, coef0=1, degree=3, gamma=0.1, kernel=poly ................\n",
      "[CV]  C=10, coef0=5, gamma=10, kernel=sigmoid, score=0.5, total= 1.6min\n"
     ]
    },
    {
     "name": "stderr",
     "output_type": "stream",
     "text": [
      "/home/fernando.favoretti/.local/lib/python3.6/site-packages/sklearn/utils/validation.py:578: DataConversionWarning: A column-vector y was passed when a 1d array was expected. Please change the shape of y to (n_samples, ), for example using ravel().\n",
      "  y = column_or_1d(y, warn=True)\n"
     ]
    },
    {
     "name": "stdout",
     "output_type": "stream",
     "text": [
      "[CV] C=0.1, coef0=1, degree=3, gamma=1, kernel=poly ..................\n"
     ]
    },
    {
     "name": "stderr",
     "output_type": "stream",
     "text": [
      "/home/fernando.favoretti/.local/lib/python3.6/site-packages/sklearn/utils/validation.py:578: DataConversionWarning: A column-vector y was passed when a 1d array was expected. Please change the shape of y to (n_samples, ), for example using ravel().\n",
      "  y = column_or_1d(y, warn=True)\n",
      "/home/fernando.favoretti/.local/lib/python3.6/site-packages/sklearn/utils/validation.py:578: DataConversionWarning: A column-vector y was passed when a 1d array was expected. Please change the shape of y to (n_samples, ), for example using ravel().\n",
      "  y = column_or_1d(y, warn=True)\n"
     ]
    },
    {
     "name": "stdout",
     "output_type": "stream",
     "text": [
      "[CV]  C=0.1, coef0=1, degree=1, gamma=10, kernel=poly, score=0.5, total= 1.5min\n",
      "[CV] C=0.1, coef0=1, degree=3, gamma=1, kernel=poly ..................\n"
     ]
    },
    {
     "name": "stderr",
     "output_type": "stream",
     "text": [
      "/home/fernando.favoretti/.local/lib/python3.6/site-packages/sklearn/utils/validation.py:578: DataConversionWarning: A column-vector y was passed when a 1d array was expected. Please change the shape of y to (n_samples, ), for example using ravel().\n",
      "  y = column_or_1d(y, warn=True)\n"
     ]
    },
    {
     "name": "stdout",
     "output_type": "stream",
     "text": [
      "[CV]  C=0.1, coef0=1, degree=1, gamma=10, kernel=poly, score=0.4594594594594595, total= 1.5min\n",
      "[CV] C=0.1, coef0=1, degree=3, gamma=1, kernel=poly ..................\n",
      "[CV]  C=0.1, coef0=1, degree=1, gamma=10, kernel=poly, score=0.5491071428571429, total= 1.5min\n",
      "[CV] C=0.1, coef0=1, degree=3, gamma=10, kernel=poly .................\n"
     ]
    },
    {
     "name": "stderr",
     "output_type": "stream",
     "text": [
      "/home/fernando.favoretti/.local/lib/python3.6/site-packages/sklearn/utils/validation.py:578: DataConversionWarning: A column-vector y was passed when a 1d array was expected. Please change the shape of y to (n_samples, ), for example using ravel().\n",
      "  y = column_or_1d(y, warn=True)\n",
      "/home/fernando.favoretti/.local/lib/python3.6/site-packages/sklearn/utils/validation.py:578: DataConversionWarning: A column-vector y was passed when a 1d array was expected. Please change the shape of y to (n_samples, ), for example using ravel().\n",
      "  y = column_or_1d(y, warn=True)\n"
     ]
    },
    {
     "name": "stdout",
     "output_type": "stream",
     "text": [
      "[CV]  C=0.1, coef0=1, degree=2, gamma=0.1, kernel=poly, score=0.5714285714285714, total= 1.5min\n",
      "[CV] C=0.1, coef0=1, degree=3, gamma=10, kernel=poly .................\n",
      "[CV]  C=0.1, coef0=1, degree=2, gamma=1, kernel=poly, score=0.5044642857142857, total= 1.5min\n",
      "[CV] C=0.1, coef0=1, degree=3, gamma=10, kernel=poly .................\n",
      "[CV]  C=0.1, coef0=1, degree=2, gamma=0.1, kernel=poly, score=0.5044642857142857, total= 1.6min\n",
      "[CV] C=0.1, coef0=5, degree=1, gamma=0.1, kernel=poly ................\n"
     ]
    },
    {
     "name": "stderr",
     "output_type": "stream",
     "text": [
      "/home/fernando.favoretti/.local/lib/python3.6/site-packages/sklearn/utils/validation.py:578: DataConversionWarning: A column-vector y was passed when a 1d array was expected. Please change the shape of y to (n_samples, ), for example using ravel().\n",
      "  y = column_or_1d(y, warn=True)\n",
      "/home/fernando.favoretti/.local/lib/python3.6/site-packages/sklearn/utils/validation.py:578: DataConversionWarning: A column-vector y was passed when a 1d array was expected. Please change the shape of y to (n_samples, ), for example using ravel().\n",
      "  y = column_or_1d(y, warn=True)\n",
      "/home/fernando.favoretti/.local/lib/python3.6/site-packages/sklearn/utils/validation.py:578: DataConversionWarning: A column-vector y was passed when a 1d array was expected. Please change the shape of y to (n_samples, ), for example using ravel().\n",
      "  y = column_or_1d(y, warn=True)\n"
     ]
    },
    {
     "name": "stdout",
     "output_type": "stream",
     "text": [
      "[CV]  C=0.1, coef0=1, degree=3, gamma=0.1, kernel=poly, score=0.5669642857142857, total= 1.5min\n",
      "[CV] C=0.1, coef0=5, degree=1, gamma=0.1, kernel=poly ................\n",
      "[CV]  C=0.1, coef0=1, degree=3, gamma=0.1, kernel=poly, score=0.5089285714285714, total= 1.5min\n",
      "[CV] C=0.1, coef0=5, degree=1, gamma=0.1, kernel=poly ................\n"
     ]
    },
    {
     "name": "stderr",
     "output_type": "stream",
     "text": [
      "/home/fernando.favoretti/.local/lib/python3.6/site-packages/sklearn/utils/validation.py:578: DataConversionWarning: A column-vector y was passed when a 1d array was expected. Please change the shape of y to (n_samples, ), for example using ravel().\n",
      "  y = column_or_1d(y, warn=True)\n",
      "/home/fernando.favoretti/.local/lib/python3.6/site-packages/sklearn/utils/validation.py:578: DataConversionWarning: A column-vector y was passed when a 1d array was expected. Please change the shape of y to (n_samples, ), for example using ravel().\n",
      "  y = column_or_1d(y, warn=True)\n"
     ]
    },
    {
     "name": "stdout",
     "output_type": "stream",
     "text": [
      "[CV]  C=0.1, coef0=1, degree=2, gamma=0.1, kernel=poly, score=0.509009009009009, total= 1.5min\n",
      "[CV] C=0.1, coef0=5, degree=1, gamma=1, kernel=poly ..................\n"
     ]
    },
    {
     "name": "stderr",
     "output_type": "stream",
     "text": [
      "/home/fernando.favoretti/.local/lib/python3.6/site-packages/sklearn/utils/validation.py:578: DataConversionWarning: A column-vector y was passed when a 1d array was expected. Please change the shape of y to (n_samples, ), for example using ravel().\n",
      "  y = column_or_1d(y, warn=True)\n"
     ]
    },
    {
     "name": "stdout",
     "output_type": "stream",
     "text": [
      "[CV]  C=0.1, coef0=1, degree=2, gamma=10, kernel=poly, score=0.5714285714285714, total= 1.5min\n",
      "[CV] C=0.1, coef0=5, degree=1, gamma=1, kernel=poly ..................\n",
      "[CV]  C=0.1, coef0=1, degree=2, gamma=1, kernel=poly, score=0.509009009009009, total= 1.5min\n",
      "[CV] C=0.1, coef0=5, degree=1, gamma=1, kernel=poly ..................\n",
      "[CV]  C=0.1, coef0=1, degree=2, gamma=1, kernel=poly, score=0.5714285714285714, total= 1.5min\n",
      "[CV] C=0.1, coef0=5, degree=1, gamma=10, kernel=poly .................\n"
     ]
    },
    {
     "name": "stderr",
     "output_type": "stream",
     "text": [
      "/home/fernando.favoretti/.local/lib/python3.6/site-packages/sklearn/utils/validation.py:578: DataConversionWarning: A column-vector y was passed when a 1d array was expected. Please change the shape of y to (n_samples, ), for example using ravel().\n",
      "  y = column_or_1d(y, warn=True)\n",
      "/home/fernando.favoretti/.local/lib/python3.6/site-packages/sklearn/utils/validation.py:578: DataConversionWarning: A column-vector y was passed when a 1d array was expected. Please change the shape of y to (n_samples, ), for example using ravel().\n",
      "  y = column_or_1d(y, warn=True)\n"
     ]
    },
    {
     "name": "stdout",
     "output_type": "stream",
     "text": [
      "[CV]  C=0.1, coef0=1, degree=2, gamma=10, kernel=poly, score=0.509009009009009, total= 1.5min\n",
      "[CV] C=0.1, coef0=5, degree=1, gamma=10, kernel=poly .................\n"
     ]
    },
    {
     "name": "stderr",
     "output_type": "stream",
     "text": [
      "/home/fernando.favoretti/.local/lib/python3.6/site-packages/sklearn/utils/validation.py:578: DataConversionWarning: A column-vector y was passed when a 1d array was expected. Please change the shape of y to (n_samples, ), for example using ravel().\n",
      "  y = column_or_1d(y, warn=True)\n"
     ]
    },
    {
     "name": "stdout",
     "output_type": "stream",
     "text": [
      "[CV]  C=0.1, coef0=1, degree=2, gamma=10, kernel=poly, score=0.5044642857142857, total= 1.5min\n"
     ]
    },
    {
     "name": "stderr",
     "output_type": "stream",
     "text": [
      "/home/fernando.favoretti/.local/lib/python3.6/site-packages/sklearn/utils/validation.py:578: DataConversionWarning: A column-vector y was passed when a 1d array was expected. Please change the shape of y to (n_samples, ), for example using ravel().\n",
      "  y = column_or_1d(y, warn=True)\n"
     ]
    },
    {
     "name": "stdout",
     "output_type": "stream",
     "text": [
      "[CV] C=0.1, coef0=5, degree=1, gamma=10, kernel=poly .................\n"
     ]
    },
    {
     "name": "stderr",
     "output_type": "stream",
     "text": [
      "/home/fernando.favoretti/.local/lib/python3.6/site-packages/sklearn/utils/validation.py:578: DataConversionWarning: A column-vector y was passed when a 1d array was expected. Please change the shape of y to (n_samples, ), for example using ravel().\n",
      "  y = column_or_1d(y, warn=True)\n"
     ]
    },
    {
     "name": "stdout",
     "output_type": "stream",
     "text": [
      "[CV]  C=0.1, coef0=1, degree=3, gamma=1, kernel=poly, score=0.5089285714285714, total= 1.5min\n",
      "[CV] C=0.1, coef0=5, degree=2, gamma=0.1, kernel=poly ................\n"
     ]
    },
    {
     "name": "stderr",
     "output_type": "stream",
     "text": [
      "/home/fernando.favoretti/.local/lib/python3.6/site-packages/sklearn/utils/validation.py:578: DataConversionWarning: A column-vector y was passed when a 1d array was expected. Please change the shape of y to (n_samples, ), for example using ravel().\n",
      "  y = column_or_1d(y, warn=True)\n"
     ]
    },
    {
     "name": "stdout",
     "output_type": "stream",
     "text": [
      "[CV]  C=0.1, coef0=1, degree=3, gamma=0.1, kernel=poly, score=0.536036036036036, total= 1.5min\n",
      "[CV] C=0.1, coef0=5, degree=2, gamma=0.1, kernel=poly ................\n"
     ]
    },
    {
     "name": "stderr",
     "output_type": "stream",
     "text": [
      "/home/fernando.favoretti/.local/lib/python3.6/site-packages/sklearn/utils/validation.py:578: DataConversionWarning: A column-vector y was passed when a 1d array was expected. Please change the shape of y to (n_samples, ), for example using ravel().\n",
      "  y = column_or_1d(y, warn=True)\n"
     ]
    },
    {
     "name": "stdout",
     "output_type": "stream",
     "text": [
      "[CV]  C=0.1, coef0=1, degree=3, gamma=1, kernel=poly, score=0.5669642857142857, total= 1.5min\n",
      "[CV] C=0.1, coef0=5, degree=2, gamma=0.1, kernel=poly ................\n"
     ]
    },
    {
     "name": "stderr",
     "output_type": "stream",
     "text": [
      "/home/fernando.favoretti/.local/lib/python3.6/site-packages/sklearn/utils/validation.py:578: DataConversionWarning: A column-vector y was passed when a 1d array was expected. Please change the shape of y to (n_samples, ), for example using ravel().\n",
      "  y = column_or_1d(y, warn=True)\n"
     ]
    },
    {
     "name": "stdout",
     "output_type": "stream",
     "text": [
      "[CV]  C=0.1, coef0=1, degree=3, gamma=10, kernel=poly, score=0.5089285714285714, total= 1.5min\n",
      "[CV] C=0.1, coef0=5, degree=2, gamma=1, kernel=poly ..................\n"
     ]
    },
    {
     "name": "stderr",
     "output_type": "stream",
     "text": [
      "/home/fernando.favoretti/.local/lib/python3.6/site-packages/sklearn/utils/validation.py:578: DataConversionWarning: A column-vector y was passed when a 1d array was expected. Please change the shape of y to (n_samples, ), for example using ravel().\n",
      "  y = column_or_1d(y, warn=True)\n"
     ]
    },
    {
     "name": "stdout",
     "output_type": "stream",
     "text": [
      "[CV]  C=0.1, coef0=1, degree=3, gamma=10, kernel=poly, score=0.5669642857142857, total= 1.5min\n",
      "[CV] C=0.1, coef0=5, degree=2, gamma=1, kernel=poly ..................\n"
     ]
    },
    {
     "name": "stderr",
     "output_type": "stream",
     "text": [
      "/home/fernando.favoretti/.local/lib/python3.6/site-packages/sklearn/utils/validation.py:578: DataConversionWarning: A column-vector y was passed when a 1d array was expected. Please change the shape of y to (n_samples, ), for example using ravel().\n",
      "  y = column_or_1d(y, warn=True)\n"
     ]
    },
    {
     "name": "stdout",
     "output_type": "stream",
     "text": [
      "[CV]  C=0.1, coef0=1, degree=3, gamma=10, kernel=poly, score=0.536036036036036, total= 1.5min\n",
      "[CV] C=0.1, coef0=5, degree=2, gamma=1, kernel=poly ..................\n"
     ]
    },
    {
     "name": "stderr",
     "output_type": "stream",
     "text": [
      "/home/fernando.favoretti/.local/lib/python3.6/site-packages/sklearn/utils/validation.py:578: DataConversionWarning: A column-vector y was passed when a 1d array was expected. Please change the shape of y to (n_samples, ), for example using ravel().\n",
      "  y = column_or_1d(y, warn=True)\n"
     ]
    },
    {
     "name": "stdout",
     "output_type": "stream",
     "text": [
      "[CV]  C=0.1, coef0=5, degree=1, gamma=0.1, kernel=poly, score=0.5491071428571429, total= 1.5min\n",
      "[CV] C=0.1, coef0=5, degree=2, gamma=10, kernel=poly .................\n",
      "[CV]  C=0.1, coef0=5, degree=1, gamma=0.1, kernel=poly, score=0.5, total= 1.5min\n",
      "[CV] C=0.1, coef0=5, degree=2, gamma=10, kernel=poly .................\n",
      "[CV]  C=0.1, coef0=1, degree=3, gamma=1, kernel=poly, score=0.536036036036036, total= 1.6min\n",
      "[CV] C=0.1, coef0=5, degree=2, gamma=10, kernel=poly .................\n"
     ]
    },
    {
     "name": "stderr",
     "output_type": "stream",
     "text": [
      "/home/fernando.favoretti/.local/lib/python3.6/site-packages/sklearn/utils/validation.py:578: DataConversionWarning: A column-vector y was passed when a 1d array was expected. Please change the shape of y to (n_samples, ), for example using ravel().\n",
      "  y = column_or_1d(y, warn=True)\n",
      "/home/fernando.favoretti/.local/lib/python3.6/site-packages/sklearn/utils/validation.py:578: DataConversionWarning: A column-vector y was passed when a 1d array was expected. Please change the shape of y to (n_samples, ), for example using ravel().\n",
      "  y = column_or_1d(y, warn=True)\n",
      "/home/fernando.favoretti/.local/lib/python3.6/site-packages/sklearn/utils/validation.py:578: DataConversionWarning: A column-vector y was passed when a 1d array was expected. Please change the shape of y to (n_samples, ), for example using ravel().\n",
      "  y = column_or_1d(y, warn=True)\n"
     ]
    },
    {
     "name": "stdout",
     "output_type": "stream",
     "text": [
      "[CV]  C=0.1, coef0=5, degree=1, gamma=0.1, kernel=poly, score=0.4594594594594595, total= 1.5min\n",
      "[CV] C=0.1, coef0=5, degree=3, gamma=0.1, kernel=poly ................\n",
      "[CV]  C=0.1, coef0=5, degree=1, gamma=1, kernel=poly, score=0.5, total= 1.5min\n",
      "[CV] C=0.1, coef0=5, degree=3, gamma=0.1, kernel=poly ................\n"
     ]
    },
    {
     "name": "stderr",
     "output_type": "stream",
     "text": [
      "/home/fernando.favoretti/.local/lib/python3.6/site-packages/sklearn/utils/validation.py:578: DataConversionWarning: A column-vector y was passed when a 1d array was expected. Please change the shape of y to (n_samples, ), for example using ravel().\n",
      "  y = column_or_1d(y, warn=True)\n",
      "/home/fernando.favoretti/.local/lib/python3.6/site-packages/sklearn/utils/validation.py:578: DataConversionWarning: A column-vector y was passed when a 1d array was expected. Please change the shape of y to (n_samples, ), for example using ravel().\n",
      "  y = column_or_1d(y, warn=True)\n"
     ]
    },
    {
     "name": "stdout",
     "output_type": "stream",
     "text": [
      "[CV]  C=0.1, coef0=5, degree=1, gamma=10, kernel=poly, score=0.4594594594594595, total= 1.5min\n",
      "[CV] C=0.1, coef0=5, degree=3, gamma=0.1, kernel=poly ................\n",
      "[CV]  C=0.1, coef0=5, degree=1, gamma=10, kernel=poly, score=0.5, total= 1.5min\n",
      "[CV] C=0.1, coef0=5, degree=3, gamma=1, kernel=poly ..................\n",
      "[CV]  C=0.1, coef0=5, degree=2, gamma=0.1, kernel=poly, score=0.5044642857142857, total= 1.5min\n"
     ]
    },
    {
     "name": "stderr",
     "output_type": "stream",
     "text": [
      "/home/fernando.favoretti/.local/lib/python3.6/site-packages/sklearn/utils/validation.py:578: DataConversionWarning: A column-vector y was passed when a 1d array was expected. Please change the shape of y to (n_samples, ), for example using ravel().\n",
      "  y = column_or_1d(y, warn=True)\n"
     ]
    },
    {
     "name": "stdout",
     "output_type": "stream",
     "text": [
      "[CV] C=0.1, coef0=5, degree=3, gamma=1, kernel=poly ..................\n"
     ]
    },
    {
     "name": "stderr",
     "output_type": "stream",
     "text": [
      "/home/fernando.favoretti/.local/lib/python3.6/site-packages/sklearn/utils/validation.py:578: DataConversionWarning: A column-vector y was passed when a 1d array was expected. Please change the shape of y to (n_samples, ), for example using ravel().\n",
      "  y = column_or_1d(y, warn=True)\n"
     ]
    },
    {
     "name": "stdout",
     "output_type": "stream",
     "text": [
      "[CV]  C=0.1, coef0=5, degree=1, gamma=1, kernel=poly, score=0.5491071428571429, total= 1.5min\n",
      "[CV] C=0.1, coef0=5, degree=3, gamma=1, kernel=poly ..................\n",
      "[CV]  C=0.1, coef0=5, degree=1, gamma=1, kernel=poly, score=0.4594594594594595, total= 1.5min\n"
     ]
    },
    {
     "name": "stderr",
     "output_type": "stream",
     "text": [
      "/home/fernando.favoretti/.local/lib/python3.6/site-packages/sklearn/utils/validation.py:578: DataConversionWarning: A column-vector y was passed when a 1d array was expected. Please change the shape of y to (n_samples, ), for example using ravel().\n",
      "  y = column_or_1d(y, warn=True)\n"
     ]
    },
    {
     "name": "stdout",
     "output_type": "stream",
     "text": [
      "[CV] C=0.1, coef0=5, degree=3, gamma=10, kernel=poly .................\n"
     ]
    },
    {
     "name": "stderr",
     "output_type": "stream",
     "text": [
      "/home/fernando.favoretti/.local/lib/python3.6/site-packages/sklearn/utils/validation.py:578: DataConversionWarning: A column-vector y was passed when a 1d array was expected. Please change the shape of y to (n_samples, ), for example using ravel().\n",
      "  y = column_or_1d(y, warn=True)\n",
      "/home/fernando.favoretti/.local/lib/python3.6/site-packages/sklearn/utils/validation.py:578: DataConversionWarning: A column-vector y was passed when a 1d array was expected. Please change the shape of y to (n_samples, ), for example using ravel().\n",
      "  y = column_or_1d(y, warn=True)\n"
     ]
    },
    {
     "name": "stdout",
     "output_type": "stream",
     "text": [
      "[CV]  C=0.1, coef0=5, degree=1, gamma=10, kernel=poly, score=0.5491071428571429, total= 1.6min\n",
      "[CV] C=0.1, coef0=5, degree=3, gamma=10, kernel=poly .................\n"
     ]
    },
    {
     "name": "stderr",
     "output_type": "stream",
     "text": [
      "/home/fernando.favoretti/.local/lib/python3.6/site-packages/sklearn/utils/validation.py:578: DataConversionWarning: A column-vector y was passed when a 1d array was expected. Please change the shape of y to (n_samples, ), for example using ravel().\n",
      "  y = column_or_1d(y, warn=True)\n"
     ]
    },
    {
     "name": "stdout",
     "output_type": "stream",
     "text": [
      "[CV]  C=0.1, coef0=5, degree=2, gamma=0.1, kernel=poly, score=0.5714285714285714, total= 1.6min\n",
      "[CV] C=0.1, coef0=5, degree=3, gamma=10, kernel=poly .................\n"
     ]
    },
    {
     "name": "stderr",
     "output_type": "stream",
     "text": [
      "/home/fernando.favoretti/.local/lib/python3.6/site-packages/sklearn/utils/validation.py:578: DataConversionWarning: A column-vector y was passed when a 1d array was expected. Please change the shape of y to (n_samples, ), for example using ravel().\n",
      "  y = column_or_1d(y, warn=True)\n"
     ]
    },
    {
     "name": "stdout",
     "output_type": "stream",
     "text": [
      "[CV]  C=0.1, coef0=5, degree=2, gamma=0.1, kernel=poly, score=0.509009009009009, total= 1.5min\n",
      "[CV] C=5, coef0=1, degree=1, gamma=0.1, kernel=poly ..................\n"
     ]
    },
    {
     "name": "stderr",
     "output_type": "stream",
     "text": [
      "/home/fernando.favoretti/.local/lib/python3.6/site-packages/sklearn/utils/validation.py:578: DataConversionWarning: A column-vector y was passed when a 1d array was expected. Please change the shape of y to (n_samples, ), for example using ravel().\n",
      "  y = column_or_1d(y, warn=True)\n"
     ]
    },
    {
     "name": "stdout",
     "output_type": "stream",
     "text": [
      "[CV]  C=0.1, coef0=5, degree=2, gamma=1, kernel=poly, score=0.5044642857142857, total= 1.5min\n",
      "[CV] C=5, coef0=1, degree=1, gamma=0.1, kernel=poly ..................\n"
     ]
    },
    {
     "name": "stderr",
     "output_type": "stream",
     "text": [
      "[Parallel(n_jobs=-1)]: Done 130 tasks      | elapsed: 23.1min\n"
     ]
    },
    {
     "name": "stdout",
     "output_type": "stream",
     "text": [
      "[CV]  C=0.1, coef0=5, degree=2, gamma=1, kernel=poly, score=0.5714285714285714, total= 1.5min\n",
      "[CV] C=5, coef0=1, degree=1, gamma=0.1, kernel=poly ..................\n"
     ]
    },
    {
     "name": "stderr",
     "output_type": "stream",
     "text": [
      "/home/fernando.favoretti/.local/lib/python3.6/site-packages/sklearn/utils/validation.py:578: DataConversionWarning: A column-vector y was passed when a 1d array was expected. Please change the shape of y to (n_samples, ), for example using ravel().\n",
      "  y = column_or_1d(y, warn=True)\n",
      "/home/fernando.favoretti/.local/lib/python3.6/site-packages/sklearn/utils/validation.py:578: DataConversionWarning: A column-vector y was passed when a 1d array was expected. Please change the shape of y to (n_samples, ), for example using ravel().\n",
      "  y = column_or_1d(y, warn=True)\n"
     ]
    },
    {
     "name": "stdout",
     "output_type": "stream",
     "text": [
      "[CV]  C=0.1, coef0=5, degree=3, gamma=0.1, kernel=poly, score=0.5089285714285714, total= 1.5min\n",
      "[CV]  C=0.1, coef0=5, degree=3, gamma=0.1, kernel=poly, score=0.5669642857142857, total= 1.5min\n",
      "[CV] C=5, coef0=1, degree=1, gamma=1, kernel=poly ....................\n",
      "[CV] C=5, coef0=1, degree=1, gamma=1, kernel=poly ....................\n",
      "[CV]  C=0.1, coef0=5, degree=3, gamma=1, kernel=poly, score=0.5669642857142857, total= 1.5min\n",
      "[CV] C=5, coef0=1, degree=1, gamma=1, kernel=poly ....................\n",
      "[CV]  C=0.1, coef0=5, degree=2, gamma=10, kernel=poly, score=0.509009009009009, total= 1.5min\n",
      "[CV] C=5, coef0=1, degree=1, gamma=10, kernel=poly ...................\n"
     ]
    },
    {
     "name": "stderr",
     "output_type": "stream",
     "text": [
      "/home/fernando.favoretti/.local/lib/python3.6/site-packages/sklearn/utils/validation.py:578: DataConversionWarning: A column-vector y was passed when a 1d array was expected. Please change the shape of y to (n_samples, ), for example using ravel().\n",
      "  y = column_or_1d(y, warn=True)\n",
      "/home/fernando.favoretti/.local/lib/python3.6/site-packages/sklearn/utils/validation.py:578: DataConversionWarning: A column-vector y was passed when a 1d array was expected. Please change the shape of y to (n_samples, ), for example using ravel().\n",
      "  y = column_or_1d(y, warn=True)\n",
      "/home/fernando.favoretti/.local/lib/python3.6/site-packages/sklearn/utils/validation.py:578: DataConversionWarning: A column-vector y was passed when a 1d array was expected. Please change the shape of y to (n_samples, ), for example using ravel().\n",
      "  y = column_or_1d(y, warn=True)\n"
     ]
    },
    {
     "name": "stdout",
     "output_type": "stream",
     "text": [
      "[CV]  C=0.1, coef0=5, degree=2, gamma=10, kernel=poly, score=0.5044642857142857, total= 1.5min\n",
      "[CV] C=5, coef0=1, degree=1, gamma=10, kernel=poly ...................\n"
     ]
    },
    {
     "name": "stderr",
     "output_type": "stream",
     "text": [
      "/home/fernando.favoretti/.local/lib/python3.6/site-packages/sklearn/utils/validation.py:578: DataConversionWarning: A column-vector y was passed when a 1d array was expected. Please change the shape of y to (n_samples, ), for example using ravel().\n",
      "  y = column_or_1d(y, warn=True)\n",
      "/home/fernando.favoretti/.local/lib/python3.6/site-packages/sklearn/utils/validation.py:578: DataConversionWarning: A column-vector y was passed when a 1d array was expected. Please change the shape of y to (n_samples, ), for example using ravel().\n",
      "  y = column_or_1d(y, warn=True)\n"
     ]
    },
    {
     "name": "stdout",
     "output_type": "stream",
     "text": [
      "[CV]  C=0.1, coef0=5, degree=2, gamma=1, kernel=poly, score=0.509009009009009, total= 1.5min\n",
      "[CV] C=5, coef0=1, degree=1, gamma=10, kernel=poly ...................\n"
     ]
    },
    {
     "name": "stderr",
     "output_type": "stream",
     "text": [
      "/home/fernando.favoretti/.local/lib/python3.6/site-packages/sklearn/utils/validation.py:578: DataConversionWarning: A column-vector y was passed when a 1d array was expected. Please change the shape of y to (n_samples, ), for example using ravel().\n",
      "  y = column_or_1d(y, warn=True)\n"
     ]
    },
    {
     "name": "stdout",
     "output_type": "stream",
     "text": [
      "[CV]  C=0.1, coef0=5, degree=2, gamma=10, kernel=poly, score=0.5714285714285714, total= 1.5min\n",
      "[CV] C=5, coef0=1, degree=2, gamma=0.1, kernel=poly ..................\n",
      "[CV]  C=0.1, coef0=5, degree=3, gamma=1, kernel=poly, score=0.5089285714285714, total= 1.5min\n",
      "[CV] C=5, coef0=1, degree=2, gamma=0.1, kernel=poly ..................\n"
     ]
    },
    {
     "name": "stderr",
     "output_type": "stream",
     "text": [
      "/home/fernando.favoretti/.local/lib/python3.6/site-packages/sklearn/utils/validation.py:578: DataConversionWarning: A column-vector y was passed when a 1d array was expected. Please change the shape of y to (n_samples, ), for example using ravel().\n",
      "  y = column_or_1d(y, warn=True)\n"
     ]
    },
    {
     "name": "stdout",
     "output_type": "stream",
     "text": [
      "[CV]  C=0.1, coef0=5, degree=3, gamma=10, kernel=poly, score=0.5089285714285714, total= 1.5min\n",
      "[CV] C=5, coef0=1, degree=2, gamma=0.1, kernel=poly ..................\n"
     ]
    },
    {
     "name": "stderr",
     "output_type": "stream",
     "text": [
      "/home/fernando.favoretti/.local/lib/python3.6/site-packages/sklearn/utils/validation.py:578: DataConversionWarning: A column-vector y was passed when a 1d array was expected. Please change the shape of y to (n_samples, ), for example using ravel().\n",
      "  y = column_or_1d(y, warn=True)\n",
      "/home/fernando.favoretti/.local/lib/python3.6/site-packages/sklearn/utils/validation.py:578: DataConversionWarning: A column-vector y was passed when a 1d array was expected. Please change the shape of y to (n_samples, ), for example using ravel().\n",
      "  y = column_or_1d(y, warn=True)\n"
     ]
    },
    {
     "name": "stdout",
     "output_type": "stream",
     "text": [
      "[CV]  C=0.1, coef0=5, degree=3, gamma=1, kernel=poly, score=0.536036036036036, total= 1.5min\n",
      "[CV] C=5, coef0=1, degree=2, gamma=1, kernel=poly ....................\n"
     ]
    },
    {
     "name": "stderr",
     "output_type": "stream",
     "text": [
      "/home/fernando.favoretti/.local/lib/python3.6/site-packages/sklearn/utils/validation.py:578: DataConversionWarning: A column-vector y was passed when a 1d array was expected. Please change the shape of y to (n_samples, ), for example using ravel().\n",
      "  y = column_or_1d(y, warn=True)\n"
     ]
    },
    {
     "name": "stdout",
     "output_type": "stream",
     "text": [
      "[CV]  C=0.1, coef0=5, degree=3, gamma=10, kernel=poly, score=0.5669642857142857, total= 1.5min\n",
      "[CV] C=5, coef0=1, degree=2, gamma=1, kernel=poly ....................\n"
     ]
    },
    {
     "name": "stderr",
     "output_type": "stream",
     "text": [
      "/home/fernando.favoretti/.local/lib/python3.6/site-packages/sklearn/utils/validation.py:578: DataConversionWarning: A column-vector y was passed when a 1d array was expected. Please change the shape of y to (n_samples, ), for example using ravel().\n",
      "  y = column_or_1d(y, warn=True)\n"
     ]
    },
    {
     "name": "stdout",
     "output_type": "stream",
     "text": [
      "[CV]  C=0.1, coef0=5, degree=3, gamma=0.1, kernel=poly, score=0.536036036036036, total= 1.6min\n",
      "[CV] C=5, coef0=1, degree=2, gamma=1, kernel=poly ....................\n"
     ]
    },
    {
     "name": "stderr",
     "output_type": "stream",
     "text": [
      "/home/fernando.favoretti/.local/lib/python3.6/site-packages/sklearn/utils/validation.py:578: DataConversionWarning: A column-vector y was passed when a 1d array was expected. Please change the shape of y to (n_samples, ), for example using ravel().\n",
      "  y = column_or_1d(y, warn=True)\n"
     ]
    },
    {
     "name": "stdout",
     "output_type": "stream",
     "text": [
      "[CV]  C=0.1, coef0=5, degree=3, gamma=10, kernel=poly, score=0.536036036036036, total= 1.6min\n",
      "[CV] C=5, coef0=1, degree=2, gamma=10, kernel=poly ...................\n"
     ]
    },
    {
     "name": "stderr",
     "output_type": "stream",
     "text": [
      "/home/fernando.favoretti/.local/lib/python3.6/site-packages/sklearn/utils/validation.py:578: DataConversionWarning: A column-vector y was passed when a 1d array was expected. Please change the shape of y to (n_samples, ), for example using ravel().\n",
      "  y = column_or_1d(y, warn=True)\n"
     ]
    },
    {
     "name": "stdout",
     "output_type": "stream",
     "text": [
      "[CV]  C=5, coef0=1, degree=1, gamma=0.1, kernel=poly, score=0.5, total= 1.5min\n",
      "[CV] C=5, coef0=1, degree=2, gamma=10, kernel=poly ...................\n",
      "[CV]  C=5, coef0=1, degree=1, gamma=0.1, kernel=poly, score=0.4594594594594595, total= 1.5min\n",
      "[CV] C=5, coef0=1, degree=2, gamma=10, kernel=poly ...................\n"
     ]
    },
    {
     "name": "stderr",
     "output_type": "stream",
     "text": [
      "/home/fernando.favoretti/.local/lib/python3.6/site-packages/sklearn/utils/validation.py:578: DataConversionWarning: A column-vector y was passed when a 1d array was expected. Please change the shape of y to (n_samples, ), for example using ravel().\n",
      "  y = column_or_1d(y, warn=True)\n",
      "/home/fernando.favoretti/.local/lib/python3.6/site-packages/sklearn/utils/validation.py:578: DataConversionWarning: A column-vector y was passed when a 1d array was expected. Please change the shape of y to (n_samples, ), for example using ravel().\n",
      "  y = column_or_1d(y, warn=True)\n"
     ]
    },
    {
     "name": "stdout",
     "output_type": "stream",
     "text": [
      "[CV]  C=5, coef0=1, degree=1, gamma=1, kernel=poly, score=0.5, total= 1.5min\n",
      "[CV] C=5, coef0=1, degree=3, gamma=0.1, kernel=poly ..................\n",
      "[CV]  C=5, coef0=1, degree=1, gamma=10, kernel=poly, score=0.5, total= 1.5min\n",
      "[CV] C=5, coef0=1, degree=3, gamma=0.1, kernel=poly ..................\n"
     ]
    },
    {
     "name": "stderr",
     "output_type": "stream",
     "text": [
      "/home/fernando.favoretti/.local/lib/python3.6/site-packages/sklearn/utils/validation.py:578: DataConversionWarning: A column-vector y was passed when a 1d array was expected. Please change the shape of y to (n_samples, ), for example using ravel().\n",
      "  y = column_or_1d(y, warn=True)\n",
      "/home/fernando.favoretti/.local/lib/python3.6/site-packages/sklearn/utils/validation.py:578: DataConversionWarning: A column-vector y was passed when a 1d array was expected. Please change the shape of y to (n_samples, ), for example using ravel().\n",
      "  y = column_or_1d(y, warn=True)\n"
     ]
    },
    {
     "name": "stdout",
     "output_type": "stream",
     "text": [
      "[CV]  C=5, coef0=1, degree=1, gamma=1, kernel=poly, score=0.5491071428571429, total= 1.5min\n",
      "[CV] C=5, coef0=1, degree=3, gamma=0.1, kernel=poly ..................\n",
      "[CV]  C=5, coef0=1, degree=1, gamma=0.1, kernel=poly, score=0.5491071428571429, total= 1.6min\n",
      "[CV] C=5, coef0=1, degree=3, gamma=1, kernel=poly ....................\n"
     ]
    },
    {
     "name": "stderr",
     "output_type": "stream",
     "text": [
      "/home/fernando.favoretti/.local/lib/python3.6/site-packages/sklearn/utils/validation.py:578: DataConversionWarning: A column-vector y was passed when a 1d array was expected. Please change the shape of y to (n_samples, ), for example using ravel().\n",
      "  y = column_or_1d(y, warn=True)\n",
      "/home/fernando.favoretti/.local/lib/python3.6/site-packages/sklearn/utils/validation.py:578: DataConversionWarning: A column-vector y was passed when a 1d array was expected. Please change the shape of y to (n_samples, ), for example using ravel().\n",
      "  y = column_or_1d(y, warn=True)\n"
     ]
    },
    {
     "name": "stdout",
     "output_type": "stream",
     "text": [
      "[CV]  C=5, coef0=1, degree=1, gamma=10, kernel=poly, score=0.4594594594594595, total= 1.5min\n",
      "[CV] C=5, coef0=1, degree=3, gamma=1, kernel=poly ....................\n",
      "[CV]  C=5, coef0=1, degree=1, gamma=10, kernel=poly, score=0.5491071428571429, total= 1.5min\n",
      "[CV] C=5, coef0=1, degree=3, gamma=1, kernel=poly ....................\n",
      "[CV]  C=5, coef0=1, degree=1, gamma=1, kernel=poly, score=0.4594594594594595, total= 1.6min\n",
      "[CV] C=5, coef0=1, degree=3, gamma=10, kernel=poly ...................\n"
     ]
    },
    {
     "name": "stderr",
     "output_type": "stream",
     "text": [
      "/home/fernando.favoretti/.local/lib/python3.6/site-packages/sklearn/utils/validation.py:578: DataConversionWarning: A column-vector y was passed when a 1d array was expected. Please change the shape of y to (n_samples, ), for example using ravel().\n",
      "  y = column_or_1d(y, warn=True)\n",
      "/home/fernando.favoretti/.local/lib/python3.6/site-packages/sklearn/utils/validation.py:578: DataConversionWarning: A column-vector y was passed when a 1d array was expected. Please change the shape of y to (n_samples, ), for example using ravel().\n",
      "  y = column_or_1d(y, warn=True)\n",
      "/home/fernando.favoretti/.local/lib/python3.6/site-packages/sklearn/utils/validation.py:578: DataConversionWarning: A column-vector y was passed when a 1d array was expected. Please change the shape of y to (n_samples, ), for example using ravel().\n",
      "  y = column_or_1d(y, warn=True)\n"
     ]
    },
    {
     "name": "stdout",
     "output_type": "stream",
     "text": [
      "[CV]  C=5, coef0=1, degree=2, gamma=0.1, kernel=poly, score=0.5044642857142857, total= 1.5min\n",
      "[CV] C=5, coef0=1, degree=3, gamma=10, kernel=poly ...................\n"
     ]
    },
    {
     "name": "stderr",
     "output_type": "stream",
     "text": [
      "/home/fernando.favoretti/.local/lib/python3.6/site-packages/sklearn/utils/validation.py:578: DataConversionWarning: A column-vector y was passed when a 1d array was expected. Please change the shape of y to (n_samples, ), for example using ravel().\n",
      "  y = column_or_1d(y, warn=True)\n"
     ]
    },
    {
     "name": "stdout",
     "output_type": "stream",
     "text": [
      "[CV]  C=5, coef0=1, degree=2, gamma=0.1, kernel=poly, score=0.509009009009009, total= 1.5min\n",
      "[CV] C=5, coef0=1, degree=3, gamma=10, kernel=poly ...................\n",
      "[CV]  C=5, coef0=1, degree=2, gamma=0.1, kernel=poly, score=0.5714285714285714, total= 1.5min\n",
      "[CV] C=5, coef0=5, degree=1, gamma=0.1, kernel=poly ..................\n"
     ]
    },
    {
     "name": "stderr",
     "output_type": "stream",
     "text": [
      "/home/fernando.favoretti/.local/lib/python3.6/site-packages/sklearn/utils/validation.py:578: DataConversionWarning: A column-vector y was passed when a 1d array was expected. Please change the shape of y to (n_samples, ), for example using ravel().\n",
      "  y = column_or_1d(y, warn=True)\n",
      "/home/fernando.favoretti/.local/lib/python3.6/site-packages/sklearn/utils/validation.py:578: DataConversionWarning: A column-vector y was passed when a 1d array was expected. Please change the shape of y to (n_samples, ), for example using ravel().\n",
      "  y = column_or_1d(y, warn=True)\n"
     ]
    },
    {
     "name": "stdout",
     "output_type": "stream",
     "text": [
      "[CV]  C=5, coef0=1, degree=2, gamma=1, kernel=poly, score=0.5044642857142857, total= 1.5min\n",
      "[CV] C=5, coef0=5, degree=1, gamma=0.1, kernel=poly ..................\n"
     ]
    },
    {
     "name": "stderr",
     "output_type": "stream",
     "text": [
      "/home/fernando.favoretti/.local/lib/python3.6/site-packages/sklearn/utils/validation.py:578: DataConversionWarning: A column-vector y was passed when a 1d array was expected. Please change the shape of y to (n_samples, ), for example using ravel().\n",
      "  y = column_or_1d(y, warn=True)\n"
     ]
    },
    {
     "name": "stdout",
     "output_type": "stream",
     "text": [
      "[CV]  C=5, coef0=1, degree=2, gamma=1, kernel=poly, score=0.509009009009009, total= 1.5min\n",
      "[CV] C=5, coef0=5, degree=1, gamma=0.1, kernel=poly ..................\n",
      "[CV]  C=5, coef0=1, degree=2, gamma=1, kernel=poly, score=0.5714285714285714, total= 1.5min\n",
      "[CV] C=5, coef0=5, degree=1, gamma=1, kernel=poly ....................\n"
     ]
    },
    {
     "name": "stderr",
     "output_type": "stream",
     "text": [
      "/home/fernando.favoretti/.local/lib/python3.6/site-packages/sklearn/utils/validation.py:578: DataConversionWarning: A column-vector y was passed when a 1d array was expected. Please change the shape of y to (n_samples, ), for example using ravel().\n",
      "  y = column_or_1d(y, warn=True)\n",
      "/home/fernando.favoretti/.local/lib/python3.6/site-packages/sklearn/utils/validation.py:578: DataConversionWarning: A column-vector y was passed when a 1d array was expected. Please change the shape of y to (n_samples, ), for example using ravel().\n",
      "  y = column_or_1d(y, warn=True)\n"
     ]
    },
    {
     "name": "stdout",
     "output_type": "stream",
     "text": [
      "[CV]  C=5, coef0=1, degree=2, gamma=10, kernel=poly, score=0.5044642857142857, total= 1.5min\n",
      "[CV] C=5, coef0=5, degree=1, gamma=1, kernel=poly ....................\n"
     ]
    },
    {
     "name": "stderr",
     "output_type": "stream",
     "text": [
      "/home/fernando.favoretti/.local/lib/python3.6/site-packages/sklearn/utils/validation.py:578: DataConversionWarning: A column-vector y was passed when a 1d array was expected. Please change the shape of y to (n_samples, ), for example using ravel().\n",
      "  y = column_or_1d(y, warn=True)\n"
     ]
    },
    {
     "name": "stdout",
     "output_type": "stream",
     "text": [
      "[CV]  C=5, coef0=1, degree=3, gamma=0.1, kernel=poly, score=0.5669642857142857, total= 1.5min\n",
      "[CV] C=5, coef0=5, degree=1, gamma=1, kernel=poly ....................\n"
     ]
    },
    {
     "name": "stderr",
     "output_type": "stream",
     "text": [
      "/home/fernando.favoretti/.local/lib/python3.6/site-packages/sklearn/utils/validation.py:578: DataConversionWarning: A column-vector y was passed when a 1d array was expected. Please change the shape of y to (n_samples, ), for example using ravel().\n",
      "  y = column_or_1d(y, warn=True)\n"
     ]
    },
    {
     "name": "stdout",
     "output_type": "stream",
     "text": [
      "[CV]  C=5, coef0=1, degree=3, gamma=0.1, kernel=poly, score=0.5089285714285714, total= 1.5min\n",
      "[CV] C=5, coef0=5, degree=1, gamma=10, kernel=poly ...................\n"
     ]
    },
    {
     "name": "stderr",
     "output_type": "stream",
     "text": [
      "/home/fernando.favoretti/.local/lib/python3.6/site-packages/sklearn/utils/validation.py:578: DataConversionWarning: A column-vector y was passed when a 1d array was expected. Please change the shape of y to (n_samples, ), for example using ravel().\n",
      "  y = column_or_1d(y, warn=True)\n"
     ]
    },
    {
     "name": "stdout",
     "output_type": "stream",
     "text": [
      "[CV]  C=5, coef0=1, degree=2, gamma=10, kernel=poly, score=0.5714285714285714, total= 1.5min\n",
      "[CV] C=5, coef0=5, degree=1, gamma=10, kernel=poly ...................\n",
      "[CV]  C=5, coef0=1, degree=3, gamma=10, kernel=poly, score=0.5669642857142857, total= 1.5min\n",
      "[CV] C=5, coef0=5, degree=1, gamma=10, kernel=poly ...................\n"
     ]
    },
    {
     "name": "stderr",
     "output_type": "stream",
     "text": [
      "/home/fernando.favoretti/.local/lib/python3.6/site-packages/sklearn/utils/validation.py:578: DataConversionWarning: A column-vector y was passed when a 1d array was expected. Please change the shape of y to (n_samples, ), for example using ravel().\n",
      "  y = column_or_1d(y, warn=True)\n"
     ]
    },
    {
     "name": "stdout",
     "output_type": "stream",
     "text": [
      "[CV]  C=5, coef0=1, degree=3, gamma=1, kernel=poly, score=0.5669642857142857, total= 1.5min\n",
      "[CV] C=5, coef0=5, degree=2, gamma=0.1, kernel=poly ..................\n",
      "[CV]  C=5, coef0=1, degree=3, gamma=10, kernel=poly, score=0.5089285714285714, total= 1.5min\n",
      "[CV] C=5, coef0=5, degree=2, gamma=0.1, kernel=poly ..................\n",
      "[CV]  C=5, coef0=1, degree=2, gamma=10, kernel=poly, score=0.509009009009009, total= 1.6min\n",
      "[CV] C=5, coef0=5, degree=2, gamma=0.1, kernel=poly ..................\n"
     ]
    },
    {
     "name": "stderr",
     "output_type": "stream",
     "text": [
      "/home/fernando.favoretti/.local/lib/python3.6/site-packages/sklearn/utils/validation.py:578: DataConversionWarning: A column-vector y was passed when a 1d array was expected. Please change the shape of y to (n_samples, ), for example using ravel().\n",
      "  y = column_or_1d(y, warn=True)\n",
      "/home/fernando.favoretti/.local/lib/python3.6/site-packages/sklearn/utils/validation.py:578: DataConversionWarning: A column-vector y was passed when a 1d array was expected. Please change the shape of y to (n_samples, ), for example using ravel().\n",
      "  y = column_or_1d(y, warn=True)\n"
     ]
    },
    {
     "name": "stdout",
     "output_type": "stream",
     "text": [
      "[CV]  C=5, coef0=1, degree=3, gamma=1, kernel=poly, score=0.5089285714285714, total= 1.5min\n",
      "[CV] C=5, coef0=5, degree=2, gamma=1, kernel=poly ....................\n"
     ]
    },
    {
     "name": "stderr",
     "output_type": "stream",
     "text": [
      "/home/fernando.favoretti/.local/lib/python3.6/site-packages/sklearn/utils/validation.py:578: DataConversionWarning: A column-vector y was passed when a 1d array was expected. Please change the shape of y to (n_samples, ), for example using ravel().\n",
      "  y = column_or_1d(y, warn=True)\n"
     ]
    },
    {
     "name": "stdout",
     "output_type": "stream",
     "text": [
      "[CV]  C=5, coef0=1, degree=3, gamma=0.1, kernel=poly, score=0.536036036036036, total= 1.5min\n",
      "[CV] C=5, coef0=5, degree=2, gamma=1, kernel=poly ....................\n"
     ]
    },
    {
     "name": "stderr",
     "output_type": "stream",
     "text": [
      "/home/fernando.favoretti/.local/lib/python3.6/site-packages/sklearn/utils/validation.py:578: DataConversionWarning: A column-vector y was passed when a 1d array was expected. Please change the shape of y to (n_samples, ), for example using ravel().\n",
      "  y = column_or_1d(y, warn=True)\n",
      "/home/fernando.favoretti/.local/lib/python3.6/site-packages/sklearn/utils/validation.py:578: DataConversionWarning: A column-vector y was passed when a 1d array was expected. Please change the shape of y to (n_samples, ), for example using ravel().\n",
      "  y = column_or_1d(y, warn=True)\n",
      "/home/fernando.favoretti/.local/lib/python3.6/site-packages/sklearn/utils/validation.py:578: DataConversionWarning: A column-vector y was passed when a 1d array was expected. Please change the shape of y to (n_samples, ), for example using ravel().\n",
      "  y = column_or_1d(y, warn=True)\n"
     ]
    },
    {
     "name": "stdout",
     "output_type": "stream",
     "text": [
      "[CV]  C=5, coef0=1, degree=3, gamma=10, kernel=poly, score=0.536036036036036, total= 1.5min\n",
      "[CV] C=5, coef0=5, degree=2, gamma=1, kernel=poly ....................\n",
      "[CV]  C=5, coef0=5, degree=1, gamma=0.1, kernel=poly, score=0.5, total= 1.5min\n",
      "[CV] C=5, coef0=5, degree=2, gamma=10, kernel=poly ...................\n"
     ]
    },
    {
     "name": "stderr",
     "output_type": "stream",
     "text": [
      "/home/fernando.favoretti/.local/lib/python3.6/site-packages/sklearn/utils/validation.py:578: DataConversionWarning: A column-vector y was passed when a 1d array was expected. Please change the shape of y to (n_samples, ), for example using ravel().\n",
      "  y = column_or_1d(y, warn=True)\n",
      "/home/fernando.favoretti/.local/lib/python3.6/site-packages/sklearn/utils/validation.py:578: DataConversionWarning: A column-vector y was passed when a 1d array was expected. Please change the shape of y to (n_samples, ), for example using ravel().\n",
      "  y = column_or_1d(y, warn=True)\n"
     ]
    },
    {
     "name": "stdout",
     "output_type": "stream",
     "text": [
      "[CV]  C=5, coef0=1, degree=3, gamma=1, kernel=poly, score=0.536036036036036, total= 1.6min\n",
      "[CV] C=5, coef0=5, degree=2, gamma=10, kernel=poly ...................\n"
     ]
    },
    {
     "name": "stderr",
     "output_type": "stream",
     "text": [
      "/home/fernando.favoretti/.local/lib/python3.6/site-packages/sklearn/utils/validation.py:578: DataConversionWarning: A column-vector y was passed when a 1d array was expected. Please change the shape of y to (n_samples, ), for example using ravel().\n",
      "  y = column_or_1d(y, warn=True)\n"
     ]
    },
    {
     "name": "stdout",
     "output_type": "stream",
     "text": [
      "[CV]  C=5, coef0=5, degree=1, gamma=0.1, kernel=poly, score=0.5491071428571429, total= 1.5min\n",
      "[CV] C=5, coef0=5, degree=2, gamma=10, kernel=poly ...................\n"
     ]
    },
    {
     "name": "stderr",
     "output_type": "stream",
     "text": [
      "/home/fernando.favoretti/.local/lib/python3.6/site-packages/sklearn/utils/validation.py:578: DataConversionWarning: A column-vector y was passed when a 1d array was expected. Please change the shape of y to (n_samples, ), for example using ravel().\n",
      "  y = column_or_1d(y, warn=True)\n"
     ]
    },
    {
     "name": "stdout",
     "output_type": "stream",
     "text": [
      "[CV]  C=5, coef0=5, degree=1, gamma=0.1, kernel=poly, score=0.4594594594594595, total= 1.5min\n",
      "[CV] C=5, coef0=5, degree=3, gamma=0.1, kernel=poly ..................\n"
     ]
    },
    {
     "name": "stderr",
     "output_type": "stream",
     "text": [
      "/home/fernando.favoretti/.local/lib/python3.6/site-packages/sklearn/utils/validation.py:578: DataConversionWarning: A column-vector y was passed when a 1d array was expected. Please change the shape of y to (n_samples, ), for example using ravel().\n",
      "  y = column_or_1d(y, warn=True)\n"
     ]
    },
    {
     "name": "stdout",
     "output_type": "stream",
     "text": [
      "[CV]  C=5, coef0=5, degree=1, gamma=1, kernel=poly, score=0.5, total= 1.5min\n",
      "[CV] C=5, coef0=5, degree=3, gamma=0.1, kernel=poly ..................\n"
     ]
    },
    {
     "name": "stderr",
     "output_type": "stream",
     "text": [
      "/home/fernando.favoretti/.local/lib/python3.6/site-packages/sklearn/utils/validation.py:578: DataConversionWarning: A column-vector y was passed when a 1d array was expected. Please change the shape of y to (n_samples, ), for example using ravel().\n",
      "  y = column_or_1d(y, warn=True)\n"
     ]
    },
    {
     "name": "stdout",
     "output_type": "stream",
     "text": [
      "[CV]  C=5, coef0=5, degree=1, gamma=1, kernel=poly, score=0.5491071428571429, total= 1.5min\n",
      "[CV] C=5, coef0=5, degree=3, gamma=0.1, kernel=poly ..................\n"
     ]
    },
    {
     "name": "stderr",
     "output_type": "stream",
     "text": [
      "/home/fernando.favoretti/.local/lib/python3.6/site-packages/sklearn/utils/validation.py:578: DataConversionWarning: A column-vector y was passed when a 1d array was expected. Please change the shape of y to (n_samples, ), for example using ravel().\n",
      "  y = column_or_1d(y, warn=True)\n"
     ]
    },
    {
     "name": "stdout",
     "output_type": "stream",
     "text": [
      "[CV]  C=5, coef0=5, degree=1, gamma=10, kernel=poly, score=0.5, total= 1.5min\n",
      "[CV] C=5, coef0=5, degree=3, gamma=1, kernel=poly ....................\n"
     ]
    },
    {
     "name": "stderr",
     "output_type": "stream",
     "text": [
      "/home/fernando.favoretti/.local/lib/python3.6/site-packages/sklearn/utils/validation.py:578: DataConversionWarning: A column-vector y was passed when a 1d array was expected. Please change the shape of y to (n_samples, ), for example using ravel().\n",
      "  y = column_or_1d(y, warn=True)\n"
     ]
    },
    {
     "name": "stdout",
     "output_type": "stream",
     "text": [
      "[CV]  C=5, coef0=5, degree=1, gamma=1, kernel=poly, score=0.4594594594594595, total= 1.5min\n",
      "[CV] C=5, coef0=5, degree=3, gamma=1, kernel=poly ....................\n"
     ]
    },
    {
     "name": "stderr",
     "output_type": "stream",
     "text": [
      "/home/fernando.favoretti/.local/lib/python3.6/site-packages/sklearn/utils/validation.py:578: DataConversionWarning: A column-vector y was passed when a 1d array was expected. Please change the shape of y to (n_samples, ), for example using ravel().\n",
      "  y = column_or_1d(y, warn=True)\n"
     ]
    },
    {
     "name": "stdout",
     "output_type": "stream",
     "text": [
      "[CV]  C=5, coef0=5, degree=1, gamma=10, kernel=poly, score=0.5491071428571429, total= 1.5min\n",
      "[CV] C=5, coef0=5, degree=3, gamma=1, kernel=poly ....................\n"
     ]
    },
    {
     "name": "stderr",
     "output_type": "stream",
     "text": [
      "/home/fernando.favoretti/.local/lib/python3.6/site-packages/sklearn/utils/validation.py:578: DataConversionWarning: A column-vector y was passed when a 1d array was expected. Please change the shape of y to (n_samples, ), for example using ravel().\n",
      "  y = column_or_1d(y, warn=True)\n"
     ]
    },
    {
     "name": "stdout",
     "output_type": "stream",
     "text": [
      "[CV]  C=5, coef0=5, degree=1, gamma=10, kernel=poly, score=0.4594594594594595, total= 1.5min\n",
      "[CV] C=5, coef0=5, degree=3, gamma=10, kernel=poly ...................\n"
     ]
    },
    {
     "name": "stderr",
     "output_type": "stream",
     "text": [
      "/home/fernando.favoretti/.local/lib/python3.6/site-packages/sklearn/utils/validation.py:578: DataConversionWarning: A column-vector y was passed when a 1d array was expected. Please change the shape of y to (n_samples, ), for example using ravel().\n",
      "  y = column_or_1d(y, warn=True)\n"
     ]
    },
    {
     "name": "stdout",
     "output_type": "stream",
     "text": [
      "[CV]  C=5, coef0=5, degree=2, gamma=0.1, kernel=poly, score=0.5714285714285714, total= 1.5min\n",
      "[CV] C=5, coef0=5, degree=3, gamma=10, kernel=poly ...................\n",
      "[CV]  C=5, coef0=5, degree=2, gamma=1, kernel=poly, score=0.5044642857142857, total= 1.5min\n",
      "[CV] C=5, coef0=5, degree=3, gamma=10, kernel=poly ...................\n"
     ]
    },
    {
     "name": "stderr",
     "output_type": "stream",
     "text": [
      "/home/fernando.favoretti/.local/lib/python3.6/site-packages/sklearn/utils/validation.py:578: DataConversionWarning: A column-vector y was passed when a 1d array was expected. Please change the shape of y to (n_samples, ), for example using ravel().\n",
      "  y = column_or_1d(y, warn=True)\n"
     ]
    },
    {
     "name": "stdout",
     "output_type": "stream",
     "text": [
      "[CV]  C=5, coef0=5, degree=2, gamma=0.1, kernel=poly, score=0.5044642857142857, total= 1.5min\n",
      "[CV] C=10, coef0=1, degree=1, gamma=0.1, kernel=poly .................\n"
     ]
    },
    {
     "name": "stderr",
     "output_type": "stream",
     "text": [
      "/home/fernando.favoretti/.local/lib/python3.6/site-packages/sklearn/utils/validation.py:578: DataConversionWarning: A column-vector y was passed when a 1d array was expected. Please change the shape of y to (n_samples, ), for example using ravel().\n",
      "  y = column_or_1d(y, warn=True)\n"
     ]
    },
    {
     "name": "stdout",
     "output_type": "stream",
     "text": [
      "[CV]  C=5, coef0=5, degree=2, gamma=1, kernel=poly, score=0.5714285714285714, total= 1.5min\n",
      "[CV] C=10, coef0=1, degree=1, gamma=0.1, kernel=poly .................\n"
     ]
    },
    {
     "name": "stderr",
     "output_type": "stream",
     "text": [
      "/home/fernando.favoretti/.local/lib/python3.6/site-packages/sklearn/utils/validation.py:578: DataConversionWarning: A column-vector y was passed when a 1d array was expected. Please change the shape of y to (n_samples, ), for example using ravel().\n",
      "  y = column_or_1d(y, warn=True)\n",
      "/home/fernando.favoretti/.local/lib/python3.6/site-packages/sklearn/utils/validation.py:578: DataConversionWarning: A column-vector y was passed when a 1d array was expected. Please change the shape of y to (n_samples, ), for example using ravel().\n",
      "  y = column_or_1d(y, warn=True)\n"
     ]
    },
    {
     "name": "stdout",
     "output_type": "stream",
     "text": [
      "[CV]  C=5, coef0=5, degree=2, gamma=0.1, kernel=poly, score=0.509009009009009, total= 1.6min\n",
      "[CV] C=10, coef0=1, degree=1, gamma=0.1, kernel=poly .................\n"
     ]
    },
    {
     "name": "stderr",
     "output_type": "stream",
     "text": [
      "/home/fernando.favoretti/.local/lib/python3.6/site-packages/sklearn/utils/validation.py:578: DataConversionWarning: A column-vector y was passed when a 1d array was expected. Please change the shape of y to (n_samples, ), for example using ravel().\n",
      "  y = column_or_1d(y, warn=True)\n"
     ]
    },
    {
     "name": "stdout",
     "output_type": "stream",
     "text": [
      "[CV]  C=5, coef0=5, degree=2, gamma=1, kernel=poly, score=0.509009009009009, total= 1.5min\n",
      "[CV] C=10, coef0=1, degree=1, gamma=1, kernel=poly ...................\n"
     ]
    },
    {
     "name": "stderr",
     "output_type": "stream",
     "text": [
      "/home/fernando.favoretti/.local/lib/python3.6/site-packages/sklearn/utils/validation.py:578: DataConversionWarning: A column-vector y was passed when a 1d array was expected. Please change the shape of y to (n_samples, ), for example using ravel().\n",
      "  y = column_or_1d(y, warn=True)\n"
     ]
    },
    {
     "name": "stdout",
     "output_type": "stream",
     "text": [
      "[CV]  C=5, coef0=5, degree=2, gamma=10, kernel=poly, score=0.5714285714285714, total= 1.5min\n",
      "[CV] C=10, coef0=1, degree=1, gamma=1, kernel=poly ...................\n"
     ]
    },
    {
     "name": "stderr",
     "output_type": "stream",
     "text": [
      "/home/fernando.favoretti/.local/lib/python3.6/site-packages/sklearn/utils/validation.py:578: DataConversionWarning: A column-vector y was passed when a 1d array was expected. Please change the shape of y to (n_samples, ), for example using ravel().\n",
      "  y = column_or_1d(y, warn=True)\n"
     ]
    },
    {
     "name": "stdout",
     "output_type": "stream",
     "text": [
      "[CV]  C=5, coef0=5, degree=2, gamma=10, kernel=poly, score=0.5044642857142857, total= 1.6min\n",
      "[CV] C=10, coef0=1, degree=1, gamma=1, kernel=poly ...................\n",
      "[CV]  C=5, coef0=5, degree=3, gamma=0.1, kernel=poly, score=0.5089285714285714, total= 1.5min\n",
      "[CV] C=10, coef0=1, degree=1, gamma=10, kernel=poly ..................\n"
     ]
    },
    {
     "name": "stderr",
     "output_type": "stream",
     "text": [
      "/home/fernando.favoretti/.local/lib/python3.6/site-packages/sklearn/utils/validation.py:578: DataConversionWarning: A column-vector y was passed when a 1d array was expected. Please change the shape of y to (n_samples, ), for example using ravel().\n",
      "  y = column_or_1d(y, warn=True)\n",
      "/home/fernando.favoretti/.local/lib/python3.6/site-packages/sklearn/utils/validation.py:578: DataConversionWarning: A column-vector y was passed when a 1d array was expected. Please change the shape of y to (n_samples, ), for example using ravel().\n",
      "  y = column_or_1d(y, warn=True)\n"
     ]
    },
    {
     "name": "stdout",
     "output_type": "stream",
     "text": [
      "[CV]  C=5, coef0=5, degree=3, gamma=0.1, kernel=poly, score=0.5669642857142857, total= 1.5min\n",
      "[CV] C=10, coef0=1, degree=1, gamma=10, kernel=poly ..................\n"
     ]
    },
    {
     "name": "stderr",
     "output_type": "stream",
     "text": [
      "/home/fernando.favoretti/.local/lib/python3.6/site-packages/sklearn/utils/validation.py:578: DataConversionWarning: A column-vector y was passed when a 1d array was expected. Please change the shape of y to (n_samples, ), for example using ravel().\n",
      "  y = column_or_1d(y, warn=True)\n"
     ]
    },
    {
     "name": "stdout",
     "output_type": "stream",
     "text": [
      "[CV]  C=5, coef0=5, degree=2, gamma=10, kernel=poly, score=0.509009009009009, total= 1.6min\n",
      "[CV] C=10, coef0=1, degree=1, gamma=10, kernel=poly ..................\n"
     ]
    },
    {
     "name": "stderr",
     "output_type": "stream",
     "text": [
      "/home/fernando.favoretti/.local/lib/python3.6/site-packages/sklearn/utils/validation.py:578: DataConversionWarning: A column-vector y was passed when a 1d array was expected. Please change the shape of y to (n_samples, ), for example using ravel().\n",
      "  y = column_or_1d(y, warn=True)\n"
     ]
    },
    {
     "name": "stdout",
     "output_type": "stream",
     "text": [
      "[CV]  C=5, coef0=5, degree=3, gamma=0.1, kernel=poly, score=0.536036036036036, total= 1.6min\n",
      "[CV] C=10, coef0=1, degree=2, gamma=0.1, kernel=poly .................\n"
     ]
    },
    {
     "name": "stderr",
     "output_type": "stream",
     "text": [
      "/home/fernando.favoretti/.local/lib/python3.6/site-packages/sklearn/utils/validation.py:578: DataConversionWarning: A column-vector y was passed when a 1d array was expected. Please change the shape of y to (n_samples, ), for example using ravel().\n",
      "  y = column_or_1d(y, warn=True)\n"
     ]
    },
    {
     "name": "stdout",
     "output_type": "stream",
     "text": [
      "[CV]  C=5, coef0=5, degree=3, gamma=1, kernel=poly, score=0.5089285714285714, total= 1.5min\n",
      "[CV] C=10, coef0=1, degree=2, gamma=0.1, kernel=poly .................\n"
     ]
    },
    {
     "name": "stderr",
     "output_type": "stream",
     "text": [
      "/home/fernando.favoretti/.local/lib/python3.6/site-packages/sklearn/utils/validation.py:578: DataConversionWarning: A column-vector y was passed when a 1d array was expected. Please change the shape of y to (n_samples, ), for example using ravel().\n",
      "  y = column_or_1d(y, warn=True)\n"
     ]
    },
    {
     "name": "stdout",
     "output_type": "stream",
     "text": [
      "[CV]  C=5, coef0=5, degree=3, gamma=1, kernel=poly, score=0.5669642857142857, total= 1.5min\n",
      "[CV] C=10, coef0=1, degree=2, gamma=0.1, kernel=poly .................\n"
     ]
    },
    {
     "name": "stderr",
     "output_type": "stream",
     "text": [
      "/home/fernando.favoretti/.local/lib/python3.6/site-packages/sklearn/utils/validation.py:578: DataConversionWarning: A column-vector y was passed when a 1d array was expected. Please change the shape of y to (n_samples, ), for example using ravel().\n",
      "  y = column_or_1d(y, warn=True)\n"
     ]
    },
    {
     "name": "stdout",
     "output_type": "stream",
     "text": [
      "[CV]  C=5, coef0=5, degree=3, gamma=10, kernel=poly, score=0.5089285714285714, total= 1.5min\n",
      "[CV] C=10, coef0=1, degree=2, gamma=1, kernel=poly ...................\n"
     ]
    },
    {
     "name": "stderr",
     "output_type": "stream",
     "text": [
      "/home/fernando.favoretti/.local/lib/python3.6/site-packages/sklearn/utils/validation.py:578: DataConversionWarning: A column-vector y was passed when a 1d array was expected. Please change the shape of y to (n_samples, ), for example using ravel().\n",
      "  y = column_or_1d(y, warn=True)\n"
     ]
    },
    {
     "name": "stdout",
     "output_type": "stream",
     "text": [
      "[CV]  C=5, coef0=5, degree=3, gamma=1, kernel=poly, score=0.536036036036036, total= 1.5min\n",
      "[CV] C=10, coef0=1, degree=2, gamma=1, kernel=poly ...................\n",
      "[CV]  C=5, coef0=5, degree=3, gamma=10, kernel=poly, score=0.5669642857142857, total= 1.5min\n",
      "[CV] C=10, coef0=1, degree=2, gamma=1, kernel=poly ...................\n"
     ]
    },
    {
     "name": "stderr",
     "output_type": "stream",
     "text": [
      "/home/fernando.favoretti/.local/lib/python3.6/site-packages/sklearn/utils/validation.py:578: DataConversionWarning: A column-vector y was passed when a 1d array was expected. Please change the shape of y to (n_samples, ), for example using ravel().\n",
      "  y = column_or_1d(y, warn=True)\n",
      "/home/fernando.favoretti/.local/lib/python3.6/site-packages/sklearn/utils/validation.py:578: DataConversionWarning: A column-vector y was passed when a 1d array was expected. Please change the shape of y to (n_samples, ), for example using ravel().\n",
      "  y = column_or_1d(y, warn=True)\n"
     ]
    },
    {
     "name": "stdout",
     "output_type": "stream",
     "text": [
      "[CV]  C=10, coef0=1, degree=1, gamma=0.1, kernel=poly, score=0.5, total= 1.5min\n",
      "[CV] C=10, coef0=1, degree=2, gamma=10, kernel=poly ..................\n"
     ]
    },
    {
     "name": "stderr",
     "output_type": "stream",
     "text": [
      "/home/fernando.favoretti/.local/lib/python3.6/site-packages/sklearn/utils/validation.py:578: DataConversionWarning: A column-vector y was passed when a 1d array was expected. Please change the shape of y to (n_samples, ), for example using ravel().\n",
      "  y = column_or_1d(y, warn=True)\n"
     ]
    },
    {
     "name": "stdout",
     "output_type": "stream",
     "text": [
      "[CV]  C=10, coef0=1, degree=1, gamma=0.1, kernel=poly, score=0.4594594594594595, total= 1.5min\n",
      "[CV] C=10, coef0=1, degree=2, gamma=10, kernel=poly ..................\n"
     ]
    },
    {
     "name": "stderr",
     "output_type": "stream",
     "text": [
      "/home/fernando.favoretti/.local/lib/python3.6/site-packages/sklearn/utils/validation.py:578: DataConversionWarning: A column-vector y was passed when a 1d array was expected. Please change the shape of y to (n_samples, ), for example using ravel().\n",
      "  y = column_or_1d(y, warn=True)\n"
     ]
    },
    {
     "name": "stdout",
     "output_type": "stream",
     "text": [
      "[CV]  C=10, coef0=1, degree=1, gamma=0.1, kernel=poly, score=0.5491071428571429, total= 1.6min\n",
      "[CV] C=10, coef0=1, degree=2, gamma=10, kernel=poly ..................\n"
     ]
    },
    {
     "name": "stderr",
     "output_type": "stream",
     "text": [
      "/home/fernando.favoretti/.local/lib/python3.6/site-packages/sklearn/utils/validation.py:578: DataConversionWarning: A column-vector y was passed when a 1d array was expected. Please change the shape of y to (n_samples, ), for example using ravel().\n",
      "  y = column_or_1d(y, warn=True)\n"
     ]
    },
    {
     "name": "stdout",
     "output_type": "stream",
     "text": [
      "[CV]  C=10, coef0=1, degree=1, gamma=1, kernel=poly, score=0.5, total= 1.5min\n",
      "[CV] C=10, coef0=1, degree=3, gamma=0.1, kernel=poly .................\n",
      "[CV]  C=5, coef0=5, degree=3, gamma=10, kernel=poly, score=0.536036036036036, total= 1.6min\n",
      "[CV] C=10, coef0=1, degree=3, gamma=0.1, kernel=poly .................\n"
     ]
    },
    {
     "name": "stderr",
     "output_type": "stream",
     "text": [
      "/home/fernando.favoretti/.local/lib/python3.6/site-packages/sklearn/utils/validation.py:578: DataConversionWarning: A column-vector y was passed when a 1d array was expected. Please change the shape of y to (n_samples, ), for example using ravel().\n",
      "  y = column_or_1d(y, warn=True)\n",
      "/home/fernando.favoretti/.local/lib/python3.6/site-packages/sklearn/utils/validation.py:578: DataConversionWarning: A column-vector y was passed when a 1d array was expected. Please change the shape of y to (n_samples, ), for example using ravel().\n",
      "  y = column_or_1d(y, warn=True)\n"
     ]
    },
    {
     "name": "stdout",
     "output_type": "stream",
     "text": [
      "[CV]  C=10, coef0=1, degree=1, gamma=1, kernel=poly, score=0.5491071428571429, total= 1.5min\n",
      "[CV] C=10, coef0=1, degree=3, gamma=0.1, kernel=poly .................\n"
     ]
    },
    {
     "name": "stderr",
     "output_type": "stream",
     "text": [
      "/home/fernando.favoretti/.local/lib/python3.6/site-packages/sklearn/utils/validation.py:578: DataConversionWarning: A column-vector y was passed when a 1d array was expected. Please change the shape of y to (n_samples, ), for example using ravel().\n",
      "  y = column_or_1d(y, warn=True)\n"
     ]
    },
    {
     "name": "stdout",
     "output_type": "stream",
     "text": [
      "[CV]  C=10, coef0=1, degree=1, gamma=1, kernel=poly, score=0.4594594594594595, total= 1.5min\n",
      "[CV] C=10, coef0=1, degree=3, gamma=1, kernel=poly ...................\n",
      "[CV]  C=10, coef0=1, degree=1, gamma=10, kernel=poly, score=0.5, total= 1.5min\n",
      "[CV] C=10, coef0=1, degree=3, gamma=1, kernel=poly ...................\n"
     ]
    },
    {
     "name": "stderr",
     "output_type": "stream",
     "text": [
      "/home/fernando.favoretti/.local/lib/python3.6/site-packages/sklearn/utils/validation.py:578: DataConversionWarning: A column-vector y was passed when a 1d array was expected. Please change the shape of y to (n_samples, ), for example using ravel().\n",
      "  y = column_or_1d(y, warn=True)\n",
      "/home/fernando.favoretti/.local/lib/python3.6/site-packages/sklearn/utils/validation.py:578: DataConversionWarning: A column-vector y was passed when a 1d array was expected. Please change the shape of y to (n_samples, ), for example using ravel().\n",
      "  y = column_or_1d(y, warn=True)\n"
     ]
    },
    {
     "name": "stdout",
     "output_type": "stream",
     "text": [
      "[CV]  C=10, coef0=1, degree=1, gamma=10, kernel=poly, score=0.4594594594594595, total= 1.5min\n",
      "[CV] C=10, coef0=1, degree=3, gamma=1, kernel=poly ...................\n"
     ]
    },
    {
     "name": "stderr",
     "output_type": "stream",
     "text": [
      "/home/fernando.favoretti/.local/lib/python3.6/site-packages/sklearn/utils/validation.py:578: DataConversionWarning: A column-vector y was passed when a 1d array was expected. Please change the shape of y to (n_samples, ), for example using ravel().\n",
      "  y = column_or_1d(y, warn=True)\n"
     ]
    },
    {
     "name": "stdout",
     "output_type": "stream",
     "text": [
      "[CV]  C=10, coef0=1, degree=1, gamma=10, kernel=poly, score=0.5491071428571429, total= 1.6min\n",
      "[CV] C=10, coef0=1, degree=3, gamma=10, kernel=poly ..................\n"
     ]
    },
    {
     "name": "stderr",
     "output_type": "stream",
     "text": [
      "/home/fernando.favoretti/.local/lib/python3.6/site-packages/sklearn/utils/validation.py:578: DataConversionWarning: A column-vector y was passed when a 1d array was expected. Please change the shape of y to (n_samples, ), for example using ravel().\n",
      "  y = column_or_1d(y, warn=True)\n"
     ]
    },
    {
     "name": "stdout",
     "output_type": "stream",
     "text": [
      "[CV]  C=10, coef0=1, degree=2, gamma=0.1, kernel=poly, score=0.5044642857142857, total= 1.5min\n",
      "[CV] C=10, coef0=1, degree=3, gamma=10, kernel=poly ..................\n"
     ]
    },
    {
     "name": "stderr",
     "output_type": "stream",
     "text": [
      "/home/fernando.favoretti/.local/lib/python3.6/site-packages/sklearn/utils/validation.py:578: DataConversionWarning: A column-vector y was passed when a 1d array was expected. Please change the shape of y to (n_samples, ), for example using ravel().\n",
      "  y = column_or_1d(y, warn=True)\n"
     ]
    },
    {
     "name": "stdout",
     "output_type": "stream",
     "text": [
      "[CV]  C=10, coef0=1, degree=2, gamma=0.1, kernel=poly, score=0.5714285714285714, total= 1.5min\n",
      "[CV] C=10, coef0=1, degree=3, gamma=10, kernel=poly ..................\n",
      "[CV]  C=10, coef0=1, degree=2, gamma=0.1, kernel=poly, score=0.509009009009009, total= 1.5min\n",
      "[CV] C=10, coef0=5, degree=1, gamma=0.1, kernel=poly .................\n"
     ]
    },
    {
     "name": "stderr",
     "output_type": "stream",
     "text": [
      "/home/fernando.favoretti/.local/lib/python3.6/site-packages/sklearn/utils/validation.py:578: DataConversionWarning: A column-vector y was passed when a 1d array was expected. Please change the shape of y to (n_samples, ), for example using ravel().\n",
      "  y = column_or_1d(y, warn=True)\n",
      "/home/fernando.favoretti/.local/lib/python3.6/site-packages/sklearn/utils/validation.py:578: DataConversionWarning: A column-vector y was passed when a 1d array was expected. Please change the shape of y to (n_samples, ), for example using ravel().\n",
      "  y = column_or_1d(y, warn=True)\n"
     ]
    },
    {
     "name": "stdout",
     "output_type": "stream",
     "text": [
      "[CV]  C=10, coef0=1, degree=2, gamma=1, kernel=poly, score=0.5044642857142857, total= 1.5min\n",
      "[CV] C=10, coef0=5, degree=1, gamma=0.1, kernel=poly .................\n"
     ]
    },
    {
     "name": "stderr",
     "output_type": "stream",
     "text": [
      "/home/fernando.favoretti/.local/lib/python3.6/site-packages/sklearn/utils/validation.py:578: DataConversionWarning: A column-vector y was passed when a 1d array was expected. Please change the shape of y to (n_samples, ), for example using ravel().\n",
      "  y = column_or_1d(y, warn=True)\n"
     ]
    },
    {
     "name": "stdout",
     "output_type": "stream",
     "text": [
      "[CV]  C=10, coef0=1, degree=2, gamma=1, kernel=poly, score=0.5714285714285714, total= 1.5min\n",
      "[CV] C=10, coef0=5, degree=1, gamma=0.1, kernel=poly .................\n"
     ]
    },
    {
     "name": "stderr",
     "output_type": "stream",
     "text": [
      "/home/fernando.favoretti/.local/lib/python3.6/site-packages/sklearn/utils/validation.py:578: DataConversionWarning: A column-vector y was passed when a 1d array was expected. Please change the shape of y to (n_samples, ), for example using ravel().\n",
      "  y = column_or_1d(y, warn=True)\n"
     ]
    },
    {
     "name": "stdout",
     "output_type": "stream",
     "text": [
      "[CV]  C=10, coef0=1, degree=2, gamma=1, kernel=poly, score=0.509009009009009, total= 1.5min\n",
      "[CV] C=10, coef0=5, degree=1, gamma=1, kernel=poly ...................\n"
     ]
    },
    {
     "name": "stderr",
     "output_type": "stream",
     "text": [
      "/home/fernando.favoretti/.local/lib/python3.6/site-packages/sklearn/utils/validation.py:578: DataConversionWarning: A column-vector y was passed when a 1d array was expected. Please change the shape of y to (n_samples, ), for example using ravel().\n",
      "  y = column_or_1d(y, warn=True)\n"
     ]
    },
    {
     "name": "stdout",
     "output_type": "stream",
     "text": [
      "[CV]  C=10, coef0=1, degree=3, gamma=0.1, kernel=poly, score=0.5669642857142857, total= 1.5min\n",
      "[CV] C=10, coef0=5, degree=1, gamma=1, kernel=poly ...................\n",
      "[CV]  C=10, coef0=1, degree=2, gamma=10, kernel=poly, score=0.5044642857142857, total= 1.5min\n",
      "[CV] C=10, coef0=5, degree=1, gamma=1, kernel=poly ...................\n"
     ]
    },
    {
     "name": "stderr",
     "output_type": "stream",
     "text": [
      "/home/fernando.favoretti/.local/lib/python3.6/site-packages/sklearn/utils/validation.py:578: DataConversionWarning: A column-vector y was passed when a 1d array was expected. Please change the shape of y to (n_samples, ), for example using ravel().\n",
      "  y = column_or_1d(y, warn=True)\n",
      "/home/fernando.favoretti/.local/lib/python3.6/site-packages/sklearn/utils/validation.py:578: DataConversionWarning: A column-vector y was passed when a 1d array was expected. Please change the shape of y to (n_samples, ), for example using ravel().\n",
      "  y = column_or_1d(y, warn=True)\n"
     ]
    },
    {
     "name": "stdout",
     "output_type": "stream",
     "text": [
      "[CV]  C=10, coef0=1, degree=3, gamma=1, kernel=poly, score=0.5669642857142857, total= 1.5min\n",
      "[CV] C=10, coef0=5, degree=1, gamma=10, kernel=poly ..................\n",
      "[CV]  C=10, coef0=1, degree=2, gamma=10, kernel=poly, score=0.5714285714285714, total= 1.6min\n",
      "[CV] C=10, coef0=5, degree=1, gamma=10, kernel=poly ..................\n"
     ]
    },
    {
     "name": "stderr",
     "output_type": "stream",
     "text": [
      "/home/fernando.favoretti/.local/lib/python3.6/site-packages/sklearn/utils/validation.py:578: DataConversionWarning: A column-vector y was passed when a 1d array was expected. Please change the shape of y to (n_samples, ), for example using ravel().\n",
      "  y = column_or_1d(y, warn=True)\n",
      "/home/fernando.favoretti/.local/lib/python3.6/site-packages/sklearn/utils/validation.py:578: DataConversionWarning: A column-vector y was passed when a 1d array was expected. Please change the shape of y to (n_samples, ), for example using ravel().\n",
      "  y = column_or_1d(y, warn=True)\n"
     ]
    },
    {
     "name": "stdout",
     "output_type": "stream",
     "text": [
      "[CV]  C=10, coef0=1, degree=2, gamma=10, kernel=poly, score=0.509009009009009, total= 1.6min\n",
      "[CV] C=10, coef0=5, degree=1, gamma=10, kernel=poly ..................\n",
      "[CV]  C=10, coef0=1, degree=3, gamma=1, kernel=poly, score=0.5089285714285714, total= 1.5min\n",
      "[CV] C=10, coef0=5, degree=2, gamma=0.1, kernel=poly .................\n"
     ]
    },
    {
     "name": "stderr",
     "output_type": "stream",
     "text": [
      "/home/fernando.favoretti/.local/lib/python3.6/site-packages/sklearn/utils/validation.py:578: DataConversionWarning: A column-vector y was passed when a 1d array was expected. Please change the shape of y to (n_samples, ), for example using ravel().\n",
      "  y = column_or_1d(y, warn=True)\n",
      "/home/fernando.favoretti/.local/lib/python3.6/site-packages/sklearn/utils/validation.py:578: DataConversionWarning: A column-vector y was passed when a 1d array was expected. Please change the shape of y to (n_samples, ), for example using ravel().\n",
      "  y = column_or_1d(y, warn=True)\n"
     ]
    },
    {
     "name": "stdout",
     "output_type": "stream",
     "text": [
      "[CV]  C=10, coef0=1, degree=3, gamma=0.1, kernel=poly, score=0.5089285714285714, total= 1.5min\n",
      "[CV] C=10, coef0=5, degree=2, gamma=0.1, kernel=poly .................\n"
     ]
    },
    {
     "name": "stderr",
     "output_type": "stream",
     "text": [
      "/home/fernando.favoretti/.local/lib/python3.6/site-packages/sklearn/utils/validation.py:578: DataConversionWarning: A column-vector y was passed when a 1d array was expected. Please change the shape of y to (n_samples, ), for example using ravel().\n",
      "  y = column_or_1d(y, warn=True)\n"
     ]
    },
    {
     "name": "stdout",
     "output_type": "stream",
     "text": [
      "[CV]  C=10, coef0=1, degree=3, gamma=0.1, kernel=poly, score=0.536036036036036, total= 1.6min\n",
      "[CV] C=10, coef0=5, degree=2, gamma=0.1, kernel=poly .................\n"
     ]
    },
    {
     "name": "stderr",
     "output_type": "stream",
     "text": [
      "/home/fernando.favoretti/.local/lib/python3.6/site-packages/sklearn/utils/validation.py:578: DataConversionWarning: A column-vector y was passed when a 1d array was expected. Please change the shape of y to (n_samples, ), for example using ravel().\n",
      "  y = column_or_1d(y, warn=True)\n"
     ]
    },
    {
     "name": "stdout",
     "output_type": "stream",
     "text": [
      "[CV]  C=10, coef0=1, degree=3, gamma=10, kernel=poly, score=0.5089285714285714, total= 1.5min\n",
      "[CV] C=10, coef0=5, degree=2, gamma=1, kernel=poly ...................\n"
     ]
    },
    {
     "name": "stderr",
     "output_type": "stream",
     "text": [
      "/home/fernando.favoretti/.local/lib/python3.6/site-packages/sklearn/utils/validation.py:578: DataConversionWarning: A column-vector y was passed when a 1d array was expected. Please change the shape of y to (n_samples, ), for example using ravel().\n",
      "  y = column_or_1d(y, warn=True)\n"
     ]
    },
    {
     "name": "stdout",
     "output_type": "stream",
     "text": [
      "[CV]  C=10, coef0=1, degree=3, gamma=1, kernel=poly, score=0.536036036036036, total= 1.6min\n",
      "[CV] C=10, coef0=5, degree=2, gamma=1, kernel=poly ...................\n"
     ]
    },
    {
     "name": "stderr",
     "output_type": "stream",
     "text": [
      "/home/fernando.favoretti/.local/lib/python3.6/site-packages/sklearn/utils/validation.py:578: DataConversionWarning: A column-vector y was passed when a 1d array was expected. Please change the shape of y to (n_samples, ), for example using ravel().\n",
      "  y = column_or_1d(y, warn=True)\n"
     ]
    },
    {
     "name": "stdout",
     "output_type": "stream",
     "text": [
      "[CV]  C=10, coef0=1, degree=3, gamma=10, kernel=poly, score=0.5669642857142857, total= 1.5min\n",
      "[CV] C=10, coef0=5, degree=2, gamma=1, kernel=poly ...................\n"
     ]
    },
    {
     "name": "stderr",
     "output_type": "stream",
     "text": [
      "/home/fernando.favoretti/.local/lib/python3.6/site-packages/sklearn/utils/validation.py:578: DataConversionWarning: A column-vector y was passed when a 1d array was expected. Please change the shape of y to (n_samples, ), for example using ravel().\n",
      "  y = column_or_1d(y, warn=True)\n"
     ]
    },
    {
     "name": "stdout",
     "output_type": "stream",
     "text": [
      "[CV]  C=10, coef0=5, degree=1, gamma=0.1, kernel=poly, score=0.5, total= 1.5min\n",
      "[CV] C=10, coef0=5, degree=2, gamma=10, kernel=poly ..................\n"
     ]
    },
    {
     "name": "stderr",
     "output_type": "stream",
     "text": [
      "/home/fernando.favoretti/.local/lib/python3.6/site-packages/sklearn/utils/validation.py:578: DataConversionWarning: A column-vector y was passed when a 1d array was expected. Please change the shape of y to (n_samples, ), for example using ravel().\n",
      "  y = column_or_1d(y, warn=True)\n"
     ]
    },
    {
     "name": "stdout",
     "output_type": "stream",
     "text": [
      "[CV]  C=10, coef0=1, degree=3, gamma=10, kernel=poly, score=0.536036036036036, total= 1.5min\n",
      "[CV] C=10, coef0=5, degree=2, gamma=10, kernel=poly ..................\n"
     ]
    },
    {
     "name": "stderr",
     "output_type": "stream",
     "text": [
      "/home/fernando.favoretti/.local/lib/python3.6/site-packages/sklearn/utils/validation.py:578: DataConversionWarning: A column-vector y was passed when a 1d array was expected. Please change the shape of y to (n_samples, ), for example using ravel().\n",
      "  y = column_or_1d(y, warn=True)\n"
     ]
    },
    {
     "name": "stdout",
     "output_type": "stream",
     "text": [
      "[CV]  C=10, coef0=5, degree=1, gamma=0.1, kernel=poly, score=0.4594594594594595, total= 1.5min\n",
      "[CV] C=10, coef0=5, degree=2, gamma=10, kernel=poly ..................\n",
      "[CV]  C=10, coef0=5, degree=1, gamma=0.1, kernel=poly, score=0.5491071428571429, total= 1.5min\n",
      "[CV] C=10, coef0=5, degree=3, gamma=0.1, kernel=poly .................\n"
     ]
    },
    {
     "name": "stderr",
     "output_type": "stream",
     "text": [
      "/home/fernando.favoretti/.local/lib/python3.6/site-packages/sklearn/utils/validation.py:578: DataConversionWarning: A column-vector y was passed when a 1d array was expected. Please change the shape of y to (n_samples, ), for example using ravel().\n",
      "  y = column_or_1d(y, warn=True)\n",
      "/home/fernando.favoretti/.local/lib/python3.6/site-packages/sklearn/utils/validation.py:578: DataConversionWarning: A column-vector y was passed when a 1d array was expected. Please change the shape of y to (n_samples, ), for example using ravel().\n",
      "  y = column_or_1d(y, warn=True)\n"
     ]
    },
    {
     "name": "stdout",
     "output_type": "stream",
     "text": [
      "[CV]  C=10, coef0=5, degree=1, gamma=1, kernel=poly, score=0.5, total= 1.5min\n",
      "[CV] C=10, coef0=5, degree=3, gamma=0.1, kernel=poly .................\n"
     ]
    },
    {
     "name": "stderr",
     "output_type": "stream",
     "text": [
      "/home/fernando.favoretti/.local/lib/python3.6/site-packages/sklearn/utils/validation.py:578: DataConversionWarning: A column-vector y was passed when a 1d array was expected. Please change the shape of y to (n_samples, ), for example using ravel().\n",
      "  y = column_or_1d(y, warn=True)\n"
     ]
    },
    {
     "name": "stdout",
     "output_type": "stream",
     "text": [
      "[CV]  C=10, coef0=5, degree=1, gamma=10, kernel=poly, score=0.5, total= 1.6min\n",
      "[CV] C=10, coef0=5, degree=3, gamma=0.1, kernel=poly .................\n"
     ]
    },
    {
     "name": "stderr",
     "output_type": "stream",
     "text": [
      "/home/fernando.favoretti/.local/lib/python3.6/site-packages/sklearn/utils/validation.py:578: DataConversionWarning: A column-vector y was passed when a 1d array was expected. Please change the shape of y to (n_samples, ), for example using ravel().\n",
      "  y = column_or_1d(y, warn=True)\n"
     ]
    },
    {
     "name": "stdout",
     "output_type": "stream",
     "text": [
      "[CV]  C=10, coef0=5, degree=1, gamma=1, kernel=poly, score=0.5491071428571429, total= 1.5min\n",
      "[CV] C=10, coef0=5, degree=3, gamma=1, kernel=poly ...................\n"
     ]
    },
    {
     "name": "stderr",
     "output_type": "stream",
     "text": [
      "/home/fernando.favoretti/.local/lib/python3.6/site-packages/sklearn/utils/validation.py:578: DataConversionWarning: A column-vector y was passed when a 1d array was expected. Please change the shape of y to (n_samples, ), for example using ravel().\n",
      "  y = column_or_1d(y, warn=True)\n"
     ]
    },
    {
     "name": "stdout",
     "output_type": "stream",
     "text": [
      "[CV]  C=10, coef0=5, degree=1, gamma=1, kernel=poly, score=0.4594594594594595, total= 1.5min\n",
      "[CV] C=10, coef0=5, degree=3, gamma=1, kernel=poly ...................\n"
     ]
    },
    {
     "name": "stderr",
     "output_type": "stream",
     "text": [
      "/home/fernando.favoretti/.local/lib/python3.6/site-packages/sklearn/utils/validation.py:578: DataConversionWarning: A column-vector y was passed when a 1d array was expected. Please change the shape of y to (n_samples, ), for example using ravel().\n",
      "  y = column_or_1d(y, warn=True)\n"
     ]
    },
    {
     "name": "stdout",
     "output_type": "stream",
     "text": [
      "[CV]  C=10, coef0=5, degree=1, gamma=10, kernel=poly, score=0.4594594594594595, total= 1.5min\n",
      "[CV] C=10, coef0=5, degree=3, gamma=1, kernel=poly ...................\n",
      "[CV]  C=10, coef0=5, degree=1, gamma=10, kernel=poly, score=0.5491071428571429, total= 1.6min\n",
      "[CV] C=10, coef0=5, degree=3, gamma=10, kernel=poly ..................\n",
      "[CV]  C=10, coef0=5, degree=2, gamma=0.1, kernel=poly, score=0.5044642857142857, total= 1.5min\n",
      "[CV] C=10, coef0=5, degree=3, gamma=10, kernel=poly ..................\n"
     ]
    },
    {
     "name": "stderr",
     "output_type": "stream",
     "text": [
      "/home/fernando.favoretti/.local/lib/python3.6/site-packages/sklearn/utils/validation.py:578: DataConversionWarning: A column-vector y was passed when a 1d array was expected. Please change the shape of y to (n_samples, ), for example using ravel().\n",
      "  y = column_or_1d(y, warn=True)\n",
      "/home/fernando.favoretti/.local/lib/python3.6/site-packages/sklearn/utils/validation.py:578: DataConversionWarning: A column-vector y was passed when a 1d array was expected. Please change the shape of y to (n_samples, ), for example using ravel().\n",
      "  y = column_or_1d(y, warn=True)\n",
      "/home/fernando.favoretti/.local/lib/python3.6/site-packages/sklearn/utils/validation.py:578: DataConversionWarning: A column-vector y was passed when a 1d array was expected. Please change the shape of y to (n_samples, ), for example using ravel().\n",
      "  y = column_or_1d(y, warn=True)\n"
     ]
    },
    {
     "name": "stdout",
     "output_type": "stream",
     "text": [
      "[CV]  C=10, coef0=5, degree=2, gamma=0.1, kernel=poly, score=0.5714285714285714, total= 1.6min\n",
      "[CV] C=10, coef0=5, degree=3, gamma=10, kernel=poly ..................\n"
     ]
    },
    {
     "name": "stderr",
     "output_type": "stream",
     "text": [
      "/home/fernando.favoretti/.local/lib/python3.6/site-packages/sklearn/utils/validation.py:578: DataConversionWarning: A column-vector y was passed when a 1d array was expected. Please change the shape of y to (n_samples, ), for example using ravel().\n",
      "  y = column_or_1d(y, warn=True)\n"
     ]
    },
    {
     "name": "stdout",
     "output_type": "stream",
     "text": [
      "[CV]  C=10, coef0=5, degree=2, gamma=0.1, kernel=poly, score=0.509009009009009, total= 1.5min\n",
      "[CV]  C=10, coef0=5, degree=2, gamma=1, kernel=poly, score=0.5714285714285714, total= 1.5min\n",
      "[CV]  C=10, coef0=5, degree=2, gamma=1, kernel=poly, score=0.5044642857142857, total= 1.5min\n",
      "[CV]  C=10, coef0=5, degree=2, gamma=1, kernel=poly, score=0.509009009009009, total= 1.5min\n",
      "[CV]  C=10, coef0=5, degree=2, gamma=10, kernel=poly, score=0.5044642857142857, total= 1.4min\n",
      "[CV]  C=10, coef0=5, degree=2, gamma=10, kernel=poly, score=0.5714285714285714, total= 1.4min\n",
      "[CV]  C=10, coef0=5, degree=3, gamma=0.1, kernel=poly, score=0.5669642857142857, total= 1.3min\n",
      "[CV]  C=10, coef0=5, degree=3, gamma=0.1, kernel=poly, score=0.5089285714285714, total= 1.3min\n",
      "[CV]  C=10, coef0=5, degree=3, gamma=1, kernel=poly, score=0.5669642857142857, total= 1.3min\n",
      "[CV]  C=10, coef0=5, degree=2, gamma=10, kernel=poly, score=0.509009009009009, total= 1.4min\n",
      "[CV]  C=10, coef0=5, degree=3, gamma=1, kernel=poly, score=0.5089285714285714, total= 1.3min\n",
      "[CV]  C=10, coef0=5, degree=3, gamma=10, kernel=poly, score=0.5669642857142857, total= 1.3min\n",
      "[CV]  C=10, coef0=5, degree=3, gamma=1, kernel=poly, score=0.536036036036036, total= 1.3min\n",
      "[CV]  C=10, coef0=5, degree=3, gamma=10, kernel=poly, score=0.5089285714285714, total= 1.3min\n",
      "[CV]  C=10, coef0=5, degree=3, gamma=0.1, kernel=poly, score=0.536036036036036, total= 1.4min\n",
      "[CV]  C=10, coef0=5, degree=3, gamma=10, kernel=poly, score=0.536036036036036, total= 1.4min\n"
     ]
    },
    {
     "name": "stderr",
     "output_type": "stream",
     "text": [
      "[Parallel(n_jobs=-1)]: Done 252 out of 252 | elapsed: 40.2min finished\n",
      "/home/fernando.favoretti/.local/lib/python3.6/site-packages/sklearn/utils/validation.py:578: DataConversionWarning: A column-vector y was passed when a 1d array was expected. Please change the shape of y to (n_samples, ), for example using ravel().\n",
      "  y = column_or_1d(y, warn=True)\n"
     ]
    },
    {
     "data": {
      "text/plain": [
       "GridSearchCV(cv=3, error_score='raise',\n",
       "       estimator=SVC(C=1.0, cache_size=200, class_weight=None, coef0=0.0,\n",
       "  decision_function_shape='ovr', degree=3, gamma='auto', kernel='rbf',\n",
       "  max_iter=-1, probability=False, random_state=None, shrinking=True,\n",
       "  tol=0.001, verbose=False),\n",
       "       fit_params=None, iid=True, n_jobs=-1,\n",
       "       param_grid=[{'kernel': ['linear'], 'C': [0.1, 1, 10]}, {'kernel': ['rbf'], 'C': [0.1, 1, 10], 'gamma': [0.1, 1, 10]}, {'kernel': ['sigmoid'], 'C': [0.1, 5, 10], 'coef0': [1, 5], 'gamma': [0.1, 1, 10]}, {'kernel': ['poly'], 'C': [0.1, 5, 10], 'coef0': [1, 5], 'degree': [1, 2, 3], 'gamma': [0.1, 1, 10]}],\n",
       "       pre_dispatch='2*n_jobs', refit=True, return_train_score='warn',\n",
       "       scoring=None, verbose=5)"
      ]
     },
     "execution_count": 17,
     "metadata": {},
     "output_type": "execute_result"
    }
   ],
   "source": [
    "grid_search_full.fit(X_train, y_train)"
   ]
  },
  {
   "cell_type": "code",
   "execution_count": 91,
   "metadata": {
    "scrolled": true
   },
   "outputs": [
    {
     "name": "stderr",
     "output_type": "stream",
     "text": [
      "/home/fernando.favoretti/.local/lib/python3.6/site-packages/sklearn/utils/validation.py:578: DataConversionWarning: A column-vector y was passed when a 1d array was expected. Please change the shape of y to (n_samples, ), for example using ravel().\n",
      "  y = column_or_1d(y, warn=True)\n"
     ]
    },
    {
     "data": {
      "text/plain": [
       "SVC(C=0.1, cache_size=200, class_weight=None, coef0=1,\n",
       "  decision_function_shape='ovr', degree=3, gamma=0.1, kernel='poly',\n",
       "  max_iter=-1, probability=False, random_state=None, shrinking=True,\n",
       "  tol=0.001, verbose=False)"
      ]
     },
     "execution_count": 91,
     "metadata": {},
     "output_type": "execute_result"
    }
   ],
   "source": [
    "tunned_svm=SVC(C=0.1, cache_size=200, class_weight=None, coef0=1,\n",
    "  decision_function_shape='ovr', degree=3, gamma=0.1, kernel='poly',\n",
    "  max_iter=-1, probability=False, random_state=None, shrinking=True,\n",
    "  tol=0.001, verbose=False)\n",
    "\n",
    "tunned_svm.fit(X_train, y_train)\n",
    "roc_auc_score(y_test, tunned_svm.predict(X_test))"
   ]
  },
  {
   "cell_type": "markdown",
   "metadata": {},
   "source": [
    "#### Roda todas as combinações da SVM para as features extraídas pelo PCA"
   ]
  },
  {
   "cell_type": "code",
   "execution_count": 113,
   "metadata": {},
   "outputs": [
    {
     "name": "stderr",
     "output_type": "stream",
     "text": [
      "/home/fernando.favoretti/.local/lib/python3.6/site-packages/sklearn/utils/validation.py:578: DataConversionWarning: A column-vector y was passed when a 1d array was expected. Please change the shape of y to (n_samples, ), for example using ravel().\n",
      "  y = column_or_1d(y, warn=True)\n"
     ]
    },
    {
     "data": {
      "text/plain": [
       "0.5363636363636364"
      ]
     },
     "execution_count": 113,
     "metadata": {},
     "output_type": "execute_result"
    }
   ],
   "source": [
    "svm_pca = SVC(C=0.1, cache_size=200, class_weight=None, coef0=1,\n",
    "  decision_function_shape='ovr', degree=3, gamma=0.1, kernel='poly',\n",
    "  max_iter=-1, probability=False, random_state=None, shrinking=True,\n",
    "  tol=0.001, verbose=False)\n",
    "\n",
    "svm_pca.fit(X_train_pca, y_train_pca)\n",
    "roc_auc_score(y_test_pca, svm_pca.predict(X_test_pca))\n"
   ]
  },
  {
   "cell_type": "markdown",
   "metadata": {},
   "source": [
    "#### SVM tunada para as features selecionadas pela Informação Mútua (MIC)"
   ]
  },
  {
   "cell_type": "code",
   "execution_count": 81,
   "metadata": {},
   "outputs": [
    {
     "name": "stderr",
     "output_type": "stream",
     "text": [
      "/home/fernando.favoretti/.local/lib/python3.6/site-packages/sklearn/utils/validation.py:578: DataConversionWarning: A column-vector y was passed when a 1d array was expected. Please change the shape of y to (n_samples, ), for example using ravel().\n",
      "  y = column_or_1d(y, warn=True)\n"
     ]
    },
    {
     "data": {
      "text/plain": [
       "0.5212121212121212"
      ]
     },
     "execution_count": 81,
     "metadata": {},
     "output_type": "execute_result"
    }
   ],
   "source": [
    "svm_mic = SVC(C=0.1, cache_size=200, class_weight=None, coef0=1,\n",
    "  decision_function_shape='ovr', degree=3, gamma=0.1, kernel='poly',\n",
    "  max_iter=-1, probability=False, random_state=None, shrinking=True,\n",
    "  tol=0.001, verbose=False)\n",
    "\n",
    "svm_mic.fit(X_train[mic_features], y_train)\n",
    "roc_auc_score(y_test, svm_mic.predict(X_test[mic_features]))"
   ]
  },
  {
   "cell_type": "markdown",
   "metadata": {},
   "source": [
    "#### SVM tunada para as features selecionadas pelo Algoritmo Genético (GA)"
   ]
  },
  {
   "cell_type": "code",
   "execution_count": 73,
   "metadata": {},
   "outputs": [
    {
     "data": {
      "text/plain": [
       "SVC(C=0.1, cache_size=200, class_weight=None, coef0=1,\n",
       "  decision_function_shape='ovr', degree=3, gamma=0.1, kernel='poly',\n",
       "  max_iter=-1, probability=False, random_state=None, shrinking=True,\n",
       "  tol=0.001, verbose=False)"
      ]
     },
     "execution_count": 73,
     "metadata": {},
     "output_type": "execute_result"
    }
   ],
   "source": [
    "best_parameters"
   ]
  },
  {
   "cell_type": "code",
   "execution_count": 82,
   "metadata": {},
   "outputs": [
    {
     "name": "stderr",
     "output_type": "stream",
     "text": [
      "/home/fernando.favoretti/.local/lib/python3.6/site-packages/sklearn/utils/validation.py:578: DataConversionWarning: A column-vector y was passed when a 1d array was expected. Please change the shape of y to (n_samples, ), for example using ravel().\n",
      "  y = column_or_1d(y, warn=True)\n"
     ]
    },
    {
     "data": {
      "text/plain": [
       "0.5303030303030303"
      ]
     },
     "execution_count": 82,
     "metadata": {},
     "output_type": "execute_result"
    }
   ],
   "source": [
    "svm_ga = SVC(C=0.1, cache_size=200, class_weight=None, coef0=1,\n",
    "  decision_function_shape='ovr', degree=3, gamma=0.1, kernel='poly',\n",
    "  max_iter=-1, probability=False, random_state=None, shrinking=True,\n",
    "  tol=0.001, verbose=False)\n",
    "\n",
    "svm_ga.fit(X_train[ga_features], y_train)\n",
    "roc_auc_score(y_test, svm_ga.predict(X_test[ga_features]))"
   ]
  }
 ],
 "metadata": {
  "kernelspec": {
   "display_name": "Python 3",
   "language": "python",
   "name": "python3"
  },
  "language_info": {
   "codemirror_mode": {
    "name": "ipython",
    "version": 3
   },
   "file_extension": ".py",
   "mimetype": "text/x-python",
   "name": "python",
   "nbconvert_exporter": "python",
   "pygments_lexer": "ipython3",
   "version": "3.5.2"
  }
 },
 "nbformat": 4,
 "nbformat_minor": 2
}
