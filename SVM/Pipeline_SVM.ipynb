{
 "cells": [
  {
   "cell_type": "code",
   "execution_count": null,
   "metadata": {},
   "outputs": [],
   "source": [
    "# import das libs necessárias\n",
    "import pandas as pd # trabalhar com dataframes\n",
    "import numpy as np # realizacao de algumas operacoes com matrizes\n",
    "\n",
    "#imagens\n",
    "import cv2 # transformacoes faceis em imagens\n",
    "from PIL import Image # trabalhar com imagens\n",
    "\n",
    "# ferramentas\n",
    "import glob # exploracao de diretorios\n",
    "from pylab import *\n",
    "import tqdm\n",
    "import importlib\n",
    "import time\n",
    "\n",
    "# plot \n",
    "import matplotlib.pyplot as plt # plotagem\n",
    "%matplotlib inline\n",
    "\n",
    "# Machine Learning\n",
    "from sklearn import svm\n",
    "from sklearn.model_selection import GridSearchCV # Grid Search para rodar todos os parametros\n",
    "\n",
    "#importando ferramentas já implementadas anteriormente\n",
    "import sampling #retorna uma amostra para treino\n",
    "importlib.reload(sampling)\n",
    "import PCA_and_Inverse\n",
    "importlib.reload(PCA_and_Inverse)\n",
    "import feature_selection\n",
    "importlib.reload(feature_selection)"
   ]
  },
  {
   "cell_type": "markdown",
   "metadata": {},
   "source": [
    "## Cria uma amostra das imagens do tamanho definido e carrega em dataframes"
   ]
  },
  {
   "cell_type": "code",
   "execution_count": null,
   "metadata": {
    "scrolled": false
   },
   "outputs": [],
   "source": [
    "#carregando amostra dos dados\n",
    "X, Y = sampling.get_sample(400)"
   ]
  },
  {
   "cell_type": "markdown",
   "metadata": {},
   "source": [
    "## Extração de características\n",
    "\n",
    "- Calcula as Componentes principais para os dados carregados"
   ]
  },
  {
   "cell_type": "code",
   "execution_count": null,
   "metadata": {},
   "outputs": [],
   "source": [
    "pca = PCA_and_Inverse.PCA_and_Inverse()\n",
    "pca_components = pca.get_PCA(X=X, n_components=64)"
   ]
  },
  {
   "cell_type": "markdown",
   "metadata": {},
   "source": [
    "## Seleção de características\n",
    "\n",
    "- Calcula as melhores features a serem utilizadas pelos métodos de:\n",
    "    - Informação Mútua\n",
    "    - Algoritmo Genético"
   ]
  },
  {
   "cell_type": "markdown",
   "metadata": {},
   "source": [
    "#### Informação Mútua"
   ]
  },
  {
   "cell_type": "code",
   "execution_count": null,
   "metadata": {
    "scrolled": true
   },
   "outputs": [],
   "source": [
    "mic_threshold = 0.05\n",
    "mic_features_df = feature_selection.get_MIC_features(X=X, Y=Y)\n",
    "mic_features = list(mic_features_df[mic_features_df[0] > mic_threshold].index)"
   ]
  },
  {
   "cell_type": "markdown",
   "metadata": {},
   "source": [
    "#### Algoritmo Genético"
   ]
  },
  {
   "cell_type": "code",
   "execution_count": null,
   "metadata": {},
   "outputs": [],
   "source": [
    "ga_features = feature_selection.get_GA_features(X=X, Y=Y)\n",
    "ga_features"
   ]
  },
  {
   "cell_type": "markdown",
   "metadata": {},
   "source": [
    "## Gera as combinações de parâmetros para rodar o SVM"
   ]
  },
  {
   "cell_type": "code",
   "execution_count": null,
   "metadata": {},
   "outputs": [],
   "source": [
    "svm_classifier = svm.SVC()\n",
    "parameters = [{\"kernel\":[\"linear\"], \"C\":[0.1, 1, 10]},\n",
    "              {\"kernel\":[\"rbf\"], \"C\":[0.1, 1, 10], \"gamma\":[0.1, 1, 10]},\n",
    "              {\"kernel\":[\"sigmoid\"], \"C\":[0.1, 5, 10], \"coef0\":[1,5], \"gamma\":[0.1, 1, 10]},\n",
    "              {\"kernel\":[\"poly\"], \"C\":[0.1, 5, 10], \"coef0\":[1,5], \"degree\":[1, 2, 3], \"gamma\":[0.1, 1, 10]}\n",
    "             ]"
   ]
  },
  {
   "cell_type": "markdown",
   "metadata": {},
   "source": [
    "#### Roda todas as combinações da SVM para as features"
   ]
  },
  {
   "cell_type": "code",
   "execution_count": null,
   "metadata": {},
   "outputs": [],
   "source": [
    "grid_search_full = GridSearchCV(svm_classifier, parameters, verbose=5, n_jobs=-1, cv=3)"
   ]
  },
  {
   "cell_type": "code",
   "execution_count": null,
   "metadata": {},
   "outputs": [],
   "source": [
    "grid_search_full.fit(X, Y)"
   ]
  },
  {
   "cell_type": "code",
   "execution_count": null,
   "metadata": {
    "scrolled": true
   },
   "outputs": [],
   "source": [
    "grid_search_full.cv_results_"
   ]
  },
  {
   "cell_type": "markdown",
   "metadata": {},
   "source": [
    "#### Roda todas as combinações da SVM para as features extraídas pelo PCA"
   ]
  },
  {
   "cell_type": "code",
   "execution_count": null,
   "metadata": {},
   "outputs": [],
   "source": [
    "grid_search_pca = GridSearchCV(svm_classifier, parameters, verbose=5, n_jobs=-1, cv=3)"
   ]
  },
  {
   "cell_type": "code",
   "execution_count": null,
   "metadata": {
    "scrolled": false
   },
   "outputs": [],
   "source": [
    "grid_search_pca.fit(pca_components, Y)"
   ]
  },
  {
   "cell_type": "code",
   "execution_count": null,
   "metadata": {
    "scrolled": true
   },
   "outputs": [],
   "source": [
    "grid_search_pca.cv_results_"
   ]
  },
  {
   "cell_type": "markdown",
   "metadata": {},
   "source": [
    "#### Roda todas as combinações da SVM para as features selecionadas pela Informação Mútua (MIC)"
   ]
  },
  {
   "cell_type": "code",
   "execution_count": null,
   "metadata": {},
   "outputs": [],
   "source": [
    "grid_search_mic = GridSearchCV(svm_classifier, parameters, verbose=5, n_jobs=-1, cv=3)"
   ]
  },
  {
   "cell_type": "code",
   "execution_count": null,
   "metadata": {
    "scrolled": true
   },
   "outputs": [],
   "source": [
    "grid_search_mic.fit(X[mic_features], Y)"
   ]
  },
  {
   "cell_type": "code",
   "execution_count": null,
   "metadata": {
    "scrolled": true
   },
   "outputs": [],
   "source": [
    "grid_search_mic.cv_results_"
   ]
  },
  {
   "cell_type": "markdown",
   "metadata": {},
   "source": [
    "#### Roda todas as combinações da SVM para as features selecionadas pelo Algoritmo Genético (GA)"
   ]
  },
  {
   "cell_type": "code",
   "execution_count": null,
   "metadata": {},
   "outputs": [],
   "source": [
    "grid_search_ga = GridSearchCV(svm_classifier, parameters, verbose=5, n_jobs=-1, cv=3)"
   ]
  },
  {
   "cell_type": "code",
   "execution_count": null,
   "metadata": {
    "scrolled": true
   },
   "outputs": [],
   "source": [
    "grid_search_ga.fit(pca_components, Y)"
   ]
  },
  {
   "cell_type": "code",
   "execution_count": null,
   "metadata": {
    "scrolled": true
   },
   "outputs": [],
   "source": [
    "grid_search_ga.cv_results_"
   ]
  },
  {
   "cell_type": "code",
   "execution_count": null,
   "metadata": {},
   "outputs": [],
   "source": []
  }
 ],
 "metadata": {
  "kernelspec": {
   "display_name": "Python 3",
   "language": "python",
   "name": "python3"
  },
  "language_info": {
   "codemirror_mode": {
    "name": "ipython",
    "version": 3
   },
   "file_extension": ".py",
   "mimetype": "text/x-python",
   "name": "python",
   "nbconvert_exporter": "python",
   "pygments_lexer": "ipython3",
   "version": "3.7.0"
  }
 },
 "nbformat": 4,
 "nbformat_minor": 2
}
