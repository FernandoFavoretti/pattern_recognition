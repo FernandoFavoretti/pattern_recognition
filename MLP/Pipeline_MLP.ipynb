{
 "cells": [
  {
   "cell_type": "code",
   "execution_count": 1,
   "metadata": {},
   "outputs": [
    {
     "data": {
      "text/plain": [
       "<module 'feature_selection' from '/home/fernando.favoretti/src/personal/pattern_recognition/MLP/feature_selection.py'>"
      ]
     },
     "execution_count": 1,
     "metadata": {},
     "output_type": "execute_result"
    }
   ],
   "source": [
    "# import das libs necessárias\n",
    "import pandas as pd # trabalhar com dataframes\n",
    "import numpy as np # realizacao de algumas operacoes com matrizes\n",
    "\n",
    "#imagens\n",
    "import cv2 # transformacoes faceis em imagens\n",
    "from PIL import Image # trabalhar com imagens\n",
    "\n",
    "# ferramentas\n",
    "import glob # exploracao de diretorios\n",
    "from pylab import *\n",
    "import tqdm\n",
    "import importlib\n",
    "import time\n",
    "\n",
    "# plot \n",
    "import matplotlib.pyplot as plt # plotagem\n",
    "%matplotlib inline\n",
    "\n",
    "# Machine Learning\n",
    "from sklearn.neural_network import MLPClassifier \n",
    "from sklearn.model_selection import GridSearchCV # Grid Search para rodar todos os parametros\n",
    "\n",
    "#importando ferramentas já implementadas anteriormente\n",
    "import sampling #retorna uma amostra para treino\n",
    "importlib.reload(sampling)\n",
    "import PCA_and_Inverse\n",
    "importlib.reload(PCA_and_Inverse)\n",
    "import feature_selection\n",
    "importlib.reload(feature_selection)"
   ]
  },
  {
   "cell_type": "markdown",
   "metadata": {},
   "source": [
    "## Cria uma amostra das imagens do tamanho definido e carrega em dataframes"
   ]
  },
  {
   "cell_type": "code",
   "execution_count": 17,
   "metadata": {
    "scrolled": false
   },
   "outputs": [
    {
     "name": "stderr",
     "output_type": "stream",
     "text": [
      "100%|██████████| 1000/1000 [00:01<00:00, 543.87it/s]\n"
     ]
    }
   ],
   "source": [
    "#carregando amostra dos dados\n",
    "X, Y = sampling.get_sample(1000)"
   ]
  },
  {
   "cell_type": "markdown",
   "metadata": {},
   "source": [
    "## Normaliza os dados"
   ]
  },
  {
   "cell_type": "code",
   "execution_count": 18,
   "metadata": {},
   "outputs": [],
   "source": [
    "X = sampling.get_min_max_normalization(data=X)"
   ]
  },
  {
   "cell_type": "markdown",
   "metadata": {},
   "source": [
    "## Extração de características\n",
    "\n",
    "- Calcula as Componentes principais para os dados carregados"
   ]
  },
  {
   "cell_type": "code",
   "execution_count": 4,
   "metadata": {},
   "outputs": [],
   "source": [
    "pca = PCA_and_Inverse.PCA_and_Inverse()\n",
    "pca_components = pca.get_PCA(X=X, n_components=0.9)"
   ]
  },
  {
   "cell_type": "markdown",
   "metadata": {},
   "source": [
    "## Seleção de características\n",
    "\n",
    "- Calcula as melhores features a serem utilizadas pelos métodos de:\n",
    "    - Informação Mútua\n",
    "    - Algoritmo Genético"
   ]
  },
  {
   "cell_type": "markdown",
   "metadata": {},
   "source": [
    "#### Informação Mútua"
   ]
  },
  {
   "cell_type": "code",
   "execution_count": 5,
   "metadata": {
    "scrolled": true
   },
   "outputs": [
    {
     "name": "stderr",
     "output_type": "stream",
     "text": [
      "/home/fernando.favoretti/.local/lib/python3.6/site-packages/sklearn/utils/validation.py:578: DataConversionWarning: A column-vector y was passed when a 1d array was expected. Please change the shape of y to (n_samples, ), for example using ravel().\n",
      "  y = column_or_1d(y, warn=True)\n"
     ]
    }
   ],
   "source": [
    "mic_threshold = 0.05\n",
    "mic_features_df = feature_selection.get_MIC_features(X=X, Y=Y)\n",
    "mic_features = list(mic_features_df[mic_features_df[0] > mic_threshold].index)"
   ]
  },
  {
   "cell_type": "markdown",
   "metadata": {},
   "source": [
    "#### Algoritmo Genético"
   ]
  },
  {
   "cell_type": "code",
   "execution_count": 6,
   "metadata": {
    "scrolled": true
   },
   "outputs": [
    {
     "name": "stdout",
     "output_type": "stream",
     "text": [
      "Training Features Shape: (750, 160000)\n",
      "Training Labels Shape: (750, 1)\n",
      "Testing Features Shape: (250, 160000)\n",
      "Testing Labels Shape: (250, 1)\n",
      "Baseline AUC 0.6146260245901639\n",
      "Optimizing with 1000 generations\n",
      "Generation 0\n",
      "Best result : 0.595671106557377\n",
      "Generation 1\n",
      "Best result : 0.6003457991803279\n",
      "Generation 2\n",
      "Best result : 0.6083504098360656\n",
      "Generation 3\n",
      "Best result : 0.6083504098360656\n",
      "Generation 4\n",
      "Best result : 0.6173155737704918\n",
      "Generation 5\n",
      "Best result : 0.6173155737704918\n",
      "Generation 6\n",
      "Best result : 0.6173155737704918\n",
      "Generation 7\n",
      "Best result : 0.6173155737704918\n",
      "Generation 8\n",
      "Best result : 0.6173155737704918\n",
      "Generation 9\n",
      "Best result : 0.6173155737704918\n",
      "Generation 10\n",
      "Best result : 0.6173155737704918\n",
      "Generation 11\n",
      "Best result : 0.6173155737704918\n",
      "Generation 12\n",
      "Best result : 0.6173155737704918\n",
      "Generation 13\n",
      "Best result : 0.6173155737704918\n",
      "Generation 14\n",
      "Best result : 0.6173155737704918\n",
      "Generation 15\n",
      "Best result : 0.6173155737704918\n",
      "Generation 16\n",
      "Best result : 0.6304431352459017\n",
      "Generation 17\n",
      "Best result : 0.6304431352459017\n",
      "Generation 18\n",
      "Best result : 0.6304431352459017\n",
      "Generation 19\n",
      "Best result : 0.6304431352459017\n",
      "Generation 20\n",
      "Best result : 0.6304431352459017\n",
      "Generation 21\n",
      "Best result : 0.6304431352459017\n",
      "Generation 22\n",
      "Best result : 0.6304431352459017\n",
      "Generation 23\n",
      "Best result : 0.6304431352459017\n",
      "Generation 24\n",
      "Best result : 0.6304431352459017\n",
      "Generation 25\n",
      "Best result : 0.6304431352459017\n",
      "Generation 26\n",
      "Best result : 0.6304431352459017\n",
      "Generation 27\n",
      "Best result : 0.6304431352459017\n",
      "Generation 28\n",
      "Best result : 0.6304431352459017\n",
      "Generation 29\n",
      "Best result : 0.6351178278688524\n",
      "Generation 30\n",
      "Best result : 0.6351178278688524\n",
      "Generation 31\n",
      "Best result : 0.6351178278688524\n",
      "Generation 32\n",
      "Best result : 0.6351178278688524\n",
      "Generation 33\n",
      "Best result : 0.6351178278688524\n",
      "Generation 34\n",
      "Best result : 0.6351178278688524\n",
      "Generation 35\n",
      "Best result : 0.6351178278688524\n",
      "Generation 36\n",
      "Best result : 0.6351178278688524\n",
      "Generation 37\n",
      "Best result : 0.6351178278688524\n",
      "Generation 38\n",
      "Best result : 0.6351178278688524\n",
      "Generation 39\n",
      "Best result : 0.6351178278688524\n",
      "Generation 40\n",
      "Best result : 0.6351178278688524\n",
      "Generation 41\n",
      "Best result : 0.6351178278688524\n",
      "Generation 42\n",
      "Best result : 0.6351178278688524\n",
      "Generation 43\n",
      "Best result : 0.6351178278688524\n",
      "Generation 44\n",
      "Best result : 0.6351178278688524\n",
      "Generation 45\n",
      "Best result : 0.6351178278688524\n",
      "Generation 46\n",
      "Best result : 0.6351178278688524\n",
      "Generation 47\n",
      "Best result : 0.6351178278688524\n",
      "Generation 48\n",
      "Best result : 0.6351178278688524\n",
      "Generation 49\n",
      "Best result : 0.6351178278688524\n",
      "Generation 50\n",
      "Best result : 0.6351178278688524\n",
      "Generation 51\n",
      "Best result : 0.6351178278688524\n",
      "Generation 52\n",
      "Best result : 0.6351178278688524\n",
      "Generation 53\n",
      "Best result : 0.6351178278688524\n",
      "Generation 54\n",
      "Best result : 0.6351178278688524\n",
      "Generation 55\n",
      "Best result : 0.6351178278688524\n",
      "Generation 56\n",
      "Best result : 0.6351178278688524\n",
      "Generation 57\n",
      "Best result : 0.6351178278688524\n",
      "Generation 58\n",
      "Best result : 0.6351178278688524\n",
      "Generation 59\n",
      "Best result : 0.6351178278688524\n",
      "Generation 60\n",
      "Best result : 0.6351178278688524\n",
      "Generation 61\n",
      "Best result : 0.6351178278688524\n",
      "Generation 62\n",
      "Best result : 0.6351178278688524\n",
      "Generation 63\n",
      "Best result : 0.6351178278688524\n",
      "Generation 64\n",
      "Best result : 0.6351178278688524\n",
      "Generation 65\n",
      "Best result : 0.6351178278688524\n",
      "Generation 66\n",
      "Best result : 0.6351178278688524\n",
      "Generation 67\n",
      "Best result : 0.6351178278688524\n",
      "Generation 68\n",
      "Best result : 0.6351178278688524\n",
      "Generation 69\n",
      "Best result : 0.6351178278688524\n",
      "Generation 70\n",
      "Best result : 0.6351178278688524\n",
      "Generation 71\n",
      "Best result : 0.6351178278688524\n",
      "Generation 72\n",
      "Best result : 0.6351178278688524\n",
      "Generation 73\n",
      "Best result : 0.6351178278688524\n",
      "Generation 74\n",
      "Best result : 0.6351178278688524\n",
      "Generation 75\n",
      "Best result : 0.6351178278688524\n",
      "Generation 76\n",
      "Best result : 0.6351178278688524\n",
      "Generation 77\n",
      "Best result : 0.6351178278688524\n",
      "Generation 78\n",
      "Best result : 0.6351178278688524\n",
      "Generation 79\n",
      "Best result : 0.6351178278688524\n",
      "Generation 80\n",
      "Best result : 0.6351178278688524\n",
      "Generation 81\n",
      "Best result : 0.6351178278688524\n",
      "Generation 82\n",
      "Best result : 0.6351178278688524\n",
      "Generation 83\n",
      "Best result : 0.6351178278688524\n",
      "Generation 84\n",
      "Best result : 0.6351178278688524\n",
      "Generation 85\n",
      "Best result : 0.6351178278688524\n",
      "Generation 86\n",
      "Best result : 0.6351178278688524\n",
      "Generation 87\n",
      "Best result : 0.6351178278688524\n",
      "Generation 88\n",
      "Best result : 0.6351178278688524\n",
      "Generation 89\n",
      "Best result : 0.6351178278688524\n",
      "Generation 90\n",
      "Best result : 0.6351178278688524\n",
      "Generation 91\n",
      "Best result : 0.6351178278688524\n",
      "Generation 92\n",
      "Best result : 0.6351178278688524\n",
      "Generation 93\n",
      "Best result : 0.6351178278688524\n",
      "Generation 94\n",
      "Best result : 0.6351178278688524\n",
      "Generation 95\n",
      "Best result : 0.6351178278688524\n",
      "Generation 96\n",
      "Best result : 0.6351178278688524\n",
      "Generation 97\n",
      "Best result : 0.6351178278688524\n",
      "Generation 98\n",
      "Best result : 0.6351178278688524\n",
      "Generation 99\n",
      "Best result : 0.6351178278688524\n",
      "Generation 100\n",
      "Best result : 0.6351178278688524\n",
      "Generation 101\n",
      "Best result : 0.6351178278688524\n",
      "Generation 102\n",
      "Best result : 0.6351178278688524\n",
      "Generation 103\n",
      "Best result : 0.6351178278688524\n",
      "Generation 104\n",
      "Best result : 0.6351178278688524\n",
      "Generation 105\n",
      "Best result : 0.6351178278688524\n",
      "Generation 106\n",
      "Best result : 0.6351178278688524\n",
      "Generation 107\n",
      "Best result : 0.6351178278688524\n",
      "Generation 108\n",
      "Best result : 0.6351178278688524\n",
      "Generation 109\n",
      "Best result : 0.6351178278688524\n",
      "Generation 110\n",
      "Best result : 0.6351178278688524\n",
      "Generation 111\n",
      "Best result : 0.6351178278688524\n",
      "Generation 112\n",
      "Best result : 0.6351178278688524\n",
      "Generation 113\n",
      "Best result : 0.6351178278688524\n",
      "Generation 114\n",
      "Best result : 0.6351178278688524\n",
      "Generation 115\n",
      "Best result : 0.6351178278688524\n",
      "Generation 116\n",
      "Best result : 0.6351178278688524\n",
      "Generation 117\n",
      "Best result : 0.6351178278688524\n",
      "Generation 118\n",
      "Best result : 0.6351178278688524\n",
      "Generation 119\n",
      "Best result : 0.6351178278688524\n",
      "Generation 120\n",
      "Best result : 0.6351178278688524\n",
      "Generation 121\n",
      "Best result : 0.6351178278688524\n",
      "Generation 122\n",
      "Best result : 0.6351178278688524\n",
      "Generation 123\n",
      "Best result : 0.6351178278688524\n",
      "Generation 124\n",
      "Best result : 0.6351178278688524\n",
      "Generation 125\n",
      "Best result : 0.6351178278688524\n",
      "Generation 126\n",
      "Best result : 0.6351178278688524\n",
      "Generation 127\n",
      "Best result : 0.6351178278688524\n",
      "Generation 128\n",
      "Best result : 0.6351178278688524\n",
      "Generation 129\n",
      "Best result : 0.6351178278688524\n",
      "Generation 130\n",
      "Best result : 0.6351178278688524\n",
      "Generation 131\n",
      "Best result : 0.6351178278688524\n",
      "Generation 132\n",
      "Best result : 0.6351178278688524\n",
      "Generation 133\n",
      "Best result : 0.6351178278688524\n",
      "Generation 134\n",
      "Best result : 0.6351178278688524\n",
      "Generation 135\n",
      "Best result : 0.6351178278688524\n",
      "Generation 136\n",
      "Best result : 0.6351178278688524\n",
      "Generation 137\n",
      "Best result : 0.6351178278688524\n",
      "Generation 138\n",
      "Best result : 0.6351178278688524\n",
      "Generation 139\n",
      "Best result : 0.6351178278688524\n",
      "Generation 140\n",
      "Best result : 0.6351178278688524\n",
      "Generation 141\n",
      "Best result : 0.6351178278688524\n",
      "Generation 142\n",
      "Best result : 0.6351178278688524\n",
      "Generation 143\n",
      "Best result : 0.6351178278688524\n",
      "Generation 144\n",
      "Best result : 0.6351178278688524\n",
      "Generation 145\n",
      "Best result : 0.6351178278688524\n",
      "Generation 146\n",
      "Best result : 0.6351178278688524\n",
      "Generation 147\n",
      "Best result : 0.6351178278688524\n",
      "Generation 148\n",
      "Best result : 0.6351178278688524\n",
      "Generation 149\n",
      "Best result : 0.6351178278688524\n",
      "Generation 150\n",
      "Best result : 0.6351178278688524\n",
      "Generation 151\n",
      "Best result : 0.6351178278688524\n",
      "Generation 152\n",
      "Best result : 0.6351178278688524\n",
      "Generation 153\n",
      "Best result : 0.6351178278688524\n",
      "Generation 154\n",
      "Best result : 0.6351178278688524\n",
      "Generation 155\n",
      "Best result : 0.6351178278688524\n",
      "Generation 156\n",
      "Best result : 0.6351178278688524\n",
      "Generation 157\n",
      "Best result : 0.6351178278688524\n",
      "Generation 158\n",
      "Best result : 0.6351178278688524\n",
      "Generation 159\n",
      "Best result : 0.6351178278688524\n",
      "Generation 160\n",
      "Best result : 0.6351178278688524\n",
      "Generation 161\n",
      "Best result : 0.6351178278688524\n",
      "Generation 162\n",
      "Best result : 0.6351178278688524\n",
      "Generation 163\n",
      "Best result : 0.6351178278688524\n",
      "Generation 164\n",
      "Best result : 0.6351178278688524\n",
      "Generation 165\n",
      "Best result : 0.6351178278688524\n",
      "Generation 166\n",
      "Best result : 0.6351178278688524\n",
      "Generation 167\n",
      "Best result : 0.6351178278688524\n",
      "Generation 168\n",
      "Best result : 0.6351178278688524\n",
      "Generation 169\n",
      "Best result : 0.6351178278688524\n",
      "Generation 170\n",
      "Best result : 0.6351178278688524\n",
      "Generation 171\n",
      "Best result : 0.6351178278688524\n",
      "Generation 172\n",
      "Best result : 0.6351178278688524\n",
      "Generation 173\n",
      "Best result : 0.6351178278688524\n",
      "Generation 174\n",
      "Best result : 0.6351178278688524\n",
      "Generation 175\n",
      "Best result : 0.6351178278688524\n",
      "Generation 176\n",
      "Best result : 0.6351178278688524\n",
      "Generation 177\n",
      "Best result : 0.6351178278688524\n",
      "Generation 178\n",
      "Best result : 0.6351178278688524\n",
      "Generation 179\n",
      "Best result : 0.6351178278688524\n",
      "Generation 180\n",
      "Best result : 0.6351178278688524\n",
      "Generation 181\n",
      "Best result : 0.6351178278688524\n",
      "Generation 182\n",
      "Best result : 0.6351178278688524\n",
      "Generation 183\n",
      "Best result : 0.6351178278688524\n",
      "Generation 184\n",
      "Best result : 0.6351178278688524\n",
      "Generation 185\n",
      "Best result : 0.6351178278688524\n",
      "Generation 186\n",
      "Best result : 0.6351178278688524\n",
      "Generation 187\n",
      "Best result : 0.6351178278688524\n",
      "Generation 188\n",
      "Best result : 0.6351178278688524\n",
      "Generation 189\n",
      "Best result : 0.6351178278688524\n",
      "Generation 190\n",
      "Best result : 0.6351178278688524\n",
      "Generation 191\n",
      "Best result : 0.6351178278688524\n",
      "Generation 192\n",
      "Best result : 0.6351178278688524\n",
      "Generation 193\n",
      "Best result : 0.6351178278688524\n",
      "Generation 194\n",
      "Best result : 0.6351178278688524\n",
      "Generation 195\n",
      "Best result : 0.6351178278688524\n",
      "Generation 196\n",
      "Best result : 0.6351178278688524\n",
      "Generation 197\n",
      "Best result : 0.6351178278688524\n",
      "Generation 198\n",
      "Best result : 0.6351178278688524\n",
      "Generation 199\n",
      "Best result : 0.6351178278688524\n",
      "Generation 200\n",
      "Best result : 0.6351178278688524\n",
      "Generation 201\n",
      "Best result : 0.6351178278688524\n",
      "Generation 202\n",
      "Best result : 0.6351178278688524\n",
      "Generation 203\n",
      "Best result : 0.6351178278688524\n",
      "Generation 204\n",
      "Best result : 0.6351178278688524\n",
      "Generation 205\n",
      "Best result : 0.6351178278688524\n",
      "Generation 206\n",
      "Best result : 0.6351178278688524\n",
      "Generation 207\n",
      "Best result : 0.6351178278688524\n",
      "Generation 208\n",
      "Best result : 0.6351178278688524\n",
      "Generation 209\n",
      "Best result : 0.6351178278688524\n",
      "Generation 210\n",
      "Best result : 0.6351178278688524\n",
      "Generation 211\n",
      "Best result : 0.6351178278688524\n",
      "Generation 212\n",
      "Best result : 0.6351178278688524\n",
      "Generation 213\n",
      "Best result : 0.6351178278688524\n",
      "Generation 214\n",
      "Best result : 0.6351178278688524\n",
      "Generation 215\n",
      "Best result : 0.6351178278688524\n",
      "Generation 216\n",
      "Best result : 0.6351178278688524\n",
      "Generation 217\n",
      "Best result : 0.6351178278688524\n",
      "Generation 218\n",
      "Best result : 0.6351178278688524\n",
      "Generation 219\n",
      "Best result : 0.6351178278688524\n",
      "Generation 220\n",
      "Best result : 0.6351178278688524\n",
      "Generation 221\n",
      "Best result : 0.6351178278688524\n",
      "Generation 222\n",
      "Best result : 0.6351178278688524\n",
      "Generation 223\n",
      "Best result : 0.6351178278688524\n",
      "Generation 224\n",
      "Best result : 0.6351178278688524\n",
      "Generation 225\n",
      "Best result : 0.6351178278688524\n",
      "Generation 226\n",
      "Best result : 0.6351178278688524\n",
      "Generation 227\n",
      "Best result : 0.6351178278688524\n",
      "Generation 228\n",
      "Best result : 0.6351178278688524\n",
      "Generation 229\n",
      "Best result : 0.6351178278688524\n",
      "Generation 230\n",
      "Best result : 0.6351178278688524\n",
      "Generation 231\n",
      "Best result : 0.6351178278688524\n",
      "Generation 232\n",
      "Best result : 0.6351178278688524\n",
      "Generation 233\n",
      "Best result : 0.6351178278688524\n",
      "Generation 234\n",
      "Best result : 0.6351178278688524\n",
      "Generation 235\n",
      "Best result : 0.6351178278688524\n",
      "Generation 236\n",
      "Best result : 0.6351178278688524\n",
      "Generation 237\n",
      "Best result : 0.6351178278688524\n",
      "Generation 238\n",
      "Best result : 0.6351178278688524\n",
      "Generation 239\n",
      "Best result : 0.6351178278688524\n",
      "Generation 240\n",
      "Best result : 0.6351178278688524\n",
      "Generation 241\n",
      "Best result : 0.6351178278688524\n",
      "Generation 242\n",
      "Best result : 0.6351178278688524\n",
      "Generation 243\n",
      "Best result : 0.6351178278688524\n",
      "Generation 244\n",
      "Best result : 0.6351178278688524\n",
      "Generation 245\n",
      "Best result : 0.6351178278688524\n",
      "Generation 246\n",
      "Best result : 0.6351178278688524\n",
      "Generation 247\n",
      "Best result : 0.6351178278688524\n",
      "Generation 248\n",
      "Best result : 0.6351178278688524\n",
      "Generation 249\n",
      "Best result : 0.6351178278688524\n",
      "Generation 250\n",
      "Best result : 0.6351178278688524\n",
      "Generation 251\n",
      "Best result : 0.6351178278688524\n",
      "Generation 252\n",
      "Best result : 0.6388319672131147\n",
      "Generation 253\n",
      "Best result : 0.6388319672131147\n",
      "Generation 254\n",
      "Best result : 0.6388319672131147\n",
      "Generation 255\n",
      "Best result : 0.6388319672131147\n",
      "Generation 256\n",
      "Best result : 0.6388319672131147\n",
      "Generation 257\n",
      "Best result : 0.6388319672131147\n",
      "Generation 258\n",
      "Best result : 0.6388319672131147\n",
      "Generation 259\n",
      "Best result : 0.6388319672131147\n",
      "Generation 260\n",
      "Best result : 0.6388319672131147\n",
      "Generation 261\n",
      "Best result : 0.6388319672131147\n",
      "Generation 262\n",
      "Best result : 0.6388319672131147\n",
      "Generation 263\n",
      "Best result : 0.6388319672131147\n",
      "Generation 264\n",
      "Best result : 0.6388319672131147\n",
      "Generation 265\n",
      "Best result : 0.6388319672131147\n",
      "Generation 266\n",
      "Best result : 0.6388319672131147\n",
      "Generation 267\n",
      "Best result : 0.6388319672131147\n",
      "Generation 268\n",
      "Best result : 0.6388319672131147\n",
      "Generation 269\n",
      "Best result : 0.6388319672131147\n",
      "Generation 270\n",
      "Best result : 0.6388319672131147\n",
      "Generation 271\n",
      "Best result : 0.6388319672131147\n",
      "Generation 272\n",
      "Best result : 0.6388319672131147\n",
      "Generation 273\n",
      "Best result : 0.6388319672131147\n",
      "Generation 274\n",
      "Best result : 0.6388319672131147\n",
      "Generation 275\n",
      "Best result : 0.6388319672131147\n",
      "Generation 276\n",
      "Best result : 0.6388319672131147\n",
      "Generation 277\n",
      "Best result : 0.6388319672131147\n",
      "Generation 278\n",
      "Best result : 0.6388319672131147\n",
      "Generation 279\n",
      "Best result : 0.6388319672131147\n",
      "Generation 280\n",
      "Best result : 0.6388319672131147\n",
      "Generation 281\n",
      "Best result : 0.6388319672131147\n",
      "Generation 282\n",
      "Best result : 0.6388319672131147\n",
      "Generation 283\n",
      "Best result : 0.6388319672131147\n",
      "Generation 284\n",
      "Best result : 0.6388319672131147\n",
      "Generation 285\n",
      "Best result : 0.6388319672131147\n",
      "Generation 286\n",
      "Best result : 0.6388319672131147\n",
      "Generation 287\n",
      "Best result : 0.6388319672131147\n",
      "Generation 288\n",
      "Best result : 0.6388319672131147\n",
      "Generation 289\n",
      "Best result : 0.6388319672131147\n",
      "Generation 290\n",
      "Best result : 0.6388319672131147\n",
      "Generation 291\n",
      "Best result : 0.6388319672131147\n",
      "Generation 292\n",
      "Best result : 0.6388319672131147\n",
      "Generation 293\n",
      "Best result : 0.6388319672131147\n",
      "Generation 294\n",
      "Best result : 0.6388319672131147\n",
      "Generation 295\n",
      "Best result : 0.6388319672131147\n",
      "Generation 296\n",
      "Best result : 0.6388319672131147\n",
      "Generation 297\n",
      "Best result : 0.6388319672131147\n",
      "Generation 298\n",
      "Best result : 0.6388319672131147\n",
      "Generation 299\n",
      "Best result : 0.6388319672131147\n",
      "Generation 300\n",
      "Best result : 0.6388319672131147\n",
      "Generation 301\n",
      "Best result : 0.6388319672131147\n",
      "Generation 302\n",
      "Best result : 0.6388319672131147\n",
      "Generation 303\n",
      "Best result : 0.6388319672131147\n",
      "Generation 304\n",
      "Best result : 0.6388319672131147\n",
      "Generation 305\n",
      "Best result : 0.6388319672131147\n",
      "Generation 306\n",
      "Best result : 0.6388319672131147\n",
      "Generation 307\n",
      "Best result : 0.6388319672131147\n",
      "Generation 308\n",
      "Best result : 0.6388319672131147\n",
      "Generation 309\n",
      "Best result : 0.6388319672131147\n",
      "Generation 310\n",
      "Best result : 0.6388319672131147\n",
      "Generation 311\n",
      "Best result : 0.6388319672131147\n",
      "Generation 312\n",
      "Best result : 0.6388319672131147\n",
      "Generation 313\n",
      "Best result : 0.6388319672131147\n",
      "Generation 314\n",
      "Best result : 0.6388319672131147\n",
      "Generation 315\n",
      "Best result : 0.6388319672131147\n",
      "Generation 316\n",
      "Best result : 0.6388319672131147\n",
      "Generation 317\n",
      "Best result : 0.6388319672131147\n",
      "Generation 318\n",
      "Best result : 0.6388319672131147\n",
      "Generation 319\n",
      "Best result : 0.6388319672131147\n",
      "Generation 320\n",
      "Best result : 0.6388319672131147\n",
      "Generation 321\n",
      "Best result : 0.6388319672131147\n",
      "Generation 322\n",
      "Best result : 0.6388319672131147\n",
      "Generation 323\n",
      "Best result : 0.6388319672131147\n",
      "Generation 324\n",
      "Best result : 0.6388319672131147\n",
      "Generation 325\n",
      "Best result : 0.6442751024590164\n",
      "Generation 326\n",
      "Best result : 0.6442751024590164\n",
      "Generation 327\n",
      "Best result : 0.6442751024590164\n",
      "Generation 328\n",
      "Best result : 0.6442751024590164\n",
      "Generation 329\n",
      "Best result : 0.6442751024590164\n",
      "Generation 330\n",
      "Best result : 0.6442751024590164\n",
      "Generation 331\n",
      "Best result : 0.6442751024590164\n",
      "Generation 332\n",
      "Best result : 0.6442751024590164\n",
      "Generation 333\n",
      "Best result : 0.6442751024590164\n",
      "Generation 334\n",
      "Best result : 0.6442751024590164\n",
      "Generation 335\n",
      "Best result : 0.6442751024590164\n",
      "Generation 336\n",
      "Best result : 0.6442751024590164\n",
      "Generation 337\n",
      "Best result : 0.6442751024590164\n",
      "Generation 338\n",
      "Best result : 0.6442751024590164\n",
      "Generation 339\n",
      "Best result : 0.6442751024590164\n",
      "Generation 340\n",
      "Best result : 0.6442751024590164\n",
      "Generation 341\n",
      "Best result : 0.6442751024590164\n",
      "Generation 342\n",
      "Best result : 0.6442751024590164\n",
      "Generation 343\n",
      "Best result : 0.6442751024590164\n",
      "Generation 344\n",
      "Best result : 0.6442751024590164\n",
      "Generation 345\n",
      "Best result : 0.6442751024590164\n",
      "Generation 346\n",
      "Best result : 0.6442751024590164\n",
      "Generation 347\n",
      "Best result : 0.6442751024590164\n",
      "Generation 348\n",
      "Best result : 0.6442751024590164\n",
      "Generation 349\n",
      "Best result : 0.6442751024590164\n",
      "Generation 350\n",
      "Best result : 0.6442751024590164\n",
      "Generation 351\n",
      "Best result : 0.6442751024590164\n",
      "Generation 352\n",
      "Best result : 0.6442751024590164\n",
      "Generation 353\n",
      "Best result : 0.6442751024590164\n",
      "Generation 354\n",
      "Best result : 0.6442751024590164\n",
      "Generation 355\n",
      "Best result : 0.6442751024590164\n",
      "Generation 356\n",
      "Best result : 0.6442751024590164\n",
      "Generation 357\n",
      "Best result : 0.6442751024590164\n",
      "Generation 358\n",
      "Best result : 0.6442751024590164\n",
      "Generation 359\n",
      "Best result : 0.6442751024590164\n",
      "Generation 360\n",
      "Best result : 0.6442751024590164\n",
      "Generation 361\n",
      "Best result : 0.6442751024590164\n",
      "Generation 362\n",
      "Best result : 0.6442751024590164\n",
      "Generation 363\n",
      "Best result : 0.6442751024590164\n",
      "Generation 364\n",
      "Best result : 0.6442751024590164\n",
      "Generation 365\n",
      "Best result : 0.6442751024590164\n",
      "Generation 366\n",
      "Best result : 0.647797131147541\n",
      "Generation 367\n",
      "Best result : 0.647797131147541\n",
      "Generation 368\n",
      "Best result : 0.647797131147541\n",
      "Generation 369\n",
      "Best result : 0.647797131147541\n",
      "Generation 370\n",
      "Best result : 0.647797131147541\n",
      "Generation 371\n",
      "Best result : 0.647797131147541\n",
      "Generation 372\n",
      "Best result : 0.647797131147541\n",
      "Generation 373\n",
      "Best result : 0.647797131147541\n",
      "Generation 374\n",
      "Best result : 0.647797131147541\n",
      "Generation 375\n",
      "Best result : 0.647797131147541\n",
      "Generation 376\n",
      "Best result : 0.647797131147541\n",
      "Generation 377\n",
      "Best result : 0.647797131147541\n",
      "Generation 378\n",
      "Best result : 0.647797131147541\n",
      "Generation 379\n",
      "Best result : 0.647797131147541\n",
      "Generation 380\n",
      "Best result : 0.647797131147541\n",
      "Generation 381\n",
      "Best result : 0.647797131147541\n",
      "Generation 382\n",
      "Best result : 0.647797131147541\n",
      "Generation 383\n",
      "Best result : 0.647797131147541\n",
      "Generation 384\n",
      "Best result : 0.647797131147541\n",
      "Generation 385\n",
      "Best result : 0.647797131147541\n",
      "Generation 386\n",
      "Best result : 0.647797131147541\n",
      "Generation 387\n",
      "Best result : 0.647797131147541\n",
      "Generation 388\n",
      "Best result : 0.647797131147541\n",
      "Generation 389\n",
      "Best result : 0.647797131147541\n",
      "Generation 390\n",
      "Best result : 0.647797131147541\n",
      "Generation 391\n",
      "Best result : 0.647797131147541\n",
      "Generation 392\n",
      "Best result : 0.647797131147541\n",
      "Generation 393\n",
      "Best result : 0.647797131147541\n",
      "Generation 394\n",
      "Best result : 0.647797131147541\n",
      "Generation 395\n",
      "Best result : 0.647797131147541\n",
      "Generation 396\n",
      "Best result : 0.647797131147541\n",
      "Generation 397\n",
      "Best result : 0.647797131147541\n",
      "Generation 398\n",
      "Best result : 0.647797131147541\n",
      "Generation 399\n",
      "Best result : 0.647797131147541\n",
      "Generation 400\n",
      "Best result : 0.647797131147541\n",
      "Generation 401\n",
      "Best result : 0.647797131147541\n",
      "Generation 402\n",
      "Best result : 0.647797131147541\n",
      "Generation 403\n",
      "Best result : 0.647797131147541\n",
      "Generation 404\n",
      "Best result : 0.647797131147541\n",
      "Generation 405\n",
      "Best result : 0.647797131147541\n",
      "Generation 406\n",
      "Best result : 0.647797131147541\n",
      "Generation 407\n",
      "Best result : 0.647797131147541\n",
      "Generation 408\n",
      "Best result : 0.647797131147541\n",
      "Generation 409\n",
      "Best result : 0.647797131147541\n",
      "Generation 410\n",
      "Best result : 0.647797131147541\n",
      "Generation 411\n",
      "Best result : 0.647797131147541\n",
      "Generation 412\n",
      "Best result : 0.647797131147541\n",
      "Generation 413\n",
      "Best result : 0.647797131147541\n",
      "Generation 414\n",
      "Best result : 0.647797131147541\n",
      "Generation 415\n",
      "Best result : 0.647797131147541\n",
      "Generation 416\n",
      "Best result : 0.647797131147541\n",
      "Generation 417\n",
      "Best result : 0.647797131147541\n",
      "Generation 418\n",
      "Best result : 0.647797131147541\n",
      "Generation 419\n",
      "Best result : 0.647797131147541\n",
      "Generation 420\n",
      "Best result : 0.647797131147541\n",
      "Generation 421\n",
      "Best result : 0.647797131147541\n",
      "Generation 422\n",
      "Best result : 0.647797131147541\n",
      "Generation 423\n",
      "Best result : 0.647797131147541\n",
      "Generation 424\n",
      "Best result : 0.647797131147541\n",
      "Generation 425\n",
      "Best result : 0.647797131147541\n",
      "Generation 426\n",
      "Best result : 0.647797131147541\n",
      "Generation 427\n",
      "Best result : 0.647797131147541\n",
      "Generation 428\n",
      "Best result : 0.647797131147541\n",
      "Generation 429\n",
      "Best result : 0.647797131147541\n",
      "Generation 430\n",
      "Best result : 0.647797131147541\n",
      "Generation 431\n",
      "Best result : 0.647797131147541\n",
      "Generation 432\n",
      "Best result : 0.647797131147541\n",
      "Generation 433\n",
      "Best result : 0.647797131147541\n",
      "Generation 434\n",
      "Best result : 0.647797131147541\n",
      "Generation 435\n",
      "Best result : 0.647797131147541\n",
      "Generation 436\n",
      "Best result : 0.647797131147541\n",
      "Generation 437\n",
      "Best result : 0.647797131147541\n",
      "Generation 438\n",
      "Best result : 0.647797131147541\n",
      "Generation 439\n",
      "Best result : 0.647797131147541\n",
      "Generation 440\n",
      "Best result : 0.651703381147541\n",
      "Generation 441\n",
      "Best result : 0.651703381147541\n",
      "Generation 442\n",
      "Best result : 0.651703381147541\n",
      "Generation 443\n",
      "Best result : 0.651703381147541\n",
      "Generation 444\n",
      "Best result : 0.651703381147541\n",
      "Generation 445\n",
      "Best result : 0.651703381147541\n",
      "Generation 446\n",
      "Best result : 0.651703381147541\n",
      "Generation 447\n",
      "Best result : 0.651703381147541\n",
      "Generation 448\n",
      "Best result : 0.651703381147541\n",
      "Generation 449\n",
      "Best result : 0.651703381147541\n",
      "Generation 450\n",
      "Best result : 0.651703381147541\n",
      "Generation 451\n",
      "Best result : 0.651703381147541\n",
      "Generation 452\n",
      "Best result : 0.651703381147541\n",
      "Generation 453\n",
      "Best result : 0.651703381147541\n",
      "Generation 454\n",
      "Best result : 0.651703381147541\n",
      "Generation 455\n",
      "Best result : 0.651703381147541\n",
      "Generation 456\n",
      "Best result : 0.651703381147541\n",
      "Generation 457\n",
      "Best result : 0.651703381147541\n",
      "Generation 458\n",
      "Best result : 0.651703381147541\n",
      "Generation 459\n",
      "Best result : 0.651703381147541\n",
      "Generation 460\n",
      "Best result : 0.651703381147541\n",
      "Generation 461\n",
      "Best result : 0.651703381147541\n",
      "Generation 462\n",
      "Best result : 0.651703381147541\n",
      "Generation 463\n",
      "Best result : 0.651703381147541\n",
      "Generation 464\n",
      "Best result : 0.6593237704918032\n",
      "Generation 465\n",
      "Best result : 0.6593237704918032\n",
      "Generation 466\n",
      "Best result : 0.6593237704918032\n",
      "Generation 467\n",
      "Best result : 0.6593237704918032\n",
      "Generation 468\n",
      "Best result : 0.6593237704918032\n",
      "Generation 469\n",
      "Best result : 0.6593237704918032\n",
      "Generation 470\n",
      "Best result : 0.6593237704918032\n",
      "Generation 471\n",
      "Best result : 0.6593237704918032\n",
      "Generation 472\n",
      "Best result : 0.6593237704918032\n",
      "Generation 473\n",
      "Best result : 0.6593237704918032\n",
      "Generation 474\n",
      "Best result : 0.6593237704918032\n",
      "Generation 475\n",
      "Best result : 0.6593237704918032\n",
      "Generation 476\n",
      "Best result : 0.6593237704918032\n",
      "Generation 477\n",
      "Best result : 0.6593237704918032\n",
      "Generation 478\n",
      "Best result : 0.6593237704918032\n",
      "Generation 479\n",
      "Best result : 0.6593237704918032\n",
      "Generation 480\n",
      "Best result : 0.6593237704918032\n",
      "Generation 481\n",
      "Best result : 0.6593237704918032\n",
      "Generation 482\n",
      "Best result : 0.6593237704918032\n",
      "Generation 483\n",
      "Best result : 0.6593237704918032\n",
      "Generation 484\n",
      "Best result : 0.6593237704918032\n",
      "Generation 485\n",
      "Best result : 0.6593237704918032\n",
      "Generation 486\n",
      "Best result : 0.6593237704918032\n",
      "Generation 487\n",
      "Best result : 0.6593237704918032\n",
      "Generation 488\n",
      "Best result : 0.6593237704918032\n",
      "Generation 489\n",
      "Best result : 0.6593237704918032\n",
      "Generation 490\n",
      "Best result : 0.6593237704918032\n",
      "Generation 491\n",
      "Best result : 0.6593237704918032\n",
      "Generation 492\n",
      "Best result : 0.6593237704918032\n",
      "Generation 493\n",
      "Best result : 0.6593237704918032\n",
      "Generation 494\n",
      "Best result : 0.6593237704918032\n",
      "Generation 495\n",
      "Best result : 0.6593237704918032\n",
      "Generation 496\n",
      "Best result : 0.6593237704918032\n",
      "Generation 497\n",
      "Best result : 0.6593237704918032\n",
      "Generation 498\n",
      "Best result : 0.6593237704918032\n",
      "Generation 499\n",
      "Best result : 0.6593237704918032\n",
      "Generation 500\n",
      "Best result : 0.6593237704918032\n",
      "Generation 501\n",
      "Best result : 0.6593237704918032\n",
      "Generation 502\n",
      "Best result : 0.6593237704918032\n",
      "Generation 503\n",
      "Best result : 0.6593237704918032\n",
      "Generation 504\n",
      "Best result : 0.6593237704918032\n",
      "Generation 505\n",
      "Best result : 0.6593237704918032\n",
      "Generation 506\n",
      "Best result : 0.6593237704918032\n",
      "Generation 507\n",
      "Best result : 0.6593237704918032\n",
      "Generation 508\n",
      "Best result : 0.6593237704918032\n",
      "Generation 509\n",
      "Best result : 0.6593237704918032\n",
      "Generation 510\n",
      "Best result : 0.6593237704918032\n",
      "Generation 511\n",
      "Best result : 0.6593237704918032\n",
      "Generation 512\n",
      "Best result : 0.6593237704918032\n",
      "Generation 513\n",
      "Best result : 0.6593237704918032\n",
      "Generation 514\n",
      "Best result : 0.6593237704918032\n",
      "Generation 515\n",
      "Best result : 0.6593237704918032\n",
      "Generation 516\n",
      "Best result : 0.6593237704918032\n",
      "Generation 517\n",
      "Best result : 0.6593237704918032\n",
      "Generation 518\n",
      "Best result : 0.6593237704918032\n",
      "Generation 519\n",
      "Best result : 0.6593237704918032\n",
      "Generation 520\n",
      "Best result : 0.6593237704918032\n",
      "Generation 521\n",
      "Best result : 0.6593237704918032\n",
      "Generation 522\n",
      "Best result : 0.6593237704918032\n",
      "Generation 523\n",
      "Best result : 0.6593237704918032\n",
      "Generation 524\n",
      "Best result : 0.6593237704918032\n",
      "Generation 525\n",
      "Best result : 0.6593237704918032\n",
      "Generation 526\n",
      "Best result : 0.6593237704918032\n",
      "Generation 527\n",
      "Best result : 0.6593237704918032\n",
      "Generation 528\n",
      "Best result : 0.6593237704918032\n",
      "Generation 529\n",
      "Best result : 0.6593237704918032\n",
      "Generation 530\n",
      "Best result : 0.6593237704918032\n",
      "Generation 531\n",
      "Best result : 0.6593237704918032\n",
      "Generation 532\n",
      "Best result : 0.6593237704918032\n",
      "Generation 533\n",
      "Best result : 0.6593237704918032\n",
      "Generation 534\n",
      "Best result : 0.6593237704918032\n",
      "Generation 535\n",
      "Best result : 0.6593237704918032\n",
      "Generation 536\n",
      "Best result : 0.6593237704918032\n",
      "Generation 537\n",
      "Best result : 0.6593237704918032\n",
      "Generation 538\n",
      "Best result : 0.6593237704918032\n",
      "Generation 539\n",
      "Best result : 0.6593237704918032\n",
      "Generation 540\n",
      "Best result : 0.6593237704918032\n",
      "Generation 541\n",
      "Best result : 0.6593237704918032\n",
      "Generation 542\n",
      "Best result : 0.6593237704918032\n",
      "Generation 543\n",
      "Best result : 0.6593237704918032\n",
      "Generation 544\n",
      "Best result : 0.6593237704918032\n",
      "Generation 545\n",
      "Best result : 0.6593237704918032\n",
      "Generation 546\n",
      "Best result : 0.6593237704918032\n",
      "Generation 547\n",
      "Best result : 0.6593237704918032\n",
      "Generation 548\n",
      "Best result : 0.6593237704918032\n",
      "Generation 549\n",
      "Best result : 0.6593237704918032\n",
      "Generation 550\n",
      "Best result : 0.6593237704918032\n",
      "Generation 551\n",
      "Best result : 0.6593237704918032\n",
      "Generation 552\n",
      "Best result : 0.6593237704918032\n",
      "Generation 553\n",
      "Best result : 0.6593237704918032\n",
      "Generation 554\n",
      "Best result : 0.6593237704918032\n",
      "Generation 555\n",
      "Best result : 0.6593237704918032\n",
      "Generation 556\n",
      "Best result : 0.6593237704918032\n",
      "Generation 557\n",
      "Best result : 0.6593237704918032\n",
      "Generation 558\n",
      "Best result : 0.6593237704918032\n",
      "Generation 559\n",
      "Best result : 0.6593237704918032\n",
      "Generation 560\n",
      "Best result : 0.6593237704918032\n",
      "Generation 561\n",
      "Best result : 0.6593237704918032\n",
      "Generation 562\n",
      "Best result : 0.6593237704918032\n",
      "Generation 563\n",
      "Best result : 0.6593237704918032\n",
      "Generation 564\n",
      "Best result : 0.6593237704918032\n",
      "Generation 565\n",
      "Best result : 0.6593237704918032\n",
      "Generation 566\n",
      "Best result : 0.6593237704918032\n",
      "Generation 567\n",
      "Best result : 0.6593237704918032\n",
      "Generation 568\n",
      "Best result : 0.6593237704918032\n",
      "Generation 569\n",
      "Best result : 0.6593237704918032\n",
      "Generation 570\n",
      "Best result : 0.6593237704918032\n",
      "Generation 571\n",
      "Best result : 0.6593237704918032\n",
      "Generation 572\n",
      "Best result : 0.6593237704918032\n",
      "Generation 573\n",
      "Best result : 0.6593237704918032\n",
      "Generation 574\n",
      "Best result : 0.6593237704918032\n",
      "Generation 575\n",
      "Best result : 0.6593237704918032\n",
      "Generation 576\n",
      "Best result : 0.6593237704918032\n",
      "Generation 577\n",
      "Best result : 0.6593237704918032\n",
      "Generation 578\n",
      "Best result : 0.6593237704918032\n",
      "Generation 579\n",
      "Best result : 0.6593237704918032\n",
      "Generation 580\n",
      "Best result : 0.6593237704918032\n",
      "Generation 581\n",
      "Best result : 0.6593237704918032\n",
      "Generation 582\n",
      "Best result : 0.6593237704918032\n",
      "Generation 583\n",
      "Best result : 0.6593237704918032\n",
      "Generation 584\n",
      "Best result : 0.6593237704918032\n",
      "Generation 585\n",
      "Best result : 0.6593237704918032\n",
      "Generation 586\n",
      "Best result : 0.6593237704918032\n",
      "Generation 587\n",
      "Best result : 0.6593237704918032\n",
      "Generation 588\n",
      "Best result : 0.6593237704918032\n",
      "Generation 589\n",
      "Best result : 0.6593237704918032\n",
      "Generation 590\n",
      "Best result : 0.6593237704918032\n",
      "Generation 591\n",
      "Best result : 0.6593237704918032\n",
      "Generation 592\n",
      "Best result : 0.6593237704918032\n",
      "Generation 593\n",
      "Best result : 0.6593237704918032\n",
      "Generation 594\n",
      "Best result : 0.6593237704918032\n",
      "Generation 595\n",
      "Best result : 0.6593237704918032\n",
      "Generation 596\n",
      "Best result : 0.6593237704918032\n",
      "Generation 597\n",
      "Best result : 0.6593237704918032\n",
      "Generation 598\n",
      "Best result : 0.6593237704918032\n",
      "Generation 599\n",
      "Best result : 0.6593237704918032\n",
      "Generation 600\n",
      "Best result : 0.6593237704918032\n",
      "Generation 601\n",
      "Best result : 0.6593237704918032\n",
      "Generation 602\n",
      "Best result : 0.6593237704918032\n",
      "Generation 603\n",
      "Best result : 0.6593237704918032\n",
      "Generation 604\n",
      "Best result : 0.6593237704918032\n",
      "Generation 605\n",
      "Best result : 0.6593237704918032\n",
      "Generation 606\n",
      "Best result : 0.6593237704918032\n",
      "Generation 607\n",
      "Best result : 0.6593237704918032\n",
      "Generation 608\n",
      "Best result : 0.6593237704918032\n",
      "Generation 609\n",
      "Best result : 0.6593237704918032\n",
      "Generation 610\n",
      "Best result : 0.6593237704918032\n",
      "Generation 611\n",
      "Best result : 0.6593237704918032\n",
      "Generation 612\n",
      "Best result : 0.6593237704918032\n",
      "Generation 613\n",
      "Best result : 0.6593237704918032\n",
      "Generation 614\n",
      "Best result : 0.6593237704918032\n",
      "Generation 615\n",
      "Best result : 0.6593237704918032\n",
      "Generation 616\n",
      "Best result : 0.6593237704918032\n",
      "Generation 617\n",
      "Best result : 0.6593237704918032\n",
      "Generation 618\n",
      "Best result : 0.6593237704918032\n",
      "Generation 619\n",
      "Best result : 0.6593237704918032\n",
      "Generation 620\n",
      "Best result : 0.6593237704918032\n",
      "Generation 621\n",
      "Best result : 0.6593237704918032\n",
      "Generation 622\n",
      "Best result : 0.6593237704918032\n",
      "Generation 623\n",
      "Best result : 0.6593237704918032\n",
      "Generation 624\n",
      "Best result : 0.6593237704918032\n",
      "Generation 625\n",
      "Best result : 0.6593237704918032\n",
      "Generation 626\n",
      "Best result : 0.6593237704918032\n",
      "Generation 627\n",
      "Best result : 0.6593237704918032\n",
      "Generation 628\n",
      "Best result : 0.6593237704918032\n",
      "Generation 629\n",
      "Best result : 0.6593237704918032\n",
      "Generation 630\n",
      "Best result : 0.6593237704918032\n",
      "Generation 631\n",
      "Best result : 0.6593237704918032\n",
      "Generation 632\n",
      "Best result : 0.6593237704918032\n",
      "Generation 633\n",
      "Best result : 0.6593237704918032\n",
      "Generation 634\n",
      "Best result : 0.6593237704918032\n",
      "Generation 635\n",
      "Best result : 0.6593237704918032\n",
      "Generation 636\n",
      "Best result : 0.6593237704918032\n",
      "Generation 637\n",
      "Best result : 0.6593237704918032\n",
      "Generation 638\n",
      "Best result : 0.6593237704918032\n",
      "Generation 639\n",
      "Best result : 0.6593237704918032\n",
      "Generation 640\n",
      "Best result : 0.6593237704918032\n",
      "Generation 641\n",
      "Best result : 0.6593237704918032\n",
      "Generation 642\n",
      "Best result : 0.6593237704918032\n",
      "Generation 643\n",
      "Best result : 0.6593237704918032\n",
      "Generation 644\n",
      "Best result : 0.6593237704918032\n",
      "Generation 645\n",
      "Best result : 0.6593237704918032\n",
      "Generation 646\n",
      "Best result : 0.6593237704918032\n",
      "Generation 647\n",
      "Best result : 0.6593237704918032\n",
      "Generation 648\n",
      "Best result : 0.6593237704918032\n",
      "Generation 649\n",
      "Best result : 0.6593237704918032\n",
      "Generation 650\n",
      "Best result : 0.6593237704918032\n",
      "Generation 651\n",
      "Best result : 0.6593237704918032\n",
      "Generation 652\n",
      "Best result : 0.6593237704918032\n",
      "Generation 653\n",
      "Best result : 0.6593237704918032\n",
      "Generation 654\n",
      "Best result : 0.6593237704918032\n",
      "Generation 655\n",
      "Best result : 0.6593237704918032\n",
      "Generation 656\n",
      "Best result : 0.6593237704918032\n",
      "Generation 657\n",
      "Best result : 0.6593237704918032\n",
      "Generation 658\n",
      "Best result : 0.6593237704918032\n",
      "Generation 659\n",
      "Best result : 0.6593237704918032\n",
      "Generation 660\n",
      "Best result : 0.6593237704918032\n",
      "Generation 661\n",
      "Best result : 0.6593237704918032\n",
      "Generation 662\n",
      "Best result : 0.6593237704918032\n",
      "Generation 663\n",
      "Best result : 0.6593237704918032\n",
      "Generation 664\n",
      "Best result : 0.6593237704918032\n",
      "Generation 665\n",
      "Best result : 0.6593237704918032\n",
      "Generation 666\n",
      "Best result : 0.6593237704918032\n",
      "Generation 667\n",
      "Best result : 0.6593237704918032\n",
      "Generation 668\n",
      "Best result : 0.6593237704918032\n",
      "Generation 669\n",
      "Best result : 0.6593237704918032\n",
      "Generation 670\n",
      "Best result : 0.6593237704918032\n",
      "Generation 671\n",
      "Best result : 0.6593237704918032\n",
      "Generation 672\n",
      "Best result : 0.6593237704918032\n",
      "Generation 673\n",
      "Best result : 0.6593237704918032\n",
      "Generation 674\n",
      "Best result : 0.6593237704918032\n",
      "Generation 675\n",
      "Best result : 0.6593237704918032\n",
      "Generation 676\n",
      "Best result : 0.6593237704918032\n",
      "Generation 677\n",
      "Best result : 0.6593237704918032\n",
      "Generation 678\n",
      "Best result : 0.6593237704918032\n",
      "Generation 679\n",
      "Best result : 0.6593237704918032\n",
      "Generation 680\n",
      "Best result : 0.6593237704918032\n",
      "Generation 681\n",
      "Best result : 0.6593237704918032\n",
      "Generation 682\n",
      "Best result : 0.6593237704918032\n",
      "Generation 683\n",
      "Best result : 0.6593237704918032\n",
      "Generation 684\n",
      "Best result : 0.6593237704918032\n",
      "Generation 685\n",
      "Best result : 0.6593237704918032\n",
      "Generation 686\n",
      "Best result : 0.6593237704918032\n",
      "Generation 687\n",
      "Best result : 0.6593237704918032\n",
      "Generation 688\n",
      "Best result : 0.6593237704918032\n",
      "Generation 689\n",
      "Best result : 0.6593237704918032\n",
      "Generation 690\n",
      "Best result : 0.6593237704918032\n",
      "Generation 691\n",
      "Best result : 0.6593237704918032\n",
      "Generation 692\n",
      "Best result : 0.6593237704918032\n",
      "Generation 693\n",
      "Best result : 0.6593237704918032\n",
      "Generation 694\n",
      "Best result : 0.6593237704918032\n",
      "Generation 695\n",
      "Best result : 0.6593237704918032\n",
      "Generation 696\n",
      "Best result : 0.6593237704918032\n",
      "Generation 697\n",
      "Best result : 0.6593237704918032\n",
      "Generation 698\n",
      "Best result : 0.6593237704918032\n",
      "Generation 699\n",
      "Best result : 0.6593237704918032\n",
      "Generation 700\n",
      "Best result : 0.6593237704918032\n",
      "Generation 701\n",
      "Best result : 0.6593237704918032\n",
      "Generation 702\n",
      "Best result : 0.6593237704918032\n",
      "Generation 703\n",
      "Best result : 0.6597079918032787\n",
      "Generation 704\n",
      "Best result : 0.6597079918032787\n",
      "Generation 705\n",
      "Best result : 0.6597079918032787\n",
      "Generation 706\n",
      "Best result : 0.6597079918032787\n",
      "Generation 707\n",
      "Best result : 0.6597079918032787\n",
      "Generation 708\n",
      "Best result : 0.6597079918032787\n",
      "Generation 709\n",
      "Best result : 0.6597079918032787\n",
      "Generation 710\n",
      "Best result : 0.6597079918032787\n",
      "Generation 711\n",
      "Best result : 0.6597079918032787\n",
      "Generation 712\n",
      "Best result : 0.6597079918032787\n",
      "Generation 713\n",
      "Best result : 0.6597079918032787\n",
      "Generation 714\n",
      "Best result : 0.6597079918032787\n",
      "Generation 715\n",
      "Best result : 0.6597079918032787\n",
      "Generation 716\n",
      "Best result : 0.6597079918032787\n",
      "Generation 717\n",
      "Best result : 0.6597079918032787\n",
      "Generation 718\n",
      "Best result : 0.6597079918032787\n",
      "Generation 719\n",
      "Best result : 0.6597079918032787\n",
      "Generation 720\n",
      "Best result : 0.6597079918032787\n",
      "Generation 721\n",
      "Best result : 0.6597079918032787\n",
      "Generation 722\n",
      "Best result : 0.6597079918032787\n",
      "Generation 723\n",
      "Best result : 0.6597079918032787\n",
      "Generation 724\n",
      "Best result : 0.6597079918032787\n",
      "Generation 725\n",
      "Best result : 0.6597079918032787\n",
      "Generation 726\n",
      "Best result : 0.6597079918032787\n",
      "Generation 727\n",
      "Best result : 0.6597079918032787\n",
      "Generation 728\n",
      "Best result : 0.6597079918032787\n",
      "Generation 729\n",
      "Best result : 0.6597079918032787\n",
      "Generation 730\n",
      "Best result : 0.6597079918032787\n",
      "Generation 731\n",
      "Best result : 0.6597079918032787\n",
      "Generation 732\n",
      "Best result : 0.6597079918032787\n",
      "Generation 733\n",
      "Best result : 0.6597079918032787\n",
      "Generation 734\n",
      "Best result : 0.6597079918032787\n",
      "Generation 735\n",
      "Best result : 0.6597079918032787\n",
      "Generation 736\n",
      "Best result : 0.6597079918032787\n",
      "Generation 737\n",
      "Best result : 0.6597079918032787\n",
      "Generation 738\n",
      "Best result : 0.6597079918032787\n",
      "Generation 739\n",
      "Best result : 0.6597079918032787\n",
      "Generation 740\n",
      "Best result : 0.6597079918032787\n",
      "Generation 741\n",
      "Best result : 0.6597079918032787\n",
      "Generation 742\n",
      "Best result : 0.6597079918032787\n",
      "Generation 743\n",
      "Best result : 0.6597079918032787\n",
      "Generation 744\n",
      "Best result : 0.6597079918032787\n",
      "Generation 745\n",
      "Best result : 0.6597079918032787\n",
      "Generation 746\n",
      "Best result : 0.6597079918032787\n",
      "Generation 747\n",
      "Best result : 0.6597079918032787\n",
      "Generation 748\n",
      "Best result : 0.6597079918032787\n",
      "Generation 749\n",
      "Best result : 0.6597079918032787\n",
      "Generation 750\n",
      "Best result : 0.6597079918032787\n",
      "Generation 751\n",
      "Best result : 0.6597079918032787\n",
      "Generation 752\n",
      "Best result : 0.6597079918032787\n",
      "Generation 753\n",
      "Best result : 0.6597079918032787\n",
      "Generation 754\n",
      "Best result : 0.6597079918032787\n",
      "Generation 755\n",
      "Best result : 0.6597079918032787\n",
      "Generation 756\n",
      "Best result : 0.6597079918032787\n",
      "Generation 757\n",
      "Best result : 0.6597079918032787\n",
      "Generation 758\n",
      "Best result : 0.6597079918032787\n",
      "Generation 759\n",
      "Best result : 0.6597079918032787\n",
      "Generation 760\n",
      "Best result : 0.6597079918032787\n",
      "Generation 761\n",
      "Best result : 0.6597079918032787\n",
      "Generation 762\n",
      "Best result : 0.6597079918032787\n",
      "Generation 763\n",
      "Best result : 0.6597079918032787\n",
      "Generation 764\n",
      "Best result : 0.6597079918032787\n",
      "Generation 765\n",
      "Best result : 0.6597079918032787\n",
      "Generation 766\n",
      "Best result : 0.6597079918032787\n",
      "Generation 767\n",
      "Best result : 0.6597079918032787\n",
      "Generation 768\n",
      "Best result : 0.6597079918032787\n",
      "Generation 769\n",
      "Best result : 0.6597079918032787\n",
      "Generation 770\n",
      "Best result : 0.6597079918032787\n",
      "Generation 771\n",
      "Best result : 0.6597079918032787\n",
      "Generation 772\n",
      "Best result : 0.6597079918032787\n",
      "Generation 773\n",
      "Best result : 0.6597079918032787\n",
      "Generation 774\n",
      "Best result : 0.6597079918032787\n",
      "Generation 775\n",
      "Best result : 0.6597079918032787\n",
      "Generation 776\n",
      "Best result : 0.6597079918032787\n",
      "Generation 777\n",
      "Best result : 0.6597079918032787\n",
      "Generation 778\n",
      "Best result : 0.6597079918032787\n",
      "Generation 779\n",
      "Best result : 0.6597079918032787\n",
      "Generation 780\n",
      "Best result : 0.6597079918032787\n",
      "Generation 781\n",
      "Best result : 0.6597079918032787\n",
      "Generation 782\n",
      "Best result : 0.6597079918032787\n",
      "Generation 783\n",
      "Best result : 0.6597079918032787\n",
      "Generation 784\n",
      "Best result : 0.6597079918032787\n",
      "Generation 785\n",
      "Best result : 0.6597079918032787\n",
      "Generation 786\n",
      "Best result : 0.6597079918032787\n",
      "Generation 787\n",
      "Best result : 0.6597079918032787\n",
      "Generation 788\n",
      "Best result : 0.6597079918032787\n",
      "Generation 789\n",
      "Best result : 0.6597079918032787\n",
      "Generation 790\n",
      "Best result : 0.6597079918032787\n",
      "Generation 791\n",
      "Best result : 0.6597079918032787\n",
      "Generation 792\n",
      "Best result : 0.6597079918032787\n",
      "Generation 793\n",
      "Best result : 0.6597079918032787\n",
      "Generation 794\n",
      "Best result : 0.6597079918032787\n",
      "Generation 795\n",
      "Best result : 0.6597079918032787\n",
      "Generation 796\n",
      "Best result : 0.6597079918032787\n",
      "Generation 797\n",
      "Best result : 0.6597079918032787\n",
      "Generation 798\n",
      "Best result : 0.6597079918032787\n",
      "Generation 799\n",
      "Best result : 0.6597079918032787\n",
      "Generation 800\n",
      "Best result : 0.6597079918032787\n",
      "Generation 801\n",
      "Best result : 0.6597079918032787\n",
      "Generation 802\n",
      "Best result : 0.6597079918032787\n",
      "Generation 803\n",
      "Best result : 0.6597079918032787\n",
      "Generation 804\n",
      "Best result : 0.6597079918032787\n",
      "Generation 805\n",
      "Best result : 0.6597079918032787\n",
      "Generation 806\n",
      "Best result : 0.6597079918032787\n",
      "Generation 807\n",
      "Best result : 0.6597079918032787\n",
      "Generation 808\n",
      "Best result : 0.6597079918032787\n",
      "Generation 809\n",
      "Best result : 0.6597079918032787\n",
      "Generation 810\n",
      "Best result : 0.6597079918032787\n",
      "Generation 811\n",
      "Best result : 0.6597079918032787\n",
      "Generation 812\n",
      "Best result : 0.6597079918032787\n",
      "Generation 813\n",
      "Best result : 0.6597079918032787\n",
      "Generation 814\n",
      "Best result : 0.6597079918032787\n",
      "Generation 815\n",
      "Best result : 0.6597079918032787\n",
      "Generation 816\n",
      "Best result : 0.6597079918032787\n",
      "Generation 817\n",
      "Best result : 0.6597079918032787\n",
      "Generation 818\n",
      "Best result : 0.6597079918032787\n",
      "Generation 819\n",
      "Best result : 0.6597079918032787\n",
      "Generation 820\n",
      "Best result : 0.6597079918032787\n",
      "Generation 821\n",
      "Best result : 0.6597079918032787\n",
      "Generation 822\n",
      "Best result : 0.6597079918032787\n",
      "Generation 823\n",
      "Best result : 0.6597079918032787\n",
      "Generation 824\n",
      "Best result : 0.6597079918032787\n",
      "Generation 825\n",
      "Best result : 0.6597079918032787\n",
      "Generation 826\n",
      "Best result : 0.6597079918032787\n",
      "Generation 827\n",
      "Best result : 0.6597079918032787\n",
      "Generation 828\n",
      "Best result : 0.6597079918032787\n",
      "Generation 829\n",
      "Best result : 0.6597079918032787\n",
      "Generation 830\n",
      "Best result : 0.6597079918032787\n",
      "Generation 831\n",
      "Best result : 0.6597079918032787\n",
      "Generation 832\n",
      "Best result : 0.6597079918032787\n",
      "Generation 833\n",
      "Best result : 0.6597079918032787\n",
      "Generation 834\n",
      "Best result : 0.6597079918032787\n",
      "Generation 835\n",
      "Best result : 0.6597079918032787\n",
      "Generation 836\n",
      "Best result : 0.6597079918032787\n",
      "Generation 837\n",
      "Best result : 0.6597079918032787\n",
      "Generation 838\n",
      "Best result : 0.6597079918032787\n",
      "Generation 839\n",
      "Best result : 0.6597079918032787\n",
      "Generation 840\n",
      "Best result : 0.6597079918032787\n",
      "Generation 841\n",
      "Best result : 0.6597079918032787\n",
      "Generation 842\n",
      "Best result : 0.6597079918032787\n",
      "Generation 843\n",
      "Best result : 0.6597079918032787\n",
      "Generation 844\n",
      "Best result : 0.6597079918032787\n",
      "Generation 845\n",
      "Best result : 0.6597079918032787\n",
      "Generation 846\n",
      "Best result : 0.6597079918032787\n",
      "Generation 847\n",
      "Best result : 0.6597079918032787\n",
      "Generation 848\n",
      "Best result : 0.6597079918032787\n",
      "Generation 849\n",
      "Best result : 0.6597079918032787\n",
      "Generation 850\n",
      "Best result : 0.6597079918032787\n",
      "Generation 851\n",
      "Best result : 0.6597079918032787\n",
      "Generation 852\n",
      "Best result : 0.6597079918032787\n",
      "Generation 853\n",
      "Best result : 0.6597079918032787\n",
      "Generation 854\n",
      "Best result : 0.6597079918032787\n",
      "Generation 855\n",
      "Best result : 0.6597079918032787\n",
      "Generation 856\n",
      "Best result : 0.6597079918032787\n",
      "Generation 857\n",
      "Best result : 0.6597079918032787\n",
      "Generation 858\n",
      "Best result : 0.6597079918032787\n",
      "Generation 859\n",
      "Best result : 0.6597079918032787\n",
      "Generation 860\n",
      "Best result : 0.6597079918032787\n",
      "Generation 861\n",
      "Best result : 0.6597079918032787\n",
      "Generation 862\n",
      "Best result : 0.6597079918032787\n",
      "Generation 863\n",
      "Best result : 0.6597079918032787\n",
      "Generation 864\n",
      "Best result : 0.6597079918032787\n",
      "Generation 865\n",
      "Best result : 0.6597079918032787\n",
      "Generation 866\n",
      "Best result : 0.6597079918032787\n",
      "Generation 867\n",
      "Best result : 0.6597079918032787\n",
      "Generation 868\n",
      "Best result : 0.6597079918032787\n",
      "Generation 869\n",
      "Best result : 0.6597079918032787\n",
      "Generation 870\n",
      "Best result : 0.6597079918032787\n",
      "Generation 871\n",
      "Best result : 0.6597079918032787\n",
      "Generation 872\n",
      "Best result : 0.6597079918032787\n",
      "Generation 873\n",
      "Best result : 0.6597079918032787\n",
      "Generation 874\n",
      "Best result : 0.6597079918032787\n",
      "Generation 875\n",
      "Best result : 0.6597079918032787\n",
      "Generation 876\n",
      "Best result : 0.6597079918032787\n",
      "Generation 877\n",
      "Best result : 0.6597079918032787\n",
      "Generation 878\n",
      "Best result : 0.6597079918032787\n",
      "Generation 879\n",
      "Best result : 0.6597079918032787\n",
      "Generation 880\n",
      "Best result : 0.6597079918032787\n",
      "Generation 881\n",
      "Best result : 0.6597079918032787\n",
      "Generation 882\n",
      "Best result : 0.6597079918032787\n",
      "Generation 883\n",
      "Best result : 0.6597079918032787\n",
      "Generation 884\n",
      "Best result : 0.6597079918032787\n",
      "Generation 885\n",
      "Best result : 0.6597079918032787\n",
      "Generation 886\n",
      "Best result : 0.6597079918032787\n",
      "Generation 887\n",
      "Best result : 0.6597079918032787\n",
      "Generation 888\n",
      "Best result : 0.6597079918032787\n",
      "Generation 889\n",
      "Best result : 0.6597079918032787\n",
      "Generation 890\n",
      "Best result : 0.6597079918032787\n",
      "Generation 891\n",
      "Best result : 0.6597079918032787\n",
      "Generation 892\n",
      "Best result : 0.6597079918032787\n",
      "Generation 893\n",
      "Best result : 0.6597079918032787\n",
      "Generation 894\n",
      "Best result : 0.6597079918032787\n",
      "Generation 895\n",
      "Best result : 0.6597079918032787\n",
      "Generation 896\n",
      "Best result : 0.6597079918032787\n",
      "Generation 897\n",
      "Best result : 0.6597079918032787\n",
      "Generation 898\n",
      "Best result : 0.6597079918032787\n",
      "Generation 899\n",
      "Best result : 0.6597079918032787\n",
      "Generation 900\n",
      "Best result : 0.6597079918032787\n",
      "Generation 901\n",
      "Best result : 0.6597079918032787\n",
      "Generation 902\n",
      "Best result : 0.6597079918032787\n",
      "Generation 903\n",
      "Best result : 0.6597079918032787\n",
      "Generation 904\n",
      "Best result : 0.6597079918032787\n",
      "Generation 905\n",
      "Best result : 0.6597079918032787\n",
      "Generation 906\n",
      "Best result : 0.6597079918032787\n",
      "Generation 907\n",
      "Best result : 0.6597079918032787\n",
      "Generation 908\n",
      "Best result : 0.6597079918032787\n",
      "Generation 909\n",
      "Best result : 0.6597079918032787\n",
      "Generation 910\n",
      "Best result : 0.6597079918032787\n",
      "Generation 911\n",
      "Best result : 0.6597079918032787\n",
      "Generation 912\n",
      "Best result : 0.6597079918032787\n",
      "Generation 913\n",
      "Best result : 0.6597079918032787\n",
      "Generation 914\n",
      "Best result : 0.6597079918032787\n",
      "Generation 915\n",
      "Best result : 0.6597079918032787\n",
      "Generation 916\n",
      "Best result : 0.6597079918032787\n",
      "Generation 917\n",
      "Best result : 0.6597079918032787\n",
      "Generation 918\n",
      "Best result : 0.6597079918032787\n",
      "Generation 919\n",
      "Best result : 0.6597079918032787\n",
      "Generation 920\n",
      "Best result : 0.6597079918032787\n",
      "Generation 921\n",
      "Best result : 0.6597079918032787\n",
      "Generation 922\n",
      "Best result : 0.6597079918032787\n",
      "Generation 923\n",
      "Best result : 0.6597079918032787\n",
      "Generation 924\n",
      "Best result : 0.6597079918032787\n",
      "Generation 925\n",
      "Best result : 0.6597079918032787\n",
      "Generation 926\n",
      "Best result : 0.6597079918032787\n",
      "Generation 927\n",
      "Best result : 0.6597079918032787\n",
      "Generation 928\n",
      "Best result : 0.6597079918032787\n",
      "Generation 929\n",
      "Best result : 0.6597079918032787\n",
      "Generation 930\n",
      "Best result : 0.6597079918032787\n",
      "Generation 931\n",
      "Best result : 0.6597079918032787\n",
      "Generation 932\n",
      "Best result : 0.6597079918032787\n",
      "Generation 933\n",
      "Best result : 0.6597079918032787\n",
      "Generation 934\n",
      "Best result : 0.6597079918032787\n",
      "Generation 935\n",
      "Best result : 0.6597079918032787\n",
      "Generation 936\n",
      "Best result : 0.6597079918032787\n",
      "Generation 937\n",
      "Best result : 0.6597079918032787\n",
      "Generation 938\n",
      "Best result : 0.6597079918032787\n",
      "Generation 939\n",
      "Best result : 0.6597079918032787\n",
      "Generation 940\n",
      "Best result : 0.6597079918032787\n",
      "Generation 941\n",
      "Best result : 0.6597079918032787\n",
      "Generation 942\n",
      "Best result : 0.6597079918032787\n",
      "Generation 943\n",
      "Best result : 0.6597079918032787\n",
      "Generation 944\n",
      "Best result : 0.6597079918032787\n",
      "Generation 945\n",
      "Best result : 0.6597079918032787\n",
      "Generation 946\n",
      "Best result : 0.6597079918032787\n",
      "Generation 947\n",
      "Best result : 0.6597079918032787\n",
      "Generation 948\n",
      "Best result : 0.6597079918032787\n",
      "Generation 949\n",
      "Best result : 0.6597079918032787\n",
      "Generation 950\n",
      "Best result : 0.6597079918032787\n",
      "Generation 951\n",
      "Best result : 0.6597079918032787\n",
      "Generation 952\n",
      "Best result : 0.6597079918032787\n",
      "Generation 953\n",
      "Best result : 0.6597079918032787\n",
      "Generation 954\n",
      "Best result : 0.6597079918032787\n",
      "Generation 955\n",
      "Best result : 0.6597079918032787\n",
      "Generation 956\n",
      "Best result : 0.6597079918032787\n",
      "Generation 957\n",
      "Best result : 0.6597079918032787\n",
      "Generation 958\n",
      "Best result : 0.6597079918032787\n",
      "Generation 959\n",
      "Best result : 0.6597079918032787\n",
      "Generation 960\n",
      "Best result : 0.6597079918032787\n",
      "Generation 961\n",
      "Best result : 0.6597079918032787\n",
      "Generation 962\n",
      "Best result : 0.6597079918032787\n",
      "Generation 963\n",
      "Best result : 0.6597079918032787\n",
      "Generation 964\n",
      "Best result : 0.6597079918032787\n",
      "Generation 965\n",
      "Best result : 0.6597079918032787\n",
      "Generation 966\n",
      "Best result : 0.6597079918032787\n",
      "Generation 967\n",
      "Best result : 0.6597079918032787\n",
      "Generation 968\n",
      "Best result : 0.6597079918032787\n",
      "Generation 969\n",
      "Best result : 0.6597079918032787\n",
      "Generation 970\n",
      "Best result : 0.6597079918032787\n",
      "Generation 971\n",
      "Best result : 0.6597079918032787\n",
      "Generation 972\n",
      "Best result : 0.6597079918032787\n",
      "Generation 973\n",
      "Best result : 0.6597079918032787\n",
      "Generation 974\n",
      "Best result : 0.6597079918032787\n",
      "Generation 975\n",
      "Best result : 0.6597079918032787\n",
      "Generation 976\n",
      "Best result : 0.6597079918032787\n",
      "Generation 977\n",
      "Best result : 0.6597079918032787\n",
      "Generation 978\n",
      "Best result : 0.6597079918032787\n",
      "Generation 979\n",
      "Best result : 0.6597079918032787\n",
      "Generation 980\n",
      "Best result : 0.6597079918032787\n",
      "Generation 981\n",
      "Best result : 0.6597079918032787\n",
      "Generation 982\n",
      "Best result : 0.6597079918032787\n",
      "Generation 983\n",
      "Best result : 0.6597079918032787\n",
      "Generation 984\n",
      "Best result : 0.6597079918032787\n",
      "Generation 985\n",
      "Best result : 0.6597079918032787\n",
      "Generation 986\n",
      "Best result : 0.6597079918032787\n",
      "Generation 987\n",
      "Best result : 0.6597079918032787\n",
      "Generation 988\n",
      "Best result : 0.6597079918032787\n",
      "Generation 989\n",
      "Best result : 0.6597079918032787\n",
      "Generation 990\n",
      "Best result : 0.6597079918032787\n",
      "Generation 991\n",
      "Best result : 0.6597079918032787\n",
      "Generation 992\n",
      "Best result : 0.6597079918032787\n",
      "Generation 993\n",
      "Best result : 0.6597079918032787\n",
      "Generation 994\n",
      "Best result : 0.6597079918032787\n",
      "Generation 995\n",
      "Best result : 0.6597079918032787\n",
      "Generation 996\n",
      "Best result : 0.6597079918032787\n",
      "Generation 997\n",
      "Best result : 0.6597079918032787\n",
      "Generation 998\n",
      "Best result : 0.6597079918032787\n",
      "Generation 999\n",
      "Best result : 0.6597079918032787\n",
      "Final AUC 0.6597079918032787\n"
     ]
    },
    {
     "data": {
      "text/plain": [
       "[89690,\n",
       " 56515,\n",
       " 74897,\n",
       " 61876,\n",
       " 150001,\n",
       " 136787,\n",
       " 11141,\n",
       " 29858,\n",
       " 40916,\n",
       " 155454,\n",
       " 111048,\n",
       " 107654,\n",
       " 34890,\n",
       " 33819,\n",
       " 31899,\n",
       " 141599,\n",
       " 121830,\n",
       " 51623,\n",
       " 45065,\n",
       " 39579,\n",
       " 3638,\n",
       " 7857,\n",
       " 19668,\n",
       " 65443,\n",
       " 57583,\n",
       " 66752,\n",
       " 149308,\n",
       " 112355,\n",
       " 97378,\n",
       " 129756,\n",
       " 24064,\n",
       " 57387,\n",
       " 47643,\n",
       " 139877,\n",
       " 146829,\n",
       " 122017,\n",
       " 40625,\n",
       " 30022,\n",
       " 131537,\n",
       " 128925,\n",
       " 24646,\n",
       " 137062,\n",
       " 155134,\n",
       " 132947,\n",
       " 157199,\n",
       " 97102,\n",
       " 6342,\n",
       " 86065,\n",
       " 60728,\n",
       " 18348,\n",
       " 8279,\n",
       " 57409,\n",
       " 87484,\n",
       " 10129,\n",
       " 62481,\n",
       " 130633,\n",
       " 126666,\n",
       " 111908,\n",
       " 116517,\n",
       " 82151,\n",
       " 47092,\n",
       " 35381,\n",
       " 65027,\n",
       " 39613,\n",
       " 94264,\n",
       " 119341,\n",
       " 79991,\n",
       " 37794,\n",
       " 152997,\n",
       " 46226,\n",
       " 94269,\n",
       " 78682,\n",
       " 95116,\n",
       " 42557,\n",
       " 8443,\n",
       " 101592,\n",
       " 100340,\n",
       " 112025,\n",
       " 4722,\n",
       " 41445,\n",
       " 157553,\n",
       " 82027,\n",
       " 61556,\n",
       " 36197,\n",
       " 24498,\n",
       " 19220,\n",
       " 32261,\n",
       " 101641,\n",
       " 134288,\n",
       " 125738,\n",
       " 86788,\n",
       " 8750,\n",
       " 39724,\n",
       " 114007,\n",
       " 26240,\n",
       " 138048,\n",
       " 143943,\n",
       " 44848,\n",
       " 43342,\n",
       " 89096,\n",
       " 100076,\n",
       " 53091,\n",
       " 97302,\n",
       " 91915,\n",
       " 99675,\n",
       " 50619,\n",
       " 91181,\n",
       " 89593,\n",
       " 36085,\n",
       " 5328,\n",
       " 104191,\n",
       " 17738,\n",
       " 61625,\n",
       " 104611,\n",
       " 135879,\n",
       " 152313,\n",
       " 132725,\n",
       " 61348,\n",
       " 51628,\n",
       " 22559,\n",
       " 63227,\n",
       " 22,\n",
       " 83396,\n",
       " 123041,\n",
       " 152143,\n",
       " 124734,\n",
       " 28588,\n",
       " 60290,\n",
       " 9286,\n",
       " 91419,\n",
       " 2564,\n",
       " 8757,\n",
       " 32589,\n",
       " 63938,\n",
       " 144347,\n",
       " 153190,\n",
       " 135464,\n",
       " 682,\n",
       " 46434,\n",
       " 15485,\n",
       " 56826,\n",
       " 19254,\n",
       " 141418,\n",
       " 58299,\n",
       " 55106,\n",
       " 34999,\n",
       " 140211,\n",
       " 19778,\n",
       " 88651,\n",
       " 90809,\n",
       " 94046,\n",
       " 111724,\n",
       " 21902,\n",
       " 113451,\n",
       " 137148,\n",
       " 147571,\n",
       " 20885,\n",
       " 14926,\n",
       " 48196,\n",
       " 30035,\n",
       " 83219,\n",
       " 22722,\n",
       " 138556,\n",
       " 142194,\n",
       " 159571,\n",
       " 87094,\n",
       " 73482,\n",
       " 139474,\n",
       " 34863,\n",
       " 42671,\n",
       " 80758,\n",
       " 158261,\n",
       " 41188,\n",
       " 116644,\n",
       " 35291,\n",
       " 138805,\n",
       " 32568,\n",
       " 24032,\n",
       " 143187,\n",
       " 24187,\n",
       " 115624,\n",
       " 57527,\n",
       " 156766,\n",
       " 74488,\n",
       " 6622,\n",
       " 115723,\n",
       " 72052,\n",
       " 74152,\n",
       " 102887,\n",
       " 1653,\n",
       " 123732,\n",
       " 25309,\n",
       " 129196,\n",
       " 155126,\n",
       " 81055,\n",
       " 90713,\n",
       " 141567,\n",
       " 16936,\n",
       " 100366,\n",
       " 57785,\n",
       " 49814,\n",
       " 96002,\n",
       " 129480,\n",
       " 52275,\n",
       " 85475,\n",
       " 137142,\n",
       " 146423,\n",
       " 16054,\n",
       " 47455,\n",
       " 122560,\n",
       " 125326,\n",
       " 92625,\n",
       " 126186,\n",
       " 2862,\n",
       " 102418,\n",
       " 59929,\n",
       " 144972,\n",
       " 61116,\n",
       " 69186,\n",
       " 47331,\n",
       " 680,\n",
       " 35511,\n",
       " 132133,\n",
       " 67335,\n",
       " 65783,\n",
       " 107240,\n",
       " 21175,\n",
       " 145959,\n",
       " 74001,\n",
       " 151055,\n",
       " 42762,\n",
       " 23648,\n",
       " 29110,\n",
       " 40999,\n",
       " 70868,\n",
       " 155361,\n",
       " 144572,\n",
       " 49131,\n",
       " 129093,\n",
       " 85333,\n",
       " 141221,\n",
       " 140880,\n",
       " 145825,\n",
       " 56506,\n",
       " 30038,\n",
       " 69748,\n",
       " 70447,\n",
       " 151421,\n",
       " 77537,\n",
       " 10185,\n",
       " 66654,\n",
       " 36122,\n",
       " 68021,\n",
       " 30730,\n",
       " 103835,\n",
       " 134790,\n",
       " 127972,\n",
       " 51901,\n",
       " 105393,\n",
       " 77491,\n",
       " 81474,\n",
       " 86410,\n",
       " 83239,\n",
       " 54877,\n",
       " 19701,\n",
       " 88003,\n",
       " 44986,\n",
       " 134302,\n",
       " 60689,\n",
       " 87395,\n",
       " 159458,\n",
       " 56532,\n",
       " 34238,\n",
       " 150074,\n",
       " 102826,\n",
       " 53136,\n",
       " 107224,\n",
       " 80984,\n",
       " 134383,\n",
       " 39090,\n",
       " 144594,\n",
       " 123032,\n",
       " 90012,\n",
       " 20515,\n",
       " 130563,\n",
       " 40902,\n",
       " 101004,\n",
       " 115915,\n",
       " 17990,\n",
       " 14964,\n",
       " 11739,\n",
       " 89519,\n",
       " 78719,\n",
       " 156892,\n",
       " 30188,\n",
       " 52545,\n",
       " 87603,\n",
       " 20962,\n",
       " 35727,\n",
       " 29516,\n",
       " 77386,\n",
       " 60082,\n",
       " 7535,\n",
       " 143922,\n",
       " 96545,\n",
       " 143198,\n",
       " 41470,\n",
       " 38104,\n",
       " 118306,\n",
       " 89656,\n",
       " 124649,\n",
       " 35487,\n",
       " 15947,\n",
       " 138461,\n",
       " 107452,\n",
       " 23631,\n",
       " 139970,\n",
       " 2660,\n",
       " 66788,\n",
       " 32446,\n",
       " 119102,\n",
       " 121690,\n",
       " 70818,\n",
       " 81544,\n",
       " 114690,\n",
       " 62790,\n",
       " 156624,\n",
       " 131854,\n",
       " 105880,\n",
       " 32786,\n",
       " 49095,\n",
       " 19012,\n",
       " 84025,\n",
       " 80445,\n",
       " 121954,\n",
       " 67450,\n",
       " 88220,\n",
       " 53875,\n",
       " 43757,\n",
       " 143282,\n",
       " 59711,\n",
       " 7159,\n",
       " 150432,\n",
       " 91045,\n",
       " 135709,\n",
       " 117609,\n",
       " 56015,\n",
       " 38994,\n",
       " 5321,\n",
       " 23078,\n",
       " 110303,\n",
       " 17129,\n",
       " 41769,\n",
       " 145716,\n",
       " 48278,\n",
       " 80972,\n",
       " 119159,\n",
       " 147957,\n",
       " 138064,\n",
       " 38909,\n",
       " 13961,\n",
       " 131404,\n",
       " 158324,\n",
       " 122424,\n",
       " 157183,\n",
       " 93169,\n",
       " 26112,\n",
       " 131933,\n",
       " 73285,\n",
       " 149159,\n",
       " 106238,\n",
       " 91596,\n",
       " 38691,\n",
       " 2650,\n",
       " 22595,\n",
       " 11379,\n",
       " 54926,\n",
       " 99615,\n",
       " 51120,\n",
       " 134314,\n",
       " 75769,\n",
       " 135902,\n",
       " 80499,\n",
       " 67634,\n",
       " 41015,\n",
       " 10574,\n",
       " 10234,\n",
       " 145129,\n",
       " 122947,\n",
       " 100527,\n",
       " 154115,\n",
       " 145049,\n",
       " 73710,\n",
       " 112183,\n",
       " 89511,\n",
       " 156392,\n",
       " 143218,\n",
       " 107439,\n",
       " 152528,\n",
       " 154898,\n",
       " 34621,\n",
       " 71295,\n",
       " 74555,\n",
       " 139983,\n",
       " 24828,\n",
       " 34891,\n",
       " 35246,\n",
       " 84596,\n",
       " 147924,\n",
       " 43074,\n",
       " 32489,\n",
       " 25091,\n",
       " 141412,\n",
       " 149416,\n",
       " 34013,\n",
       " 41545,\n",
       " 16429,\n",
       " 76303,\n",
       " 61063,\n",
       " 12678,\n",
       " 70754,\n",
       " 148611,\n",
       " 6804,\n",
       " 75766,\n",
       " 15529,\n",
       " 37949,\n",
       " 138020,\n",
       " 152419,\n",
       " 36747,\n",
       " 50225,\n",
       " 97769,\n",
       " 120195,\n",
       " 32339,\n",
       " 131046,\n",
       " 20273,\n",
       " 151912,\n",
       " 26920,\n",
       " 95411,\n",
       " 50424,\n",
       " 10593,\n",
       " 3977,\n",
       " 15504,\n",
       " 105413,\n",
       " 65054,\n",
       " 125277,\n",
       " 72614,\n",
       " 69955,\n",
       " 90243,\n",
       " 121498,\n",
       " 61055,\n",
       " 90603,\n",
       " 148443,\n",
       " 94406,\n",
       " 58565,\n",
       " 46639,\n",
       " 85806,\n",
       " 144180,\n",
       " 103782,\n",
       " 151500,\n",
       " 146797,\n",
       " 149015,\n",
       " 89282,\n",
       " 86307,\n",
       " 32089,\n",
       " 152593,\n",
       " 39390,\n",
       " 13776,\n",
       " 101521,\n",
       " 8433,\n",
       " 50191,\n",
       " 87172,\n",
       " 151732,\n",
       " 24440,\n",
       " 81968,\n",
       " 47885,\n",
       " 141293,\n",
       " 49506,\n",
       " 27029,\n",
       " 64022,\n",
       " 62232,\n",
       " 116819,\n",
       " 108199,\n",
       " 143580,\n",
       " 154998,\n",
       " 124180,\n",
       " 74447,\n",
       " 25289,\n",
       " 83449,\n",
       " 61313,\n",
       " 122164,\n",
       " 39028,\n",
       " 142344,\n",
       " 5633,\n",
       " 33257,\n",
       " 82599,\n",
       " 146030,\n",
       " 151286,\n",
       " 120302,\n",
       " 125209,\n",
       " 9101,\n",
       " 29734,\n",
       " 126007,\n",
       " 137516,\n",
       " 37975,\n",
       " 124118,\n",
       " 62381,\n",
       " 87925,\n",
       " 138394,\n",
       " 98547,\n",
       " 148362,\n",
       " 13908,\n",
       " 132243,\n",
       " 129936,\n",
       " 132474,\n",
       " 90448,\n",
       " 116608,\n",
       " 19647,\n",
       " 21658,\n",
       " 32626,\n",
       " 146294,\n",
       " 34966,\n",
       " 50259,\n",
       " 78378,\n",
       " 47179,\n",
       " 39545,\n",
       " 33442,\n",
       " 80325,\n",
       " 63588,\n",
       " 159563,\n",
       " 23748,\n",
       " 60265,\n",
       " 149331,\n",
       " 114699,\n",
       " 65907,\n",
       " 129664,\n",
       " 100393,\n",
       " 45768,\n",
       " 141002,\n",
       " 48670,\n",
       " 23292,\n",
       " 155542,\n",
       " 140218,\n",
       " 135544,\n",
       " 156354,\n",
       " 99473,\n",
       " 130519,\n",
       " 57135,\n",
       " 145396,\n",
       " 55264,\n",
       " 45706,\n",
       " 51287,\n",
       " 95582,\n",
       " 67577,\n",
       " 44191,\n",
       " 127505,\n",
       " 33925,\n",
       " 78400,\n",
       " 48770,\n",
       " 114527,\n",
       " 119201,\n",
       " 46294,\n",
       " 147225,\n",
       " 153418,\n",
       " 24673,\n",
       " 95033,\n",
       " 67272,\n",
       " 143104,\n",
       " 15100,\n",
       " 111575,\n",
       " 145393,\n",
       " 15005,\n",
       " 143186,\n",
       " 82612,\n",
       " 15046,\n",
       " 155972,\n",
       " 22015,\n",
       " 6989,\n",
       " 20349,\n",
       " 20395,\n",
       " 128153,\n",
       " 70843,\n",
       " 26102,\n",
       " 106858,\n",
       " 56546,\n",
       " 87308,\n",
       " 109671,\n",
       " 159189,\n",
       " 1314,\n",
       " 69371,\n",
       " 54874,\n",
       " 69095,\n",
       " 28130,\n",
       " 98628,\n",
       " 11184,\n",
       " 59295,\n",
       " 39063,\n",
       " 43846,\n",
       " 913,\n",
       " 17579,\n",
       " 5023,\n",
       " 86162,\n",
       " 99397,\n",
       " 10743,\n",
       " 4642,\n",
       " 49768,\n",
       " 58737,\n",
       " 62347,\n",
       " 120408,\n",
       " 157228,\n",
       " 33846,\n",
       " 154572,\n",
       " 88865,\n",
       " 145095,\n",
       " 114980,\n",
       " 9698,\n",
       " 148620,\n",
       " 67696,\n",
       " 98334,\n",
       " 58509,\n",
       " 149468,\n",
       " 122615,\n",
       " 113765,\n",
       " 135298,\n",
       " 56104,\n",
       " 104905,\n",
       " 39248,\n",
       " 47057,\n",
       " 149750,\n",
       " 126149,\n",
       " 98685,\n",
       " 114031,\n",
       " 93598,\n",
       " 104433,\n",
       " 9643,\n",
       " 140110,\n",
       " 11624,\n",
       " 105788,\n",
       " 28242,\n",
       " 134099,\n",
       " 45273,\n",
       " 54699,\n",
       " 35935,\n",
       " 78345,\n",
       " 119288,\n",
       " 136602,\n",
       " 109804,\n",
       " 76852,\n",
       " 102145,\n",
       " 103715,\n",
       " 48577,\n",
       " 36694,\n",
       " 39782,\n",
       " 80228,\n",
       " 56114,\n",
       " 130209,\n",
       " 132845,\n",
       " 138406,\n",
       " 114373,\n",
       " 33281,\n",
       " 30520,\n",
       " 44056,\n",
       " 107012,\n",
       " 61637,\n",
       " 148058,\n",
       " 84160,\n",
       " 54857,\n",
       " 26886,\n",
       " 106260,\n",
       " 150516,\n",
       " 48464,\n",
       " 50799,\n",
       " 96754,\n",
       " 56463,\n",
       " 79524,\n",
       " 127255,\n",
       " 38121,\n",
       " 122976,\n",
       " 58257,\n",
       " 153125,\n",
       " 9728,\n",
       " 63400,\n",
       " 57236,\n",
       " 95566,\n",
       " 125543,\n",
       " 126311,\n",
       " 102015,\n",
       " 135036,\n",
       " 94365,\n",
       " 102955,\n",
       " 102782,\n",
       " 27525,\n",
       " 65309,\n",
       " 99207,\n",
       " 132530,\n",
       " 91171,\n",
       " 73784,\n",
       " 112779,\n",
       " 132365,\n",
       " 143260,\n",
       " 122186,\n",
       " 128064,\n",
       " 21557,\n",
       " 145727,\n",
       " 34463,\n",
       " 53446,\n",
       " 156456,\n",
       " 5689,\n",
       " 79177,\n",
       " 25463,\n",
       " 151911,\n",
       " 67237,\n",
       " 139563,\n",
       " 96907,\n",
       " 107300,\n",
       " 1477,\n",
       " 47348,\n",
       " 78224,\n",
       " 16524,\n",
       " 87699,\n",
       " 74557,\n",
       " 79789,\n",
       " 151390,\n",
       " 105389,\n",
       " 113695,\n",
       " 37042,\n",
       " 151126,\n",
       " 29573,\n",
       " 18502,\n",
       " 98622,\n",
       " 143441,\n",
       " 56285,\n",
       " 30115,\n",
       " 111095,\n",
       " 87643,\n",
       " 54562,\n",
       " 3257,\n",
       " 110703,\n",
       " 127849,\n",
       " 73688,\n",
       " 154480,\n",
       " 59051,\n",
       " 10452,\n",
       " 36227,\n",
       " 129331,\n",
       " 92672,\n",
       " 113729,\n",
       " 25045,\n",
       " 115727,\n",
       " 115856,\n",
       " 60981,\n",
       " 125370,\n",
       " 90607,\n",
       " 42392,\n",
       " 79193,\n",
       " 99379,\n",
       " 17297,\n",
       " 134647,\n",
       " 55052,\n",
       " 114973,\n",
       " 142545,\n",
       " 28735,\n",
       " 108298,\n",
       " 91588,\n",
       " 158814,\n",
       " 48785,\n",
       " 135027,\n",
       " 43702,\n",
       " 145842,\n",
       " 119906,\n",
       " 110076,\n",
       " 49319,\n",
       " 158797,\n",
       " 133760,\n",
       " 105945,\n",
       " 3274,\n",
       " 58304,\n",
       " 61846,\n",
       " 113960,\n",
       " 69476,\n",
       " 135530,\n",
       " 18195,\n",
       " 6425,\n",
       " 9461,\n",
       " 99254,\n",
       " 113744,\n",
       " 9501,\n",
       " 149868,\n",
       " 44568,\n",
       " 11175,\n",
       " 140957,\n",
       " 119124,\n",
       " 43221,\n",
       " 129253,\n",
       " 99378,\n",
       " 68457,\n",
       " 155649,\n",
       " 92386,\n",
       " 108231,\n",
       " 69113,\n",
       " 127079,\n",
       " 112157,\n",
       " 112755,\n",
       " 99121,\n",
       " 115852,\n",
       " 1547,\n",
       " 64411,\n",
       " 151158,\n",
       " 71999,\n",
       " 158466,\n",
       " 33457,\n",
       " 151074,\n",
       " 46548,\n",
       " 73572,\n",
       " 13198,\n",
       " 26848,\n",
       " 13648,\n",
       " 38658,\n",
       " 15038,\n",
       " 145594,\n",
       " 118910,\n",
       " 32664,\n",
       " 107548,\n",
       " 61003,\n",
       " 89148,\n",
       " 84458,\n",
       " 49462,\n",
       " 8239,\n",
       " 155401,\n",
       " 39344,\n",
       " 28043,\n",
       " 20758,\n",
       " 150822,\n",
       " 47798,\n",
       " 91510,\n",
       " 6511,\n",
       " 119569,\n",
       " 109755,\n",
       " 44153,\n",
       " 40226,\n",
       " 134891,\n",
       " 118230,\n",
       " 17334,\n",
       " 100871,\n",
       " 103350,\n",
       " 72949,\n",
       " 64486,\n",
       " 39483,\n",
       " 122333,\n",
       " 108525,\n",
       " 140390,\n",
       " 68840,\n",
       " 113249,\n",
       " 25224,\n",
       " 23122,\n",
       " 5558,\n",
       " 54029,\n",
       " 142616,\n",
       " 81073,\n",
       " 19279,\n",
       " 12483,\n",
       " 106250,\n",
       " 118678,\n",
       " 30371,\n",
       " 125827,\n",
       " 100074,\n",
       " 124059,\n",
       " 47335,\n",
       " 42882,\n",
       " 91995,\n",
       " 87996,\n",
       " 63009,\n",
       " 1631,\n",
       " 38934,\n",
       " 104742,\n",
       " 27099,\n",
       " 127820,\n",
       " 91693,\n",
       " 52565,\n",
       " 110700,\n",
       " 99426,\n",
       " 27076,\n",
       " 12898,\n",
       " 67300,\n",
       " 21140,\n",
       " 51578,\n",
       " 16875,\n",
       " 85807,\n",
       " 78751,\n",
       " 158718,\n",
       " 106026,\n",
       " 81803,\n",
       " 40836,\n",
       " 146798,\n",
       " 70426,\n",
       " 44390,\n",
       " 55908,\n",
       " 115201,\n",
       " 156463,\n",
       " 46566,\n",
       " 41384,\n",
       " 55916,\n",
       " 144700,\n",
       " 105915,\n",
       " 87942,\n",
       " 140824,\n",
       " 13679,\n",
       " 8146,\n",
       " 29742,\n",
       " 52966,\n",
       " 97523,\n",
       " 158529,\n",
       " 34819,\n",
       " 146628,\n",
       " 27078,\n",
       " 92402,\n",
       " 125208,\n",
       " 106860,\n",
       " 14877,\n",
       " 71335,\n",
       " 36670,\n",
       " 36308,\n",
       " 158584,\n",
       " 13407,\n",
       " 98225,\n",
       " 9462,\n",
       " 101553,\n",
       " 41221,\n",
       " 73000,\n",
       " 97001,\n",
       " 84242,\n",
       " 112559,\n",
       " 121923,\n",
       " 83367,\n",
       " 36057,\n",
       " 18895,\n",
       " 103171,\n",
       " 19565,\n",
       " 145119,\n",
       " 121511,\n",
       " 144949,\n",
       " 135260,\n",
       " 46781,\n",
       " 133274,\n",
       " 30688,\n",
       " 125383,\n",
       " 157937,\n",
       " 38347,\n",
       " 92868,\n",
       " 45494,\n",
       " 18806,\n",
       " 28625,\n",
       " 71129,\n",
       " 86367,\n",
       " 57868,\n",
       " 156890,\n",
       " 64174,\n",
       " 90622,\n",
       " 127168,\n",
       " 21603,\n",
       " 42650,\n",
       " 72200,\n",
       " 159233,\n",
       " 13451,\n",
       " 98224,\n",
       " 72990,\n",
       " 115472,\n",
       " 69329,\n",
       " 129763,\n",
       " 28485,\n",
       " 100463,\n",
       " 4180,\n",
       " 145272,\n",
       " 81993,\n",
       " 151210,\n",
       " 149743,\n",
       " 121428,\n",
       " 34048,\n",
       " 56801,\n",
       " 92213,\n",
       " 132822,\n",
       " 91154,\n",
       " 78808,\n",
       " 143032,\n",
       " 135781,\n",
       " 104075,\n",
       " 125203,\n",
       " 42104,\n",
       " 153072,\n",
       " 149583,\n",
       " 133864,\n",
       " 33295,\n",
       " 5640,\n",
       " 156658,\n",
       " 144554,\n",
       " 24215,\n",
       " 139926,\n",
       " 70834,\n",
       " 108278,\n",
       " 42070,\n",
       " 115384,\n",
       " ...]"
      ]
     },
     "execution_count": 6,
     "metadata": {},
     "output_type": "execute_result"
    }
   ],
   "source": [
    "ga_features = feature_selection.get_GA_features(X=X, Y=Y)\n",
    "ga_features"
   ]
  },
  {
   "cell_type": "markdown",
   "metadata": {},
   "source": [
    "## Gera as combinações de parâmetros para rodar a rede neural"
   ]
  },
  {
   "cell_type": "code",
   "execution_count": 7,
   "metadata": {},
   "outputs": [],
   "source": [
    "mlp_classifier = MLPClassifier(solver=\"sgd\", learning_rate=\"constant\")\n",
    "\n",
    "parameters = [{\"hidden_layer_sizes\":[(10,), (25,), #variando o tamanho de uma única camada escondida\n",
    "                                     (10, 15), # duas camadas ocultas com 10 e 15 neuronios cada\n",
    "                                     (10, 10, 10)], # três camadas ocultas com 10 neuronios cada\n",
    "               \"learning_rate_init\":[0.001, 0.01, 0.1, 0.5, 0.9],\n",
    "               \"activation\":['logistic', 'relu']}]\n",
    "scoring = [\"accuracy\", \"precision\", \"recall\", \"roc_auc\"]\n",
    "\n",
    "result_column_list= ['param_activation',\n",
    "                     'param_hidden_layer_sizes',\n",
    "                     'param_learning_rate_init',\n",
    "                     'mean_test_accuracy',\n",
    "                     'mean_test_precision',\n",
    "                     'mean_test_recall',\n",
    "                     'mean_test_roc_auc']"
   ]
  },
  {
   "cell_type": "markdown",
   "metadata": {},
   "source": [
    "#### Roda todas as combinações da rede neural para todas as features"
   ]
  },
  {
   "cell_type": "code",
   "execution_count": 20,
   "metadata": {},
   "outputs": [],
   "source": [
    "grid_search_full = GridSearchCV(mlp_classifier, parameters, verbose=5, n_jobs=-1, cv=3, scoring=scoring, refit=False)"
   ]
  },
  {
   "cell_type": "code",
   "execution_count": 21,
   "metadata": {},
   "outputs": [
    {
     "name": "stdout",
     "output_type": "stream",
     "text": [
      "Fitting 3 folds for each of 40 candidates, totalling 120 fits\n",
      "[CV] activation=logistic, hidden_layer_sizes=(10,), learning_rate_init=0.001 \n"
     ]
    },
    {
     "name": "stderr",
     "output_type": "stream",
     "text": [
      "/home/fernando.favoretti/.local/lib/python3.6/site-packages/sklearn/neural_network/multilayer_perceptron.py:912: DataConversionWarning: A column-vector y was passed when a 1d array was expected. Please change the shape of y to (n_samples, ), for example using ravel().\n",
      "  y = column_or_1d(y, warn=True)\n"
     ]
    },
    {
     "name": "stdout",
     "output_type": "stream",
     "text": [
      "[CV] activation=logistic, hidden_layer_sizes=(10,), learning_rate_init=0.001 \n"
     ]
    },
    {
     "name": "stderr",
     "output_type": "stream",
     "text": [
      "Process ForkPoolWorker-75:\n",
      "Process ForkPoolWorker-74:\n",
      "Process ForkPoolWorker-73:\n",
      "Process ForkPoolWorker-71:\n",
      "Process ForkPoolWorker-67:\n",
      "Traceback (most recent call last):\n",
      "Process ForkPoolWorker-72:\n",
      "Process ForkPoolWorker-69:\n",
      "Process ForkPoolWorker-64:\n",
      "Traceback (most recent call last):\n",
      "Process ForkPoolWorker-70:\n",
      "Traceback (most recent call last):\n",
      "Traceback (most recent call last):\n",
      "Traceback (most recent call last):\n",
      "Process ForkPoolWorker-65:\n",
      "Process ForkPoolWorker-66:\n",
      "Process ForkPoolWorker-63:\n",
      "  File \"/home/fernando.favoretti/anaconda3/lib/python3.6/multiprocessing/process.py\", line 258, in _bootstrap\n",
      "    self.run()\n",
      "Process ForkPoolWorker-68:\n",
      "Traceback (most recent call last):\n",
      "  File \"/home/fernando.favoretti/anaconda3/lib/python3.6/multiprocessing/process.py\", line 258, in _bootstrap\n",
      "    self.run()\n",
      "Process ForkPoolWorker-76:\n",
      "  File \"/home/fernando.favoretti/anaconda3/lib/python3.6/multiprocessing/process.py\", line 258, in _bootstrap\n",
      "    self.run()\n",
      "Traceback (most recent call last):\n",
      "  File \"/home/fernando.favoretti/anaconda3/lib/python3.6/multiprocessing/process.py\", line 93, in run\n",
      "    self._target(*self._args, **self._kwargs)\n",
      "Traceback (most recent call last):\n",
      "  File \"/home/fernando.favoretti/anaconda3/lib/python3.6/multiprocessing/process.py\", line 93, in run\n",
      "    self._target(*self._args, **self._kwargs)\n",
      "Traceback (most recent call last):\n",
      "  File \"/home/fernando.favoretti/anaconda3/lib/python3.6/multiprocessing/process.py\", line 258, in _bootstrap\n",
      "    self.run()\n",
      "Traceback (most recent call last):\n",
      "Traceback (most recent call last):\n",
      "Traceback (most recent call last):\n",
      "Traceback (most recent call last):\n",
      "  File \"/home/fernando.favoretti/anaconda3/lib/python3.6/multiprocessing/process.py\", line 93, in run\n",
      "    self._target(*self._args, **self._kwargs)\n",
      "  File \"/home/fernando.favoretti/anaconda3/lib/python3.6/multiprocessing/process.py\", line 258, in _bootstrap\n",
      "    self.run()\n",
      "  File \"/home/fernando.favoretti/anaconda3/lib/python3.6/multiprocessing/pool.py\", line 108, in worker\n",
      "    task = get()\n",
      "  File \"/home/fernando.favoretti/anaconda3/lib/python3.6/multiprocessing/process.py\", line 258, in _bootstrap\n",
      "    self.run()\n",
      "  File \"/home/fernando.favoretti/anaconda3/lib/python3.6/multiprocessing/process.py\", line 258, in _bootstrap\n",
      "    self.run()\n",
      "  File \"/home/fernando.favoretti/anaconda3/lib/python3.6/multiprocessing/process.py\", line 258, in _bootstrap\n",
      "    self.run()\n",
      "  File \"/home/fernando.favoretti/anaconda3/lib/python3.6/multiprocessing/process.py\", line 258, in _bootstrap\n",
      "    self.run()\n",
      "  File \"/home/fernando.favoretti/anaconda3/lib/python3.6/multiprocessing/pool.py\", line 108, in worker\n",
      "    task = get()\n",
      "  File \"/home/fernando.favoretti/anaconda3/lib/python3.6/multiprocessing/process.py\", line 258, in _bootstrap\n",
      "    self.run()\n",
      "  File \"/home/fernando.favoretti/anaconda3/lib/python3.6/multiprocessing/process.py\", line 93, in run\n",
      "    self._target(*self._args, **self._kwargs)\n",
      "  File \"/home/fernando.favoretti/anaconda3/lib/python3.6/multiprocessing/process.py\", line 93, in run\n",
      "    self._target(*self._args, **self._kwargs)\n",
      "  File \"/home/fernando.favoretti/anaconda3/lib/python3.6/multiprocessing/process.py\", line 93, in run\n",
      "    self._target(*self._args, **self._kwargs)\n",
      "  File \"/home/fernando.favoretti/anaconda3/lib/python3.6/multiprocessing/process.py\", line 93, in run\n",
      "    self._target(*self._args, **self._kwargs)\n",
      "  File \"/home/fernando.favoretti/anaconda3/lib/python3.6/multiprocessing/process.py\", line 93, in run\n",
      "    self._target(*self._args, **self._kwargs)\n",
      "  File \"/home/fernando.favoretti/.local/lib/python3.6/site-packages/sklearn/externals/joblib/pool.py\", line 360, in get\n",
      "    racquire()\n",
      "  File \"/home/fernando.favoretti/.local/lib/python3.6/site-packages/sklearn/externals/joblib/pool.py\", line 360, in get\n",
      "    racquire()\n",
      "  File \"/home/fernando.favoretti/anaconda3/lib/python3.6/multiprocessing/process.py\", line 93, in run\n",
      "    self._target(*self._args, **self._kwargs)\n",
      "  File \"/home/fernando.favoretti/anaconda3/lib/python3.6/multiprocessing/pool.py\", line 108, in worker\n",
      "    task = get()\n",
      "  File \"/home/fernando.favoretti/anaconda3/lib/python3.6/multiprocessing/pool.py\", line 108, in worker\n",
      "    task = get()\n",
      "  File \"/home/fernando.favoretti/anaconda3/lib/python3.6/multiprocessing/pool.py\", line 108, in worker\n",
      "    task = get()\n",
      "  File \"/home/fernando.favoretti/anaconda3/lib/python3.6/multiprocessing/pool.py\", line 108, in worker\n",
      "    task = get()\n",
      "  File \"/home/fernando.favoretti/anaconda3/lib/python3.6/multiprocessing/pool.py\", line 108, in worker\n",
      "    task = get()\n",
      "KeyboardInterrupt\n",
      "  File \"/home/fernando.favoretti/anaconda3/lib/python3.6/multiprocessing/process.py\", line 258, in _bootstrap\n",
      "    self.run()\n",
      "  File \"/home/fernando.favoretti/anaconda3/lib/python3.6/multiprocessing/pool.py\", line 108, in worker\n",
      "    task = get()\n",
      "KeyboardInterrupt\n",
      "  File \"/home/fernando.favoretti/.local/lib/python3.6/site-packages/sklearn/externals/joblib/pool.py\", line 360, in get\n",
      "    racquire()\n",
      "  File \"/home/fernando.favoretti/.local/lib/python3.6/site-packages/sklearn/externals/joblib/pool.py\", line 360, in get\n",
      "    racquire()\n",
      "  File \"/home/fernando.favoretti/.local/lib/python3.6/site-packages/sklearn/externals/joblib/pool.py\", line 360, in get\n",
      "    racquire()\n",
      "  File \"/home/fernando.favoretti/.local/lib/python3.6/site-packages/sklearn/externals/joblib/pool.py\", line 360, in get\n",
      "    racquire()\n",
      "  File \"/home/fernando.favoretti/.local/lib/python3.6/site-packages/sklearn/externals/joblib/pool.py\", line 360, in get\n",
      "    racquire()\n",
      "KeyboardInterrupt\n",
      "KeyboardInterrupt\n",
      "  File \"/home/fernando.favoretti/.local/lib/python3.6/site-packages/sklearn/externals/joblib/pool.py\", line 360, in get\n",
      "    racquire()\n",
      "KeyboardInterrupt\n",
      "KeyboardInterrupt\n",
      "KeyboardInterrupt\n",
      "  File \"/home/fernando.favoretti/anaconda3/lib/python3.6/multiprocessing/process.py\", line 93, in run\n",
      "    self._target(*self._args, **self._kwargs)\n",
      "  File \"/home/fernando.favoretti/anaconda3/lib/python3.6/multiprocessing/process.py\", line 258, in _bootstrap\n",
      "    self.run()\n",
      "  File \"/home/fernando.favoretti/anaconda3/lib/python3.6/multiprocessing/process.py\", line 93, in run\n",
      "    self._target(*self._args, **self._kwargs)\n",
      "  File \"/home/fernando.favoretti/anaconda3/lib/python3.6/multiprocessing/pool.py\", line 108, in worker\n",
      "    task = get()\n",
      "  File \"/home/fernando.favoretti/anaconda3/lib/python3.6/multiprocessing/process.py\", line 258, in _bootstrap\n",
      "    self.run()\n",
      "Traceback (most recent call last):\n",
      "  File \"/home/fernando.favoretti/anaconda3/lib/python3.6/multiprocessing/process.py\", line 93, in run\n",
      "    self._target(*self._args, **self._kwargs)\n",
      "  File \"/home/fernando.favoretti/anaconda3/lib/python3.6/multiprocessing/process.py\", line 258, in _bootstrap\n",
      "    self.run()\n",
      "KeyboardInterrupt\n",
      "  File \"/home/fernando.favoretti/.local/lib/python3.6/site-packages/sklearn/externals/joblib/pool.py\", line 360, in get\n",
      "    racquire()\n",
      "  File \"/home/fernando.favoretti/anaconda3/lib/python3.6/multiprocessing/pool.py\", line 108, in worker\n",
      "    task = get()\n",
      "  File \"/home/fernando.favoretti/anaconda3/lib/python3.6/multiprocessing/process.py\", line 93, in run\n",
      "    self._target(*self._args, **self._kwargs)\n",
      "  File \"/home/fernando.favoretti/anaconda3/lib/python3.6/multiprocessing/process.py\", line 93, in run\n",
      "    self._target(*self._args, **self._kwargs)\n",
      "KeyboardInterrupt\n",
      "  File \"/home/fernando.favoretti/anaconda3/lib/python3.6/multiprocessing/pool.py\", line 108, in worker\n",
      "    task = get()\n",
      "  File \"/home/fernando.favoretti/anaconda3/lib/python3.6/multiprocessing/pool.py\", line 108, in worker\n",
      "    task = get()\n",
      "  File \"/home/fernando.favoretti/.local/lib/python3.6/site-packages/sklearn/externals/joblib/pool.py\", line 360, in get\n",
      "    racquire()\n",
      "  File \"/home/fernando.favoretti/anaconda3/lib/python3.6/multiprocessing/pool.py\", line 108, in worker\n",
      "    task = get()\n",
      "  File \"/home/fernando.favoretti/.local/lib/python3.6/site-packages/sklearn/externals/joblib/pool.py\", line 360, in get\n",
      "    racquire()\n",
      "KeyboardInterrupt\n",
      "  File \"/home/fernando.favoretti/.local/lib/python3.6/site-packages/sklearn/externals/joblib/pool.py\", line 362, in get\n",
      "    return recv()\n",
      "  File \"/home/fernando.favoretti/anaconda3/lib/python3.6/multiprocessing/connection.py\", line 250, in recv\n",
      "    buf = self._recv_bytes()\n",
      "  File \"/home/fernando.favoretti/anaconda3/lib/python3.6/multiprocessing/pool.py\", line 108, in worker\n",
      "    task = get()\n",
      "  File \"/home/fernando.favoretti/.local/lib/python3.6/site-packages/sklearn/externals/joblib/pool.py\", line 360, in get\n",
      "    racquire()\n",
      "  File \"/home/fernando.favoretti/anaconda3/lib/python3.6/multiprocessing/connection.py\", line 407, in _recv_bytes\n",
      "    buf = self._recv(4)\n",
      "/home/fernando.favoretti/.local/lib/python3.6/site-packages/sklearn/neural_network/multilayer_perceptron.py:566: UserWarning: Training interrupted by user.\n",
      "  warnings.warn(\"Training interrupted by user.\")\n",
      "KeyboardInterrupt\n",
      "KeyboardInterrupt\n",
      "  File \"/home/fernando.favoretti/.local/lib/python3.6/site-packages/sklearn/externals/joblib/pool.py\", line 360, in get\n",
      "    racquire()\n",
      "  File \"/home/fernando.favoretti/anaconda3/lib/python3.6/multiprocessing/connection.py\", line 379, in _recv\n",
      "    chunk = read(handle, remaining)\n",
      "KeyboardInterrupt\n",
      "KeyboardInterrupt\n"
     ]
    },
    {
     "name": "stdout",
     "output_type": "stream",
     "text": [
      "[CV]  activation=logistic, hidden_layer_sizes=(10,), learning_rate_init=0.001, accuracy=0.5119760479041916, precision=0.5061728395061729, recall=0.9820359281437125, roc_auc=0.5597188855821291, total=   3.1s\n"
     ]
    },
    {
     "name": "stderr",
     "output_type": "stream",
     "text": [
      "Process ForkPoolWorker-62:\n",
      "Process ForkPoolWorker-61:\n",
      "Traceback (most recent call last):\n",
      "Traceback (most recent call last):\n",
      "  File \"/home/fernando.favoretti/anaconda3/lib/python3.6/multiprocessing/process.py\", line 258, in _bootstrap\n",
      "    self.run()\n",
      "  File \"/home/fernando.favoretti/anaconda3/lib/python3.6/multiprocessing/process.py\", line 258, in _bootstrap\n",
      "    self.run()\n",
      "  File \"/home/fernando.favoretti/anaconda3/lib/python3.6/multiprocessing/process.py\", line 93, in run\n",
      "    self._target(*self._args, **self._kwargs)\n",
      "  File \"/home/fernando.favoretti/anaconda3/lib/python3.6/multiprocessing/process.py\", line 93, in run\n",
      "    self._target(*self._args, **self._kwargs)\n",
      "  File \"/home/fernando.favoretti/anaconda3/lib/python3.6/multiprocessing/pool.py\", line 108, in worker\n",
      "    task = get()\n",
      "  File \"/home/fernando.favoretti/anaconda3/lib/python3.6/multiprocessing/pool.py\", line 108, in worker\n",
      "    task = get()\n",
      "  File \"/home/fernando.favoretti/.local/lib/python3.6/site-packages/sklearn/externals/joblib/pool.py\", line 360, in get\n",
      "    racquire()\n",
      "  File \"/home/fernando.favoretti/.local/lib/python3.6/site-packages/sklearn/externals/joblib/pool.py\", line 360, in get\n",
      "    racquire()\n",
      "KeyboardInterrupt\n",
      "KeyboardInterrupt\n"
     ]
    },
    {
     "ename": "KeyboardInterrupt",
     "evalue": "",
     "output_type": "error",
     "traceback": [
      "\u001b[0;31m---------------------------------------------------------------------------\u001b[0m",
      "\u001b[0;31mKeyboardInterrupt\u001b[0m                         Traceback (most recent call last)",
      "\u001b[0;32m~/.local/lib/python3.6/site-packages/sklearn/externals/joblib/parallel.py\u001b[0m in \u001b[0;36mretrieve\u001b[0;34m(self)\u001b[0m\n\u001b[1;32m    698\u001b[0m                 \u001b[0;32mif\u001b[0m \u001b[0mgetattr\u001b[0m\u001b[0;34m(\u001b[0m\u001b[0mself\u001b[0m\u001b[0;34m.\u001b[0m\u001b[0m_backend\u001b[0m\u001b[0;34m,\u001b[0m \u001b[0;34m'supports_timeout'\u001b[0m\u001b[0;34m,\u001b[0m \u001b[0;32mFalse\u001b[0m\u001b[0;34m)\u001b[0m\u001b[0;34m:\u001b[0m\u001b[0;34m\u001b[0m\u001b[0m\n\u001b[0;32m--> 699\u001b[0;31m                     \u001b[0mself\u001b[0m\u001b[0;34m.\u001b[0m\u001b[0m_output\u001b[0m\u001b[0;34m.\u001b[0m\u001b[0mextend\u001b[0m\u001b[0;34m(\u001b[0m\u001b[0mjob\u001b[0m\u001b[0;34m.\u001b[0m\u001b[0mget\u001b[0m\u001b[0;34m(\u001b[0m\u001b[0mtimeout\u001b[0m\u001b[0;34m=\u001b[0m\u001b[0mself\u001b[0m\u001b[0;34m.\u001b[0m\u001b[0mtimeout\u001b[0m\u001b[0;34m)\u001b[0m\u001b[0;34m)\u001b[0m\u001b[0;34m\u001b[0m\u001b[0m\n\u001b[0m\u001b[1;32m    700\u001b[0m                 \u001b[0;32melse\u001b[0m\u001b[0;34m:\u001b[0m\u001b[0;34m\u001b[0m\u001b[0m\n",
      "\u001b[0;32m~/anaconda3/lib/python3.6/multiprocessing/pool.py\u001b[0m in \u001b[0;36mget\u001b[0;34m(self, timeout)\u001b[0m\n\u001b[1;32m    637\u001b[0m     \u001b[0;32mdef\u001b[0m \u001b[0mget\u001b[0m\u001b[0;34m(\u001b[0m\u001b[0mself\u001b[0m\u001b[0;34m,\u001b[0m \u001b[0mtimeout\u001b[0m\u001b[0;34m=\u001b[0m\u001b[0;32mNone\u001b[0m\u001b[0;34m)\u001b[0m\u001b[0;34m:\u001b[0m\u001b[0;34m\u001b[0m\u001b[0m\n\u001b[0;32m--> 638\u001b[0;31m         \u001b[0mself\u001b[0m\u001b[0;34m.\u001b[0m\u001b[0mwait\u001b[0m\u001b[0;34m(\u001b[0m\u001b[0mtimeout\u001b[0m\u001b[0;34m)\u001b[0m\u001b[0;34m\u001b[0m\u001b[0m\n\u001b[0m\u001b[1;32m    639\u001b[0m         \u001b[0;32mif\u001b[0m \u001b[0;32mnot\u001b[0m \u001b[0mself\u001b[0m\u001b[0;34m.\u001b[0m\u001b[0mready\u001b[0m\u001b[0;34m(\u001b[0m\u001b[0;34m)\u001b[0m\u001b[0;34m:\u001b[0m\u001b[0;34m\u001b[0m\u001b[0m\n",
      "\u001b[0;32m~/anaconda3/lib/python3.6/multiprocessing/pool.py\u001b[0m in \u001b[0;36mwait\u001b[0;34m(self, timeout)\u001b[0m\n\u001b[1;32m    634\u001b[0m     \u001b[0;32mdef\u001b[0m \u001b[0mwait\u001b[0m\u001b[0;34m(\u001b[0m\u001b[0mself\u001b[0m\u001b[0;34m,\u001b[0m \u001b[0mtimeout\u001b[0m\u001b[0;34m=\u001b[0m\u001b[0;32mNone\u001b[0m\u001b[0;34m)\u001b[0m\u001b[0;34m:\u001b[0m\u001b[0;34m\u001b[0m\u001b[0m\n\u001b[0;32m--> 635\u001b[0;31m         \u001b[0mself\u001b[0m\u001b[0;34m.\u001b[0m\u001b[0m_event\u001b[0m\u001b[0;34m.\u001b[0m\u001b[0mwait\u001b[0m\u001b[0;34m(\u001b[0m\u001b[0mtimeout\u001b[0m\u001b[0;34m)\u001b[0m\u001b[0;34m\u001b[0m\u001b[0m\n\u001b[0m\u001b[1;32m    636\u001b[0m \u001b[0;34m\u001b[0m\u001b[0m\n",
      "\u001b[0;32m~/anaconda3/lib/python3.6/threading.py\u001b[0m in \u001b[0;36mwait\u001b[0;34m(self, timeout)\u001b[0m\n\u001b[1;32m    550\u001b[0m             \u001b[0;32mif\u001b[0m \u001b[0;32mnot\u001b[0m \u001b[0msignaled\u001b[0m\u001b[0;34m:\u001b[0m\u001b[0;34m\u001b[0m\u001b[0m\n\u001b[0;32m--> 551\u001b[0;31m                 \u001b[0msignaled\u001b[0m \u001b[0;34m=\u001b[0m \u001b[0mself\u001b[0m\u001b[0;34m.\u001b[0m\u001b[0m_cond\u001b[0m\u001b[0;34m.\u001b[0m\u001b[0mwait\u001b[0m\u001b[0;34m(\u001b[0m\u001b[0mtimeout\u001b[0m\u001b[0;34m)\u001b[0m\u001b[0;34m\u001b[0m\u001b[0m\n\u001b[0m\u001b[1;32m    552\u001b[0m             \u001b[0;32mreturn\u001b[0m \u001b[0msignaled\u001b[0m\u001b[0;34m\u001b[0m\u001b[0m\n",
      "\u001b[0;32m~/anaconda3/lib/python3.6/threading.py\u001b[0m in \u001b[0;36mwait\u001b[0;34m(self, timeout)\u001b[0m\n\u001b[1;32m    294\u001b[0m             \u001b[0;32mif\u001b[0m \u001b[0mtimeout\u001b[0m \u001b[0;32mis\u001b[0m \u001b[0;32mNone\u001b[0m\u001b[0;34m:\u001b[0m\u001b[0;34m\u001b[0m\u001b[0m\n\u001b[0;32m--> 295\u001b[0;31m                 \u001b[0mwaiter\u001b[0m\u001b[0;34m.\u001b[0m\u001b[0macquire\u001b[0m\u001b[0;34m(\u001b[0m\u001b[0;34m)\u001b[0m\u001b[0;34m\u001b[0m\u001b[0m\n\u001b[0m\u001b[1;32m    296\u001b[0m                 \u001b[0mgotit\u001b[0m \u001b[0;34m=\u001b[0m \u001b[0;32mTrue\u001b[0m\u001b[0;34m\u001b[0m\u001b[0m\n",
      "\u001b[0;31mKeyboardInterrupt\u001b[0m: ",
      "\nDuring handling of the above exception, another exception occurred:\n",
      "\u001b[0;31mKeyboardInterrupt\u001b[0m                         Traceback (most recent call last)",
      "\u001b[0;32m<ipython-input-21-94c72504f250>\u001b[0m in \u001b[0;36m<module>\u001b[0;34m()\u001b[0m\n\u001b[0;32m----> 1\u001b[0;31m \u001b[0mgrid_search_full\u001b[0m\u001b[0;34m.\u001b[0m\u001b[0mfit\u001b[0m\u001b[0;34m(\u001b[0m\u001b[0mX\u001b[0m\u001b[0;34m,\u001b[0m \u001b[0mY\u001b[0m\u001b[0;34m)\u001b[0m\u001b[0;34m\u001b[0m\u001b[0m\n\u001b[0m",
      "\u001b[0;32m~/.local/lib/python3.6/site-packages/sklearn/model_selection/_search.py\u001b[0m in \u001b[0;36mfit\u001b[0;34m(self, X, y, groups, **fit_params)\u001b[0m\n\u001b[1;32m    637\u001b[0m                                   error_score=self.error_score)\n\u001b[1;32m    638\u001b[0m           for parameters, (train, test) in product(candidate_params,\n\u001b[0;32m--> 639\u001b[0;31m                                                    cv.split(X, y, groups)))\n\u001b[0m\u001b[1;32m    640\u001b[0m \u001b[0;34m\u001b[0m\u001b[0m\n\u001b[1;32m    641\u001b[0m         \u001b[0;31m# if one choose to see train score, \"out\" will contain train score info\u001b[0m\u001b[0;34m\u001b[0m\u001b[0;34m\u001b[0m\u001b[0m\n",
      "\u001b[0;32m~/.local/lib/python3.6/site-packages/sklearn/externals/joblib/parallel.py\u001b[0m in \u001b[0;36m__call__\u001b[0;34m(self, iterable)\u001b[0m\n\u001b[1;32m    787\u001b[0m                 \u001b[0;31m# consumption.\u001b[0m\u001b[0;34m\u001b[0m\u001b[0;34m\u001b[0m\u001b[0m\n\u001b[1;32m    788\u001b[0m                 \u001b[0mself\u001b[0m\u001b[0;34m.\u001b[0m\u001b[0m_iterating\u001b[0m \u001b[0;34m=\u001b[0m \u001b[0;32mFalse\u001b[0m\u001b[0;34m\u001b[0m\u001b[0m\n\u001b[0;32m--> 789\u001b[0;31m             \u001b[0mself\u001b[0m\u001b[0;34m.\u001b[0m\u001b[0mretrieve\u001b[0m\u001b[0;34m(\u001b[0m\u001b[0;34m)\u001b[0m\u001b[0;34m\u001b[0m\u001b[0m\n\u001b[0m\u001b[1;32m    790\u001b[0m             \u001b[0;31m# Make sure that we get a last message telling us we are done\u001b[0m\u001b[0;34m\u001b[0m\u001b[0;34m\u001b[0m\u001b[0m\n\u001b[1;32m    791\u001b[0m             \u001b[0melapsed_time\u001b[0m \u001b[0;34m=\u001b[0m \u001b[0mtime\u001b[0m\u001b[0;34m.\u001b[0m\u001b[0mtime\u001b[0m\u001b[0;34m(\u001b[0m\u001b[0;34m)\u001b[0m \u001b[0;34m-\u001b[0m \u001b[0mself\u001b[0m\u001b[0;34m.\u001b[0m\u001b[0m_start_time\u001b[0m\u001b[0;34m\u001b[0m\u001b[0m\n",
      "\u001b[0;32m~/.local/lib/python3.6/site-packages/sklearn/externals/joblib/parallel.py\u001b[0m in \u001b[0;36mretrieve\u001b[0;34m(self)\u001b[0m\n\u001b[1;32m    719\u001b[0m                     \u001b[0;31m# scheduling.\u001b[0m\u001b[0;34m\u001b[0m\u001b[0;34m\u001b[0m\u001b[0m\n\u001b[1;32m    720\u001b[0m                     \u001b[0mensure_ready\u001b[0m \u001b[0;34m=\u001b[0m \u001b[0mself\u001b[0m\u001b[0;34m.\u001b[0m\u001b[0m_managed_backend\u001b[0m\u001b[0;34m\u001b[0m\u001b[0m\n\u001b[0;32m--> 721\u001b[0;31m                     \u001b[0mbackend\u001b[0m\u001b[0;34m.\u001b[0m\u001b[0mabort_everything\u001b[0m\u001b[0;34m(\u001b[0m\u001b[0mensure_ready\u001b[0m\u001b[0;34m=\u001b[0m\u001b[0mensure_ready\u001b[0m\u001b[0;34m)\u001b[0m\u001b[0;34m\u001b[0m\u001b[0m\n\u001b[0m\u001b[1;32m    722\u001b[0m \u001b[0;34m\u001b[0m\u001b[0m\n\u001b[1;32m    723\u001b[0m                 \u001b[0;32mif\u001b[0m \u001b[0;32mnot\u001b[0m \u001b[0misinstance\u001b[0m\u001b[0;34m(\u001b[0m\u001b[0mexception\u001b[0m\u001b[0;34m,\u001b[0m \u001b[0mTransportableException\u001b[0m\u001b[0;34m)\u001b[0m\u001b[0;34m:\u001b[0m\u001b[0;34m\u001b[0m\u001b[0m\n",
      "\u001b[0;32m~/.local/lib/python3.6/site-packages/sklearn/externals/joblib/_parallel_backends.py\u001b[0m in \u001b[0;36mabort_everything\u001b[0;34m(self, ensure_ready)\u001b[0m\n\u001b[1;32m    143\u001b[0m     \u001b[0;32mdef\u001b[0m \u001b[0mabort_everything\u001b[0m\u001b[0;34m(\u001b[0m\u001b[0mself\u001b[0m\u001b[0;34m,\u001b[0m \u001b[0mensure_ready\u001b[0m\u001b[0;34m=\u001b[0m\u001b[0;32mTrue\u001b[0m\u001b[0;34m)\u001b[0m\u001b[0;34m:\u001b[0m\u001b[0;34m\u001b[0m\u001b[0m\n\u001b[1;32m    144\u001b[0m         \u001b[0;34m\"\"\"Shutdown the pool and restart a new one with the same parameters\"\"\"\u001b[0m\u001b[0;34m\u001b[0m\u001b[0m\n\u001b[0;32m--> 145\u001b[0;31m         \u001b[0mself\u001b[0m\u001b[0;34m.\u001b[0m\u001b[0mterminate\u001b[0m\u001b[0;34m(\u001b[0m\u001b[0;34m)\u001b[0m\u001b[0;34m\u001b[0m\u001b[0m\n\u001b[0m\u001b[1;32m    146\u001b[0m         \u001b[0;32mif\u001b[0m \u001b[0mensure_ready\u001b[0m\u001b[0;34m:\u001b[0m\u001b[0;34m\u001b[0m\u001b[0m\n\u001b[1;32m    147\u001b[0m             self.configure(n_jobs=self.parallel.n_jobs, parallel=self.parallel,\n",
      "\u001b[0;32m~/.local/lib/python3.6/site-packages/sklearn/externals/joblib/_parallel_backends.py\u001b[0m in \u001b[0;36mterminate\u001b[0;34m(self)\u001b[0m\n\u001b[1;32m    321\u001b[0m     \u001b[0;32mdef\u001b[0m \u001b[0mterminate\u001b[0m\u001b[0;34m(\u001b[0m\u001b[0mself\u001b[0m\u001b[0;34m)\u001b[0m\u001b[0;34m:\u001b[0m\u001b[0;34m\u001b[0m\u001b[0m\n\u001b[1;32m    322\u001b[0m         \u001b[0;34m\"\"\"Shutdown the process or thread pool\"\"\"\u001b[0m\u001b[0;34m\u001b[0m\u001b[0m\n\u001b[0;32m--> 323\u001b[0;31m         \u001b[0msuper\u001b[0m\u001b[0;34m(\u001b[0m\u001b[0mMultiprocessingBackend\u001b[0m\u001b[0;34m,\u001b[0m \u001b[0mself\u001b[0m\u001b[0;34m)\u001b[0m\u001b[0;34m.\u001b[0m\u001b[0mterminate\u001b[0m\u001b[0;34m(\u001b[0m\u001b[0;34m)\u001b[0m\u001b[0;34m\u001b[0m\u001b[0m\n\u001b[0m\u001b[1;32m    324\u001b[0m         \u001b[0;32mif\u001b[0m \u001b[0mself\u001b[0m\u001b[0;34m.\u001b[0m\u001b[0mJOBLIB_SPAWNED_PROCESS\u001b[0m \u001b[0;32min\u001b[0m \u001b[0mos\u001b[0m\u001b[0;34m.\u001b[0m\u001b[0menviron\u001b[0m\u001b[0;34m:\u001b[0m\u001b[0;34m\u001b[0m\u001b[0m\n\u001b[1;32m    325\u001b[0m             \u001b[0;32mdel\u001b[0m \u001b[0mos\u001b[0m\u001b[0;34m.\u001b[0m\u001b[0menviron\u001b[0m\u001b[0;34m[\u001b[0m\u001b[0mself\u001b[0m\u001b[0;34m.\u001b[0m\u001b[0mJOBLIB_SPAWNED_PROCESS\u001b[0m\u001b[0;34m]\u001b[0m\u001b[0;34m\u001b[0m\u001b[0m\n",
      "\u001b[0;32m~/.local/lib/python3.6/site-packages/sklearn/externals/joblib/_parallel_backends.py\u001b[0m in \u001b[0;36mterminate\u001b[0;34m(self)\u001b[0m\n\u001b[1;32m    134\u001b[0m         \u001b[0;32mif\u001b[0m \u001b[0mself\u001b[0m\u001b[0;34m.\u001b[0m\u001b[0m_pool\u001b[0m \u001b[0;32mis\u001b[0m \u001b[0;32mnot\u001b[0m \u001b[0;32mNone\u001b[0m\u001b[0;34m:\u001b[0m\u001b[0;34m\u001b[0m\u001b[0m\n\u001b[1;32m    135\u001b[0m             \u001b[0mself\u001b[0m\u001b[0;34m.\u001b[0m\u001b[0m_pool\u001b[0m\u001b[0;34m.\u001b[0m\u001b[0mclose\u001b[0m\u001b[0;34m(\u001b[0m\u001b[0;34m)\u001b[0m\u001b[0;34m\u001b[0m\u001b[0m\n\u001b[0;32m--> 136\u001b[0;31m             \u001b[0mself\u001b[0m\u001b[0;34m.\u001b[0m\u001b[0m_pool\u001b[0m\u001b[0;34m.\u001b[0m\u001b[0mterminate\u001b[0m\u001b[0;34m(\u001b[0m\u001b[0;34m)\u001b[0m  \u001b[0;31m# terminate does a join()\u001b[0m\u001b[0;34m\u001b[0m\u001b[0m\n\u001b[0m\u001b[1;32m    137\u001b[0m             \u001b[0mself\u001b[0m\u001b[0;34m.\u001b[0m\u001b[0m_pool\u001b[0m \u001b[0;34m=\u001b[0m \u001b[0;32mNone\u001b[0m\u001b[0;34m\u001b[0m\u001b[0m\n\u001b[1;32m    138\u001b[0m \u001b[0;34m\u001b[0m\u001b[0m\n",
      "\u001b[0;32m~/.local/lib/python3.6/site-packages/sklearn/externals/joblib/pool.py\u001b[0m in \u001b[0;36mterminate\u001b[0;34m(self)\u001b[0m\n\u001b[1;32m    604\u001b[0m         \u001b[0;32mfor\u001b[0m \u001b[0mi\u001b[0m \u001b[0;32min\u001b[0m \u001b[0mrange\u001b[0m\u001b[0;34m(\u001b[0m\u001b[0mn_retries\u001b[0m\u001b[0;34m)\u001b[0m\u001b[0;34m:\u001b[0m\u001b[0;34m\u001b[0m\u001b[0m\n\u001b[1;32m    605\u001b[0m             \u001b[0;32mtry\u001b[0m\u001b[0;34m:\u001b[0m\u001b[0;34m\u001b[0m\u001b[0m\n\u001b[0;32m--> 606\u001b[0;31m                 \u001b[0msuper\u001b[0m\u001b[0;34m(\u001b[0m\u001b[0mMemmapingPool\u001b[0m\u001b[0;34m,\u001b[0m \u001b[0mself\u001b[0m\u001b[0;34m)\u001b[0m\u001b[0;34m.\u001b[0m\u001b[0mterminate\u001b[0m\u001b[0;34m(\u001b[0m\u001b[0;34m)\u001b[0m\u001b[0;34m\u001b[0m\u001b[0m\n\u001b[0m\u001b[1;32m    607\u001b[0m                 \u001b[0;32mbreak\u001b[0m\u001b[0;34m\u001b[0m\u001b[0m\n\u001b[1;32m    608\u001b[0m             \u001b[0;32mexcept\u001b[0m \u001b[0mOSError\u001b[0m \u001b[0;32mas\u001b[0m \u001b[0me\u001b[0m\u001b[0;34m:\u001b[0m\u001b[0;34m\u001b[0m\u001b[0m\n",
      "\u001b[0;32m~/anaconda3/lib/python3.6/multiprocessing/pool.py\u001b[0m in \u001b[0;36mterminate\u001b[0;34m(self)\u001b[0m\n\u001b[1;32m    539\u001b[0m         \u001b[0mself\u001b[0m\u001b[0;34m.\u001b[0m\u001b[0m_state\u001b[0m \u001b[0;34m=\u001b[0m \u001b[0mTERMINATE\u001b[0m\u001b[0;34m\u001b[0m\u001b[0m\n\u001b[1;32m    540\u001b[0m         \u001b[0mself\u001b[0m\u001b[0;34m.\u001b[0m\u001b[0m_worker_handler\u001b[0m\u001b[0;34m.\u001b[0m\u001b[0m_state\u001b[0m \u001b[0;34m=\u001b[0m \u001b[0mTERMINATE\u001b[0m\u001b[0;34m\u001b[0m\u001b[0m\n\u001b[0;32m--> 541\u001b[0;31m         \u001b[0mself\u001b[0m\u001b[0;34m.\u001b[0m\u001b[0m_terminate\u001b[0m\u001b[0;34m(\u001b[0m\u001b[0;34m)\u001b[0m\u001b[0;34m\u001b[0m\u001b[0m\n\u001b[0m\u001b[1;32m    542\u001b[0m \u001b[0;34m\u001b[0m\u001b[0m\n\u001b[1;32m    543\u001b[0m     \u001b[0;32mdef\u001b[0m \u001b[0mjoin\u001b[0m\u001b[0;34m(\u001b[0m\u001b[0mself\u001b[0m\u001b[0;34m)\u001b[0m\u001b[0;34m:\u001b[0m\u001b[0;34m\u001b[0m\u001b[0m\n",
      "\u001b[0;32m~/anaconda3/lib/python3.6/multiprocessing/util.py\u001b[0m in \u001b[0;36m__call__\u001b[0;34m(self, wr, _finalizer_registry, sub_debug, getpid)\u001b[0m\n\u001b[1;32m    184\u001b[0m                 sub_debug('finalizer calling %s with args %s and kwargs %s',\n\u001b[1;32m    185\u001b[0m                           self._callback, self._args, self._kwargs)\n\u001b[0;32m--> 186\u001b[0;31m                 \u001b[0mres\u001b[0m \u001b[0;34m=\u001b[0m \u001b[0mself\u001b[0m\u001b[0;34m.\u001b[0m\u001b[0m_callback\u001b[0m\u001b[0;34m(\u001b[0m\u001b[0;34m*\u001b[0m\u001b[0mself\u001b[0m\u001b[0;34m.\u001b[0m\u001b[0m_args\u001b[0m\u001b[0;34m,\u001b[0m \u001b[0;34m**\u001b[0m\u001b[0mself\u001b[0m\u001b[0;34m.\u001b[0m\u001b[0m_kwargs\u001b[0m\u001b[0;34m)\u001b[0m\u001b[0;34m\u001b[0m\u001b[0m\n\u001b[0m\u001b[1;32m    187\u001b[0m             \u001b[0mself\u001b[0m\u001b[0;34m.\u001b[0m\u001b[0m_weakref\u001b[0m \u001b[0;34m=\u001b[0m \u001b[0mself\u001b[0m\u001b[0;34m.\u001b[0m\u001b[0m_callback\u001b[0m \u001b[0;34m=\u001b[0m \u001b[0mself\u001b[0m\u001b[0;34m.\u001b[0m\u001b[0m_args\u001b[0m \u001b[0;34m=\u001b[0m\u001b[0;31m \u001b[0m\u001b[0;31m\\\u001b[0m\u001b[0;34m\u001b[0m\u001b[0m\n\u001b[1;32m    188\u001b[0m                             \u001b[0mself\u001b[0m\u001b[0;34m.\u001b[0m\u001b[0m_kwargs\u001b[0m \u001b[0;34m=\u001b[0m \u001b[0mself\u001b[0m\u001b[0;34m.\u001b[0m\u001b[0m_key\u001b[0m \u001b[0;34m=\u001b[0m \u001b[0;32mNone\u001b[0m\u001b[0;34m\u001b[0m\u001b[0m\n",
      "\u001b[0;32m~/anaconda3/lib/python3.6/multiprocessing/pool.py\u001b[0m in \u001b[0;36m_terminate_pool\u001b[0;34m(cls, taskqueue, inqueue, outqueue, pool, worker_handler, task_handler, result_handler, cache)\u001b[0m\n\u001b[1;32m    569\u001b[0m \u001b[0;34m\u001b[0m\u001b[0m\n\u001b[1;32m    570\u001b[0m         \u001b[0mutil\u001b[0m\u001b[0;34m.\u001b[0m\u001b[0mdebug\u001b[0m\u001b[0;34m(\u001b[0m\u001b[0;34m'helping task handler/workers to finish'\u001b[0m\u001b[0;34m)\u001b[0m\u001b[0;34m\u001b[0m\u001b[0m\n\u001b[0;32m--> 571\u001b[0;31m         \u001b[0mcls\u001b[0m\u001b[0;34m.\u001b[0m\u001b[0m_help_stuff_finish\u001b[0m\u001b[0;34m(\u001b[0m\u001b[0minqueue\u001b[0m\u001b[0;34m,\u001b[0m \u001b[0mtask_handler\u001b[0m\u001b[0;34m,\u001b[0m \u001b[0mlen\u001b[0m\u001b[0;34m(\u001b[0m\u001b[0mpool\u001b[0m\u001b[0;34m)\u001b[0m\u001b[0;34m)\u001b[0m\u001b[0;34m\u001b[0m\u001b[0m\n\u001b[0m\u001b[1;32m    572\u001b[0m \u001b[0;34m\u001b[0m\u001b[0m\n\u001b[1;32m    573\u001b[0m         \u001b[0;32massert\u001b[0m \u001b[0mresult_handler\u001b[0m\u001b[0;34m.\u001b[0m\u001b[0mis_alive\u001b[0m\u001b[0;34m(\u001b[0m\u001b[0;34m)\u001b[0m \u001b[0;32mor\u001b[0m \u001b[0mlen\u001b[0m\u001b[0;34m(\u001b[0m\u001b[0mcache\u001b[0m\u001b[0;34m)\u001b[0m \u001b[0;34m==\u001b[0m \u001b[0;36m0\u001b[0m\u001b[0;34m\u001b[0m\u001b[0m\n",
      "\u001b[0;32m~/anaconda3/lib/python3.6/multiprocessing/pool.py\u001b[0m in \u001b[0;36m_help_stuff_finish\u001b[0;34m(inqueue, task_handler, size)\u001b[0m\n\u001b[1;32m    554\u001b[0m         \u001b[0;31m# task_handler may be blocked trying to put items on inqueue\u001b[0m\u001b[0;34m\u001b[0m\u001b[0;34m\u001b[0m\u001b[0m\n\u001b[1;32m    555\u001b[0m         \u001b[0mutil\u001b[0m\u001b[0;34m.\u001b[0m\u001b[0mdebug\u001b[0m\u001b[0;34m(\u001b[0m\u001b[0;34m'removing tasks from inqueue until task handler finished'\u001b[0m\u001b[0;34m)\u001b[0m\u001b[0;34m\u001b[0m\u001b[0m\n\u001b[0;32m--> 556\u001b[0;31m         \u001b[0minqueue\u001b[0m\u001b[0;34m.\u001b[0m\u001b[0m_rlock\u001b[0m\u001b[0;34m.\u001b[0m\u001b[0macquire\u001b[0m\u001b[0;34m(\u001b[0m\u001b[0;34m)\u001b[0m\u001b[0;34m\u001b[0m\u001b[0m\n\u001b[0m\u001b[1;32m    557\u001b[0m         \u001b[0;32mwhile\u001b[0m \u001b[0mtask_handler\u001b[0m\u001b[0;34m.\u001b[0m\u001b[0mis_alive\u001b[0m\u001b[0;34m(\u001b[0m\u001b[0;34m)\u001b[0m \u001b[0;32mand\u001b[0m \u001b[0minqueue\u001b[0m\u001b[0;34m.\u001b[0m\u001b[0m_reader\u001b[0m\u001b[0;34m.\u001b[0m\u001b[0mpoll\u001b[0m\u001b[0;34m(\u001b[0m\u001b[0;34m)\u001b[0m\u001b[0;34m:\u001b[0m\u001b[0;34m\u001b[0m\u001b[0m\n\u001b[1;32m    558\u001b[0m             \u001b[0minqueue\u001b[0m\u001b[0;34m.\u001b[0m\u001b[0m_reader\u001b[0m\u001b[0;34m.\u001b[0m\u001b[0mrecv\u001b[0m\u001b[0;34m(\u001b[0m\u001b[0;34m)\u001b[0m\u001b[0;34m\u001b[0m\u001b[0m\n",
      "\u001b[0;31mKeyboardInterrupt\u001b[0m: "
     ]
    }
   ],
   "source": [
    "grid_search_full.fit(X, Y)"
   ]
  },
  {
   "cell_type": "code",
   "execution_count": 19,
   "metadata": {
    "scrolled": true
   },
   "outputs": [
    {
     "ename": "AttributeError",
     "evalue": "'GridSearchCV' object has no attribute 'cv_results_'",
     "output_type": "error",
     "traceback": [
      "\u001b[0;31m---------------------------------------------------------------------------\u001b[0m",
      "\u001b[0;31mAttributeError\u001b[0m                            Traceback (most recent call last)",
      "\u001b[0;32m<ipython-input-19-5c24baacf7be>\u001b[0m in \u001b[0;36m<module>\u001b[0;34m()\u001b[0m\n\u001b[0;32m----> 1\u001b[0;31m \u001b[0mfull_result\u001b[0m \u001b[0;34m=\u001b[0m \u001b[0mpd\u001b[0m\u001b[0;34m.\u001b[0m\u001b[0mDataFrame\u001b[0m\u001b[0;34m(\u001b[0m\u001b[0mgrid_search_full\u001b[0m\u001b[0;34m.\u001b[0m\u001b[0mcv_results_\u001b[0m\u001b[0;34m)\u001b[0m\u001b[0;34m[\u001b[0m\u001b[0mresult_column_list\u001b[0m\u001b[0;34m]\u001b[0m\u001b[0;34m\u001b[0m\u001b[0m\n\u001b[0m\u001b[1;32m      2\u001b[0m \u001b[0mfull_result\u001b[0m\u001b[0;34m.\u001b[0m\u001b[0mto_csv\u001b[0m\u001b[0;34m(\u001b[0m\u001b[0;34m\"Sample_1000_Full.csv\"\u001b[0m\u001b[0;34m)\u001b[0m\u001b[0;34m\u001b[0m\u001b[0m\n",
      "\u001b[0;31mAttributeError\u001b[0m: 'GridSearchCV' object has no attribute 'cv_results_'"
     ]
    }
   ],
   "source": [
    "full_result = pd.DataFrame(grid_search_full.cv_results_)[result_column_list]\n",
    "full_result.to_csv(\"Sample_1000_Full.csv\")"
   ]
  },
  {
   "cell_type": "markdown",
   "metadata": {},
   "source": [
    "#### Roda todas as combinações da rede neural para as features extraídas pelo PCA"
   ]
  },
  {
   "cell_type": "code",
   "execution_count": 22,
   "metadata": {},
   "outputs": [],
   "source": [
    "grid_search_pca = GridSearchCV(mlp_classifier, parameters, verbose=5, n_jobs=-1, cv=3, scoring=scoring, refit=False)"
   ]
  },
  {
   "cell_type": "code",
   "execution_count": 23,
   "metadata": {
    "scrolled": false
   },
   "outputs": [
    {
     "name": "stdout",
     "output_type": "stream",
     "text": [
      "Fitting 3 folds for each of 40 candidates, totalling 120 fits\n",
      "[CV] activation=logistic, hidden_layer_sizes=(10,), learning_rate_init=0.001 \n",
      "[CV] activation=logistic, hidden_layer_sizes=(10,), learning_rate_init=0.001 \n",
      "[CV] activation=logistic, hidden_layer_sizes=(10,), learning_rate_init=0.001 \n",
      "[CV] activation=logistic, hidden_layer_sizes=(10,), learning_rate_init=0.01 \n",
      "[CV] activation=logistic, hidden_layer_sizes=(10,), learning_rate_init=0.01 \n"
     ]
    },
    {
     "name": "stderr",
     "output_type": "stream",
     "text": [
      "/home/fernando.favoretti/.local/lib/python3.6/site-packages/sklearn/neural_network/multilayer_perceptron.py:912: DataConversionWarning: A column-vector y was passed when a 1d array was expected. Please change the shape of y to (n_samples, ), for example using ravel().\n",
      "  y = column_or_1d(y, warn=True)\n"
     ]
    },
    {
     "name": "stdout",
     "output_type": "stream",
     "text": [
      "[CV] activation=logistic, hidden_layer_sizes=(10,), learning_rate_init=0.01 \n"
     ]
    },
    {
     "name": "stderr",
     "output_type": "stream",
     "text": [
      "/home/fernando.favoretti/.local/lib/python3.6/site-packages/sklearn/neural_network/multilayer_perceptron.py:912: DataConversionWarning: A column-vector y was passed when a 1d array was expected. Please change the shape of y to (n_samples, ), for example using ravel().\n",
      "  y = column_or_1d(y, warn=True)\n"
     ]
    },
    {
     "name": "stdout",
     "output_type": "stream",
     "text": [
      "[CV] activation=logistic, hidden_layer_sizes=(10,), learning_rate_init=0.1 \n"
     ]
    },
    {
     "name": "stderr",
     "output_type": "stream",
     "text": [
      "/home/fernando.favoretti/.local/lib/python3.6/site-packages/sklearn/neural_network/multilayer_perceptron.py:912: DataConversionWarning: A column-vector y was passed when a 1d array was expected. Please change the shape of y to (n_samples, ), for example using ravel().\n",
      "  y = column_or_1d(y, warn=True)\n"
     ]
    },
    {
     "name": "stdout",
     "output_type": "stream",
     "text": [
      "[CV] activation=logistic, hidden_layer_sizes=(10,), learning_rate_init=0.1 \n"
     ]
    },
    {
     "name": "stderr",
     "output_type": "stream",
     "text": [
      "/home/fernando.favoretti/.local/lib/python3.6/site-packages/sklearn/neural_network/multilayer_perceptron.py:912: DataConversionWarning: A column-vector y was passed when a 1d array was expected. Please change the shape of y to (n_samples, ), for example using ravel().\n",
      "  y = column_or_1d(y, warn=True)\n"
     ]
    },
    {
     "name": "stdout",
     "output_type": "stream",
     "text": [
      "[CV] activation=logistic, hidden_layer_sizes=(10,), learning_rate_init=0.1 \n"
     ]
    },
    {
     "name": "stderr",
     "output_type": "stream",
     "text": [
      "/home/fernando.favoretti/.local/lib/python3.6/site-packages/sklearn/neural_network/multilayer_perceptron.py:912: DataConversionWarning: A column-vector y was passed when a 1d array was expected. Please change the shape of y to (n_samples, ), for example using ravel().\n",
      "  y = column_or_1d(y, warn=True)\n",
      "/home/fernando.favoretti/.local/lib/python3.6/site-packages/sklearn/neural_network/multilayer_perceptron.py:912: DataConversionWarning: A column-vector y was passed when a 1d array was expected. Please change the shape of y to (n_samples, ), for example using ravel().\n",
      "  y = column_or_1d(y, warn=True)\n"
     ]
    },
    {
     "name": "stdout",
     "output_type": "stream",
     "text": [
      "[CV] activation=logistic, hidden_layer_sizes=(10,), learning_rate_init=0.5 \n"
     ]
    },
    {
     "name": "stderr",
     "output_type": "stream",
     "text": [
      "/home/fernando.favoretti/.local/lib/python3.6/site-packages/sklearn/neural_network/multilayer_perceptron.py:912: DataConversionWarning: A column-vector y was passed when a 1d array was expected. Please change the shape of y to (n_samples, ), for example using ravel().\n",
      "  y = column_or_1d(y, warn=True)\n",
      "/home/fernando.favoretti/.local/lib/python3.6/site-packages/sklearn/neural_network/multilayer_perceptron.py:912: DataConversionWarning: A column-vector y was passed when a 1d array was expected. Please change the shape of y to (n_samples, ), for example using ravel().\n",
      "  y = column_or_1d(y, warn=True)\n"
     ]
    },
    {
     "name": "stdout",
     "output_type": "stream",
     "text": [
      "[CV] activation=logistic, hidden_layer_sizes=(10,), learning_rate_init=0.5 \n"
     ]
    },
    {
     "name": "stderr",
     "output_type": "stream",
     "text": [
      "/home/fernando.favoretti/.local/lib/python3.6/site-packages/sklearn/neural_network/multilayer_perceptron.py:912: DataConversionWarning: A column-vector y was passed when a 1d array was expected. Please change the shape of y to (n_samples, ), for example using ravel().\n",
      "  y = column_or_1d(y, warn=True)\n"
     ]
    },
    {
     "name": "stdout",
     "output_type": "stream",
     "text": [
      "[CV] activation=logistic, hidden_layer_sizes=(10,), learning_rate_init=0.9 \n",
      "[CV] activation=logistic, hidden_layer_sizes=(10,), learning_rate_init=0.5 \n"
     ]
    },
    {
     "name": "stderr",
     "output_type": "stream",
     "text": [
      "/home/fernando.favoretti/.local/lib/python3.6/site-packages/sklearn/neural_network/multilayer_perceptron.py:912: DataConversionWarning: A column-vector y was passed when a 1d array was expected. Please change the shape of y to (n_samples, ), for example using ravel().\n",
      "  y = column_or_1d(y, warn=True)\n"
     ]
    },
    {
     "name": "stdout",
     "output_type": "stream",
     "text": [
      "[CV] activation=logistic, hidden_layer_sizes=(10,), learning_rate_init=0.9 \n"
     ]
    },
    {
     "name": "stderr",
     "output_type": "stream",
     "text": [
      "/home/fernando.favoretti/.local/lib/python3.6/site-packages/sklearn/neural_network/multilayer_perceptron.py:912: DataConversionWarning: A column-vector y was passed when a 1d array was expected. Please change the shape of y to (n_samples, ), for example using ravel().\n",
      "  y = column_or_1d(y, warn=True)\n",
      "/home/fernando.favoretti/.local/lib/python3.6/site-packages/sklearn/neural_network/multilayer_perceptron.py:912: DataConversionWarning: A column-vector y was passed when a 1d array was expected. Please change the shape of y to (n_samples, ), for example using ravel().\n",
      "  y = column_or_1d(y, warn=True)\n",
      "/home/fernando.favoretti/.local/lib/python3.6/site-packages/sklearn/neural_network/multilayer_perceptron.py:912: DataConversionWarning: A column-vector y was passed when a 1d array was expected. Please change the shape of y to (n_samples, ), for example using ravel().\n",
      "  y = column_or_1d(y, warn=True)\n",
      "/home/fernando.favoretti/.local/lib/python3.6/site-packages/sklearn/neural_network/multilayer_perceptron.py:912: DataConversionWarning: A column-vector y was passed when a 1d array was expected. Please change the shape of y to (n_samples, ), for example using ravel().\n",
      "  y = column_or_1d(y, warn=True)\n"
     ]
    },
    {
     "name": "stdout",
     "output_type": "stream",
     "text": [
      "[CV]  activation=logistic, hidden_layer_sizes=(10,), learning_rate_init=0.9, accuracy=0.4880239520958084, precision=0.4895833333333333, recall=0.562874251497006, roc_auc=0.5007709132632938, total=   0.1s\n",
      "[CV] activation=logistic, hidden_layer_sizes=(25,), learning_rate_init=0.001 \n",
      "[CV]  activation=logistic, hidden_layer_sizes=(10,), learning_rate_init=0.9, accuracy=0.5149700598802395, precision=0.5135135135135135, recall=0.5688622754491018, roc_auc=0.5280755853562337, total=   0.1s\n",
      "[CV]  activation=logistic, hidden_layer_sizes=(10,), learning_rate_init=0.5, accuracy=0.5089820359281437, precision=0.5121951219512195, recall=0.3772455089820359, roc_auc=0.4882211624654882, total=   0.1s\n"
     ]
    },
    {
     "name": "stderr",
     "output_type": "stream",
     "text": [
      "/home/fernando.favoretti/.local/lib/python3.6/site-packages/sklearn/neural_network/multilayer_perceptron.py:912: DataConversionWarning: A column-vector y was passed when a 1d array was expected. Please change the shape of y to (n_samples, ), for example using ravel().\n",
      "  y = column_or_1d(y, warn=True)\n"
     ]
    },
    {
     "name": "stdout",
     "output_type": "stream",
     "text": [
      "[CV] activation=logistic, hidden_layer_sizes=(25,), learning_rate_init=0.001 \n",
      "[CV]  activation=logistic, hidden_layer_sizes=(10,), learning_rate_init=0.1, accuracy=0.5149700598802395, precision=0.5142857142857142, recall=0.5389221556886228, roc_auc=0.5455555953960343, total=   0.1s\n",
      "[CV] activation=logistic, hidden_layer_sizes=(10,), learning_rate_init=0.9 \n",
      "[CV] activation=logistic, hidden_layer_sizes=(25,), learning_rate_init=0.001 \n"
     ]
    },
    {
     "name": "stderr",
     "output_type": "stream",
     "text": [
      "/home/fernando.favoretti/.local/lib/python3.6/site-packages/sklearn/neural_network/multilayer_perceptron.py:912: DataConversionWarning: A column-vector y was passed when a 1d array was expected. Please change the shape of y to (n_samples, ), for example using ravel().\n",
      "  y = column_or_1d(y, warn=True)\n"
     ]
    },
    {
     "name": "stdout",
     "output_type": "stream",
     "text": [
      "[CV] activation=logistic, hidden_layer_sizes=(25,), learning_rate_init=0.01 \n"
     ]
    },
    {
     "name": "stderr",
     "output_type": "stream",
     "text": [
      "/home/fernando.favoretti/.local/lib/python3.6/site-packages/sklearn/neural_network/multilayer_perceptron.py:912: DataConversionWarning: A column-vector y was passed when a 1d array was expected. Please change the shape of y to (n_samples, ), for example using ravel().\n",
      "  y = column_or_1d(y, warn=True)\n"
     ]
    },
    {
     "name": "stdout",
     "output_type": "stream",
     "text": [
      "[CV]  activation=logistic, hidden_layer_sizes=(10,), learning_rate_init=0.5, accuracy=0.46987951807228917, precision=0.4744897959183674, recall=0.5602409638554217, roc_auc=0.49147191174335897, total=   0.1s\n",
      "[CV] activation=logistic, hidden_layer_sizes=(25,), learning_rate_init=0.01 \n",
      "[CV] activation=logistic, hidden_layer_sizes=(25,), learning_rate_init=0.01 \n"
     ]
    },
    {
     "name": "stderr",
     "output_type": "stream",
     "text": [
      "/home/fernando.favoretti/.local/lib/python3.6/site-packages/sklearn/neural_network/multilayer_perceptron.py:912: DataConversionWarning: A column-vector y was passed when a 1d array was expected. Please change the shape of y to (n_samples, ), for example using ravel().\n",
      "  y = column_or_1d(y, warn=True)\n",
      "/home/fernando.favoretti/.local/lib/python3.6/site-packages/sklearn/neural_network/multilayer_perceptron.py:912: DataConversionWarning: A column-vector y was passed when a 1d array was expected. Please change the shape of y to (n_samples, ), for example using ravel().\n",
      "  y = column_or_1d(y, warn=True)\n"
     ]
    },
    {
     "name": "stdout",
     "output_type": "stream",
     "text": [
      "[CV]  activation=logistic, hidden_layer_sizes=(10,), learning_rate_init=0.5, accuracy=0.5, precision=0.5, recall=0.4251497005988024, roc_auc=0.5037290688084908, total=   0.1s\n"
     ]
    },
    {
     "name": "stderr",
     "output_type": "stream",
     "text": [
      "/home/fernando.favoretti/.local/lib/python3.6/site-packages/sklearn/neural_network/multilayer_perceptron.py:912: DataConversionWarning: A column-vector y was passed when a 1d array was expected. Please change the shape of y to (n_samples, ), for example using ravel().\n",
      "  y = column_or_1d(y, warn=True)\n"
     ]
    },
    {
     "name": "stdout",
     "output_type": "stream",
     "text": [
      "[CV] activation=logistic, hidden_layer_sizes=(25,), learning_rate_init=0.1 \n"
     ]
    },
    {
     "name": "stderr",
     "output_type": "stream",
     "text": [
      "/home/fernando.favoretti/.local/lib/python3.6/site-packages/sklearn/neural_network/multilayer_perceptron.py:912: DataConversionWarning: A column-vector y was passed when a 1d array was expected. Please change the shape of y to (n_samples, ), for example using ravel().\n",
      "  y = column_or_1d(y, warn=True)\n",
      "/home/fernando.favoretti/.local/lib/python3.6/site-packages/sklearn/neural_network/multilayer_perceptron.py:912: DataConversionWarning: A column-vector y was passed when a 1d array was expected. Please change the shape of y to (n_samples, ), for example using ravel().\n",
      "  y = column_or_1d(y, warn=True)\n"
     ]
    },
    {
     "name": "stdout",
     "output_type": "stream",
     "text": [
      "[CV]  activation=logistic, hidden_layer_sizes=(10,), learning_rate_init=0.9, accuracy=0.5030120481927711, precision=0.502127659574468, recall=0.7108433734939759, roc_auc=0.47980476121352883, total=   0.1s\n",
      "[CV] activation=logistic, hidden_layer_sizes=(25,), learning_rate_init=0.1 \n"
     ]
    },
    {
     "name": "stderr",
     "output_type": "stream",
     "text": [
      "/home/fernando.favoretti/.local/lib/python3.6/site-packages/sklearn/neural_network/multilayer_perceptron.py:912: DataConversionWarning: A column-vector y was passed when a 1d array was expected. Please change the shape of y to (n_samples, ), for example using ravel().\n",
      "  y = column_or_1d(y, warn=True)\n"
     ]
    },
    {
     "name": "stdout",
     "output_type": "stream",
     "text": [
      "[CV]  activation=logistic, hidden_layer_sizes=(10,), learning_rate_init=0.1, accuracy=0.5451807228915663, precision=0.5483870967741935, recall=0.5120481927710844, roc_auc=0.5370518217448105, total=   0.4s\n",
      "[CV] activation=logistic, hidden_layer_sizes=(25,), learning_rate_init=0.1 \n"
     ]
    },
    {
     "name": "stderr",
     "output_type": "stream",
     "text": [
      "/home/fernando.favoretti/.local/lib/python3.6/site-packages/sklearn/neural_network/multilayer_perceptron.py:912: DataConversionWarning: A column-vector y was passed when a 1d array was expected. Please change the shape of y to (n_samples, ), for example using ravel().\n",
      "  y = column_or_1d(y, warn=True)\n",
      "/home/fernando.favoretti/.local/lib/python3.6/site-packages/sklearn/neural_network/multilayer_perceptron.py:564: ConvergenceWarning: Stochastic Optimizer: Maximum iterations (200) reached and the optimization hasn't converged yet.\n",
      "  % self.max_iter, ConvergenceWarning)\n"
     ]
    },
    {
     "name": "stdout",
     "output_type": "stream",
     "text": [
      "[CV]  activation=logistic, hidden_layer_sizes=(10,), learning_rate_init=0.1, accuracy=0.5149700598802395, precision=0.5159235668789809, recall=0.48502994011976047, roc_auc=0.5079063430026175, total=   0.5s\n",
      "[CV] activation=logistic, hidden_layer_sizes=(25,), learning_rate_init=0.5 \n",
      "[CV]  activation=logistic, hidden_layer_sizes=(10,), learning_rate_init=0.01, accuracy=0.5030120481927711, precision=0.5028901734104047, recall=0.5240963855421686, roc_auc=0.5369066627957614, total=   0.5s\n"
     ]
    },
    {
     "name": "stderr",
     "output_type": "stream",
     "text": [
      "/home/fernando.favoretti/.local/lib/python3.6/site-packages/sklearn/neural_network/multilayer_perceptron.py:564: ConvergenceWarning: Stochastic Optimizer: Maximum iterations (200) reached and the optimization hasn't converged yet.\n",
      "  % self.max_iter, ConvergenceWarning)\n"
     ]
    },
    {
     "name": "stdout",
     "output_type": "stream",
     "text": [
      "[CV] activation=logistic, hidden_layer_sizes=(25,), learning_rate_init=0.5 \n"
     ]
    },
    {
     "name": "stderr",
     "output_type": "stream",
     "text": [
      "/home/fernando.favoretti/.local/lib/python3.6/site-packages/sklearn/neural_network/multilayer_perceptron.py:912: DataConversionWarning: A column-vector y was passed when a 1d array was expected. Please change the shape of y to (n_samples, ), for example using ravel().\n",
      "  y = column_or_1d(y, warn=True)\n"
     ]
    },
    {
     "name": "stdout",
     "output_type": "stream",
     "text": [
      "[CV]  activation=logistic, hidden_layer_sizes=(10,), learning_rate_init=0.01, accuracy=0.5059880239520959, precision=0.5059523809523809, recall=0.5089820359281437, roc_auc=0.5330058445982286, total=   0.6s\n"
     ]
    },
    {
     "name": "stderr",
     "output_type": "stream",
     "text": [
      "/home/fernando.favoretti/.local/lib/python3.6/site-packages/sklearn/neural_network/multilayer_perceptron.py:564: ConvergenceWarning: Stochastic Optimizer: Maximum iterations (200) reached and the optimization hasn't converged yet.\n",
      "  % self.max_iter, ConvergenceWarning)\n",
      "/home/fernando.favoretti/.local/lib/python3.6/site-packages/sklearn/neural_network/multilayer_perceptron.py:564: ConvergenceWarning: Stochastic Optimizer: Maximum iterations (200) reached and the optimization hasn't converged yet.\n",
      "  % self.max_iter, ConvergenceWarning)\n"
     ]
    },
    {
     "name": "stdout",
     "output_type": "stream",
     "text": [
      "[CV] activation=logistic, hidden_layer_sizes=(25,), learning_rate_init=0.5 \n"
     ]
    },
    {
     "name": "stderr",
     "output_type": "stream",
     "text": [
      "/home/fernando.favoretti/.local/lib/python3.6/site-packages/sklearn/neural_network/multilayer_perceptron.py:912: DataConversionWarning: A column-vector y was passed when a 1d array was expected. Please change the shape of y to (n_samples, ), for example using ravel().\n",
      "  y = column_or_1d(y, warn=True)\n"
     ]
    },
    {
     "name": "stdout",
     "output_type": "stream",
     "text": [
      "[CV]  activation=logistic, hidden_layer_sizes=(10,), learning_rate_init=0.001, accuracy=0.5, precision=0.5, recall=0.46706586826347307, roc_auc=0.5288823550503783, total=   0.6s\n"
     ]
    },
    {
     "name": "stderr",
     "output_type": "stream",
     "text": [
      "/home/fernando.favoretti/.local/lib/python3.6/site-packages/sklearn/neural_network/multilayer_perceptron.py:564: ConvergenceWarning: Stochastic Optimizer: Maximum iterations (200) reached and the optimization hasn't converged yet.\n",
      "  % self.max_iter, ConvergenceWarning)\n"
     ]
    },
    {
     "name": "stdout",
     "output_type": "stream",
     "text": [
      "[CV]  activation=logistic, hidden_layer_sizes=(10,), learning_rate_init=0.001, accuracy=0.5658682634730539, precision=0.5585106382978723, recall=0.6287425149700598, roc_auc=0.5690057011725054, total=   0.6s\n"
     ]
    },
    {
     "name": "stderr",
     "output_type": "stream",
     "text": [
      "/home/fernando.favoretti/.local/lib/python3.6/site-packages/sklearn/neural_network/multilayer_perceptron.py:912: DataConversionWarning: A column-vector y was passed when a 1d array was expected. Please change the shape of y to (n_samples, ), for example using ravel().\n",
      "  y = column_or_1d(y, warn=True)\n"
     ]
    },
    {
     "name": "stdout",
     "output_type": "stream",
     "text": [
      "[CV] activation=logistic, hidden_layer_sizes=(25,), learning_rate_init=0.9 \n",
      "[CV] activation=logistic, hidden_layer_sizes=(25,), learning_rate_init=0.9 \n"
     ]
    },
    {
     "name": "stderr",
     "output_type": "stream",
     "text": [
      "/home/fernando.favoretti/.local/lib/python3.6/site-packages/sklearn/neural_network/multilayer_perceptron.py:912: DataConversionWarning: A column-vector y was passed when a 1d array was expected. Please change the shape of y to (n_samples, ), for example using ravel().\n",
      "  y = column_or_1d(y, warn=True)\n"
     ]
    },
    {
     "name": "stdout",
     "output_type": "stream",
     "text": [
      "[CV]  activation=logistic, hidden_layer_sizes=(10,), learning_rate_init=0.001, accuracy=0.5090361445783133, precision=0.5081967213114754, recall=0.5602409638554217, roc_auc=0.5280519669037597, total=   0.6s\n",
      "[CV]  activation=logistic, hidden_layer_sizes=(25,), learning_rate_init=0.1, accuracy=0.5239520958083832, precision=0.5253164556962026, recall=0.49700598802395207, roc_auc=0.5213525045716949, total=   0.4s\n"
     ]
    },
    {
     "name": "stderr",
     "output_type": "stream",
     "text": [
      "/home/fernando.favoretti/.local/lib/python3.6/site-packages/sklearn/neural_network/multilayer_perceptron.py:912: DataConversionWarning: A column-vector y was passed when a 1d array was expected. Please change the shape of y to (n_samples, ), for example using ravel().\n",
      "  y = column_or_1d(y, warn=True)\n"
     ]
    },
    {
     "name": "stdout",
     "output_type": "stream",
     "text": [
      "[CV] activation=logistic, hidden_layer_sizes=(25,), learning_rate_init=0.9 \n",
      "[CV] activation=logistic, hidden_layer_sizes=(10, 15), learning_rate_init=0.001 \n"
     ]
    },
    {
     "name": "stderr",
     "output_type": "stream",
     "text": [
      "/home/fernando.favoretti/.local/lib/python3.6/site-packages/sklearn/neural_network/multilayer_perceptron.py:912: DataConversionWarning: A column-vector y was passed when a 1d array was expected. Please change the shape of y to (n_samples, ), for example using ravel().\n",
      "  y = column_or_1d(y, warn=True)\n",
      "/home/fernando.favoretti/.local/lib/python3.6/site-packages/sklearn/neural_network/multilayer_perceptron.py:912: DataConversionWarning: A column-vector y was passed when a 1d array was expected. Please change the shape of y to (n_samples, ), for example using ravel().\n",
      "  y = column_or_1d(y, warn=True)\n"
     ]
    },
    {
     "name": "stdout",
     "output_type": "stream",
     "text": [
      "[CV]  activation=logistic, hidden_layer_sizes=(25,), learning_rate_init=0.5, accuracy=0.5059880239520959, precision=0.5074626865671642, recall=0.40718562874251496, roc_auc=0.5262648355982645, total=   0.1s\n",
      "[CV] activation=logistic, hidden_layer_sizes=(10, 15), learning_rate_init=0.001 \n"
     ]
    },
    {
     "name": "stderr",
     "output_type": "stream",
     "text": [
      "/home/fernando.favoretti/.local/lib/python3.6/site-packages/sklearn/neural_network/multilayer_perceptron.py:912: DataConversionWarning: A column-vector y was passed when a 1d array was expected. Please change the shape of y to (n_samples, ), for example using ravel().\n",
      "  y = column_or_1d(y, warn=True)\n"
     ]
    },
    {
     "name": "stdout",
     "output_type": "stream",
     "text": [
      "[CV]  activation=logistic, hidden_layer_sizes=(25,), learning_rate_init=0.9, accuracy=0.49700598802395207, precision=0.4878048780487805, recall=0.11976047904191617, roc_auc=0.5243285883323174, total=   0.1s\n",
      "[CV]  activation=logistic, hidden_layer_sizes=(25,), learning_rate_init=0.9, accuracy=0.5, precision=0.5, recall=0.12574850299401197, roc_auc=0.4762451145612966, total=   0.1s\n",
      "[CV]  activation=logistic, hidden_layer_sizes=(25,), learning_rate_init=0.5, accuracy=0.5029940119760479, precision=0.5031055900621118, recall=0.48502994011976047, roc_auc=0.5406074079386138, total=   0.1s\n",
      "[CV] activation=logistic, hidden_layer_sizes=(10, 15), learning_rate_init=0.1 \n",
      "[CV] activation=logistic, hidden_layer_sizes=(10, 15), learning_rate_init=0.001 \n"
     ]
    },
    {
     "name": "stderr",
     "output_type": "stream",
     "text": [
      "/home/fernando.favoretti/.local/lib/python3.6/site-packages/sklearn/neural_network/multilayer_perceptron.py:912: DataConversionWarning: A column-vector y was passed when a 1d array was expected. Please change the shape of y to (n_samples, ), for example using ravel().\n",
      "  y = column_or_1d(y, warn=True)\n",
      "/home/fernando.favoretti/.local/lib/python3.6/site-packages/sklearn/neural_network/multilayer_perceptron.py:912: DataConversionWarning: A column-vector y was passed when a 1d array was expected. Please change the shape of y to (n_samples, ), for example using ravel().\n",
      "  y = column_or_1d(y, warn=True)\n"
     ]
    },
    {
     "name": "stdout",
     "output_type": "stream",
     "text": [
      "[CV] activation=logistic, hidden_layer_sizes=(10, 15), learning_rate_init=0.01 \n"
     ]
    },
    {
     "name": "stderr",
     "output_type": "stream",
     "text": [
      "/home/fernando.favoretti/.local/lib/python3.6/site-packages/sklearn/neural_network/multilayer_perceptron.py:912: DataConversionWarning: A column-vector y was passed when a 1d array was expected. Please change the shape of y to (n_samples, ), for example using ravel().\n",
      "  y = column_or_1d(y, warn=True)\n"
     ]
    },
    {
     "name": "stdout",
     "output_type": "stream",
     "text": [
      "[CV]  activation=logistic, hidden_layer_sizes=(25,), learning_rate_init=0.9, accuracy=0.4879518072289157, precision=0.49230769230769234, recall=0.7710843373493976, roc_auc=0.5144433154303962, total=   0.1s\n",
      "[CV] activation=logistic, hidden_layer_sizes=(10, 15), learning_rate_init=0.1 \n"
     ]
    },
    {
     "name": "stderr",
     "output_type": "stream",
     "text": [
      "/home/fernando.favoretti/.local/lib/python3.6/site-packages/sklearn/neural_network/multilayer_perceptron.py:912: DataConversionWarning: A column-vector y was passed when a 1d array was expected. Please change the shape of y to (n_samples, ), for example using ravel().\n",
      "  y = column_or_1d(y, warn=True)\n"
     ]
    },
    {
     "name": "stdout",
     "output_type": "stream",
     "text": [
      "[CV]  activation=logistic, hidden_layer_sizes=(25,), learning_rate_init=0.5, accuracy=0.463855421686747, precision=0.4625, recall=0.4457831325301205, roc_auc=0.4664319930323705, total=   0.1s\n",
      "[CV]  activation=logistic, hidden_layer_sizes=(25,), learning_rate_init=0.1, accuracy=0.5210843373493976, precision=0.5228758169934641, recall=0.4819277108433735, roc_auc=0.5376687472782697, total=   0.2s\n",
      "[CV] activation=logistic, hidden_layer_sizes=(10, 15), learning_rate_init=0.5 \n",
      "[CV] activation=logistic, hidden_layer_sizes=(10, 15), learning_rate_init=0.9 \n"
     ]
    },
    {
     "name": "stderr",
     "output_type": "stream",
     "text": [
      "/home/fernando.favoretti/.local/lib/python3.6/site-packages/sklearn/neural_network/multilayer_perceptron.py:912: DataConversionWarning: A column-vector y was passed when a 1d array was expected. Please change the shape of y to (n_samples, ), for example using ravel().\n",
      "  y = column_or_1d(y, warn=True)\n",
      "/home/fernando.favoretti/.local/lib/python3.6/site-packages/sklearn/neural_network/multilayer_perceptron.py:912: DataConversionWarning: A column-vector y was passed when a 1d array was expected. Please change the shape of y to (n_samples, ), for example using ravel().\n",
      "  y = column_or_1d(y, warn=True)\n",
      "/home/fernando.favoretti/.local/lib/python3.6/site-packages/sklearn/neural_network/multilayer_perceptron.py:564: ConvergenceWarning: Stochastic Optimizer: Maximum iterations (200) reached and the optimization hasn't converged yet.\n",
      "  % self.max_iter, ConvergenceWarning)\n"
     ]
    },
    {
     "name": "stdout",
     "output_type": "stream",
     "text": [
      "[CV]  activation=logistic, hidden_layer_sizes=(10,), learning_rate_init=0.01, accuracy=0.5119760479041916, precision=0.5126582278481012, recall=0.48502994011976047, roc_auc=0.5204560938004231, total=   0.9s\n",
      "[CV]  activation=logistic, hidden_layer_sizes=(10, 15), learning_rate_init=0.01, accuracy=0.5209580838323353, precision=0.64, recall=0.09580838323353294, roc_auc=0.5121015454121696, total=   0.1s\n",
      "[CV] activation=logistic, hidden_layer_sizes=(10, 15), learning_rate_init=0.01 \n",
      "[CV] activation=logistic, hidden_layer_sizes=(10, 15), learning_rate_init=0.9 \n"
     ]
    },
    {
     "name": "stderr",
     "output_type": "stream",
     "text": [
      "/home/fernando.favoretti/.local/lib/python3.6/site-packages/sklearn/neural_network/multilayer_perceptron.py:912: DataConversionWarning: A column-vector y was passed when a 1d array was expected. Please change the shape of y to (n_samples, ), for example using ravel().\n",
      "  y = column_or_1d(y, warn=True)\n",
      "/home/fernando.favoretti/.local/lib/python3.6/site-packages/sklearn/neural_network/multilayer_perceptron.py:912: DataConversionWarning: A column-vector y was passed when a 1d array was expected. Please change the shape of y to (n_samples, ), for example using ravel().\n",
      "  y = column_or_1d(y, warn=True)\n",
      "/home/fernando.favoretti/.local/lib/python3.6/site-packages/sklearn/neural_network/multilayer_perceptron.py:564: ConvergenceWarning: Stochastic Optimizer: Maximum iterations (200) reached and the optimization hasn't converged yet.\n",
      "  % self.max_iter, ConvergenceWarning)\n"
     ]
    },
    {
     "name": "stdout",
     "output_type": "stream",
     "text": [
      "[CV]  activation=logistic, hidden_layer_sizes=(10, 15), learning_rate_init=0.001, accuracy=0.5120481927710844, precision=0.5061349693251533, recall=0.9939759036144579, roc_auc=0.5951154013644941, total=   0.2s\n",
      "[CV] activation=logistic, hidden_layer_sizes=(10, 15), learning_rate_init=0.01 \n",
      "[CV]  activation=logistic, hidden_layer_sizes=(10, 15), learning_rate_init=0.5, accuracy=0.5508982035928144, precision=0.5669291338582677, recall=0.4311377245508982, roc_auc=0.5641650830076375, total=   0.1s\n",
      "[CV] activation=logistic, hidden_layer_sizes=(10, 15), learning_rate_init=0.5 \n"
     ]
    },
    {
     "name": "stderr",
     "output_type": "stream",
     "text": [
      "/home/fernando.favoretti/.local/lib/python3.6/site-packages/sklearn/neural_network/multilayer_perceptron.py:564: ConvergenceWarning: Stochastic Optimizer: Maximum iterations (200) reached and the optimization hasn't converged yet.\n",
      "  % self.max_iter, ConvergenceWarning)\n",
      "/home/fernando.favoretti/.local/lib/python3.6/site-packages/sklearn/neural_network/multilayer_perceptron.py:912: DataConversionWarning: A column-vector y was passed when a 1d array was expected. Please change the shape of y to (n_samples, ), for example using ravel().\n",
      "  y = column_or_1d(y, warn=True)\n",
      "/home/fernando.favoretti/.local/lib/python3.6/site-packages/sklearn/neural_network/multilayer_perceptron.py:564: ConvergenceWarning: Stochastic Optimizer: Maximum iterations (200) reached and the optimization hasn't converged yet.\n",
      "  % self.max_iter, ConvergenceWarning)\n"
     ]
    },
    {
     "name": "stdout",
     "output_type": "stream",
     "text": [
      "[CV]  activation=logistic, hidden_layer_sizes=(25,), learning_rate_init=0.01, accuracy=0.5149700598802395, precision=0.5151515151515151, recall=0.5089820359281437, roc_auc=0.5225716232206246, total=   0.9s\n"
     ]
    },
    {
     "name": "stderr",
     "output_type": "stream",
     "text": [
      "/home/fernando.favoretti/.local/lib/python3.6/site-packages/sklearn/neural_network/multilayer_perceptron.py:912: DataConversionWarning: A column-vector y was passed when a 1d array was expected. Please change the shape of y to (n_samples, ), for example using ravel().\n",
      "  y = column_or_1d(y, warn=True)\n"
     ]
    },
    {
     "name": "stdout",
     "output_type": "stream",
     "text": [
      "[CV] activation=logistic, hidden_layer_sizes=(10, 10, 10), learning_rate_init=0.001 \n",
      "[CV]  activation=logistic, hidden_layer_sizes=(10, 15), learning_rate_init=0.001, accuracy=0.48502994011976047, precision=0.46987951807228917, recall=0.23353293413173654, roc_auc=0.4751694216357703, total=   0.2s\n",
      "[CV] activation=logistic, hidden_layer_sizes=(10, 10, 10), learning_rate_init=0.01 \n",
      "[CV]  activation=logistic, hidden_layer_sizes=(25,), learning_rate_init=0.001, accuracy=0.5331325301204819, precision=0.5345911949685535, recall=0.5120481927710844, roc_auc=0.5086006677311656, total=   0.9s\n"
     ]
    },
    {
     "name": "stderr",
     "output_type": "stream",
     "text": [
      "/home/fernando.favoretti/.local/lib/python3.6/site-packages/sklearn/neural_network/multilayer_perceptron.py:912: DataConversionWarning: A column-vector y was passed when a 1d array was expected. Please change the shape of y to (n_samples, ), for example using ravel().\n",
      "  y = column_or_1d(y, warn=True)\n"
     ]
    },
    {
     "name": "stdout",
     "output_type": "stream",
     "text": [
      "[CV]  activation=logistic, hidden_layer_sizes=(25,), learning_rate_init=0.1, accuracy=0.5538922155688623, precision=0.5494505494505495, recall=0.5988023952095808, roc_auc=0.5621571228799886, total=   0.9s\n",
      "[CV]  activation=logistic, hidden_layer_sizes=(25,), learning_rate_init=0.001, accuracy=0.5059880239520959, precision=0.5056818181818182, recall=0.5329341317365269, roc_auc=0.49940836889096063, total=   0.9s\n"
     ]
    },
    {
     "name": "stderr",
     "output_type": "stream",
     "text": [
      "/home/fernando.favoretti/.local/lib/python3.6/site-packages/sklearn/neural_network/multilayer_perceptron.py:564: ConvergenceWarning: Stochastic Optimizer: Maximum iterations (200) reached and the optimization hasn't converged yet.\n",
      "  % self.max_iter, ConvergenceWarning)\n"
     ]
    },
    {
     "name": "stdout",
     "output_type": "stream",
     "text": [
      "[CV]  activation=logistic, hidden_layer_sizes=(10, 15), learning_rate_init=0.001, accuracy=0.49700598802395207, precision=0.4444444444444444, recall=0.023952095808383235, roc_auc=0.5228226182365807, total=   0.4s\n",
      "[CV] activation=logistic, hidden_layer_sizes=(10, 10, 10), learning_rate_init=0.5 \n",
      "[CV] activation=logistic, hidden_layer_sizes=(10, 10, 10), learning_rate_init=0.1 \n"
     ]
    },
    {
     "name": "stderr",
     "output_type": "stream",
     "text": [
      "/home/fernando.favoretti/.local/lib/python3.6/site-packages/sklearn/neural_network/multilayer_perceptron.py:912: DataConversionWarning: A column-vector y was passed when a 1d array was expected. Please change the shape of y to (n_samples, ), for example using ravel().\n",
      "  y = column_or_1d(y, warn=True)\n",
      "/home/fernando.favoretti/.local/lib/python3.6/site-packages/sklearn/neural_network/multilayer_perceptron.py:912: DataConversionWarning: A column-vector y was passed when a 1d array was expected. Please change the shape of y to (n_samples, ), for example using ravel().\n",
      "  y = column_or_1d(y, warn=True)\n"
     ]
    },
    {
     "name": "stdout",
     "output_type": "stream",
     "text": [
      "[CV]  activation=logistic, hidden_layer_sizes=(10, 15), learning_rate_init=0.1, accuracy=0.4879518072289157, precision=0.4868421052631579, recall=0.4457831325301205, roc_auc=0.4895122659311947, total=   0.4s\n",
      "[CV]  activation=logistic, hidden_layer_sizes=(25,), learning_rate_init=0.001, accuracy=0.47305389221556887, precision=0.4723926380368098, recall=0.46107784431137727, roc_auc=0.4915558105346194, total=   1.1s\n",
      "[CV] activation=logistic, hidden_layer_sizes=(10, 15), learning_rate_init=0.5 \n",
      "[CV]  activation=logistic, hidden_layer_sizes=(10, 10, 10), learning_rate_init=0.1, accuracy=0.5, precision=0.5, recall=1.0, roc_auc=0.504105561332425, total=   0.0s\n"
     ]
    },
    {
     "name": "stderr",
     "output_type": "stream",
     "text": [
      "/home/fernando.favoretti/.local/lib/python3.6/site-packages/sklearn/neural_network/multilayer_perceptron.py:912: DataConversionWarning: A column-vector y was passed when a 1d array was expected. Please change the shape of y to (n_samples, ), for example using ravel().\n",
      "  y = column_or_1d(y, warn=True)\n"
     ]
    },
    {
     "name": "stdout",
     "output_type": "stream",
     "text": [
      "[CV] activation=logistic, hidden_layer_sizes=(10, 10, 10), learning_rate_init=0.1 \n",
      "[CV] activation=logistic, hidden_layer_sizes=(10, 10, 10), learning_rate_init=0.01 \n"
     ]
    },
    {
     "name": "stderr",
     "output_type": "stream",
     "text": [
      "/home/fernando.favoretti/.local/lib/python3.6/site-packages/sklearn/neural_network/multilayer_perceptron.py:912: DataConversionWarning: A column-vector y was passed when a 1d array was expected. Please change the shape of y to (n_samples, ), for example using ravel().\n",
      "  y = column_or_1d(y, warn=True)\n",
      "/home/fernando.favoretti/.local/lib/python3.6/site-packages/sklearn/neural_network/multilayer_perceptron.py:564: ConvergenceWarning: Stochastic Optimizer: Maximum iterations (200) reached and the optimization hasn't converged yet.\n",
      "  % self.max_iter, ConvergenceWarning)\n"
     ]
    },
    {
     "name": "stdout",
     "output_type": "stream",
     "text": [
      "[CV] activation=logistic, hidden_layer_sizes=(10, 10, 10), learning_rate_init=0.9 \n"
     ]
    },
    {
     "name": "stderr",
     "output_type": "stream",
     "text": [
      "/home/fernando.favoretti/.local/lib/python3.6/site-packages/sklearn/neural_network/multilayer_perceptron.py:912: DataConversionWarning: A column-vector y was passed when a 1d array was expected. Please change the shape of y to (n_samples, ), for example using ravel().\n",
      "  y = column_or_1d(y, warn=True)\n",
      "/home/fernando.favoretti/.local/lib/python3.6/site-packages/sklearn/neural_network/multilayer_perceptron.py:912: DataConversionWarning: A column-vector y was passed when a 1d array was expected. Please change the shape of y to (n_samples, ), for example using ravel().\n",
      "  y = column_or_1d(y, warn=True)\n"
     ]
    },
    {
     "name": "stdout",
     "output_type": "stream",
     "text": [
      "[CV] activation=logistic, hidden_layer_sizes=(10, 10, 10), learning_rate_init=0.5 \n"
     ]
    },
    {
     "name": "stderr",
     "output_type": "stream",
     "text": [
      "/home/fernando.favoretti/.local/lib/python3.6/site-packages/sklearn/neural_network/multilayer_perceptron.py:912: DataConversionWarning: A column-vector y was passed when a 1d array was expected. Please change the shape of y to (n_samples, ), for example using ravel().\n",
      "  y = column_or_1d(y, warn=True)\n"
     ]
    },
    {
     "name": "stdout",
     "output_type": "stream",
     "text": [
      "[CV]  activation=logistic, hidden_layer_sizes=(10, 15), learning_rate_init=0.9, accuracy=0.48493975903614456, precision=0.48344370860927155, recall=0.4397590361445783, roc_auc=0.49129046305704743, total=   0.3s\n",
      "[CV]  activation=logistic, hidden_layer_sizes=(10, 10, 10), learning_rate_init=0.9, accuracy=0.5, precision=0.5, recall=1.0, roc_auc=0.5117071246728101, total=   0.0s\n",
      "[CV] activation=logistic, hidden_layer_sizes=(10, 10, 10), learning_rate_init=0.9 \n"
     ]
    },
    {
     "name": "stderr",
     "output_type": "stream",
     "text": [
      "/home/fernando.favoretti/.local/lib/python3.6/site-packages/sklearn/neural_network/multilayer_perceptron.py:564: ConvergenceWarning: Stochastic Optimizer: Maximum iterations (200) reached and the optimization hasn't converged yet.\n",
      "  % self.max_iter, ConvergenceWarning)\n",
      "/home/fernando.favoretti/.local/lib/python3.6/site-packages/sklearn/neural_network/multilayer_perceptron.py:912: DataConversionWarning: A column-vector y was passed when a 1d array was expected. Please change the shape of y to (n_samples, ), for example using ravel().\n",
      "  y = column_or_1d(y, warn=True)\n"
     ]
    },
    {
     "name": "stdout",
     "output_type": "stream",
     "text": [
      "[CV]  activation=logistic, hidden_layer_sizes=(10, 10, 10), learning_rate_init=0.5, accuracy=0.5, precision=0.5, recall=1.0, roc_auc=0.5568503711140593, total=   0.2s\n",
      "[CV] activation=logistic, hidden_layer_sizes=(10, 10, 10), learning_rate_init=0.001 \n"
     ]
    },
    {
     "name": "stderr",
     "output_type": "stream",
     "text": [
      "/home/fernando.favoretti/.local/lib/python3.6/site-packages/sklearn/neural_network/multilayer_perceptron.py:912: DataConversionWarning: A column-vector y was passed when a 1d array was expected. Please change the shape of y to (n_samples, ), for example using ravel().\n",
      "  y = column_or_1d(y, warn=True)\n"
     ]
    },
    {
     "name": "stdout",
     "output_type": "stream",
     "text": [
      "[CV]  activation=logistic, hidden_layer_sizes=(10, 15), learning_rate_init=0.9, accuracy=0.5029940119760479, precision=0.5079365079365079, recall=0.19161676646706588, roc_auc=0.5467388576141131, total=   0.3s\n",
      "[CV]  activation=logistic, hidden_layer_sizes=(10, 15), learning_rate_init=0.1, accuracy=0.4820359281437126, precision=0.48314606741573035, recall=0.5149700598802395, roc_auc=0.5017031804654164, total=   0.5s\n"
     ]
    },
    {
     "name": "stderr",
     "output_type": "stream",
     "text": [
      "/home/fernando.favoretti/.local/lib/python3.6/site-packages/sklearn/neural_network/multilayer_perceptron.py:912: DataConversionWarning: A column-vector y was passed when a 1d array was expected. Please change the shape of y to (n_samples, ), for example using ravel().\n",
      "  y = column_or_1d(y, warn=True)\n"
     ]
    },
    {
     "name": "stdout",
     "output_type": "stream",
     "text": [
      "[CV]  activation=logistic, hidden_layer_sizes=(10, 15), learning_rate_init=0.01, accuracy=0.5602409638554217, precision=0.5595238095238095, recall=0.5662650602409639, roc_auc=0.5923210915952969, total=   0.2s\n",
      "[CV] activation=logistic, hidden_layer_sizes=(10, 15), learning_rate_init=0.9 \n",
      "[CV] activation=relu, hidden_layer_sizes=(10,), learning_rate_init=0.001 \n",
      "[CV]  activation=logistic, hidden_layer_sizes=(25,), learning_rate_init=0.01, accuracy=0.5568862275449101, precision=0.559748427672956, recall=0.5329341317365269, roc_auc=0.5578184947470329, total=   1.2s\n",
      "[CV] activation=logistic, hidden_layer_sizes=(10, 15), learning_rate_init=0.1 \n",
      "[CV] activation=logistic, hidden_layer_sizes=(10, 10, 10), learning_rate_init=0.5 \n"
     ]
    },
    {
     "name": "stderr",
     "output_type": "stream",
     "text": [
      "/home/fernando.favoretti/.local/lib/python3.6/site-packages/sklearn/neural_network/multilayer_perceptron.py:912: DataConversionWarning: A column-vector y was passed when a 1d array was expected. Please change the shape of y to (n_samples, ), for example using ravel().\n",
      "  y = column_or_1d(y, warn=True)\n",
      "/home/fernando.favoretti/.local/lib/python3.6/site-packages/sklearn/neural_network/multilayer_perceptron.py:912: DataConversionWarning: A column-vector y was passed when a 1d array was expected. Please change the shape of y to (n_samples, ), for example using ravel().\n",
      "  y = column_or_1d(y, warn=True)\n",
      "/home/fernando.favoretti/.local/lib/python3.6/site-packages/sklearn/neural_network/multilayer_perceptron.py:912: DataConversionWarning: A column-vector y was passed when a 1d array was expected. Please change the shape of y to (n_samples, ), for example using ravel().\n",
      "  y = column_or_1d(y, warn=True)\n"
     ]
    },
    {
     "name": "stdout",
     "output_type": "stream",
     "text": [
      "[CV]  activation=logistic, hidden_layer_sizes=(25,), learning_rate_init=0.01, accuracy=0.5030120481927711, precision=0.5031055900621118, recall=0.4879518072289157, roc_auc=0.5074393961387719, total=   1.2s\n",
      "[CV]  activation=logistic, hidden_layer_sizes=(10, 15), learning_rate_init=0.5, accuracy=0.5179640718562875, precision=0.5178571428571429, recall=0.5209580838323353, roc_auc=0.5095557388217576, total=   0.2s\n"
     ]
    },
    {
     "name": "stderr",
     "output_type": "stream",
     "text": [
      "/home/fernando.favoretti/.local/lib/python3.6/site-packages/sklearn/neural_network/multilayer_perceptron.py:912: DataConversionWarning: A column-vector y was passed when a 1d array was expected. Please change the shape of y to (n_samples, ), for example using ravel().\n",
      "  y = column_or_1d(y, warn=True)\n"
     ]
    },
    {
     "name": "stdout",
     "output_type": "stream",
     "text": [
      "[CV] activation=relu, hidden_layer_sizes=(10,), learning_rate_init=0.001 \n"
     ]
    },
    {
     "name": "stderr",
     "output_type": "stream",
     "text": [
      "/home/fernando.favoretti/.local/lib/python3.6/site-packages/sklearn/neural_network/multilayer_perceptron.py:912: DataConversionWarning: A column-vector y was passed when a 1d array was expected. Please change the shape of y to (n_samples, ), for example using ravel().\n",
      "  y = column_or_1d(y, warn=True)\n"
     ]
    },
    {
     "name": "stdout",
     "output_type": "stream",
     "text": [
      "[CV]  activation=logistic, hidden_layer_sizes=(10, 15), learning_rate_init=0.5, accuracy=0.4939759036144578, precision=0.4945652173913043, recall=0.5481927710843374, roc_auc=0.49245173464944103, total=   0.2s\n",
      "[CV] activation=relu, hidden_layer_sizes=(10,), learning_rate_init=0.1 \n"
     ]
    },
    {
     "name": "stderr",
     "output_type": "stream",
     "text": [
      "/home/fernando.favoretti/.local/lib/python3.6/site-packages/sklearn/neural_network/multilayer_perceptron.py:912: DataConversionWarning: A column-vector y was passed when a 1d array was expected. Please change the shape of y to (n_samples, ), for example using ravel().\n",
      "  y = column_or_1d(y, warn=True)\n"
     ]
    },
    {
     "name": "stdout",
     "output_type": "stream",
     "text": [
      "[CV]  activation=relu, hidden_layer_sizes=(10,), learning_rate_init=0.1, accuracy=0.5, precision=0.5, recall=0.018072289156626505, roc_auc=0.568805341849325, total=   0.0s\n",
      "[CV]  activation=logistic, hidden_layer_sizes=(10, 10, 10), learning_rate_init=0.01, accuracy=0.5, precision=0.5, recall=1.0, roc_auc=0.49478288931119796, total=   0.4s\n",
      "[CV] activation=relu, hidden_layer_sizes=(10,), learning_rate_init=0.5 \n",
      "[CV] activation=logistic, hidden_layer_sizes=(10, 10, 10), learning_rate_init=0.01 \n"
     ]
    },
    {
     "name": "stderr",
     "output_type": "stream",
     "text": [
      "/home/fernando.favoretti/.local/lib/python3.6/site-packages/sklearn/neural_network/multilayer_perceptron.py:912: DataConversionWarning: A column-vector y was passed when a 1d array was expected. Please change the shape of y to (n_samples, ), for example using ravel().\n",
      "  y = column_or_1d(y, warn=True)\n"
     ]
    },
    {
     "name": "stdout",
     "output_type": "stream",
     "text": [
      "[CV] activation=relu, hidden_layer_sizes=(10,), learning_rate_init=0.01 \n",
      "[CV] activation=relu, hidden_layer_sizes=(10,), learning_rate_init=0.1 \n"
     ]
    },
    {
     "name": "stderr",
     "output_type": "stream",
     "text": [
      "/home/fernando.favoretti/.local/lib/python3.6/site-packages/sklearn/neural_network/multilayer_perceptron.py:912: DataConversionWarning: A column-vector y was passed when a 1d array was expected. Please change the shape of y to (n_samples, ), for example using ravel().\n",
      "  y = column_or_1d(y, warn=True)\n",
      "/home/fernando.favoretti/.local/lib/python3.6/site-packages/sklearn/neural_network/multilayer_perceptron.py:912: DataConversionWarning: A column-vector y was passed when a 1d array was expected. Please change the shape of y to (n_samples, ), for example using ravel().\n",
      "  y = column_or_1d(y, warn=True)\n",
      "/home/fernando.favoretti/.local/lib/python3.6/site-packages/sklearn/neural_network/multilayer_perceptron.py:912: DataConversionWarning: A column-vector y was passed when a 1d array was expected. Please change the shape of y to (n_samples, ), for example using ravel().\n",
      "  y = column_or_1d(y, warn=True)\n",
      "/home/fernando.favoretti/.local/lib/python3.6/site-packages/sklearn/metrics/classification.py:1135: UndefinedMetricWarning: Precision is ill-defined and being set to 0.0 due to no predicted samples.\n",
      "  'precision', 'predicted', average, warn_for)\n",
      "/home/fernando.favoretti/.local/lib/python3.6/site-packages/sklearn/metrics/classification.py:1135: UndefinedMetricWarning: Precision is ill-defined and being set to 0.0 due to no predicted samples.\n",
      "  'precision', 'predicted', average, warn_for)\n"
     ]
    },
    {
     "name": "stdout",
     "output_type": "stream",
     "text": [
      "[CV]  activation=logistic, hidden_layer_sizes=(10, 10, 10), learning_rate_init=0.9, accuracy=0.5632530120481928, precision=0.5462555066079295, recall=0.7469879518072289, roc_auc=0.5617651328204384, total=   0.1s\n",
      "[CV]  activation=relu, hidden_layer_sizes=(10,), learning_rate_init=0.5, accuracy=0.5, precision=0.0, recall=0.0, roc_auc=0.49700598802395207, total=   0.1s\n",
      "[CV] activation=relu, hidden_layer_sizes=(10,), learning_rate_init=0.5 \n",
      "[CV]  activation=logistic, hidden_layer_sizes=(10, 15), learning_rate_init=0.01, accuracy=0.5718562874251497, precision=0.6111111111111112, recall=0.39520958083832336, roc_auc=0.6013482017999927, total=   0.3s\n"
     ]
    },
    {
     "name": "stderr",
     "output_type": "stream",
     "text": [
      "/home/fernando.favoretti/.local/lib/python3.6/site-packages/sklearn/neural_network/multilayer_perceptron.py:912: DataConversionWarning: A column-vector y was passed when a 1d array was expected. Please change the shape of y to (n_samples, ), for example using ravel().\n",
      "  y = column_or_1d(y, warn=True)\n"
     ]
    },
    {
     "name": "stdout",
     "output_type": "stream",
     "text": [
      "[CV]  activation=logistic, hidden_layer_sizes=(10, 10, 10), learning_rate_init=0.5, accuracy=0.5, precision=0.0, recall=0.0, roc_auc=0.5454347510524024, total=   0.2s\n",
      "[CV] activation=logistic, hidden_layer_sizes=(10, 10, 10), learning_rate_init=0.9 \n"
     ]
    },
    {
     "name": "stderr",
     "output_type": "stream",
     "text": [
      "/home/fernando.favoretti/.local/lib/python3.6/site-packages/sklearn/metrics/classification.py:1135: UndefinedMetricWarning: Precision is ill-defined and being set to 0.0 due to no predicted samples.\n",
      "  'precision', 'predicted', average, warn_for)\n"
     ]
    },
    {
     "name": "stdout",
     "output_type": "stream",
     "text": [
      "[CV] activation=relu, hidden_layer_sizes=(10,), learning_rate_init=0.9 \n",
      "[CV] activation=relu, hidden_layer_sizes=(10,), learning_rate_init=0.9 \n",
      "[CV]  activation=logistic, hidden_layer_sizes=(10, 10, 10), learning_rate_init=0.1, accuracy=0.5, precision=0.5, recall=1.0, roc_auc=0.534221222238351, total=   0.3s\n",
      "[CV]  activation=logistic, hidden_layer_sizes=(10, 10, 10), learning_rate_init=0.01, accuracy=0.5, precision=0.0, recall=0.0, roc_auc=0.4178400348381478, total=   0.3s\n",
      "[CV] activation=logistic, hidden_layer_sizes=(10, 10, 10), learning_rate_init=0.1 \n",
      "[CV] activation=relu, hidden_layer_sizes=(25,), learning_rate_init=0.001 \n"
     ]
    },
    {
     "name": "stderr",
     "output_type": "stream",
     "text": [
      "/home/fernando.favoretti/.local/lib/python3.6/site-packages/sklearn/metrics/classification.py:1135: UndefinedMetricWarning: Precision is ill-defined and being set to 0.0 due to no predicted samples.\n",
      "  'precision', 'predicted', average, warn_for)\n",
      "/home/fernando.favoretti/.local/lib/python3.6/site-packages/sklearn/neural_network/multilayer_perceptron.py:912: DataConversionWarning: A column-vector y was passed when a 1d array was expected. Please change the shape of y to (n_samples, ), for example using ravel().\n",
      "  y = column_or_1d(y, warn=True)\n",
      "/home/fernando.favoretti/.local/lib/python3.6/site-packages/sklearn/neural_network/multilayer_perceptron.py:912: DataConversionWarning: A column-vector y was passed when a 1d array was expected. Please change the shape of y to (n_samples, ), for example using ravel().\n",
      "  y = column_or_1d(y, warn=True)\n"
     ]
    },
    {
     "name": "stdout",
     "output_type": "stream",
     "text": [
      "[CV]  activation=relu, hidden_layer_sizes=(10,), learning_rate_init=0.1, accuracy=0.5089820359281437, precision=0.5145631067961165, recall=0.31736526946107785, roc_auc=0.5479221198321919, total=   0.0s\n",
      "[CV]  activation=logistic, hidden_layer_sizes=(10, 10, 10), learning_rate_init=0.5, accuracy=0.5149700598802395, precision=0.5193798449612403, recall=0.40119760479041916, roc_auc=0.49671913657714506, total=   0.1s\n"
     ]
    },
    {
     "name": "stderr",
     "output_type": "stream",
     "text": [
      "/home/fernando.favoretti/.local/lib/python3.6/site-packages/sklearn/neural_network/multilayer_perceptron.py:912: DataConversionWarning: A column-vector y was passed when a 1d array was expected. Please change the shape of y to (n_samples, ), for example using ravel().\n",
      "  y = column_or_1d(y, warn=True)\n"
     ]
    },
    {
     "name": "stdout",
     "output_type": "stream",
     "text": [
      "[CV] activation=relu, hidden_layer_sizes=(10,), learning_rate_init=0.1 \n",
      "[CV] activation=relu, hidden_layer_sizes=(25,), learning_rate_init=0.01 \n"
     ]
    },
    {
     "name": "stderr",
     "output_type": "stream",
     "text": [
      "/home/fernando.favoretti/.local/lib/python3.6/site-packages/sklearn/neural_network/multilayer_perceptron.py:912: DataConversionWarning: A column-vector y was passed when a 1d array was expected. Please change the shape of y to (n_samples, ), for example using ravel().\n",
      "  y = column_or_1d(y, warn=True)\n",
      "/home/fernando.favoretti/.local/lib/python3.6/site-packages/sklearn/neural_network/multilayer_perceptron.py:912: DataConversionWarning: A column-vector y was passed when a 1d array was expected. Please change the shape of y to (n_samples, ), for example using ravel().\n",
      "  y = column_or_1d(y, warn=True)\n",
      "/home/fernando.favoretti/.local/lib/python3.6/site-packages/sklearn/neural_network/multilayer_perceptron.py:912: DataConversionWarning: A column-vector y was passed when a 1d array was expected. Please change the shape of y to (n_samples, ), for example using ravel().\n",
      "  y = column_or_1d(y, warn=True)\n"
     ]
    },
    {
     "name": "stdout",
     "output_type": "stream",
     "text": [
      "[CV]  activation=relu, hidden_layer_sizes=(10,), learning_rate_init=0.5, accuracy=0.5, precision=0.0, recall=0.0, roc_auc=0.5, total=   0.0s\n",
      "[CV] activation=relu, hidden_layer_sizes=(10,), learning_rate_init=0.5 \n",
      "[CV]  activation=relu, hidden_layer_sizes=(10,), learning_rate_init=0.9, accuracy=0.5239520958083832, precision=0.5168067226890757, recall=0.7365269461077845, roc_auc=0.5242389472551903, total=   0.0s\n"
     ]
    },
    {
     "name": "stderr",
     "output_type": "stream",
     "text": [
      "/home/fernando.favoretti/.local/lib/python3.6/site-packages/sklearn/neural_network/multilayer_perceptron.py:912: DataConversionWarning: A column-vector y was passed when a 1d array was expected. Please change the shape of y to (n_samples, ), for example using ravel().\n",
      "  y = column_or_1d(y, warn=True)\n",
      "/home/fernando.favoretti/.local/lib/python3.6/site-packages/sklearn/neural_network/multilayer_perceptron.py:912: DataConversionWarning: A column-vector y was passed when a 1d array was expected. Please change the shape of y to (n_samples, ), for example using ravel().\n",
      "  y = column_or_1d(y, warn=True)\n"
     ]
    },
    {
     "name": "stdout",
     "output_type": "stream",
     "text": [
      "[CV]  activation=logistic, hidden_layer_sizes=(10, 10, 10), learning_rate_init=0.9, accuracy=0.5, precision=0.5, recall=1.0, roc_auc=0.5575316433002259, total=   0.1s\n",
      "[CV] activation=relu, hidden_layer_sizes=(25,), learning_rate_init=0.01 \n",
      "[CV] activation=relu, hidden_layer_sizes=(10,), learning_rate_init=0.9 \n",
      "[CV]  activation=logistic, hidden_layer_sizes=(10, 10, 10), learning_rate_init=0.01, accuracy=0.5, precision=0.5, recall=1.0, roc_auc=0.5203843809387214, total=   0.1s\n",
      "[CV] activation=relu, hidden_layer_sizes=(25,), learning_rate_init=0.1 \n",
      "[CV] activation=relu, hidden_layer_sizes=(25,), learning_rate_init=0.001 \n",
      "[CV]  activation=relu, hidden_layer_sizes=(10,), learning_rate_init=0.9, accuracy=0.536144578313253, precision=0.53125, recall=0.6144578313253012, roc_auc=0.539991290463057, total=   0.1s\n"
     ]
    },
    {
     "name": "stderr",
     "output_type": "stream",
     "text": [
      "/home/fernando.favoretti/.local/lib/python3.6/site-packages/sklearn/neural_network/multilayer_perceptron.py:912: DataConversionWarning: A column-vector y was passed when a 1d array was expected. Please change the shape of y to (n_samples, ), for example using ravel().\n",
      "  y = column_or_1d(y, warn=True)\n"
     ]
    },
    {
     "name": "stdout",
     "output_type": "stream",
     "text": [
      "[CV]  activation=relu, hidden_layer_sizes=(10,), learning_rate_init=0.5, accuracy=0.5632530120481928, precision=0.6, recall=0.3795180722891566, roc_auc=0.5647771810132094, total=   0.0s\n"
     ]
    },
    {
     "name": "stderr",
     "output_type": "stream",
     "text": [
      "/home/fernando.favoretti/.local/lib/python3.6/site-packages/sklearn/neural_network/multilayer_perceptron.py:912: DataConversionWarning: A column-vector y was passed when a 1d array was expected. Please change the shape of y to (n_samples, ), for example using ravel().\n",
      "  y = column_or_1d(y, warn=True)\n"
     ]
    },
    {
     "name": "stdout",
     "output_type": "stream",
     "text": [
      "[CV] activation=relu, hidden_layer_sizes=(25,), learning_rate_init=0.5 \n"
     ]
    },
    {
     "name": "stderr",
     "output_type": "stream",
     "text": [
      "/home/fernando.favoretti/.local/lib/python3.6/site-packages/sklearn/neural_network/multilayer_perceptron.py:912: DataConversionWarning: A column-vector y was passed when a 1d array was expected. Please change the shape of y to (n_samples, ), for example using ravel().\n",
      "  y = column_or_1d(y, warn=True)\n"
     ]
    },
    {
     "name": "stdout",
     "output_type": "stream",
     "text": [
      "[CV]  activation=relu, hidden_layer_sizes=(10,), learning_rate_init=0.1, accuracy=0.5449101796407185, precision=0.5294117647058824, recall=0.8083832335329342, roc_auc=0.5454659543189071, total=   0.0s\n"
     ]
    },
    {
     "name": "stderr",
     "output_type": "stream",
     "text": [
      "/home/fernando.favoretti/.local/lib/python3.6/site-packages/sklearn/neural_network/multilayer_perceptron.py:912: DataConversionWarning: A column-vector y was passed when a 1d array was expected. Please change the shape of y to (n_samples, ), for example using ravel().\n",
      "  y = column_or_1d(y, warn=True)\n"
     ]
    },
    {
     "name": "stdout",
     "output_type": "stream",
     "text": [
      "[CV]  activation=logistic, hidden_layer_sizes=(10, 10, 10), learning_rate_init=0.1, accuracy=0.5, precision=0.5, recall=1.0, roc_auc=0.514826634156836, total=   0.1s\n"
     ]
    },
    {
     "name": "stderr",
     "output_type": "stream",
     "text": [
      "/home/fernando.favoretti/.local/lib/python3.6/site-packages/sklearn/neural_network/multilayer_perceptron.py:912: DataConversionWarning: A column-vector y was passed when a 1d array was expected. Please change the shape of y to (n_samples, ), for example using ravel().\n",
      "  y = column_or_1d(y, warn=True)\n"
     ]
    },
    {
     "name": "stdout",
     "output_type": "stream",
     "text": [
      "[CV] activation=relu, hidden_layer_sizes=(25,), learning_rate_init=0.5 \n",
      "[CV] activation=relu, hidden_layer_sizes=(25,), learning_rate_init=0.9 \n"
     ]
    },
    {
     "name": "stderr",
     "output_type": "stream",
     "text": [
      "/home/fernando.favoretti/.local/lib/python3.6/site-packages/sklearn/neural_network/multilayer_perceptron.py:912: DataConversionWarning: A column-vector y was passed when a 1d array was expected. Please change the shape of y to (n_samples, ), for example using ravel().\n",
      "  y = column_or_1d(y, warn=True)\n",
      "/home/fernando.favoretti/.local/lib/python3.6/site-packages/sklearn/neural_network/multilayer_perceptron.py:912: DataConversionWarning: A column-vector y was passed when a 1d array was expected. Please change the shape of y to (n_samples, ), for example using ravel().\n",
      "  y = column_or_1d(y, warn=True)\n"
     ]
    },
    {
     "name": "stdout",
     "output_type": "stream",
     "text": [
      "[CV]  activation=relu, hidden_layer_sizes=(25,), learning_rate_init=0.5, accuracy=0.5, precision=0.5, recall=0.8614457831325302, roc_auc=0.48962113514298156, total=   0.0s\n",
      "[CV]  activation=relu, hidden_layer_sizes=(25,), learning_rate_init=0.1, accuracy=0.47305389221556887, precision=0.37142857142857144, recall=0.07784431137724551, roc_auc=0.5489619563268673, total=   0.1s\n"
     ]
    },
    {
     "name": "stderr",
     "output_type": "stream",
     "text": [
      "/home/fernando.favoretti/.local/lib/python3.6/site-packages/sklearn/metrics/classification.py:1135: UndefinedMetricWarning: Precision is ill-defined and being set to 0.0 due to no predicted samples.\n",
      "  'precision', 'predicted', average, warn_for)\n"
     ]
    },
    {
     "name": "stdout",
     "output_type": "stream",
     "text": [
      "[CV] activation=relu, hidden_layer_sizes=(25,), learning_rate_init=0.9 \n",
      "[CV]  activation=relu, hidden_layer_sizes=(25,), learning_rate_init=0.5, accuracy=0.5089820359281437, precision=1.0, recall=0.017964071856287425, roc_auc=0.5504858546380292, total=   0.0s\n",
      "[CV] activation=relu, hidden_layer_sizes=(25,), learning_rate_init=0.5 \n",
      "[CV] activation=relu, hidden_layer_sizes=(25,), learning_rate_init=0.1 \n"
     ]
    },
    {
     "name": "stderr",
     "output_type": "stream",
     "text": [
      "/home/fernando.favoretti/.local/lib/python3.6/site-packages/sklearn/neural_network/multilayer_perceptron.py:912: DataConversionWarning: A column-vector y was passed when a 1d array was expected. Please change the shape of y to (n_samples, ), for example using ravel().\n",
      "  y = column_or_1d(y, warn=True)\n",
      "/home/fernando.favoretti/.local/lib/python3.6/site-packages/sklearn/neural_network/multilayer_perceptron.py:912: DataConversionWarning: A column-vector y was passed when a 1d array was expected. Please change the shape of y to (n_samples, ), for example using ravel().\n",
      "  y = column_or_1d(y, warn=True)\n",
      "/home/fernando.favoretti/.local/lib/python3.6/site-packages/sklearn/neural_network/multilayer_perceptron.py:912: DataConversionWarning: A column-vector y was passed when a 1d array was expected. Please change the shape of y to (n_samples, ), for example using ravel().\n",
      "  y = column_or_1d(y, warn=True)\n",
      "[Parallel(n_jobs=-1)]: Done  48 tasks      | elapsed:    1.7s\n"
     ]
    },
    {
     "name": "stdout",
     "output_type": "stream",
     "text": [
      "[CV]  activation=logistic, hidden_layer_sizes=(10, 10, 10), learning_rate_init=0.001, accuracy=0.5, precision=0.0, recall=0.0, roc_auc=0.4569543547635268, total=   0.7s\n",
      "[CV] activation=logistic, hidden_layer_sizes=(10, 10, 10), learning_rate_init=0.001 \n"
     ]
    },
    {
     "name": "stderr",
     "output_type": "stream",
     "text": [
      "/home/fernando.favoretti/.local/lib/python3.6/site-packages/sklearn/metrics/classification.py:1135: UndefinedMetricWarning: Precision is ill-defined and being set to 0.0 due to no predicted samples.\n",
      "  'precision', 'predicted', average, warn_for)\n",
      "/home/fernando.favoretti/.local/lib/python3.6/site-packages/sklearn/metrics/classification.py:1135: UndefinedMetricWarning: Precision is ill-defined and being set to 0.0 due to no predicted samples.\n",
      "  'precision', 'predicted', average, warn_for)\n",
      "/home/fernando.favoretti/.local/lib/python3.6/site-packages/sklearn/neural_network/multilayer_perceptron.py:912: DataConversionWarning: A column-vector y was passed when a 1d array was expected. Please change the shape of y to (n_samples, ), for example using ravel().\n",
      "  y = column_or_1d(y, warn=True)\n"
     ]
    },
    {
     "name": "stdout",
     "output_type": "stream",
     "text": [
      "[CV]  activation=logistic, hidden_layer_sizes=(10, 10, 10), learning_rate_init=0.001, accuracy=0.5, precision=0.0, recall=0.0, roc_auc=0.4053569507691205, total=   0.4s\n",
      "[CV] activation=relu, hidden_layer_sizes=(10, 15), learning_rate_init=0.001 \n",
      "[CV]  activation=logistic, hidden_layer_sizes=(10, 15), learning_rate_init=0.9, accuracy=0.5089820359281437, precision=0.5081081081081081, recall=0.562874251497006, roc_auc=0.5399978486141489, total=   0.2s\n",
      "[CV]  activation=relu, hidden_layer_sizes=(25,), learning_rate_init=0.9, accuracy=0.5, precision=0.0, recall=0.0, roc_auc=0.5, total=   0.1s\n",
      "[CV]  activation=relu, hidden_layer_sizes=(10,), learning_rate_init=0.9, accuracy=0.49700598802395207, precision=0.3333333333333333, recall=0.005988023952095809, roc_auc=0.49700598802395207, total=   0.0s\n",
      "[CV] activation=relu, hidden_layer_sizes=(10, 15), learning_rate_init=0.01 \n"
     ]
    },
    {
     "name": "stderr",
     "output_type": "stream",
     "text": [
      "/home/fernando.favoretti/.local/lib/python3.6/site-packages/sklearn/neural_network/multilayer_perceptron.py:912: DataConversionWarning: A column-vector y was passed when a 1d array was expected. Please change the shape of y to (n_samples, ), for example using ravel().\n",
      "  y = column_or_1d(y, warn=True)\n"
     ]
    },
    {
     "name": "stdout",
     "output_type": "stream",
     "text": [
      "[CV] activation=relu, hidden_layer_sizes=(10, 15), learning_rate_init=0.1 \n"
     ]
    },
    {
     "name": "stderr",
     "output_type": "stream",
     "text": [
      "/home/fernando.favoretti/.local/lib/python3.6/site-packages/sklearn/neural_network/multilayer_perceptron.py:912: DataConversionWarning: A column-vector y was passed when a 1d array was expected. Please change the shape of y to (n_samples, ), for example using ravel().\n",
      "  y = column_or_1d(y, warn=True)\n"
     ]
    },
    {
     "name": "stdout",
     "output_type": "stream",
     "text": [
      "[CV] activation=relu, hidden_layer_sizes=(10, 15), learning_rate_init=0.001 \n"
     ]
    },
    {
     "name": "stderr",
     "output_type": "stream",
     "text": [
      "/home/fernando.favoretti/.local/lib/python3.6/site-packages/sklearn/neural_network/multilayer_perceptron.py:912: DataConversionWarning: A column-vector y was passed when a 1d array was expected. Please change the shape of y to (n_samples, ), for example using ravel().\n",
      "  y = column_or_1d(y, warn=True)\n",
      "/home/fernando.favoretti/.local/lib/python3.6/site-packages/sklearn/neural_network/multilayer_perceptron.py:912: DataConversionWarning: A column-vector y was passed when a 1d array was expected. Please change the shape of y to (n_samples, ), for example using ravel().\n",
      "  y = column_or_1d(y, warn=True)\n"
     ]
    },
    {
     "name": "stdout",
     "output_type": "stream",
     "text": [
      "[CV]  activation=relu, hidden_layer_sizes=(25,), learning_rate_init=0.1, accuracy=0.4427710843373494, precision=0.4581497797356828, recall=0.6265060240963856, roc_auc=0.4324285092175933, total=   0.1s\n",
      "[CV]  activation=relu, hidden_layer_sizes=(25,), learning_rate_init=0.9, accuracy=0.5059880239520959, precision=0.5031055900621118, recall=0.9700598802395209, roc_auc=0.5059880239520957, total=   0.0s\n",
      "[CV] activation=relu, hidden_layer_sizes=(25,), learning_rate_init=0.9 \n",
      "[CV] activation=relu, hidden_layer_sizes=(10, 15), learning_rate_init=0.1 \n"
     ]
    },
    {
     "name": "stderr",
     "output_type": "stream",
     "text": [
      "/home/fernando.favoretti/.local/lib/python3.6/site-packages/sklearn/neural_network/multilayer_perceptron.py:912: DataConversionWarning: A column-vector y was passed when a 1d array was expected. Please change the shape of y to (n_samples, ), for example using ravel().\n",
      "  y = column_or_1d(y, warn=True)\n"
     ]
    },
    {
     "name": "stdout",
     "output_type": "stream",
     "text": [
      "[CV]  activation=relu, hidden_layer_sizes=(25,), learning_rate_init=0.5, accuracy=0.5269461077844312, precision=0.5298013245033113, recall=0.47904191616766467, roc_auc=0.5269461077844311, total=   0.1s\n"
     ]
    },
    {
     "name": "stderr",
     "output_type": "stream",
     "text": [
      "/home/fernando.favoretti/.local/lib/python3.6/site-packages/sklearn/neural_network/multilayer_perceptron.py:912: DataConversionWarning: A column-vector y was passed when a 1d array was expected. Please change the shape of y to (n_samples, ), for example using ravel().\n",
      "  y = column_or_1d(y, warn=True)\n"
     ]
    },
    {
     "name": "stdout",
     "output_type": "stream",
     "text": [
      "[CV] activation=relu, hidden_layer_sizes=(10, 15), learning_rate_init=0.5 \n"
     ]
    },
    {
     "name": "stderr",
     "output_type": "stream",
     "text": [
      "/home/fernando.favoretti/.local/lib/python3.6/site-packages/sklearn/neural_network/multilayer_perceptron.py:912: DataConversionWarning: A column-vector y was passed when a 1d array was expected. Please change the shape of y to (n_samples, ), for example using ravel().\n",
      "  y = column_or_1d(y, warn=True)\n"
     ]
    },
    {
     "name": "stdout",
     "output_type": "stream",
     "text": [
      "[CV]  activation=relu, hidden_layer_sizes=(25,), learning_rate_init=0.9, accuracy=0.5391566265060241, precision=0.543046357615894, recall=0.4939759036144578, roc_auc=0.539156626506024, total=   0.1s\n",
      "[CV] activation=relu, hidden_layer_sizes=(10, 15), learning_rate_init=0.9 \n",
      "[CV]  activation=relu, hidden_layer_sizes=(10,), learning_rate_init=0.01, accuracy=0.5179640718562875, precision=0.5182926829268293, recall=0.5089820359281437, roc_auc=0.5217827817419055, total=   0.5s\n",
      "[CV]  activation=logistic, hidden_layer_sizes=(10, 15), learning_rate_init=0.1, accuracy=0.5718562874251497, precision=0.5714285714285714, recall=0.5748502994011976, roc_auc=0.5793682096884076, total=   0.6s\n",
      "[CV] activation=relu, hidden_layer_sizes=(10,), learning_rate_init=0.01 \n"
     ]
    },
    {
     "name": "stderr",
     "output_type": "stream",
     "text": [
      "/home/fernando.favoretti/.local/lib/python3.6/site-packages/sklearn/neural_network/multilayer_perceptron.py:912: DataConversionWarning: A column-vector y was passed when a 1d array was expected. Please change the shape of y to (n_samples, ), for example using ravel().\n",
      "  y = column_or_1d(y, warn=True)\n"
     ]
    },
    {
     "name": "stdout",
     "output_type": "stream",
     "text": [
      "[CV] activation=relu, hidden_layer_sizes=(10, 15), learning_rate_init=0.9 \n"
     ]
    },
    {
     "name": "stderr",
     "output_type": "stream",
     "text": [
      "[Parallel(n_jobs=-1)]: Done  64 out of 120 | elapsed:    1.9s remaining:    1.7s\n",
      "/home/fernando.favoretti/.local/lib/python3.6/site-packages/sklearn/neural_network/multilayer_perceptron.py:912: DataConversionWarning: A column-vector y was passed when a 1d array was expected. Please change the shape of y to (n_samples, ), for example using ravel().\n",
      "  y = column_or_1d(y, warn=True)\n",
      "/home/fernando.favoretti/.local/lib/python3.6/site-packages/sklearn/neural_network/multilayer_perceptron.py:912: DataConversionWarning: A column-vector y was passed when a 1d array was expected. Please change the shape of y to (n_samples, ), for example using ravel().\n",
      "  y = column_or_1d(y, warn=True)\n"
     ]
    },
    {
     "name": "stdout",
     "output_type": "stream",
     "text": [
      "[CV]  activation=relu, hidden_layer_sizes=(10, 15), learning_rate_init=0.5, accuracy=0.5, precision=0.5, recall=1.0, roc_auc=0.5, total=   0.1s\n",
      "[CV] activation=relu, hidden_layer_sizes=(10, 15), learning_rate_init=0.5 \n",
      "[CV]  activation=relu, hidden_layer_sizes=(10, 15), learning_rate_init=0.9, accuracy=0.4939759036144578, precision=0.45, recall=0.05421686746987952, roc_auc=0.4939759036144578, total=   0.0s\n"
     ]
    },
    {
     "name": "stderr",
     "output_type": "stream",
     "text": [
      "/home/fernando.favoretti/.local/lib/python3.6/site-packages/sklearn/neural_network/multilayer_perceptron.py:912: DataConversionWarning: A column-vector y was passed when a 1d array was expected. Please change the shape of y to (n_samples, ), for example using ravel().\n",
      "  y = column_or_1d(y, warn=True)\n"
     ]
    },
    {
     "name": "stdout",
     "output_type": "stream",
     "text": [
      "[CV] activation=relu, hidden_layer_sizes=(10, 10, 10), learning_rate_init=0.001 \n"
     ]
    },
    {
     "name": "stderr",
     "output_type": "stream",
     "text": [
      "/home/fernando.favoretti/.local/lib/python3.6/site-packages/sklearn/metrics/classification.py:1135: UndefinedMetricWarning: Precision is ill-defined and being set to 0.0 due to no predicted samples.\n",
      "  'precision', 'predicted', average, warn_for)\n",
      "/home/fernando.favoretti/.local/lib/python3.6/site-packages/sklearn/neural_network/multilayer_perceptron.py:912: DataConversionWarning: A column-vector y was passed when a 1d array was expected. Please change the shape of y to (n_samples, ), for example using ravel().\n",
      "  y = column_or_1d(y, warn=True)\n"
     ]
    },
    {
     "name": "stdout",
     "output_type": "stream",
     "text": [
      "[CV]  activation=relu, hidden_layer_sizes=(10, 15), learning_rate_init=0.1, accuracy=0.5538922155688623, precision=0.5489130434782609, recall=0.6047904191616766, roc_auc=0.5511850550396213, total=   0.3s\n",
      "[CV]  activation=relu, hidden_layer_sizes=(10, 15), learning_rate_init=0.5, accuracy=0.5, precision=0.5, recall=1.0, roc_auc=0.5, total=   0.1s\n",
      "[CV] activation=relu, hidden_layer_sizes=(10, 15), learning_rate_init=0.1 \n",
      "[CV]  activation=relu, hidden_layer_sizes=(10, 15), learning_rate_init=0.1, accuracy=0.5060240963855421, precision=0.6, recall=0.03614457831325301, roc_auc=0.48855058789374367, total=   0.3s\n",
      "[CV] activation=relu, hidden_layer_sizes=(10, 10, 10), learning_rate_init=0.001 \n"
     ]
    },
    {
     "name": "stderr",
     "output_type": "stream",
     "text": [
      "/home/fernando.favoretti/.local/lib/python3.6/site-packages/sklearn/neural_network/multilayer_perceptron.py:912: DataConversionWarning: A column-vector y was passed when a 1d array was expected. Please change the shape of y to (n_samples, ), for example using ravel().\n",
      "  y = column_or_1d(y, warn=True)\n"
     ]
    },
    {
     "name": "stdout",
     "output_type": "stream",
     "text": [
      "[CV] activation=relu, hidden_layer_sizes=(10, 15), learning_rate_init=0.5 \n"
     ]
    },
    {
     "name": "stderr",
     "output_type": "stream",
     "text": [
      "/home/fernando.favoretti/.local/lib/python3.6/site-packages/sklearn/neural_network/multilayer_perceptron.py:912: DataConversionWarning: A column-vector y was passed when a 1d array was expected. Please change the shape of y to (n_samples, ), for example using ravel().\n",
      "  y = column_or_1d(y, warn=True)\n",
      "/home/fernando.favoretti/.local/lib/python3.6/site-packages/sklearn/neural_network/multilayer_perceptron.py:912: DataConversionWarning: A column-vector y was passed when a 1d array was expected. Please change the shape of y to (n_samples, ), for example using ravel().\n",
      "  y = column_or_1d(y, warn=True)\n"
     ]
    },
    {
     "name": "stdout",
     "output_type": "stream",
     "text": [
      "[CV]  activation=relu, hidden_layer_sizes=(10, 15), learning_rate_init=0.9, accuracy=0.5, precision=0.0, recall=0.0, roc_auc=0.5, total=   0.2s\n",
      "[CV] activation=relu, hidden_layer_sizes=(10, 15), learning_rate_init=0.9 \n"
     ]
    },
    {
     "name": "stderr",
     "output_type": "stream",
     "text": [
      "/home/fernando.favoretti/.local/lib/python3.6/site-packages/sklearn/neural_network/multilayer_perceptron.py:912: DataConversionWarning: A column-vector y was passed when a 1d array was expected. Please change the shape of y to (n_samples, ), for example using ravel().\n",
      "  y = column_or_1d(y, warn=True)\n",
      "/home/fernando.favoretti/.local/lib/python3.6/site-packages/sklearn/metrics/classification.py:1135: UndefinedMetricWarning: Precision is ill-defined and being set to 0.0 due to no predicted samples.\n",
      "  'precision', 'predicted', average, warn_for)\n",
      "/home/fernando.favoretti/.local/lib/python3.6/site-packages/sklearn/metrics/classification.py:1135: UndefinedMetricWarning: Precision is ill-defined and being set to 0.0 due to no predicted samples.\n",
      "  'precision', 'predicted', average, warn_for)\n"
     ]
    },
    {
     "name": "stdout",
     "output_type": "stream",
     "text": [
      "[CV]  activation=relu, hidden_layer_sizes=(10, 15), learning_rate_init=0.9, accuracy=0.5, precision=0.0, recall=0.0, roc_auc=0.5, total=   0.0s\n",
      "[CV]  activation=relu, hidden_layer_sizes=(10, 15), learning_rate_init=0.5, accuracy=0.5, precision=0.0, recall=0.0, roc_auc=0.5, total=   0.1s\n",
      "[CV] activation=relu, hidden_layer_sizes=(10, 10, 10), learning_rate_init=0.01 \n",
      "[CV] activation=relu, hidden_layer_sizes=(10, 10, 10), learning_rate_init=0.01 \n"
     ]
    },
    {
     "name": "stderr",
     "output_type": "stream",
     "text": [
      "/home/fernando.favoretti/.local/lib/python3.6/site-packages/sklearn/neural_network/multilayer_perceptron.py:912: DataConversionWarning: A column-vector y was passed when a 1d array was expected. Please change the shape of y to (n_samples, ), for example using ravel().\n",
      "  y = column_or_1d(y, warn=True)\n",
      "/home/fernando.favoretti/.local/lib/python3.6/site-packages/sklearn/neural_network/multilayer_perceptron.py:912: DataConversionWarning: A column-vector y was passed when a 1d array was expected. Please change the shape of y to (n_samples, ), for example using ravel().\n",
      "  y = column_or_1d(y, warn=True)\n",
      "/home/fernando.favoretti/.local/lib/python3.6/site-packages/sklearn/neural_network/multilayer_perceptron.py:564: ConvergenceWarning: Stochastic Optimizer: Maximum iterations (200) reached and the optimization hasn't converged yet.\n",
      "  % self.max_iter, ConvergenceWarning)\n"
     ]
    },
    {
     "name": "stdout",
     "output_type": "stream",
     "text": [
      "[CV]  activation=relu, hidden_layer_sizes=(10,), learning_rate_init=0.001, accuracy=0.5, precision=0.5, recall=0.4879518072289157, roc_auc=0.49448395993613004, total=   1.0s\n",
      "[CV] activation=relu, hidden_layer_sizes=(10,), learning_rate_init=0.01 \n"
     ]
    },
    {
     "name": "stderr",
     "output_type": "stream",
     "text": [
      "/home/fernando.favoretti/.local/lib/python3.6/site-packages/sklearn/neural_network/multilayer_perceptron.py:912: DataConversionWarning: A column-vector y was passed when a 1d array was expected. Please change the shape of y to (n_samples, ), for example using ravel().\n",
      "  y = column_or_1d(y, warn=True)\n"
     ]
    },
    {
     "name": "stdout",
     "output_type": "stream",
     "text": [
      "[CV]  activation=logistic, hidden_layer_sizes=(10, 10, 10), learning_rate_init=0.001, accuracy=0.5, precision=0.5, recall=1.0, roc_auc=0.499637102627377, total=   0.7s\n",
      "[CV] activation=relu, hidden_layer_sizes=(10, 10, 10), learning_rate_init=0.1 \n"
     ]
    },
    {
     "name": "stderr",
     "output_type": "stream",
     "text": [
      "/home/fernando.favoretti/.local/lib/python3.6/site-packages/sklearn/neural_network/multilayer_perceptron.py:912: DataConversionWarning: A column-vector y was passed when a 1d array was expected. Please change the shape of y to (n_samples, ), for example using ravel().\n",
      "  y = column_or_1d(y, warn=True)\n",
      "/home/fernando.favoretti/.local/lib/python3.6/site-packages/sklearn/neural_network/multilayer_perceptron.py:564: ConvergenceWarning: Stochastic Optimizer: Maximum iterations (200) reached and the optimization hasn't converged yet.\n",
      "  % self.max_iter, ConvergenceWarning)\n"
     ]
    },
    {
     "name": "stdout",
     "output_type": "stream",
     "text": [
      "[CV]  activation=relu, hidden_layer_sizes=(10, 15), learning_rate_init=0.1, accuracy=0.5029940119760479, precision=1.0, recall=0.005988023952095809, roc_auc=0.5059880239520957, total=   0.2s\n",
      "[CV]  activation=relu, hidden_layer_sizes=(25,), learning_rate_init=0.01, accuracy=0.5239520958083832, precision=0.527027027027027, recall=0.46706586826347307, roc_auc=0.5451970310875256, total=   0.8s\n",
      "[CV]  activation=relu, hidden_layer_sizes=(10,), learning_rate_init=0.001, accuracy=0.5299401197604791, precision=0.5367647058823529, recall=0.437125748502994, roc_auc=0.5459320879199685, total=   1.2s\n",
      "[CV] activation=relu, hidden_layer_sizes=(10,), learning_rate_init=0.001 \n",
      "[CV] activation=relu, hidden_layer_sizes=(10, 10, 10), learning_rate_init=0.5 \n"
     ]
    },
    {
     "name": "stderr",
     "output_type": "stream",
     "text": [
      "/home/fernando.favoretti/.local/lib/python3.6/site-packages/sklearn/neural_network/multilayer_perceptron.py:912: DataConversionWarning: A column-vector y was passed when a 1d array was expected. Please change the shape of y to (n_samples, ), for example using ravel().\n",
      "  y = column_or_1d(y, warn=True)\n"
     ]
    },
    {
     "name": "stdout",
     "output_type": "stream",
     "text": [
      "[CV] activation=relu, hidden_layer_sizes=(25,), learning_rate_init=0.01 \n"
     ]
    },
    {
     "name": "stderr",
     "output_type": "stream",
     "text": [
      "/home/fernando.favoretti/.local/lib/python3.6/site-packages/sklearn/neural_network/multilayer_perceptron.py:912: DataConversionWarning: A column-vector y was passed when a 1d array was expected. Please change the shape of y to (n_samples, ), for example using ravel().\n",
      "  y = column_or_1d(y, warn=True)\n",
      "/home/fernando.favoretti/.local/lib/python3.6/site-packages/sklearn/neural_network/multilayer_perceptron.py:912: DataConversionWarning: A column-vector y was passed when a 1d array was expected. Please change the shape of y to (n_samples, ), for example using ravel().\n",
      "  y = column_or_1d(y, warn=True)\n"
     ]
    },
    {
     "name": "stdout",
     "output_type": "stream",
     "text": [
      "[CV]  activation=relu, hidden_layer_sizes=(10, 10, 10), learning_rate_init=0.1, accuracy=0.4940119760479042, precision=0.49693251533742333, recall=0.9700598802395209, roc_auc=0.47500806769694154, total=   0.1s\n",
      "[CV] activation=relu, hidden_layer_sizes=(10, 10, 10), learning_rate_init=0.1 \n",
      "[CV]  activation=relu, hidden_layer_sizes=(25,), learning_rate_init=0.01, accuracy=0.5512048192771084, precision=0.5515151515151515, recall=0.5481927710843374, roc_auc=0.5716359413557845, total=   0.8s\n",
      "[CV]  activation=relu, hidden_layer_sizes=(10, 10, 10), learning_rate_init=0.5, accuracy=0.5209580838323353, precision=0.5159817351598174, recall=0.6766467065868264, roc_auc=0.5209580838323353, total=   0.0s\n",
      "[CV] activation=relu, hidden_layer_sizes=(25,), learning_rate_init=0.1 \n"
     ]
    },
    {
     "name": "stderr",
     "output_type": "stream",
     "text": [
      "/home/fernando.favoretti/.local/lib/python3.6/site-packages/sklearn/neural_network/multilayer_perceptron.py:912: DataConversionWarning: A column-vector y was passed when a 1d array was expected. Please change the shape of y to (n_samples, ), for example using ravel().\n",
      "  y = column_or_1d(y, warn=True)\n"
     ]
    },
    {
     "name": "stdout",
     "output_type": "stream",
     "text": [
      "[CV] activation=relu, hidden_layer_sizes=(10, 10, 10), learning_rate_init=0.5 \n"
     ]
    },
    {
     "name": "stderr",
     "output_type": "stream",
     "text": [
      "/home/fernando.favoretti/.local/lib/python3.6/site-packages/sklearn/neural_network/multilayer_perceptron.py:912: DataConversionWarning: A column-vector y was passed when a 1d array was expected. Please change the shape of y to (n_samples, ), for example using ravel().\n",
      "  y = column_or_1d(y, warn=True)\n",
      "/home/fernando.favoretti/.local/lib/python3.6/site-packages/sklearn/neural_network/multilayer_perceptron.py:912: DataConversionWarning: A column-vector y was passed when a 1d array was expected. Please change the shape of y to (n_samples, ), for example using ravel().\n",
      "  y = column_or_1d(y, warn=True)\n"
     ]
    },
    {
     "name": "stdout",
     "output_type": "stream",
     "text": [
      "[CV]  activation=relu, hidden_layer_sizes=(10,), learning_rate_init=0.01, accuracy=0.49096385542168675, precision=0.4909090909090909, recall=0.4879518072289157, roc_auc=0.517890840470315, total=   0.8s\n",
      "[CV] activation=relu, hidden_layer_sizes=(10, 10, 10), learning_rate_init=0.5 \n"
     ]
    },
    {
     "name": "stderr",
     "output_type": "stream",
     "text": [
      "/home/fernando.favoretti/.local/lib/python3.6/site-packages/sklearn/neural_network/multilayer_perceptron.py:912: DataConversionWarning: A column-vector y was passed when a 1d array was expected. Please change the shape of y to (n_samples, ), for example using ravel().\n",
      "  y = column_or_1d(y, warn=True)\n"
     ]
    },
    {
     "name": "stdout",
     "output_type": "stream",
     "text": [
      "[CV]  activation=relu, hidden_layer_sizes=(10, 10, 10), learning_rate_init=0.1, accuracy=0.5421686746987951, precision=0.553030303030303, recall=0.4397590361445783, roc_auc=0.5411525620554507, total=   0.1s\n"
     ]
    },
    {
     "name": "stderr",
     "output_type": "stream",
     "text": [
      "/home/fernando.favoretti/.local/lib/python3.6/site-packages/sklearn/metrics/classification.py:1135: UndefinedMetricWarning: Precision is ill-defined and being set to 0.0 due to no predicted samples.\n",
      "  'precision', 'predicted', average, warn_for)\n"
     ]
    },
    {
     "name": "stdout",
     "output_type": "stream",
     "text": [
      "[CV] activation=relu, hidden_layer_sizes=(10, 10, 10), learning_rate_init=0.9 \n"
     ]
    },
    {
     "name": "stderr",
     "output_type": "stream",
     "text": [
      "/home/fernando.favoretti/.local/lib/python3.6/site-packages/sklearn/neural_network/multilayer_perceptron.py:912: DataConversionWarning: A column-vector y was passed when a 1d array was expected. Please change the shape of y to (n_samples, ), for example using ravel().\n",
      "  y = column_or_1d(y, warn=True)\n"
     ]
    },
    {
     "name": "stdout",
     "output_type": "stream",
     "text": [
      "[CV]  activation=relu, hidden_layer_sizes=(10, 10, 10), learning_rate_init=0.5, accuracy=0.5, precision=0.0, recall=0.0, roc_auc=0.5, total=   0.1s\n",
      "[CV]  activation=relu, hidden_layer_sizes=(25,), learning_rate_init=0.1, accuracy=0.49101796407185627, precision=0.3333333333333333, recall=0.017964071856287425, roc_auc=0.48990641471547924, total=   0.1s\n"
     ]
    },
    {
     "name": "stderr",
     "output_type": "stream",
     "text": [
      "/home/fernando.favoretti/.local/lib/python3.6/site-packages/sklearn/metrics/classification.py:1135: UndefinedMetricWarning: Precision is ill-defined and being set to 0.0 due to no predicted samples.\n",
      "  'precision', 'predicted', average, warn_for)\n",
      "/home/fernando.favoretti/.local/lib/python3.6/site-packages/sklearn/neural_network/multilayer_perceptron.py:564: ConvergenceWarning: Stochastic Optimizer: Maximum iterations (200) reached and the optimization hasn't converged yet.\n",
      "  % self.max_iter, ConvergenceWarning)\n"
     ]
    },
    {
     "name": "stdout",
     "output_type": "stream",
     "text": [
      "[CV]  activation=relu, hidden_layer_sizes=(10, 10, 10), learning_rate_init=0.5, accuracy=0.5, precision=0.0, recall=0.0, roc_auc=0.5, total=   0.1s\n",
      "[CV]  activation=relu, hidden_layer_sizes=(25,), learning_rate_init=0.001, accuracy=0.4880239520958084, precision=0.4878048780487805, recall=0.47904191616766467, roc_auc=0.493922334970777, total=   1.2s\n",
      "[CV]  activation=relu, hidden_layer_sizes=(10,), learning_rate_init=0.01, accuracy=0.5239520958083832, precision=0.5238095238095238, recall=0.5269461077844312, roc_auc=0.5200258166302126, total=   0.4s\n",
      "[CV] activation=relu, hidden_layer_sizes=(10, 10, 10), learning_rate_init=0.9 \n"
     ]
    },
    {
     "name": "stderr",
     "output_type": "stream",
     "text": [
      "/home/fernando.favoretti/.local/lib/python3.6/site-packages/sklearn/neural_network/multilayer_perceptron.py:912: DataConversionWarning: A column-vector y was passed when a 1d array was expected. Please change the shape of y to (n_samples, ), for example using ravel().\n",
      "  y = column_or_1d(y, warn=True)\n"
     ]
    },
    {
     "name": "stdout",
     "output_type": "stream",
     "text": [
      "[CV]  activation=relu, hidden_layer_sizes=(10, 10, 10), learning_rate_init=0.9, accuracy=0.5, precision=0.5, recall=1.0, roc_auc=0.5, total=   0.1s\n",
      "[CV] activation=relu, hidden_layer_sizes=(10, 10, 10), learning_rate_init=0.9 \n"
     ]
    },
    {
     "name": "stderr",
     "output_type": "stream",
     "text": [
      "/home/fernando.favoretti/.local/lib/python3.6/site-packages/sklearn/neural_network/multilayer_perceptron.py:912: DataConversionWarning: A column-vector y was passed when a 1d array was expected. Please change the shape of y to (n_samples, ), for example using ravel().\n",
      "  y = column_or_1d(y, warn=True)\n"
     ]
    },
    {
     "name": "stdout",
     "output_type": "stream",
     "text": [
      "[CV]  activation=relu, hidden_layer_sizes=(10, 10, 10), learning_rate_init=0.9, accuracy=0.5, precision=0.5, recall=1.0, roc_auc=0.5, total=   0.0s\n",
      "[CV]  activation=relu, hidden_layer_sizes=(10, 10, 10), learning_rate_init=0.9, accuracy=0.5, precision=0.5, recall=1.0, roc_auc=0.5, total=   0.1s\n",
      "[CV]  activation=relu, hidden_layer_sizes=(25,), learning_rate_init=0.01, accuracy=0.5898203592814372, precision=0.5862068965517241, recall=0.6107784431137725, roc_auc=0.6050772706084836, total=   0.3s\n",
      "[CV]  activation=relu, hidden_layer_sizes=(10, 15), learning_rate_init=0.01, accuracy=0.49101796407185627, precision=0.4911242603550296, recall=0.49700598802395207, roc_auc=0.4773566639176736, total=   1.2s\n",
      "[CV] activation=relu, hidden_layer_sizes=(10, 15), learning_rate_init=0.01 \n"
     ]
    },
    {
     "name": "stderr",
     "output_type": "stream",
     "text": [
      "/home/fernando.favoretti/.local/lib/python3.6/site-packages/sklearn/neural_network/multilayer_perceptron.py:564: ConvergenceWarning: Stochastic Optimizer: Maximum iterations (200) reached and the optimization hasn't converged yet.\n",
      "  % self.max_iter, ConvergenceWarning)\n",
      "/home/fernando.favoretti/.local/lib/python3.6/site-packages/sklearn/neural_network/multilayer_perceptron.py:912: DataConversionWarning: A column-vector y was passed when a 1d array was expected. Please change the shape of y to (n_samples, ), for example using ravel().\n",
      "  y = column_or_1d(y, warn=True)\n"
     ]
    },
    {
     "name": "stdout",
     "output_type": "stream",
     "text": [
      "[CV]  activation=relu, hidden_layer_sizes=(25,), learning_rate_init=0.001, accuracy=0.5568862275449101, precision=0.5620915032679739, recall=0.5149700598802395, roc_auc=0.5718742156405752, total=   1.6s\n",
      "[CV] activation=relu, hidden_layer_sizes=(25,), learning_rate_init=0.001 \n"
     ]
    },
    {
     "name": "stderr",
     "output_type": "stream",
     "text": [
      "/home/fernando.favoretti/.local/lib/python3.6/site-packages/sklearn/neural_network/multilayer_perceptron.py:564: ConvergenceWarning: Stochastic Optimizer: Maximum iterations (200) reached and the optimization hasn't converged yet.\n",
      "  % self.max_iter, ConvergenceWarning)\n",
      "/home/fernando.favoretti/.local/lib/python3.6/site-packages/sklearn/neural_network/multilayer_perceptron.py:912: DataConversionWarning: A column-vector y was passed when a 1d array was expected. Please change the shape of y to (n_samples, ), for example using ravel().\n",
      "  y = column_or_1d(y, warn=True)\n",
      "/home/fernando.favoretti/.local/lib/python3.6/site-packages/sklearn/neural_network/multilayer_perceptron.py:564: ConvergenceWarning: Stochastic Optimizer: Maximum iterations (200) reached and the optimization hasn't converged yet.\n",
      "  % self.max_iter, ConvergenceWarning)\n"
     ]
    },
    {
     "name": "stdout",
     "output_type": "stream",
     "text": [
      "[CV]  activation=relu, hidden_layer_sizes=(10, 10, 10), learning_rate_init=0.001, accuracy=0.5179640718562875, precision=0.5178571428571429, recall=0.5209580838323353, roc_auc=0.5187170569041558, total=   1.1s\n",
      "[CV]  activation=relu, hidden_layer_sizes=(10, 15), learning_rate_init=0.001, accuracy=0.5120481927710844, precision=0.5120481927710844, recall=0.5120481927710844, roc_auc=0.5132457541007404, total=   1.4s\n",
      "[CV] activation=relu, hidden_layer_sizes=(10, 15), learning_rate_init=0.01 \n"
     ]
    },
    {
     "name": "stderr",
     "output_type": "stream",
     "text": [
      "/home/fernando.favoretti/.local/lib/python3.6/site-packages/sklearn/neural_network/multilayer_perceptron.py:912: DataConversionWarning: A column-vector y was passed when a 1d array was expected. Please change the shape of y to (n_samples, ), for example using ravel().\n",
      "  y = column_or_1d(y, warn=True)\n",
      "/home/fernando.favoretti/.local/lib/python3.6/site-packages/sklearn/neural_network/multilayer_perceptron.py:564: ConvergenceWarning: Stochastic Optimizer: Maximum iterations (200) reached and the optimization hasn't converged yet.\n",
      "  % self.max_iter, ConvergenceWarning)\n"
     ]
    },
    {
     "name": "stdout",
     "output_type": "stream",
     "text": [
      "[CV]  activation=relu, hidden_layer_sizes=(10, 10, 10), learning_rate_init=0.01, accuracy=0.5090361445783133, precision=0.5096774193548387, recall=0.4759036144578313, roc_auc=0.5282515604587024, total=   0.9s\n",
      "[CV] activation=relu, hidden_layer_sizes=(10, 10, 10), learning_rate_init=0.1 \n"
     ]
    },
    {
     "name": "stderr",
     "output_type": "stream",
     "text": [
      "/home/fernando.favoretti/.local/lib/python3.6/site-packages/sklearn/neural_network/multilayer_perceptron.py:912: DataConversionWarning: A column-vector y was passed when a 1d array was expected. Please change the shape of y to (n_samples, ), for example using ravel().\n",
      "  y = column_or_1d(y, warn=True)\n"
     ]
    },
    {
     "name": "stdout",
     "output_type": "stream",
     "text": [
      "[CV]  activation=relu, hidden_layer_sizes=(10, 15), learning_rate_init=0.001, accuracy=0.5688622754491018, precision=0.5696969696969697, recall=0.562874251497006, roc_auc=0.5467747140449639, total=   1.5s\n",
      "[CV] activation=relu, hidden_layer_sizes=(10, 15), learning_rate_init=0.001 \n"
     ]
    },
    {
     "name": "stderr",
     "output_type": "stream",
     "text": [
      "/home/fernando.favoretti/.local/lib/python3.6/site-packages/sklearn/neural_network/multilayer_perceptron.py:912: DataConversionWarning: A column-vector y was passed when a 1d array was expected. Please change the shape of y to (n_samples, ), for example using ravel().\n",
      "  y = column_or_1d(y, warn=True)\n"
     ]
    },
    {
     "name": "stdout",
     "output_type": "stream",
     "text": [
      "[CV]  activation=relu, hidden_layer_sizes=(10, 10, 10), learning_rate_init=0.1, accuracy=0.47604790419161674, precision=0.3333333333333333, recall=0.04790419161676647, roc_auc=0.46552404173688555, total=   0.1s\n"
     ]
    },
    {
     "name": "stderr",
     "output_type": "stream",
     "text": [
      "/home/fernando.favoretti/.local/lib/python3.6/site-packages/sklearn/neural_network/multilayer_perceptron.py:564: ConvergenceWarning: Stochastic Optimizer: Maximum iterations (200) reached and the optimization hasn't converged yet.\n",
      "  % self.max_iter, ConvergenceWarning)\n"
     ]
    },
    {
     "name": "stdout",
     "output_type": "stream",
     "text": [
      "[CV]  activation=relu, hidden_layer_sizes=(10,), learning_rate_init=0.001, accuracy=0.5059880239520959, precision=0.5059523809523809, recall=0.5089820359281437, roc_auc=0.508623471619635, total=   0.9s\n",
      "[CV]  activation=relu, hidden_layer_sizes=(10, 10, 10), learning_rate_init=0.01, accuracy=0.5089820359281437, precision=0.5096774193548387, recall=0.47305389221556887, roc_auc=0.5171214457312919, total=   1.1s\n",
      "[CV] activation=relu, hidden_layer_sizes=(10, 10, 10), learning_rate_init=0.01 \n"
     ]
    },
    {
     "name": "stderr",
     "output_type": "stream",
     "text": [
      "/home/fernando.favoretti/.local/lib/python3.6/site-packages/sklearn/neural_network/multilayer_perceptron.py:912: DataConversionWarning: A column-vector y was passed when a 1d array was expected. Please change the shape of y to (n_samples, ), for example using ravel().\n",
      "  y = column_or_1d(y, warn=True)\n",
      "/home/fernando.favoretti/.local/lib/python3.6/site-packages/sklearn/neural_network/multilayer_perceptron.py:564: ConvergenceWarning: Stochastic Optimizer: Maximum iterations (200) reached and the optimization hasn't converged yet.\n",
      "  % self.max_iter, ConvergenceWarning)\n"
     ]
    },
    {
     "name": "stdout",
     "output_type": "stream",
     "text": [
      "[CV]  activation=relu, hidden_layer_sizes=(10, 10, 10), learning_rate_init=0.001, accuracy=0.4880239520958084, precision=0.48863636363636365, recall=0.5149700598802395, roc_auc=0.4920936569973825, total=   1.3s\n",
      "[CV] activation=relu, hidden_layer_sizes=(10, 10, 10), learning_rate_init=0.001 \n"
     ]
    },
    {
     "name": "stderr",
     "output_type": "stream",
     "text": [
      "/home/fernando.favoretti/.local/lib/python3.6/site-packages/sklearn/neural_network/multilayer_perceptron.py:912: DataConversionWarning: A column-vector y was passed when a 1d array was expected. Please change the shape of y to (n_samples, ), for example using ravel().\n",
      "  y = column_or_1d(y, warn=True)\n"
     ]
    },
    {
     "name": "stdout",
     "output_type": "stream",
     "text": [
      "[CV]  activation=relu, hidden_layer_sizes=(10, 15), learning_rate_init=0.01, accuracy=0.48493975903614456, precision=0.484472049689441, recall=0.46987951807228917, roc_auc=0.4798591958194223, total=   0.5s\n"
     ]
    },
    {
     "name": "stderr",
     "output_type": "stream",
     "text": [
      "/home/fernando.favoretti/.local/lib/python3.6/site-packages/sklearn/neural_network/multilayer_perceptron.py:564: ConvergenceWarning: Stochastic Optimizer: Maximum iterations (200) reached and the optimization hasn't converged yet.\n",
      "  % self.max_iter, ConvergenceWarning)\n"
     ]
    },
    {
     "name": "stdout",
     "output_type": "stream",
     "text": [
      "[CV]  activation=relu, hidden_layer_sizes=(25,), learning_rate_init=0.001, accuracy=0.5572289156626506, precision=0.5605095541401274, recall=0.5301204819277109, roc_auc=0.5701117723907679, total=   0.5s\n",
      "[CV]  activation=relu, hidden_layer_sizes=(10, 10, 10), learning_rate_init=0.01, accuracy=0.5209580838323353, precision=0.52, recall=0.5449101796407185, roc_auc=0.5498225106672882, total=   0.3s\n",
      "[CV]  activation=relu, hidden_layer_sizes=(10, 15), learning_rate_init=0.01, accuracy=0.5239520958083832, precision=0.5289855072463768, recall=0.437125748502994, roc_auc=0.5078167019254902, total=   0.5s\n"
     ]
    },
    {
     "name": "stderr",
     "output_type": "stream",
     "text": [
      "/home/fernando.favoretti/.local/lib/python3.6/site-packages/sklearn/neural_network/multilayer_perceptron.py:564: ConvergenceWarning: Stochastic Optimizer: Maximum iterations (200) reached and the optimization hasn't converged yet.\n",
      "  % self.max_iter, ConvergenceWarning)\n"
     ]
    },
    {
     "name": "stdout",
     "output_type": "stream",
     "text": [
      "[CV]  activation=relu, hidden_layer_sizes=(10, 15), learning_rate_init=0.001, accuracy=0.5538922155688623, precision=0.5542168674698795, recall=0.5508982035928144, roc_auc=0.5699379683746281, total=   0.6s\n"
     ]
    },
    {
     "name": "stderr",
     "output_type": "stream",
     "text": [
      "[Parallel(n_jobs=-1)]: Done 114 out of 120 | elapsed:    3.9s remaining:    0.2s\n",
      "/home/fernando.favoretti/.local/lib/python3.6/site-packages/sklearn/neural_network/multilayer_perceptron.py:564: ConvergenceWarning: Stochastic Optimizer: Maximum iterations (200) reached and the optimization hasn't converged yet.\n",
      "  % self.max_iter, ConvergenceWarning)\n"
     ]
    },
    {
     "name": "stdout",
     "output_type": "stream",
     "text": [
      "[CV]  activation=relu, hidden_layer_sizes=(10, 10, 10), learning_rate_init=0.001, accuracy=0.4819277108433735, precision=0.48026315789473684, recall=0.4397590361445783, roc_auc=0.4854478153578168, total=   0.6s\n"
     ]
    },
    {
     "name": "stderr",
     "output_type": "stream",
     "text": [
      "[Parallel(n_jobs=-1)]: Done 120 out of 120 | elapsed:    4.2s finished\n"
     ]
    },
    {
     "data": {
      "text/plain": [
       "GridSearchCV(cv=3, error_score='raise',\n",
       "       estimator=MLPClassifier(activation='relu', alpha=0.0001, batch_size='auto', beta_1=0.9,\n",
       "       beta_2=0.999, early_stopping=False, epsilon=1e-08,\n",
       "       hidden_layer_sizes=(100,), learning_rate='constant',\n",
       "       learning_rate_init=0.001, max_iter=200, momentum=0.9,\n",
       "       nesterovs_momentum=True, power_t=0.5, random_state=None,\n",
       "       shuffle=True, solver='sgd', tol=0.0001, validation_fraction=0.1,\n",
       "       verbose=False, warm_start=False),\n",
       "       fit_params=None, iid=True, n_jobs=-1,\n",
       "       param_grid=[{'hidden_layer_sizes': [(10,), (25,), (10, 15), (10, 10, 10)], 'learning_rate_init': [0.001, 0.01, 0.1, 0.5, 0.9], 'activation': ['logistic', 'relu']}],\n",
       "       pre_dispatch='2*n_jobs', refit=False, return_train_score='warn',\n",
       "       scoring=['accuracy', 'precision', 'recall', 'roc_auc'], verbose=5)"
      ]
     },
     "execution_count": 23,
     "metadata": {},
     "output_type": "execute_result"
    }
   ],
   "source": [
    "grid_search_pca.fit(pca_components, Y)"
   ]
  },
  {
   "cell_type": "code",
   "execution_count": 25,
   "metadata": {
    "scrolled": true
   },
   "outputs": [
    {
     "name": "stderr",
     "output_type": "stream",
     "text": [
      "/home/fernando.favoretti/.local/lib/python3.6/site-packages/sklearn/utils/deprecation.py:122: FutureWarning: You are accessing a training score ('split0_train_accuracy'), which will not be available by default any more in 0.21. If you need training scores, please set return_train_score=True\n",
      "  warnings.warn(*warn_args, **warn_kwargs)\n",
      "/home/fernando.favoretti/.local/lib/python3.6/site-packages/sklearn/utils/deprecation.py:122: FutureWarning: You are accessing a training score ('split1_train_accuracy'), which will not be available by default any more in 0.21. If you need training scores, please set return_train_score=True\n",
      "  warnings.warn(*warn_args, **warn_kwargs)\n",
      "/home/fernando.favoretti/.local/lib/python3.6/site-packages/sklearn/utils/deprecation.py:122: FutureWarning: You are accessing a training score ('split2_train_accuracy'), which will not be available by default any more in 0.21. If you need training scores, please set return_train_score=True\n",
      "  warnings.warn(*warn_args, **warn_kwargs)\n",
      "/home/fernando.favoretti/.local/lib/python3.6/site-packages/sklearn/utils/deprecation.py:122: FutureWarning: You are accessing a training score ('mean_train_accuracy'), which will not be available by default any more in 0.21. If you need training scores, please set return_train_score=True\n",
      "  warnings.warn(*warn_args, **warn_kwargs)\n",
      "/home/fernando.favoretti/.local/lib/python3.6/site-packages/sklearn/utils/deprecation.py:122: FutureWarning: You are accessing a training score ('std_train_accuracy'), which will not be available by default any more in 0.21. If you need training scores, please set return_train_score=True\n",
      "  warnings.warn(*warn_args, **warn_kwargs)\n",
      "/home/fernando.favoretti/.local/lib/python3.6/site-packages/sklearn/utils/deprecation.py:122: FutureWarning: You are accessing a training score ('split0_train_precision'), which will not be available by default any more in 0.21. If you need training scores, please set return_train_score=True\n",
      "  warnings.warn(*warn_args, **warn_kwargs)\n",
      "/home/fernando.favoretti/.local/lib/python3.6/site-packages/sklearn/utils/deprecation.py:122: FutureWarning: You are accessing a training score ('split1_train_precision'), which will not be available by default any more in 0.21. If you need training scores, please set return_train_score=True\n",
      "  warnings.warn(*warn_args, **warn_kwargs)\n",
      "/home/fernando.favoretti/.local/lib/python3.6/site-packages/sklearn/utils/deprecation.py:122: FutureWarning: You are accessing a training score ('split2_train_precision'), which will not be available by default any more in 0.21. If you need training scores, please set return_train_score=True\n",
      "  warnings.warn(*warn_args, **warn_kwargs)\n",
      "/home/fernando.favoretti/.local/lib/python3.6/site-packages/sklearn/utils/deprecation.py:122: FutureWarning: You are accessing a training score ('mean_train_precision'), which will not be available by default any more in 0.21. If you need training scores, please set return_train_score=True\n",
      "  warnings.warn(*warn_args, **warn_kwargs)\n",
      "/home/fernando.favoretti/.local/lib/python3.6/site-packages/sklearn/utils/deprecation.py:122: FutureWarning: You are accessing a training score ('std_train_precision'), which will not be available by default any more in 0.21. If you need training scores, please set return_train_score=True\n",
      "  warnings.warn(*warn_args, **warn_kwargs)\n",
      "/home/fernando.favoretti/.local/lib/python3.6/site-packages/sklearn/utils/deprecation.py:122: FutureWarning: You are accessing a training score ('split0_train_recall'), which will not be available by default any more in 0.21. If you need training scores, please set return_train_score=True\n",
      "  warnings.warn(*warn_args, **warn_kwargs)\n",
      "/home/fernando.favoretti/.local/lib/python3.6/site-packages/sklearn/utils/deprecation.py:122: FutureWarning: You are accessing a training score ('split1_train_recall'), which will not be available by default any more in 0.21. If you need training scores, please set return_train_score=True\n",
      "  warnings.warn(*warn_args, **warn_kwargs)\n",
      "/home/fernando.favoretti/.local/lib/python3.6/site-packages/sklearn/utils/deprecation.py:122: FutureWarning: You are accessing a training score ('split2_train_recall'), which will not be available by default any more in 0.21. If you need training scores, please set return_train_score=True\n",
      "  warnings.warn(*warn_args, **warn_kwargs)\n",
      "/home/fernando.favoretti/.local/lib/python3.6/site-packages/sklearn/utils/deprecation.py:122: FutureWarning: You are accessing a training score ('mean_train_recall'), which will not be available by default any more in 0.21. If you need training scores, please set return_train_score=True\n",
      "  warnings.warn(*warn_args, **warn_kwargs)\n",
      "/home/fernando.favoretti/.local/lib/python3.6/site-packages/sklearn/utils/deprecation.py:122: FutureWarning: You are accessing a training score ('std_train_recall'), which will not be available by default any more in 0.21. If you need training scores, please set return_train_score=True\n",
      "  warnings.warn(*warn_args, **warn_kwargs)\n",
      "/home/fernando.favoretti/.local/lib/python3.6/site-packages/sklearn/utils/deprecation.py:122: FutureWarning: You are accessing a training score ('split0_train_roc_auc'), which will not be available by default any more in 0.21. If you need training scores, please set return_train_score=True\n",
      "  warnings.warn(*warn_args, **warn_kwargs)\n",
      "/home/fernando.favoretti/.local/lib/python3.6/site-packages/sklearn/utils/deprecation.py:122: FutureWarning: You are accessing a training score ('split1_train_roc_auc'), which will not be available by default any more in 0.21. If you need training scores, please set return_train_score=True\n",
      "  warnings.warn(*warn_args, **warn_kwargs)\n",
      "/home/fernando.favoretti/.local/lib/python3.6/site-packages/sklearn/utils/deprecation.py:122: FutureWarning: You are accessing a training score ('split2_train_roc_auc'), which will not be available by default any more in 0.21. If you need training scores, please set return_train_score=True\n",
      "  warnings.warn(*warn_args, **warn_kwargs)\n",
      "/home/fernando.favoretti/.local/lib/python3.6/site-packages/sklearn/utils/deprecation.py:122: FutureWarning: You are accessing a training score ('mean_train_roc_auc'), which will not be available by default any more in 0.21. If you need training scores, please set return_train_score=True\n",
      "  warnings.warn(*warn_args, **warn_kwargs)\n",
      "/home/fernando.favoretti/.local/lib/python3.6/site-packages/sklearn/utils/deprecation.py:122: FutureWarning: You are accessing a training score ('std_train_roc_auc'), which will not be available by default any more in 0.21. If you need training scores, please set return_train_score=True\n",
      "  warnings.warn(*warn_args, **warn_kwargs)\n"
     ]
    },
    {
     "data": {
      "text/plain": [
       "mean_fit_time                 1.14041\n",
       "std_fit_time                 0.456068\n",
       "mean_score_time             0.0269552\n",
       "std_score_time              0.0315324\n",
       "param_activation                 relu\n",
       "param_hidden_layer_sizes        (25,)\n",
       "param_learning_rate_init          0.9\n",
       "split0_test_accuracy         0.571856\n",
       "split1_test_accuracy          0.58982\n",
       "split2_test_accuracy         0.563253\n",
       "mean_test_accuracy              0.555\n",
       "std_test_accuracy            0.041043\n",
       "rank_test_accuracy                 40\n",
       "split0_train_accuracy               1\n",
       "split1_train_accuracy               1\n",
       "split2_train_accuracy               1\n",
       "mean_train_accuracy                 1\n",
       "std_train_accuracy           0.114733\n",
       "split0_test_precision               1\n",
       "split1_test_precision               1\n",
       "split2_test_precision             0.6\n",
       "mean_test_precision          0.716537\n",
       "std_test_precision           0.282559\n",
       "rank_test_precision                40\n",
       "split0_train_precision              1\n",
       "split1_train_precision              1\n",
       "split2_train_precision              1\n",
       "mean_train_precision                1\n",
       "std_train_precision          0.268668\n",
       "split0_test_recall                  1\n",
       "split1_test_recall                  1\n",
       "split2_test_recall                  1\n",
       "mean_test_recall                    1\n",
       "std_test_recall               0.47164\n",
       "rank_test_recall                   40\n",
       "split0_train_recall                 1\n",
       "split1_train_recall                 1\n",
       "split2_train_recall                 1\n",
       "mean_train_recall                   1\n",
       "std_train_recall             0.471405\n",
       "split0_test_roc_auc          0.601348\n",
       "split1_test_roc_auc          0.605077\n",
       "split2_test_roc_auc          0.595115\n",
       "mean_test_roc_auc            0.573975\n",
       "std_test_roc_auc            0.0492768\n",
       "rank_test_roc_auc                  40\n",
       "split0_train_roc_auc                1\n",
       "split1_train_roc_auc                1\n",
       "split2_train_roc_auc                1\n",
       "mean_train_roc_auc                  1\n",
       "std_train_roc_auc             0.15196\n",
       "dtype: object"
      ]
     },
     "execution_count": 25,
     "metadata": {},
     "output_type": "execute_result"
    }
   ],
   "source": [
    "pd.DataFrame(grid_search_pca.cv_results_).max()"
   ]
  },
  {
   "cell_type": "code",
   "execution_count": 26,
   "metadata": {
    "scrolled": true
   },
   "outputs": [
    {
     "name": "stderr",
     "output_type": "stream",
     "text": [
      "/home/fernando.favoretti/.local/lib/python3.6/site-packages/sklearn/utils/deprecation.py:122: FutureWarning: You are accessing a training score ('split0_train_accuracy'), which will not be available by default any more in 0.21. If you need training scores, please set return_train_score=True\n",
      "  warnings.warn(*warn_args, **warn_kwargs)\n",
      "/home/fernando.favoretti/.local/lib/python3.6/site-packages/sklearn/utils/deprecation.py:122: FutureWarning: You are accessing a training score ('split1_train_accuracy'), which will not be available by default any more in 0.21. If you need training scores, please set return_train_score=True\n",
      "  warnings.warn(*warn_args, **warn_kwargs)\n",
      "/home/fernando.favoretti/.local/lib/python3.6/site-packages/sklearn/utils/deprecation.py:122: FutureWarning: You are accessing a training score ('split2_train_accuracy'), which will not be available by default any more in 0.21. If you need training scores, please set return_train_score=True\n",
      "  warnings.warn(*warn_args, **warn_kwargs)\n",
      "/home/fernando.favoretti/.local/lib/python3.6/site-packages/sklearn/utils/deprecation.py:122: FutureWarning: You are accessing a training score ('mean_train_accuracy'), which will not be available by default any more in 0.21. If you need training scores, please set return_train_score=True\n",
      "  warnings.warn(*warn_args, **warn_kwargs)\n",
      "/home/fernando.favoretti/.local/lib/python3.6/site-packages/sklearn/utils/deprecation.py:122: FutureWarning: You are accessing a training score ('std_train_accuracy'), which will not be available by default any more in 0.21. If you need training scores, please set return_train_score=True\n",
      "  warnings.warn(*warn_args, **warn_kwargs)\n",
      "/home/fernando.favoretti/.local/lib/python3.6/site-packages/sklearn/utils/deprecation.py:122: FutureWarning: You are accessing a training score ('split0_train_precision'), which will not be available by default any more in 0.21. If you need training scores, please set return_train_score=True\n",
      "  warnings.warn(*warn_args, **warn_kwargs)\n",
      "/home/fernando.favoretti/.local/lib/python3.6/site-packages/sklearn/utils/deprecation.py:122: FutureWarning: You are accessing a training score ('split1_train_precision'), which will not be available by default any more in 0.21. If you need training scores, please set return_train_score=True\n",
      "  warnings.warn(*warn_args, **warn_kwargs)\n",
      "/home/fernando.favoretti/.local/lib/python3.6/site-packages/sklearn/utils/deprecation.py:122: FutureWarning: You are accessing a training score ('split2_train_precision'), which will not be available by default any more in 0.21. If you need training scores, please set return_train_score=True\n",
      "  warnings.warn(*warn_args, **warn_kwargs)\n",
      "/home/fernando.favoretti/.local/lib/python3.6/site-packages/sklearn/utils/deprecation.py:122: FutureWarning: You are accessing a training score ('mean_train_precision'), which will not be available by default any more in 0.21. If you need training scores, please set return_train_score=True\n",
      "  warnings.warn(*warn_args, **warn_kwargs)\n",
      "/home/fernando.favoretti/.local/lib/python3.6/site-packages/sklearn/utils/deprecation.py:122: FutureWarning: You are accessing a training score ('std_train_precision'), which will not be available by default any more in 0.21. If you need training scores, please set return_train_score=True\n",
      "  warnings.warn(*warn_args, **warn_kwargs)\n",
      "/home/fernando.favoretti/.local/lib/python3.6/site-packages/sklearn/utils/deprecation.py:122: FutureWarning: You are accessing a training score ('split0_train_recall'), which will not be available by default any more in 0.21. If you need training scores, please set return_train_score=True\n",
      "  warnings.warn(*warn_args, **warn_kwargs)\n",
      "/home/fernando.favoretti/.local/lib/python3.6/site-packages/sklearn/utils/deprecation.py:122: FutureWarning: You are accessing a training score ('split1_train_recall'), which will not be available by default any more in 0.21. If you need training scores, please set return_train_score=True\n",
      "  warnings.warn(*warn_args, **warn_kwargs)\n",
      "/home/fernando.favoretti/.local/lib/python3.6/site-packages/sklearn/utils/deprecation.py:122: FutureWarning: You are accessing a training score ('split2_train_recall'), which will not be available by default any more in 0.21. If you need training scores, please set return_train_score=True\n",
      "  warnings.warn(*warn_args, **warn_kwargs)\n",
      "/home/fernando.favoretti/.local/lib/python3.6/site-packages/sklearn/utils/deprecation.py:122: FutureWarning: You are accessing a training score ('mean_train_recall'), which will not be available by default any more in 0.21. If you need training scores, please set return_train_score=True\n",
      "  warnings.warn(*warn_args, **warn_kwargs)\n",
      "/home/fernando.favoretti/.local/lib/python3.6/site-packages/sklearn/utils/deprecation.py:122: FutureWarning: You are accessing a training score ('std_train_recall'), which will not be available by default any more in 0.21. If you need training scores, please set return_train_score=True\n",
      "  warnings.warn(*warn_args, **warn_kwargs)\n",
      "/home/fernando.favoretti/.local/lib/python3.6/site-packages/sklearn/utils/deprecation.py:122: FutureWarning: You are accessing a training score ('split0_train_roc_auc'), which will not be available by default any more in 0.21. If you need training scores, please set return_train_score=True\n",
      "  warnings.warn(*warn_args, **warn_kwargs)\n",
      "/home/fernando.favoretti/.local/lib/python3.6/site-packages/sklearn/utils/deprecation.py:122: FutureWarning: You are accessing a training score ('split1_train_roc_auc'), which will not be available by default any more in 0.21. If you need training scores, please set return_train_score=True\n",
      "  warnings.warn(*warn_args, **warn_kwargs)\n",
      "/home/fernando.favoretti/.local/lib/python3.6/site-packages/sklearn/utils/deprecation.py:122: FutureWarning: You are accessing a training score ('split2_train_roc_auc'), which will not be available by default any more in 0.21. If you need training scores, please set return_train_score=True\n",
      "  warnings.warn(*warn_args, **warn_kwargs)\n",
      "/home/fernando.favoretti/.local/lib/python3.6/site-packages/sklearn/utils/deprecation.py:122: FutureWarning: You are accessing a training score ('mean_train_roc_auc'), which will not be available by default any more in 0.21. If you need training scores, please set return_train_score=True\n",
      "  warnings.warn(*warn_args, **warn_kwargs)\n",
      "/home/fernando.favoretti/.local/lib/python3.6/site-packages/sklearn/utils/deprecation.py:122: FutureWarning: You are accessing a training score ('std_train_roc_auc'), which will not be available by default any more in 0.21. If you need training scores, please set return_train_score=True\n",
      "  warnings.warn(*warn_args, **warn_kwargs)\n"
     ]
    }
   ],
   "source": [
    "pca_result = pd.DataFrame(grid_search_pca.cv_results_)[result_column_list]\n",
    "pca_result.to_csv(\"Sample_1000_PCA.csv\")"
   ]
  },
  {
   "cell_type": "markdown",
   "metadata": {},
   "source": [
    "#### Roda todas as combinações da rede neural para as features selecionadas pela Informação Mútua (MIC)"
   ]
  },
  {
   "cell_type": "code",
   "execution_count": 27,
   "metadata": {},
   "outputs": [],
   "source": [
    "grid_search_mic = GridSearchCV(mlp_classifier, parameters, verbose=5, n_jobs=-1, cv=3, scoring=scoring, refit=False)"
   ]
  },
  {
   "cell_type": "code",
   "execution_count": 28,
   "metadata": {
    "scrolled": true
   },
   "outputs": [
    {
     "name": "stdout",
     "output_type": "stream",
     "text": [
      "Fitting 3 folds for each of 40 candidates, totalling 120 fits\n",
      "[CV] activation=logistic, hidden_layer_sizes=(10,), learning_rate_init=0.001 \n",
      "[CV] activation=logistic, hidden_layer_sizes=(10,), learning_rate_init=0.001 \n"
     ]
    },
    {
     "name": "stderr",
     "output_type": "stream",
     "text": [
      "/home/fernando.favoretti/.local/lib/python3.6/site-packages/sklearn/neural_network/multilayer_perceptron.py:912: DataConversionWarning: A column-vector y was passed when a 1d array was expected. Please change the shape of y to (n_samples, ), for example using ravel().\n",
      "  y = column_or_1d(y, warn=True)\n"
     ]
    },
    {
     "name": "stdout",
     "output_type": "stream",
     "text": [
      "[CV] activation=logistic, hidden_layer_sizes=(10,), learning_rate_init=0.001 \n",
      "[CV] activation=logistic, hidden_layer_sizes=(10,), learning_rate_init=0.01 \n"
     ]
    },
    {
     "name": "stderr",
     "output_type": "stream",
     "text": [
      "/home/fernando.favoretti/.local/lib/python3.6/site-packages/sklearn/neural_network/multilayer_perceptron.py:912: DataConversionWarning: A column-vector y was passed when a 1d array was expected. Please change the shape of y to (n_samples, ), for example using ravel().\n",
      "  y = column_or_1d(y, warn=True)\n",
      "/home/fernando.favoretti/.local/lib/python3.6/site-packages/sklearn/neural_network/multilayer_perceptron.py:912: DataConversionWarning: A column-vector y was passed when a 1d array was expected. Please change the shape of y to (n_samples, ), for example using ravel().\n",
      "  y = column_or_1d(y, warn=True)\n"
     ]
    },
    {
     "name": "stdout",
     "output_type": "stream",
     "text": [
      "[CV] activation=logistic, hidden_layer_sizes=(10,), learning_rate_init=0.01 \n"
     ]
    },
    {
     "name": "stderr",
     "output_type": "stream",
     "text": [
      "/home/fernando.favoretti/.local/lib/python3.6/site-packages/sklearn/neural_network/multilayer_perceptron.py:912: DataConversionWarning: A column-vector y was passed when a 1d array was expected. Please change the shape of y to (n_samples, ), for example using ravel().\n",
      "  y = column_or_1d(y, warn=True)\n"
     ]
    },
    {
     "name": "stdout",
     "output_type": "stream",
     "text": [
      "[CV] activation=logistic, hidden_layer_sizes=(10,), learning_rate_init=0.01 \n"
     ]
    },
    {
     "name": "stderr",
     "output_type": "stream",
     "text": [
      "/home/fernando.favoretti/.local/lib/python3.6/site-packages/sklearn/neural_network/multilayer_perceptron.py:912: DataConversionWarning: A column-vector y was passed when a 1d array was expected. Please change the shape of y to (n_samples, ), for example using ravel().\n",
      "  y = column_or_1d(y, warn=True)\n"
     ]
    },
    {
     "name": "stdout",
     "output_type": "stream",
     "text": [
      "[CV] activation=logistic, hidden_layer_sizes=(10,), learning_rate_init=0.1 \n"
     ]
    },
    {
     "name": "stderr",
     "output_type": "stream",
     "text": [
      "/home/fernando.favoretti/.local/lib/python3.6/site-packages/sklearn/neural_network/multilayer_perceptron.py:912: DataConversionWarning: A column-vector y was passed when a 1d array was expected. Please change the shape of y to (n_samples, ), for example using ravel().\n",
      "  y = column_or_1d(y, warn=True)\n"
     ]
    },
    {
     "name": "stdout",
     "output_type": "stream",
     "text": [
      "[CV] activation=logistic, hidden_layer_sizes=(10,), learning_rate_init=0.1 \n",
      "[CV] activation=logistic, hidden_layer_sizes=(10,), learning_rate_init=0.1 \n",
      "[CV] activation=logistic, hidden_layer_sizes=(10,), learning_rate_init=0.5 \n"
     ]
    },
    {
     "name": "stderr",
     "output_type": "stream",
     "text": [
      "/home/fernando.favoretti/.local/lib/python3.6/site-packages/sklearn/neural_network/multilayer_perceptron.py:912: DataConversionWarning: A column-vector y was passed when a 1d array was expected. Please change the shape of y to (n_samples, ), for example using ravel().\n",
      "  y = column_or_1d(y, warn=True)\n",
      "/home/fernando.favoretti/.local/lib/python3.6/site-packages/sklearn/neural_network/multilayer_perceptron.py:912: DataConversionWarning: A column-vector y was passed when a 1d array was expected. Please change the shape of y to (n_samples, ), for example using ravel().\n",
      "  y = column_or_1d(y, warn=True)\n"
     ]
    },
    {
     "name": "stdout",
     "output_type": "stream",
     "text": [
      "[CV]  activation=logistic, hidden_layer_sizes=(10,), learning_rate_init=0.001, accuracy=0.5059880239520959, precision=0.5037878787878788, recall=0.7964071856287425, roc_auc=0.4856036430133745, total=   0.0s\n",
      "[CV]  activation=logistic, hidden_layer_sizes=(10,), learning_rate_init=0.001, accuracy=0.4789156626506024, precision=0.48659003831417624, recall=0.7650602409638554, roc_auc=0.44966613441718684, total=   0.0s\n",
      "[CV] activation=logistic, hidden_layer_sizes=(10,), learning_rate_init=0.5 \n",
      "[CV]  activation=logistic, hidden_layer_sizes=(10,), learning_rate_init=0.001, accuracy=0.49700598802395207, precision=0.49814126394052044, recall=0.8023952095808383, roc_auc=0.4500340636093083, total=   0.0s\n",
      "[CV] activation=logistic, hidden_layer_sizes=(10,), learning_rate_init=0.5 \n"
     ]
    },
    {
     "name": "stderr",
     "output_type": "stream",
     "text": [
      "/home/fernando.favoretti/.local/lib/python3.6/site-packages/sklearn/neural_network/multilayer_perceptron.py:912: DataConversionWarning: A column-vector y was passed when a 1d array was expected. Please change the shape of y to (n_samples, ), for example using ravel().\n",
      "  y = column_or_1d(y, warn=True)\n",
      "/home/fernando.favoretti/.local/lib/python3.6/site-packages/sklearn/neural_network/multilayer_perceptron.py:912: DataConversionWarning: A column-vector y was passed when a 1d array was expected. Please change the shape of y to (n_samples, ), for example using ravel().\n",
      "  y = column_or_1d(y, warn=True)\n"
     ]
    },
    {
     "name": "stdout",
     "output_type": "stream",
     "text": [
      "[CV] activation=logistic, hidden_layer_sizes=(10,), learning_rate_init=0.9 \n"
     ]
    },
    {
     "name": "stderr",
     "output_type": "stream",
     "text": [
      "/home/fernando.favoretti/.local/lib/python3.6/site-packages/sklearn/neural_network/multilayer_perceptron.py:912: DataConversionWarning: A column-vector y was passed when a 1d array was expected. Please change the shape of y to (n_samples, ), for example using ravel().\n",
      "  y = column_or_1d(y, warn=True)\n",
      "/home/fernando.favoretti/.local/lib/python3.6/site-packages/sklearn/neural_network/multilayer_perceptron.py:912: DataConversionWarning: A column-vector y was passed when a 1d array was expected. Please change the shape of y to (n_samples, ), for example using ravel().\n",
      "  y = column_or_1d(y, warn=True)\n"
     ]
    },
    {
     "name": "stdout",
     "output_type": "stream",
     "text": [
      "[CV] activation=logistic, hidden_layer_sizes=(10,), learning_rate_init=0.9 \n"
     ]
    },
    {
     "name": "stderr",
     "output_type": "stream",
     "text": [
      "/home/fernando.favoretti/.local/lib/python3.6/site-packages/sklearn/neural_network/multilayer_perceptron.py:912: DataConversionWarning: A column-vector y was passed when a 1d array was expected. Please change the shape of y to (n_samples, ), for example using ravel().\n",
      "  y = column_or_1d(y, warn=True)\n"
     ]
    },
    {
     "name": "stdout",
     "output_type": "stream",
     "text": [
      "[CV]  activation=logistic, hidden_layer_sizes=(10,), learning_rate_init=0.01, accuracy=0.5, precision=0.5, recall=0.4491017964071856, roc_auc=0.5071892143856, total=   0.1s\n"
     ]
    },
    {
     "name": "stderr",
     "output_type": "stream",
     "text": [
      "/home/fernando.favoretti/.local/lib/python3.6/site-packages/sklearn/neural_network/multilayer_perceptron.py:912: DataConversionWarning: A column-vector y was passed when a 1d array was expected. Please change the shape of y to (n_samples, ), for example using ravel().\n",
      "  y = column_or_1d(y, warn=True)\n"
     ]
    },
    {
     "name": "stdout",
     "output_type": "stream",
     "text": [
      "[CV] activation=logistic, hidden_layer_sizes=(25,), learning_rate_init=0.001 \n"
     ]
    },
    {
     "name": "stderr",
     "output_type": "stream",
     "text": [
      "/home/fernando.favoretti/.local/lib/python3.6/site-packages/sklearn/neural_network/multilayer_perceptron.py:912: DataConversionWarning: A column-vector y was passed when a 1d array was expected. Please change the shape of y to (n_samples, ), for example using ravel().\n",
      "  y = column_or_1d(y, warn=True)\n",
      "/home/fernando.favoretti/.local/lib/python3.6/site-packages/sklearn/metrics/classification.py:1135: UndefinedMetricWarning: Precision is ill-defined and being set to 0.0 due to no predicted samples.\n",
      "  'precision', 'predicted', average, warn_for)\n"
     ]
    },
    {
     "name": "stdout",
     "output_type": "stream",
     "text": [
      "[CV] activation=logistic, hidden_layer_sizes=(25,), learning_rate_init=0.001 \n",
      "[CV] activation=logistic, hidden_layer_sizes=(25,), learning_rate_init=0.01 \n"
     ]
    },
    {
     "name": "stderr",
     "output_type": "stream",
     "text": [
      "/home/fernando.favoretti/.local/lib/python3.6/site-packages/sklearn/neural_network/multilayer_perceptron.py:912: DataConversionWarning: A column-vector y was passed when a 1d array was expected. Please change the shape of y to (n_samples, ), for example using ravel().\n",
      "  y = column_or_1d(y, warn=True)\n"
     ]
    },
    {
     "name": "stdout",
     "output_type": "stream",
     "text": [
      "[CV]  activation=logistic, hidden_layer_sizes=(10,), learning_rate_init=0.9, accuracy=0.5, precision=0.0, recall=0.0, roc_auc=0.5624081178959446, total=   0.0s\n"
     ]
    },
    {
     "name": "stderr",
     "output_type": "stream",
     "text": [
      "/home/fernando.favoretti/.local/lib/python3.6/site-packages/sklearn/neural_network/multilayer_perceptron.py:912: DataConversionWarning: A column-vector y was passed when a 1d array was expected. Please change the shape of y to (n_samples, ), for example using ravel().\n",
      "  y = column_or_1d(y, warn=True)\n",
      "/home/fernando.favoretti/.local/lib/python3.6/site-packages/sklearn/metrics/classification.py:1135: UndefinedMetricWarning: Precision is ill-defined and being set to 0.0 due to no predicted samples.\n",
      "  'precision', 'predicted', average, warn_for)\n"
     ]
    },
    {
     "name": "stdout",
     "output_type": "stream",
     "text": [
      "[CV]  activation=logistic, hidden_layer_sizes=(10,), learning_rate_init=0.5, accuracy=0.5090361445783133, precision=0.5059288537549407, recall=0.7710843373493976, roc_auc=0.4958629699520976, total=   0.1s\n",
      "[CV] activation=logistic, hidden_layer_sizes=(10,), learning_rate_init=0.9 \n",
      "[CV] activation=logistic, hidden_layer_sizes=(25,), learning_rate_init=0.001 \n",
      "[CV] activation=logistic, hidden_layer_sizes=(25,), learning_rate_init=0.01 \n"
     ]
    },
    {
     "name": "stderr",
     "output_type": "stream",
     "text": [
      "/home/fernando.favoretti/.local/lib/python3.6/site-packages/sklearn/neural_network/multilayer_perceptron.py:912: DataConversionWarning: A column-vector y was passed when a 1d array was expected. Please change the shape of y to (n_samples, ), for example using ravel().\n",
      "  y = column_or_1d(y, warn=True)\n"
     ]
    },
    {
     "name": "stdout",
     "output_type": "stream",
     "text": [
      "[CV]  activation=logistic, hidden_layer_sizes=(10,), learning_rate_init=0.9, accuracy=0.5, precision=0.0, recall=0.0, roc_auc=0.530675176592922, total=   0.0s\n"
     ]
    },
    {
     "name": "stderr",
     "output_type": "stream",
     "text": [
      "/home/fernando.favoretti/.local/lib/python3.6/site-packages/sklearn/neural_network/multilayer_perceptron.py:912: DataConversionWarning: A column-vector y was passed when a 1d array was expected. Please change the shape of y to (n_samples, ), for example using ravel().\n",
      "  y = column_or_1d(y, warn=True)\n",
      "/home/fernando.favoretti/.local/lib/python3.6/site-packages/sklearn/neural_network/multilayer_perceptron.py:912: DataConversionWarning: A column-vector y was passed when a 1d array was expected. Please change the shape of y to (n_samples, ), for example using ravel().\n",
      "  y = column_or_1d(y, warn=True)\n"
     ]
    },
    {
     "name": "stdout",
     "output_type": "stream",
     "text": [
      "[CV] activation=logistic, hidden_layer_sizes=(25,), learning_rate_init=0.01 \n",
      "[CV]  activation=logistic, hidden_layer_sizes=(10,), learning_rate_init=0.5, accuracy=0.5299401197604791, precision=0.5301204819277109, recall=0.5269461077844312, roc_auc=0.5380974577790527, total=   0.1s\n"
     ]
    },
    {
     "name": "stderr",
     "output_type": "stream",
     "text": [
      "/home/fernando.favoretti/.local/lib/python3.6/site-packages/sklearn/neural_network/multilayer_perceptron.py:912: DataConversionWarning: A column-vector y was passed when a 1d array was expected. Please change the shape of y to (n_samples, ), for example using ravel().\n",
      "  y = column_or_1d(y, warn=True)\n"
     ]
    },
    {
     "name": "stdout",
     "output_type": "stream",
     "text": [
      "[CV]  activation=logistic, hidden_layer_sizes=(10,), learning_rate_init=0.5, accuracy=0.5449101796407185, precision=0.5641025641025641, recall=0.39520958083832336, roc_auc=0.5478504069704903, total=   0.1s\n",
      "[CV] activation=logistic, hidden_layer_sizes=(25,), learning_rate_init=0.1 \n",
      "[CV] activation=logistic, hidden_layer_sizes=(25,), learning_rate_init=0.5 \n"
     ]
    },
    {
     "name": "stderr",
     "output_type": "stream",
     "text": [
      "/home/fernando.favoretti/.local/lib/python3.6/site-packages/sklearn/neural_network/multilayer_perceptron.py:912: DataConversionWarning: A column-vector y was passed when a 1d array was expected. Please change the shape of y to (n_samples, ), for example using ravel().\n",
      "  y = column_or_1d(y, warn=True)\n"
     ]
    },
    {
     "name": "stdout",
     "output_type": "stream",
     "text": [
      "[CV] activation=logistic, hidden_layer_sizes=(25,), learning_rate_init=0.1 \n",
      "[CV]  activation=logistic, hidden_layer_sizes=(10,), learning_rate_init=0.1, accuracy=0.5089820359281437, precision=0.5109489051094891, recall=0.41916167664670656, roc_auc=0.5249381476567823, total=   0.1s\n"
     ]
    },
    {
     "name": "stderr",
     "output_type": "stream",
     "text": [
      "/home/fernando.favoretti/.local/lib/python3.6/site-packages/sklearn/neural_network/multilayer_perceptron.py:912: DataConversionWarning: A column-vector y was passed when a 1d array was expected. Please change the shape of y to (n_samples, ), for example using ravel().\n",
      "  y = column_or_1d(y, warn=True)\n"
     ]
    },
    {
     "name": "stdout",
     "output_type": "stream",
     "text": [
      "[CV] activation=logistic, hidden_layer_sizes=(25,), learning_rate_init=0.1 \n",
      "[CV] activation=logistic, hidden_layer_sizes=(25,), learning_rate_init=0.5 \n"
     ]
    },
    {
     "name": "stderr",
     "output_type": "stream",
     "text": [
      "/home/fernando.favoretti/.local/lib/python3.6/site-packages/sklearn/metrics/classification.py:1135: UndefinedMetricWarning: Precision is ill-defined and being set to 0.0 due to no predicted samples.\n",
      "  'precision', 'predicted', average, warn_for)\n",
      "/home/fernando.favoretti/.local/lib/python3.6/site-packages/sklearn/neural_network/multilayer_perceptron.py:912: DataConversionWarning: A column-vector y was passed when a 1d array was expected. Please change the shape of y to (n_samples, ), for example using ravel().\n",
      "  y = column_or_1d(y, warn=True)\n",
      "/home/fernando.favoretti/.local/lib/python3.6/site-packages/sklearn/neural_network/multilayer_perceptron.py:912: DataConversionWarning: A column-vector y was passed when a 1d array was expected. Please change the shape of y to (n_samples, ), for example using ravel().\n",
      "  y = column_or_1d(y, warn=True)\n"
     ]
    },
    {
     "name": "stdout",
     "output_type": "stream",
     "text": [
      "[CV]  activation=logistic, hidden_layer_sizes=(10,), learning_rate_init=0.1, accuracy=0.5299401197604791, precision=0.5409836065573771, recall=0.39520958083832336, roc_auc=0.5253325683961418, total=   0.1s\n"
     ]
    },
    {
     "name": "stderr",
     "output_type": "stream",
     "text": [
      "/home/fernando.favoretti/.local/lib/python3.6/site-packages/sklearn/neural_network/multilayer_perceptron.py:912: DataConversionWarning: A column-vector y was passed when a 1d array was expected. Please change the shape of y to (n_samples, ), for example using ravel().\n",
      "  y = column_or_1d(y, warn=True)\n"
     ]
    },
    {
     "name": "stdout",
     "output_type": "stream",
     "text": [
      "[CV]  activation=logistic, hidden_layer_sizes=(25,), learning_rate_init=0.01, accuracy=0.45808383233532934, precision=0.42391304347826086, recall=0.23353293413173654, roc_auc=0.4254365520456093, total=   0.0s\n",
      "[CV] activation=logistic, hidden_layer_sizes=(25,), learning_rate_init=0.5 \n",
      "[CV]  activation=logistic, hidden_layer_sizes=(10,), learning_rate_init=0.9, accuracy=0.5, precision=0.0, recall=0.0, roc_auc=0.5099433880098708, total=   0.1s\n",
      "[CV]  activation=logistic, hidden_layer_sizes=(25,), learning_rate_init=0.001, accuracy=0.5301204819277109, precision=0.5171232876712328, recall=0.9096385542168675, roc_auc=0.5614022354478153, total=   0.1s\n"
     ]
    },
    {
     "name": "stderr",
     "output_type": "stream",
     "text": [
      "/home/fernando.favoretti/.local/lib/python3.6/site-packages/sklearn/neural_network/multilayer_perceptron.py:912: DataConversionWarning: A column-vector y was passed when a 1d array was expected. Please change the shape of y to (n_samples, ), for example using ravel().\n",
      "  y = column_or_1d(y, warn=True)\n"
     ]
    },
    {
     "name": "stdout",
     "output_type": "stream",
     "text": [
      "[CV] activation=logistic, hidden_layer_sizes=(25,), learning_rate_init=0.9 \n",
      "[CV] activation=logistic, hidden_layer_sizes=(25,), learning_rate_init=0.9 \n",
      "[CV] activation=logistic, hidden_layer_sizes=(25,), learning_rate_init=0.9 \n"
     ]
    },
    {
     "name": "stderr",
     "output_type": "stream",
     "text": [
      "/home/fernando.favoretti/.local/lib/python3.6/site-packages/sklearn/neural_network/multilayer_perceptron.py:912: DataConversionWarning: A column-vector y was passed when a 1d array was expected. Please change the shape of y to (n_samples, ), for example using ravel().\n",
      "  y = column_or_1d(y, warn=True)\n",
      "/home/fernando.favoretti/.local/lib/python3.6/site-packages/sklearn/neural_network/multilayer_perceptron.py:912: DataConversionWarning: A column-vector y was passed when a 1d array was expected. Please change the shape of y to (n_samples, ), for example using ravel().\n",
      "  y = column_or_1d(y, warn=True)\n",
      "/home/fernando.favoretti/.local/lib/python3.6/site-packages/sklearn/neural_network/multilayer_perceptron.py:912: DataConversionWarning: A column-vector y was passed when a 1d array was expected. Please change the shape of y to (n_samples, ), for example using ravel().\n",
      "  y = column_or_1d(y, warn=True)\n"
     ]
    },
    {
     "name": "stdout",
     "output_type": "stream",
     "text": [
      "[CV]  activation=logistic, hidden_layer_sizes=(25,), learning_rate_init=0.001, accuracy=0.5059880239520959, precision=0.503125, recall=0.9640718562874252, roc_auc=0.438524149306178, total=   0.2s\n",
      "[CV] activation=logistic, hidden_layer_sizes=(10, 15), learning_rate_init=0.001 \n"
     ]
    },
    {
     "name": "stderr",
     "output_type": "stream",
     "text": [
      "/home/fernando.favoretti/.local/lib/python3.6/site-packages/sklearn/neural_network/multilayer_perceptron.py:912: DataConversionWarning: A column-vector y was passed when a 1d array was expected. Please change the shape of y to (n_samples, ), for example using ravel().\n",
      "  y = column_or_1d(y, warn=True)\n"
     ]
    },
    {
     "name": "stdout",
     "output_type": "stream",
     "text": [
      "[CV]  activation=logistic, hidden_layer_sizes=(10,), learning_rate_init=0.1, accuracy=0.5210843373493976, precision=0.5170731707317073, recall=0.6385542168674698, roc_auc=0.5117941646102483, total=   0.2s\n",
      "[CV]  activation=logistic, hidden_layer_sizes=(10,), learning_rate_init=0.01, accuracy=0.46686746987951805, precision=0.44329896907216493, recall=0.25903614457831325, roc_auc=0.4801495137175207, total=   0.3s\n",
      "[CV]  activation=logistic, hidden_layer_sizes=(25,), learning_rate_init=0.01, accuracy=0.4939759036144578, precision=0.42857142857142855, recall=0.03614457831325301, roc_auc=0.45017419073885906, total=   0.1s\n",
      "[CV] activation=logistic, hidden_layer_sizes=(10, 15), learning_rate_init=0.001 \n",
      "[CV] activation=logistic, hidden_layer_sizes=(10, 15), learning_rate_init=0.001 \n",
      "[CV] activation=logistic, hidden_layer_sizes=(10, 15), learning_rate_init=0.1 \n"
     ]
    },
    {
     "name": "stderr",
     "output_type": "stream",
     "text": [
      "/home/fernando.favoretti/.local/lib/python3.6/site-packages/sklearn/neural_network/multilayer_perceptron.py:912: DataConversionWarning: A column-vector y was passed when a 1d array was expected. Please change the shape of y to (n_samples, ), for example using ravel().\n",
      "  y = column_or_1d(y, warn=True)\n",
      "/home/fernando.favoretti/.local/lib/python3.6/site-packages/sklearn/neural_network/multilayer_perceptron.py:912: DataConversionWarning: A column-vector y was passed when a 1d array was expected. Please change the shape of y to (n_samples, ), for example using ravel().\n",
      "  y = column_or_1d(y, warn=True)\n",
      "/home/fernando.favoretti/.local/lib/python3.6/site-packages/sklearn/neural_network/multilayer_perceptron.py:912: DataConversionWarning: A column-vector y was passed when a 1d array was expected. Please change the shape of y to (n_samples, ), for example using ravel().\n",
      "  y = column_or_1d(y, warn=True)\n"
     ]
    },
    {
     "name": "stdout",
     "output_type": "stream",
     "text": [
      "[CV]  activation=logistic, hidden_layer_sizes=(25,), learning_rate_init=0.9, accuracy=0.5299401197604791, precision=0.5181159420289855, recall=0.8562874251497006, roc_auc=0.5372010470077808, total=   0.1s\n",
      "[CV]  activation=logistic, hidden_layer_sizes=(25,), learning_rate_init=0.9, accuracy=0.5271084337349398, precision=0.5156794425087108, recall=0.891566265060241, roc_auc=0.5615473943968646, total=   0.1s\n",
      "[CV] activation=logistic, hidden_layer_sizes=(10, 15), learning_rate_init=0.9 \n",
      "[CV] activation=logistic, hidden_layer_sizes=(10, 15), learning_rate_init=0.5 \n"
     ]
    },
    {
     "name": "stderr",
     "output_type": "stream",
     "text": [
      "/home/fernando.favoretti/.local/lib/python3.6/site-packages/sklearn/metrics/classification.py:1135: UndefinedMetricWarning: Precision is ill-defined and being set to 0.0 due to no predicted samples.\n",
      "  'precision', 'predicted', average, warn_for)\n",
      "/home/fernando.favoretti/.local/lib/python3.6/site-packages/sklearn/neural_network/multilayer_perceptron.py:912: DataConversionWarning: A column-vector y was passed when a 1d array was expected. Please change the shape of y to (n_samples, ), for example using ravel().\n",
      "  y = column_or_1d(y, warn=True)\n",
      "/home/fernando.favoretti/.local/lib/python3.6/site-packages/sklearn/neural_network/multilayer_perceptron.py:912: DataConversionWarning: A column-vector y was passed when a 1d array was expected. Please change the shape of y to (n_samples, ), for example using ravel().\n",
      "  y = column_or_1d(y, warn=True)\n"
     ]
    },
    {
     "name": "stdout",
     "output_type": "stream",
     "text": [
      "[CV]  activation=logistic, hidden_layer_sizes=(25,), learning_rate_init=0.9, accuracy=0.5209580838323353, precision=0.5109717868338558, recall=0.9760479041916168, roc_auc=0.5663881817203915, total=   0.1s\n",
      "[CV]  activation=logistic, hidden_layer_sizes=(25,), learning_rate_init=0.5, accuracy=0.5449101796407185, precision=0.5280898876404494, recall=0.844311377245509, roc_auc=0.5602567320448922, total=   0.2s\n",
      "[CV] activation=logistic, hidden_layer_sizes=(10, 10, 10), learning_rate_init=0.01 \n",
      "[CV]  activation=logistic, hidden_layer_sizes=(25,), learning_rate_init=0.01, accuracy=0.5239520958083832, precision=0.5465116279069767, recall=0.281437125748503, roc_auc=0.5321452902578077, total=   0.3s\n",
      "[CV]  activation=logistic, hidden_layer_sizes=(10, 15), learning_rate_init=0.001, accuracy=0.5, precision=0.0, recall=0.0, roc_auc=0.491089676933558, total=   0.1s\n",
      "[CV]  activation=logistic, hidden_layer_sizes=(25,), learning_rate_init=0.001, accuracy=0.5, precision=0.5, recall=0.7964071856287425, roc_auc=0.5180178565025638, total=   0.3s\n",
      "[CV] activation=logistic, hidden_layer_sizes=(10, 10, 10), learning_rate_init=0.5 \n",
      "[CV] activation=logistic, hidden_layer_sizes=(10, 10, 10), learning_rate_init=0.1 \n"
     ]
    },
    {
     "name": "stderr",
     "output_type": "stream",
     "text": [
      "/home/fernando.favoretti/.local/lib/python3.6/site-packages/sklearn/metrics/classification.py:1135: UndefinedMetricWarning: Precision is ill-defined and being set to 0.0 due to no predicted samples.\n",
      "  'precision', 'predicted', average, warn_for)\n"
     ]
    },
    {
     "name": "stdout",
     "output_type": "stream",
     "text": [
      "[CV] activation=relu, hidden_layer_sizes=(10,), learning_rate_init=0.001 \n"
     ]
    },
    {
     "name": "stderr",
     "output_type": "stream",
     "text": [
      "/home/fernando.favoretti/.local/lib/python3.6/site-packages/sklearn/neural_network/multilayer_perceptron.py:912: DataConversionWarning: A column-vector y was passed when a 1d array was expected. Please change the shape of y to (n_samples, ), for example using ravel().\n",
      "  y = column_or_1d(y, warn=True)\n"
     ]
    },
    {
     "name": "stdout",
     "output_type": "stream",
     "text": [
      "[CV] activation=relu, hidden_layer_sizes=(10,), learning_rate_init=0.01 \n"
     ]
    },
    {
     "name": "stderr",
     "output_type": "stream",
     "text": [
      "/home/fernando.favoretti/.local/lib/python3.6/site-packages/sklearn/neural_network/multilayer_perceptron.py:912: DataConversionWarning: A column-vector y was passed when a 1d array was expected. Please change the shape of y to (n_samples, ), for example using ravel().\n",
      "  y = column_or_1d(y, warn=True)\n"
     ]
    },
    {
     "name": "stdout",
     "output_type": "stream",
     "text": [
      "[CV]  activation=logistic, hidden_layer_sizes=(10,), learning_rate_init=0.01, accuracy=0.5029940119760479, precision=0.5027932960893855, recall=0.5389221556886228, roc_auc=0.5093047438058016, total=   0.5s\n"
     ]
    },
    {
     "name": "stderr",
     "output_type": "stream",
     "text": [
      "/home/fernando.favoretti/.local/lib/python3.6/site-packages/sklearn/neural_network/multilayer_perceptron.py:912: DataConversionWarning: A column-vector y was passed when a 1d array was expected. Please change the shape of y to (n_samples, ), for example using ravel().\n",
      "  y = column_or_1d(y, warn=True)\n",
      "/home/fernando.favoretti/.local/lib/python3.6/site-packages/sklearn/neural_network/multilayer_perceptron.py:912: DataConversionWarning: A column-vector y was passed when a 1d array was expected. Please change the shape of y to (n_samples, ), for example using ravel().\n",
      "  y = column_or_1d(y, warn=True)\n"
     ]
    },
    {
     "name": "stdout",
     "output_type": "stream",
     "text": [
      "[CV]  activation=logistic, hidden_layer_sizes=(25,), learning_rate_init=0.5, accuracy=0.5090361445783133, precision=0.5098039215686274, recall=0.46987951807228917, roc_auc=0.5183263173174626, total=   0.3s\n",
      "[CV] activation=relu, hidden_layer_sizes=(10,), learning_rate_init=0.9 \n",
      "[CV] activation=relu, hidden_layer_sizes=(10,), learning_rate_init=0.1 \n"
     ]
    },
    {
     "name": "stderr",
     "output_type": "stream",
     "text": [
      "/home/fernando.favoretti/.local/lib/python3.6/site-packages/sklearn/neural_network/multilayer_perceptron.py:912: DataConversionWarning: A column-vector y was passed when a 1d array was expected. Please change the shape of y to (n_samples, ), for example using ravel().\n",
      "  y = column_or_1d(y, warn=True)\n",
      "/home/fernando.favoretti/.local/lib/python3.6/site-packages/sklearn/neural_network/multilayer_perceptron.py:912: DataConversionWarning: A column-vector y was passed when a 1d array was expected. Please change the shape of y to (n_samples, ), for example using ravel().\n",
      "  y = column_or_1d(y, warn=True)\n",
      "/home/fernando.favoretti/.local/lib/python3.6/site-packages/sklearn/neural_network/multilayer_perceptron.py:912: DataConversionWarning: A column-vector y was passed when a 1d array was expected. Please change the shape of y to (n_samples, ), for example using ravel().\n",
      "  y = column_or_1d(y, warn=True)\n"
     ]
    },
    {
     "name": "stdout",
     "output_type": "stream",
     "text": [
      "[CV]  activation=logistic, hidden_layer_sizes=(25,), learning_rate_init=0.1, accuracy=0.4789156626506024, precision=0.4426229508196721, recall=0.16265060240963855, roc_auc=0.5035563942517056, total=   0.4s\n",
      "[CV]  activation=logistic, hidden_layer_sizes=(10, 15), learning_rate_init=0.1, accuracy=0.5, precision=0.5, recall=1.0, roc_auc=0.5066872243536877, total=   0.2s\n",
      "[CV]  activation=logistic, hidden_layer_sizes=(25,), learning_rate_init=0.5, accuracy=0.5359281437125748, precision=0.525, recall=0.7544910179640718, roc_auc=0.554089425938542, total=   0.4s\n",
      "[CV] activation=relu, hidden_layer_sizes=(25,), learning_rate_init=0.01 \n",
      "[CV] activation=relu, hidden_layer_sizes=(25,), learning_rate_init=0.001 \n"
     ]
    },
    {
     "name": "stderr",
     "output_type": "stream",
     "text": [
      "/home/fernando.favoretti/.local/lib/python3.6/site-packages/sklearn/neural_network/multilayer_perceptron.py:912: DataConversionWarning: A column-vector y was passed when a 1d array was expected. Please change the shape of y to (n_samples, ), for example using ravel().\n",
      "  y = column_or_1d(y, warn=True)\n"
     ]
    },
    {
     "name": "stdout",
     "output_type": "stream",
     "text": [
      "[CV]  activation=relu, hidden_layer_sizes=(10,), learning_rate_init=0.9, accuracy=0.5, precision=0.5, recall=1.0, roc_auc=0.5, total=   0.0s\n"
     ]
    },
    {
     "name": "stderr",
     "output_type": "stream",
     "text": [
      "/home/fernando.favoretti/.local/lib/python3.6/site-packages/sklearn/neural_network/multilayer_perceptron.py:912: DataConversionWarning: A column-vector y was passed when a 1d array was expected. Please change the shape of y to (n_samples, ), for example using ravel().\n",
      "  y = column_or_1d(y, warn=True)\n"
     ]
    },
    {
     "name": "stdout",
     "output_type": "stream",
     "text": [
      "[CV]  activation=logistic, hidden_layer_sizes=(25,), learning_rate_init=0.1, accuracy=0.5119760479041916, precision=0.5212765957446809, recall=0.2934131736526946, roc_auc=0.5281652264333608, total=   0.4s\n",
      "[CV] activation=relu, hidden_layer_sizes=(10,), learning_rate_init=0.9 \n",
      "[CV] activation=relu, hidden_layer_sizes=(25,), learning_rate_init=0.5 \n"
     ]
    },
    {
     "name": "stderr",
     "output_type": "stream",
     "text": [
      "/home/fernando.favoretti/.local/lib/python3.6/site-packages/sklearn/neural_network/multilayer_perceptron.py:912: DataConversionWarning: A column-vector y was passed when a 1d array was expected. Please change the shape of y to (n_samples, ), for example using ravel().\n",
      "  y = column_or_1d(y, warn=True)\n",
      "/home/fernando.favoretti/.local/lib/python3.6/site-packages/sklearn/neural_network/multilayer_perceptron.py:912: DataConversionWarning: A column-vector y was passed when a 1d array was expected. Please change the shape of y to (n_samples, ), for example using ravel().\n",
      "  y = column_or_1d(y, warn=True)\n"
     ]
    },
    {
     "name": "stdout",
     "output_type": "stream",
     "text": [
      "[CV]  activation=logistic, hidden_layer_sizes=(10, 15), learning_rate_init=0.9, accuracy=0.5, precision=0.0, recall=0.0, roc_auc=0.5384308317607781, total=   0.1s\n"
     ]
    },
    {
     "name": "stderr",
     "output_type": "stream",
     "text": [
      "/home/fernando.favoretti/.local/lib/python3.6/site-packages/sklearn/metrics/classification.py:1135: UndefinedMetricWarning: Precision is ill-defined and being set to 0.0 due to no predicted samples.\n",
      "  'precision', 'predicted', average, warn_for)\n"
     ]
    },
    {
     "name": "stdout",
     "output_type": "stream",
     "text": [
      "[CV] activation=logistic, hidden_layer_sizes=(10, 10, 10), learning_rate_init=0.001 \n"
     ]
    },
    {
     "name": "stderr",
     "output_type": "stream",
     "text": [
      "/home/fernando.favoretti/.local/lib/python3.6/site-packages/sklearn/metrics/classification.py:1135: UndefinedMetricWarning: Precision is ill-defined and being set to 0.0 due to no predicted samples.\n",
      "  'precision', 'predicted', average, warn_for)\n",
      "/home/fernando.favoretti/.local/lib/python3.6/site-packages/sklearn/neural_network/multilayer_perceptron.py:912: DataConversionWarning: A column-vector y was passed when a 1d array was expected. Please change the shape of y to (n_samples, ), for example using ravel().\n",
      "  y = column_or_1d(y, warn=True)\n"
     ]
    },
    {
     "name": "stdout",
     "output_type": "stream",
     "text": [
      "[CV]  activation=logistic, hidden_layer_sizes=(10, 10, 10), learning_rate_init=0.5, accuracy=0.5, precision=0.0, recall=0.0, roc_auc=0.4239730004354768, total=   0.1s\n",
      "[CV] activation=logistic, hidden_layer_sizes=(10, 15), learning_rate_init=0.1 \n"
     ]
    },
    {
     "name": "stderr",
     "output_type": "stream",
     "text": [
      "/home/fernando.favoretti/.local/lib/python3.6/site-packages/sklearn/metrics/classification.py:1135: UndefinedMetricWarning: Precision is ill-defined and being set to 0.0 due to no predicted samples.\n",
      "  'precision', 'predicted', average, warn_for)\n"
     ]
    },
    {
     "name": "stdout",
     "output_type": "stream",
     "text": [
      "[CV] activation=logistic, hidden_layer_sizes=(10, 10, 10), learning_rate_init=0.9 \n"
     ]
    },
    {
     "name": "stderr",
     "output_type": "stream",
     "text": [
      "/home/fernando.favoretti/.local/lib/python3.6/site-packages/sklearn/neural_network/multilayer_perceptron.py:912: DataConversionWarning: A column-vector y was passed when a 1d array was expected. Please change the shape of y to (n_samples, ), for example using ravel().\n",
      "  y = column_or_1d(y, warn=True)\n",
      "/home/fernando.favoretti/.local/lib/python3.6/site-packages/sklearn/neural_network/multilayer_perceptron.py:912: DataConversionWarning: A column-vector y was passed when a 1d array was expected. Please change the shape of y to (n_samples, ), for example using ravel().\n",
      "  y = column_or_1d(y, warn=True)\n"
     ]
    },
    {
     "name": "stdout",
     "output_type": "stream",
     "text": [
      "[CV]  activation=logistic, hidden_layer_sizes=(10, 10, 10), learning_rate_init=0.01, accuracy=0.5, precision=0.0, recall=0.0, roc_auc=0.4244325719817849, total=   0.3s\n",
      "[CV] activation=logistic, hidden_layer_sizes=(10, 10, 10), learning_rate_init=0.01 \n"
     ]
    },
    {
     "name": "stderr",
     "output_type": "stream",
     "text": [
      "/home/fernando.favoretti/.local/lib/python3.6/site-packages/sklearn/neural_network/multilayer_perceptron.py:912: DataConversionWarning: A column-vector y was passed when a 1d array was expected. Please change the shape of y to (n_samples, ), for example using ravel().\n",
      "  y = column_or_1d(y, warn=True)\n"
     ]
    },
    {
     "name": "stdout",
     "output_type": "stream",
     "text": [
      "[CV]  activation=logistic, hidden_layer_sizes=(10, 10, 10), learning_rate_init=0.1, accuracy=0.5, precision=0.5, recall=1.0, roc_auc=0.4788984904442612, total=   0.2s\n",
      "[CV]  activation=logistic, hidden_layer_sizes=(10, 15), learning_rate_init=0.001, accuracy=0.5, precision=0.0, recall=0.0, roc_auc=0.5571200464508637, total=   0.4s\n",
      "[CV]  activation=logistic, hidden_layer_sizes=(25,), learning_rate_init=0.1, accuracy=0.5419161676646707, precision=0.535, recall=0.6407185628742516, roc_auc=0.5279859442791064, total=   0.6s\n",
      "[CV] activation=relu, hidden_layer_sizes=(25,), learning_rate_init=0.9 \n",
      "[CV] activation=logistic, hidden_layer_sizes=(10, 10, 10), learning_rate_init=0.1 \n"
     ]
    },
    {
     "name": "stderr",
     "output_type": "stream",
     "text": [
      "/home/fernando.favoretti/.local/lib/python3.6/site-packages/sklearn/neural_network/multilayer_perceptron.py:912: DataConversionWarning: A column-vector y was passed when a 1d array was expected. Please change the shape of y to (n_samples, ), for example using ravel().\n",
      "  y = column_or_1d(y, warn=True)\n",
      "/home/fernando.favoretti/.local/lib/python3.6/site-packages/sklearn/neural_network/multilayer_perceptron.py:912: DataConversionWarning: A column-vector y was passed when a 1d array was expected. Please change the shape of y to (n_samples, ), for example using ravel().\n",
      "  y = column_or_1d(y, warn=True)\n"
     ]
    },
    {
     "name": "stdout",
     "output_type": "stream",
     "text": [
      "[CV] activation=logistic, hidden_layer_sizes=(10, 15), learning_rate_init=0.01 \n"
     ]
    },
    {
     "name": "stderr",
     "output_type": "stream",
     "text": [
      "/home/fernando.favoretti/.local/lib/python3.6/site-packages/sklearn/neural_network/multilayer_perceptron.py:912: DataConversionWarning: A column-vector y was passed when a 1d array was expected. Please change the shape of y to (n_samples, ), for example using ravel().\n",
      "  y = column_or_1d(y, warn=True)\n"
     ]
    },
    {
     "name": "stdout",
     "output_type": "stream",
     "text": [
      "[CV]  activation=relu, hidden_layer_sizes=(10,), learning_rate_init=0.1, accuracy=0.4939759036144578, precision=0.48484848484848486, recall=0.1927710843373494, roc_auc=0.5157134562345769, total=   0.2s\n",
      "[CV]  activation=logistic, hidden_layer_sizes=(10, 15), learning_rate_init=0.001, accuracy=0.5, precision=0.5, recall=1.0, roc_auc=0.5199541037685109, total=   0.5s\n",
      "[CV] activation=relu, hidden_layer_sizes=(10,), learning_rate_init=0.5 \n",
      "[CV] activation=relu, hidden_layer_sizes=(10, 15), learning_rate_init=0.001 \n",
      "[CV]  activation=logistic, hidden_layer_sizes=(10, 10, 10), learning_rate_init=0.001, accuracy=0.5, precision=0.5, recall=1.0, roc_auc=0.49930079959840795, total=   0.1s\n"
     ]
    },
    {
     "name": "stderr",
     "output_type": "stream",
     "text": [
      "/home/fernando.favoretti/.local/lib/python3.6/site-packages/sklearn/neural_network/multilayer_perceptron.py:912: DataConversionWarning: A column-vector y was passed when a 1d array was expected. Please change the shape of y to (n_samples, ), for example using ravel().\n",
      "  y = column_or_1d(y, warn=True)\n"
     ]
    },
    {
     "name": "stdout",
     "output_type": "stream",
     "text": [
      "[CV]  activation=relu, hidden_layer_sizes=(10,), learning_rate_init=0.9, accuracy=0.5, precision=0.5, recall=1.0, roc_auc=0.5, total=   0.1s\n",
      "[CV] activation=logistic, hidden_layer_sizes=(10, 10, 10), learning_rate_init=0.001 \n",
      "[CV] activation=relu, hidden_layer_sizes=(10,), learning_rate_init=0.9 \n",
      "[CV]  activation=logistic, hidden_layer_sizes=(10, 15), learning_rate_init=0.5, accuracy=0.5, precision=0.5, recall=1.0, roc_auc=0.5242210190397648, total=   0.2s\n",
      "[CV]  activation=relu, hidden_layer_sizes=(25,), learning_rate_init=0.5, accuracy=0.5, precision=0.5, recall=1.0, roc_auc=0.5031374376994513, total=   0.1s\n",
      "[CV] activation=relu, hidden_layer_sizes=(25,), learning_rate_init=0.5 \n"
     ]
    },
    {
     "name": "stderr",
     "output_type": "stream",
     "text": [
      "/home/fernando.favoretti/.local/lib/python3.6/site-packages/sklearn/neural_network/multilayer_perceptron.py:912: DataConversionWarning: A column-vector y was passed when a 1d array was expected. Please change the shape of y to (n_samples, ), for example using ravel().\n",
      "  y = column_or_1d(y, warn=True)\n"
     ]
    },
    {
     "name": "stdout",
     "output_type": "stream",
     "text": [
      "[CV] activation=logistic, hidden_layer_sizes=(10, 15), learning_rate_init=0.5 \n"
     ]
    },
    {
     "name": "stderr",
     "output_type": "stream",
     "text": [
      "/home/fernando.favoretti/.local/lib/python3.6/site-packages/sklearn/neural_network/multilayer_perceptron.py:912: DataConversionWarning: A column-vector y was passed when a 1d array was expected. Please change the shape of y to (n_samples, ), for example using ravel().\n",
      "  y = column_or_1d(y, warn=True)\n",
      "/home/fernando.favoretti/.local/lib/python3.6/site-packages/sklearn/neural_network/multilayer_perceptron.py:912: DataConversionWarning: A column-vector y was passed when a 1d array was expected. Please change the shape of y to (n_samples, ), for example using ravel().\n",
      "  y = column_or_1d(y, warn=True)\n",
      "/home/fernando.favoretti/.local/lib/python3.6/site-packages/sklearn/neural_network/multilayer_perceptron.py:912: DataConversionWarning: A column-vector y was passed when a 1d array was expected. Please change the shape of y to (n_samples, ), for example using ravel().\n",
      "  y = column_or_1d(y, warn=True)\n",
      "/home/fernando.favoretti/.local/lib/python3.6/site-packages/sklearn/metrics/classification.py:1135: UndefinedMetricWarning: Precision is ill-defined and being set to 0.0 due to no predicted samples.\n",
      "  'precision', 'predicted', average, warn_for)\n",
      "/home/fernando.favoretti/.local/lib/python3.6/site-packages/sklearn/neural_network/multilayer_perceptron.py:912: DataConversionWarning: A column-vector y was passed when a 1d array was expected. Please change the shape of y to (n_samples, ), for example using ravel().\n",
      "  y = column_or_1d(y, warn=True)\n"
     ]
    },
    {
     "name": "stdout",
     "output_type": "stream",
     "text": [
      "[CV]  activation=logistic, hidden_layer_sizes=(10, 15), learning_rate_init=0.1, accuracy=0.5, precision=0.5, recall=1.0, roc_auc=0.5014521854494602, total=   0.0s\n"
     ]
    },
    {
     "name": "stderr",
     "output_type": "stream",
     "text": [
      "/home/fernando.favoretti/.local/lib/python3.6/site-packages/sklearn/metrics/classification.py:1135: UndefinedMetricWarning: Precision is ill-defined and being set to 0.0 due to no predicted samples.\n",
      "  'precision', 'predicted', average, warn_for)\n"
     ]
    },
    {
     "name": "stdout",
     "output_type": "stream",
     "text": [
      "[CV] activation=logistic, hidden_layer_sizes=(10, 15), learning_rate_init=0.1 \n",
      "[CV]  activation=relu, hidden_layer_sizes=(10,), learning_rate_init=0.5, accuracy=0.5, precision=0.0, recall=0.0, roc_auc=0.5119760479041916, total=   0.1s\n",
      "[CV]  activation=logistic, hidden_layer_sizes=(10, 10, 10), learning_rate_init=0.01, accuracy=0.5, precision=0.5, recall=1.0, roc_auc=0.47183477356663917, total=   0.2s\n",
      "[CV] activation=logistic, hidden_layer_sizes=(10, 10, 10), learning_rate_init=0.01 \n",
      "[CV]  activation=relu, hidden_layer_sizes=(10,), learning_rate_init=0.9, accuracy=0.49698795180722893, precision=0.49848024316109424, recall=0.9879518072289156, roc_auc=0.49691537233270433, total=   0.1s\n"
     ]
    },
    {
     "name": "stderr",
     "output_type": "stream",
     "text": [
      "/home/fernando.favoretti/.local/lib/python3.6/site-packages/sklearn/neural_network/multilayer_perceptron.py:912: DataConversionWarning: A column-vector y was passed when a 1d array was expected. Please change the shape of y to (n_samples, ), for example using ravel().\n",
      "  y = column_or_1d(y, warn=True)\n"
     ]
    },
    {
     "name": "stdout",
     "output_type": "stream",
     "text": [
      "[CV] activation=relu, hidden_layer_sizes=(25,), learning_rate_init=0.001 \n",
      "[CV]  activation=logistic, hidden_layer_sizes=(10, 15), learning_rate_init=0.01, accuracy=0.5149700598802395, precision=0.5082508250825083, recall=0.9221556886227545, roc_auc=0.5362329233748073, total=   0.1s\n",
      "[CV]  activation=relu, hidden_layer_sizes=(25,), learning_rate_init=0.9, accuracy=0.5, precision=0.0, recall=0.0, roc_auc=0.5221413460504141, total=   0.1s\n"
     ]
    },
    {
     "name": "stderr",
     "output_type": "stream",
     "text": [
      "/home/fernando.favoretti/.local/lib/python3.6/site-packages/sklearn/neural_network/multilayer_perceptron.py:912: DataConversionWarning: A column-vector y was passed when a 1d array was expected. Please change the shape of y to (n_samples, ), for example using ravel().\n",
      "  y = column_or_1d(y, warn=True)\n"
     ]
    },
    {
     "name": "stdout",
     "output_type": "stream",
     "text": [
      "[CV] activation=relu, hidden_layer_sizes=(25,), learning_rate_init=0.9 \n",
      "[CV] activation=logistic, hidden_layer_sizes=(10, 15), learning_rate_init=0.01 \n",
      "[CV]  activation=logistic, hidden_layer_sizes=(10, 10, 10), learning_rate_init=0.9, accuracy=0.5, precision=0.5, recall=1.0, roc_auc=0.5529420201513142, total=   0.2s\n"
     ]
    },
    {
     "name": "stderr",
     "output_type": "stream",
     "text": [
      "/home/fernando.favoretti/.local/lib/python3.6/site-packages/sklearn/neural_network/multilayer_perceptron.py:912: DataConversionWarning: A column-vector y was passed when a 1d array was expected. Please change the shape of y to (n_samples, ), for example using ravel().\n",
      "  y = column_or_1d(y, warn=True)\n",
      "/home/fernando.favoretti/.local/lib/python3.6/site-packages/sklearn/neural_network/multilayer_perceptron.py:912: DataConversionWarning: A column-vector y was passed when a 1d array was expected. Please change the shape of y to (n_samples, ), for example using ravel().\n",
      "  y = column_or_1d(y, warn=True)\n",
      "/home/fernando.favoretti/.local/lib/python3.6/site-packages/sklearn/neural_network/multilayer_perceptron.py:912: DataConversionWarning: A column-vector y was passed when a 1d array was expected. Please change the shape of y to (n_samples, ), for example using ravel().\n",
      "  y = column_or_1d(y, warn=True)\n"
     ]
    },
    {
     "name": "stdout",
     "output_type": "stream",
     "text": [
      "[CV] activation=relu, hidden_layer_sizes=(10,), learning_rate_init=0.5 \n"
     ]
    },
    {
     "name": "stderr",
     "output_type": "stream",
     "text": [
      "/home/fernando.favoretti/.local/lib/python3.6/site-packages/sklearn/neural_network/multilayer_perceptron.py:912: DataConversionWarning: A column-vector y was passed when a 1d array was expected. Please change the shape of y to (n_samples, ), for example using ravel().\n",
      "  y = column_or_1d(y, warn=True)\n"
     ]
    },
    {
     "name": "stdout",
     "output_type": "stream",
     "text": [
      "[CV] activation=logistic, hidden_layer_sizes=(10, 10, 10), learning_rate_init=0.9 \n",
      "[CV]  activation=logistic, hidden_layer_sizes=(10, 10, 10), learning_rate_init=0.1, accuracy=0.5, precision=0.5, recall=1.0, roc_auc=0.3967556974887502, total=   0.2s\n"
     ]
    },
    {
     "name": "stderr",
     "output_type": "stream",
     "text": [
      "/home/fernando.favoretti/.local/lib/python3.6/site-packages/sklearn/neural_network/multilayer_perceptron.py:912: DataConversionWarning: A column-vector y was passed when a 1d array was expected. Please change the shape of y to (n_samples, ), for example using ravel().\n",
      "  y = column_or_1d(y, warn=True)\n"
     ]
    },
    {
     "name": "stdout",
     "output_type": "stream",
     "text": [
      "[CV] activation=logistic, hidden_layer_sizes=(10, 10, 10), learning_rate_init=0.5 \n"
     ]
    },
    {
     "name": "stderr",
     "output_type": "stream",
     "text": [
      "/home/fernando.favoretti/.local/lib/python3.6/site-packages/sklearn/neural_network/multilayer_perceptron.py:912: DataConversionWarning: A column-vector y was passed when a 1d array was expected. Please change the shape of y to (n_samples, ), for example using ravel().\n",
      "  y = column_or_1d(y, warn=True)\n"
     ]
    },
    {
     "name": "stdout",
     "output_type": "stream",
     "text": [
      "[CV]  activation=relu, hidden_layer_sizes=(25,), learning_rate_init=0.5, accuracy=0.5029940119760479, precision=1.0, recall=0.005988023952095809, roc_auc=0.5019541754813726, total=   0.1s\n"
     ]
    },
    {
     "name": "stderr",
     "output_type": "stream",
     "text": [
      "/home/fernando.favoretti/.local/lib/python3.6/site-packages/sklearn/metrics/classification.py:1135: UndefinedMetricWarning: Precision is ill-defined and being set to 0.0 due to no predicted samples.\n",
      "  'precision', 'predicted', average, warn_for)\n"
     ]
    },
    {
     "name": "stdout",
     "output_type": "stream",
     "text": [
      "[CV] activation=relu, hidden_layer_sizes=(25,), learning_rate_init=0.5 \n"
     ]
    },
    {
     "name": "stderr",
     "output_type": "stream",
     "text": [
      "/home/fernando.favoretti/.local/lib/python3.6/site-packages/sklearn/neural_network/multilayer_perceptron.py:912: DataConversionWarning: A column-vector y was passed when a 1d array was expected. Please change the shape of y to (n_samples, ), for example using ravel().\n",
      "  y = column_or_1d(y, warn=True)\n",
      "/home/fernando.favoretti/.local/lib/python3.6/site-packages/sklearn/metrics/classification.py:1135: UndefinedMetricWarning: Precision is ill-defined and being set to 0.0 due to no predicted samples.\n",
      "  'precision', 'predicted', average, warn_for)\n"
     ]
    },
    {
     "name": "stdout",
     "output_type": "stream",
     "text": [
      "[CV]  activation=relu, hidden_layer_sizes=(10,), learning_rate_init=0.5, accuracy=0.5, precision=0.5, recall=1.0, roc_auc=0.5089103230664419, total=   0.1s\n",
      "[CV]  activation=relu, hidden_layer_sizes=(25,), learning_rate_init=0.9, accuracy=0.5, precision=0.0, recall=0.0, roc_auc=0.49698795180722893, total=   0.1s\n",
      "[CV] activation=relu, hidden_layer_sizes=(10,), learning_rate_init=0.5 \n"
     ]
    },
    {
     "name": "stderr",
     "output_type": "stream",
     "text": [
      "/home/fernando.favoretti/.local/lib/python3.6/site-packages/sklearn/metrics/classification.py:1135: UndefinedMetricWarning: Precision is ill-defined and being set to 0.0 due to no predicted samples.\n",
      "  'precision', 'predicted', average, warn_for)\n",
      "/home/fernando.favoretti/.local/lib/python3.6/site-packages/sklearn/metrics/classification.py:1135: UndefinedMetricWarning: Precision is ill-defined and being set to 0.0 due to no predicted samples.\n",
      "  'precision', 'predicted', average, warn_for)\n"
     ]
    },
    {
     "name": "stdout",
     "output_type": "stream",
     "text": [
      "[CV]  activation=logistic, hidden_layer_sizes=(10, 15), learning_rate_init=0.5, accuracy=0.5, precision=0.5, recall=1.0, roc_auc=0.5415880389025983, total=   0.3s\n",
      "[CV] activation=logistic, hidden_layer_sizes=(10, 15), learning_rate_init=0.9 \n"
     ]
    },
    {
     "name": "stderr",
     "output_type": "stream",
     "text": [
      "/home/fernando.favoretti/.local/lib/python3.6/site-packages/sklearn/neural_network/multilayer_perceptron.py:912: DataConversionWarning: A column-vector y was passed when a 1d array was expected. Please change the shape of y to (n_samples, ), for example using ravel().\n",
      "  y = column_or_1d(y, warn=True)\n",
      "/home/fernando.favoretti/.local/lib/python3.6/site-packages/sklearn/neural_network/multilayer_perceptron.py:912: DataConversionWarning: A column-vector y was passed when a 1d array was expected. Please change the shape of y to (n_samples, ), for example using ravel().\n",
      "  y = column_or_1d(y, warn=True)\n"
     ]
    },
    {
     "name": "stdout",
     "output_type": "stream",
     "text": [
      "[CV] activation=relu, hidden_layer_sizes=(10, 15), learning_rate_init=0.001 \n"
     ]
    },
    {
     "name": "stderr",
     "output_type": "stream",
     "text": [
      "/home/fernando.favoretti/.local/lib/python3.6/site-packages/sklearn/neural_network/multilayer_perceptron.py:912: DataConversionWarning: A column-vector y was passed when a 1d array was expected. Please change the shape of y to (n_samples, ), for example using ravel().\n",
      "  y = column_or_1d(y, warn=True)\n"
     ]
    },
    {
     "name": "stdout",
     "output_type": "stream",
     "text": [
      "[CV]  activation=relu, hidden_layer_sizes=(10,), learning_rate_init=0.001, accuracy=0.5089820359281437, precision=0.5072463768115942, recall=0.6287425149700598, roc_auc=0.5176234357632041, total=   0.7s\n",
      "[CV]  activation=logistic, hidden_layer_sizes=(10, 10, 10), learning_rate_init=0.01, accuracy=0.5, precision=0.0, recall=0.0, roc_auc=0.39766294092030774, total=   0.2s\n",
      "[CV] activation=relu, hidden_layer_sizes=(10,), learning_rate_init=0.001 \n"
     ]
    },
    {
     "name": "stderr",
     "output_type": "stream",
     "text": [
      "/home/fernando.favoretti/.local/lib/python3.6/site-packages/sklearn/neural_network/multilayer_perceptron.py:912: DataConversionWarning: A column-vector y was passed when a 1d array was expected. Please change the shape of y to (n_samples, ), for example using ravel().\n",
      "  y = column_or_1d(y, warn=True)\n"
     ]
    },
    {
     "name": "stdout",
     "output_type": "stream",
     "text": [
      "[CV] activation=logistic, hidden_layer_sizes=(10, 10, 10), learning_rate_init=0.1 \n",
      "[CV]  activation=logistic, hidden_layer_sizes=(10, 10, 10), learning_rate_init=0.9, accuracy=0.5, precision=0.5, recall=1.0, roc_auc=0.4570977804869303, total=   0.1s\n",
      "[CV]  activation=logistic, hidden_layer_sizes=(10, 10, 10), learning_rate_init=0.5, accuracy=0.5, precision=0.0, recall=0.0, roc_auc=0.5461651547204991, total=   0.1s\n",
      "[CV] activation=logistic, hidden_layer_sizes=(10, 10, 10), learning_rate_init=0.5 \n"
     ]
    },
    {
     "name": "stderr",
     "output_type": "stream",
     "text": [
      "/home/fernando.favoretti/.local/lib/python3.6/site-packages/sklearn/metrics/classification.py:1135: UndefinedMetricWarning: Precision is ill-defined and being set to 0.0 due to no predicted samples.\n",
      "  'precision', 'predicted', average, warn_for)\n"
     ]
    },
    {
     "name": "stdout",
     "output_type": "stream",
     "text": [
      "[CV]  activation=relu, hidden_layer_sizes=(10,), learning_rate_init=0.5, accuracy=0.5, precision=0.5, recall=1.0, roc_auc=0.5, total=   0.1s\n",
      "[CV] activation=relu, hidden_layer_sizes=(10, 15), learning_rate_init=0.1 \n",
      "[CV]  activation=logistic, hidden_layer_sizes=(10, 15), learning_rate_init=0.01, accuracy=0.5, precision=0.0, recall=0.0, roc_auc=0.47986661407723474, total=   0.2s\n"
     ]
    },
    {
     "name": "stderr",
     "output_type": "stream",
     "text": [
      "/home/fernando.favoretti/.local/lib/python3.6/site-packages/sklearn/neural_network/multilayer_perceptron.py:912: DataConversionWarning: A column-vector y was passed when a 1d array was expected. Please change the shape of y to (n_samples, ), for example using ravel().\n",
      "  y = column_or_1d(y, warn=True)\n",
      "/home/fernando.favoretti/.local/lib/python3.6/site-packages/sklearn/neural_network/multilayer_perceptron.py:912: DataConversionWarning: A column-vector y was passed when a 1d array was expected. Please change the shape of y to (n_samples, ), for example using ravel().\n",
      "  y = column_or_1d(y, warn=True)\n"
     ]
    },
    {
     "name": "stdout",
     "output_type": "stream",
     "text": [
      "[CV] activation=logistic, hidden_layer_sizes=(10, 10, 10), learning_rate_init=0.9 \n"
     ]
    },
    {
     "name": "stderr",
     "output_type": "stream",
     "text": [
      "/home/fernando.favoretti/.local/lib/python3.6/site-packages/sklearn/neural_network/multilayer_perceptron.py:912: DataConversionWarning: A column-vector y was passed when a 1d array was expected. Please change the shape of y to (n_samples, ), for example using ravel().\n",
      "  y = column_or_1d(y, warn=True)\n",
      "/home/fernando.favoretti/.local/lib/python3.6/site-packages/sklearn/neural_network/multilayer_perceptron.py:912: DataConversionWarning: A column-vector y was passed when a 1d array was expected. Please change the shape of y to (n_samples, ), for example using ravel().\n",
      "  y = column_or_1d(y, warn=True)\n"
     ]
    },
    {
     "name": "stdout",
     "output_type": "stream",
     "text": [
      "[CV] activation=logistic, hidden_layer_sizes=(10, 15), learning_rate_init=0.01 \n",
      "[CV]  activation=logistic, hidden_layer_sizes=(10, 10, 10), learning_rate_init=0.001, accuracy=0.5, precision=0.0, recall=0.0, roc_auc=0.4814084406038223, total=   0.4s\n",
      "[CV] activation=logistic, hidden_layer_sizes=(10, 10, 10), learning_rate_init=0.001 \n"
     ]
    },
    {
     "name": "stderr",
     "output_type": "stream",
     "text": [
      "/home/fernando.favoretti/.local/lib/python3.6/site-packages/sklearn/neural_network/multilayer_perceptron.py:912: DataConversionWarning: A column-vector y was passed when a 1d array was expected. Please change the shape of y to (n_samples, ), for example using ravel().\n",
      "  y = column_or_1d(y, warn=True)\n",
      "/home/fernando.favoretti/.local/lib/python3.6/site-packages/sklearn/metrics/classification.py:1135: UndefinedMetricWarning: Precision is ill-defined and being set to 0.0 due to no predicted samples.\n",
      "  'precision', 'predicted', average, warn_for)\n"
     ]
    },
    {
     "name": "stdout",
     "output_type": "stream",
     "text": [
      "[CV]  activation=logistic, hidden_layer_sizes=(10, 15), learning_rate_init=0.1, accuracy=0.5481927710843374, precision=0.5408163265306123, recall=0.6385542168674698, roc_auc=0.5463782842212223, total=   0.2s\n",
      "[CV]  activation=logistic, hidden_layer_sizes=(10, 15), learning_rate_init=0.9, accuracy=0.5, precision=0.5, recall=1.0, roc_auc=0.5666033203054968, total=   0.1s\n",
      "[CV] activation=logistic, hidden_layer_sizes=(10, 15), learning_rate_init=0.9 \n"
     ]
    },
    {
     "name": "stderr",
     "output_type": "stream",
     "text": [
      "/home/fernando.favoretti/.local/lib/python3.6/site-packages/sklearn/neural_network/multilayer_perceptron.py:912: DataConversionWarning: A column-vector y was passed when a 1d array was expected. Please change the shape of y to (n_samples, ), for example using ravel().\n",
      "  y = column_or_1d(y, warn=True)\n"
     ]
    },
    {
     "name": "stdout",
     "output_type": "stream",
     "text": [
      "[CV] activation=logistic, hidden_layer_sizes=(10, 15), learning_rate_init=0.5 \n"
     ]
    },
    {
     "name": "stderr",
     "output_type": "stream",
     "text": [
      "/home/fernando.favoretti/.local/lib/python3.6/site-packages/sklearn/neural_network/multilayer_perceptron.py:912: DataConversionWarning: A column-vector y was passed when a 1d array was expected. Please change the shape of y to (n_samples, ), for example using ravel().\n",
      "  y = column_or_1d(y, warn=True)\n",
      "/home/fernando.favoretti/.local/lib/python3.6/site-packages/sklearn/neural_network/multilayer_perceptron.py:912: DataConversionWarning: A column-vector y was passed when a 1d array was expected. Please change the shape of y to (n_samples, ), for example using ravel().\n",
      "  y = column_or_1d(y, warn=True)\n"
     ]
    },
    {
     "name": "stdout",
     "output_type": "stream",
     "text": [
      "[CV]  activation=logistic, hidden_layer_sizes=(10, 10, 10), learning_rate_init=0.9, accuracy=0.5, precision=0.5, recall=1.0, roc_auc=0.5428944694440412, total=   0.0s\n",
      "[CV]  activation=relu, hidden_layer_sizes=(25,), learning_rate_init=0.5, accuracy=0.48493975903614456, precision=0.2222222222222222, recall=0.012048192771084338, roc_auc=0.4872078676150384, total=   0.1s\n",
      "[CV] activation=relu, hidden_layer_sizes=(10, 15), learning_rate_init=0.5 \n",
      "[CV]  activation=logistic, hidden_layer_sizes=(10, 10, 10), learning_rate_init=0.5, accuracy=0.5, precision=0.5, recall=1.0, roc_auc=0.5227150489440281, total=   0.1s\n"
     ]
    },
    {
     "name": "stderr",
     "output_type": "stream",
     "text": [
      "/home/fernando.favoretti/.local/lib/python3.6/site-packages/sklearn/neural_network/multilayer_perceptron.py:912: DataConversionWarning: A column-vector y was passed when a 1d array was expected. Please change the shape of y to (n_samples, ), for example using ravel().\n",
      "  y = column_or_1d(y, warn=True)\n"
     ]
    },
    {
     "name": "stdout",
     "output_type": "stream",
     "text": [
      "[CV] activation=relu, hidden_layer_sizes=(25,), learning_rate_init=0.9 \n",
      "[CV] activation=relu, hidden_layer_sizes=(10, 15), learning_rate_init=0.9 \n",
      "[CV]  activation=logistic, hidden_layer_sizes=(10, 15), learning_rate_init=0.5, accuracy=0.5, precision=0.5, recall=1.0, roc_auc=0.5567069453906558, total=   0.0s\n",
      "[CV] activation=relu, hidden_layer_sizes=(10, 10, 10), learning_rate_init=0.01 \n",
      "[CV]  activation=logistic, hidden_layer_sizes=(10, 10, 10), learning_rate_init=0.1, accuracy=0.5, precision=0.0, recall=0.0, roc_auc=0.5048944028111442, total=   0.2s\n"
     ]
    },
    {
     "name": "stderr",
     "output_type": "stream",
     "text": [
      "/home/fernando.favoretti/.local/lib/python3.6/site-packages/sklearn/neural_network/multilayer_perceptron.py:912: DataConversionWarning: A column-vector y was passed when a 1d array was expected. Please change the shape of y to (n_samples, ), for example using ravel().\n",
      "  y = column_or_1d(y, warn=True)\n",
      "/home/fernando.favoretti/.local/lib/python3.6/site-packages/sklearn/neural_network/multilayer_perceptron.py:912: DataConversionWarning: A column-vector y was passed when a 1d array was expected. Please change the shape of y to (n_samples, ), for example using ravel().\n",
      "  y = column_or_1d(y, warn=True)\n",
      "/home/fernando.favoretti/.local/lib/python3.6/site-packages/sklearn/neural_network/multilayer_perceptron.py:912: DataConversionWarning: A column-vector y was passed when a 1d array was expected. Please change the shape of y to (n_samples, ), for example using ravel().\n",
      "  y = column_or_1d(y, warn=True)\n"
     ]
    },
    {
     "name": "stdout",
     "output_type": "stream",
     "text": [
      "[CV] activation=relu, hidden_layer_sizes=(10, 10, 10), learning_rate_init=0.1 \n"
     ]
    },
    {
     "name": "stderr",
     "output_type": "stream",
     "text": [
      "/home/fernando.favoretti/.local/lib/python3.6/site-packages/sklearn/metrics/classification.py:1135: UndefinedMetricWarning: Precision is ill-defined and being set to 0.0 due to no predicted samples.\n",
      "  'precision', 'predicted', average, warn_for)\n"
     ]
    },
    {
     "name": "stdout",
     "output_type": "stream",
     "text": [
      "[CV]  activation=relu, hidden_layer_sizes=(10, 15), learning_rate_init=0.5, accuracy=0.5, precision=0.0, recall=0.0, roc_auc=0.5, total=   0.1s\n",
      "[CV] activation=relu, hidden_layer_sizes=(10, 15), learning_rate_init=0.5 \n"
     ]
    },
    {
     "name": "stderr",
     "output_type": "stream",
     "text": [
      "/home/fernando.favoretti/.local/lib/python3.6/site-packages/sklearn/neural_network/multilayer_perceptron.py:912: DataConversionWarning: A column-vector y was passed when a 1d array was expected. Please change the shape of y to (n_samples, ), for example using ravel().\n",
      "  y = column_or_1d(y, warn=True)\n"
     ]
    },
    {
     "name": "stdout",
     "output_type": "stream",
     "text": [
      "[CV]  activation=relu, hidden_layer_sizes=(10,), learning_rate_init=0.01, accuracy=0.6017964071856288, precision=0.6011904761904762, recall=0.6047904191616766, roc_auc=0.5967227222202303, total=   1.0s\n",
      "[CV]  activation=relu, hidden_layer_sizes=(10, 15), learning_rate_init=0.1, accuracy=0.5179640718562875, precision=0.5133928571428571, recall=0.688622754491018, roc_auc=0.53634049266736, total=   0.1s\n",
      "[CV] activation=relu, hidden_layer_sizes=(10,), learning_rate_init=0.01 \n",
      "[CV]  activation=logistic, hidden_layer_sizes=(10, 15), learning_rate_init=0.9, accuracy=0.5, precision=0.5, recall=1.0, roc_auc=0.4829861235612607, total=   0.1s\n",
      "[CV] activation=relu, hidden_layer_sizes=(10, 15), learning_rate_init=0.1 \n",
      "[CV] activation=relu, hidden_layer_sizes=(10, 10, 10), learning_rate_init=0.5 \n",
      "[CV]  activation=relu, hidden_layer_sizes=(10,), learning_rate_init=0.001, accuracy=0.5389221556886228, precision=0.5380116959064327, recall=0.5508982035928144, roc_auc=0.5289182114812291, total=   0.3s\n"
     ]
    },
    {
     "name": "stderr",
     "output_type": "stream",
     "text": [
      "/home/fernando.favoretti/.local/lib/python3.6/site-packages/sklearn/neural_network/multilayer_perceptron.py:912: DataConversionWarning: A column-vector y was passed when a 1d array was expected. Please change the shape of y to (n_samples, ), for example using ravel().\n",
      "  y = column_or_1d(y, warn=True)\n",
      "/home/fernando.favoretti/.local/lib/python3.6/site-packages/sklearn/neural_network/multilayer_perceptron.py:912: DataConversionWarning: A column-vector y was passed when a 1d array was expected. Please change the shape of y to (n_samples, ), for example using ravel().\n",
      "  y = column_or_1d(y, warn=True)\n",
      "/home/fernando.favoretti/.local/lib/python3.6/site-packages/sklearn/neural_network/multilayer_perceptron.py:912: DataConversionWarning: A column-vector y was passed when a 1d array was expected. Please change the shape of y to (n_samples, ), for example using ravel().\n",
      "  y = column_or_1d(y, warn=True)\n",
      "/home/fernando.favoretti/.local/lib/python3.6/site-packages/sklearn/neural_network/multilayer_perceptron.py:912: DataConversionWarning: A column-vector y was passed when a 1d array was expected. Please change the shape of y to (n_samples, ), for example using ravel().\n",
      "  y = column_or_1d(y, warn=True)\n"
     ]
    },
    {
     "name": "stdout",
     "output_type": "stream",
     "text": [
      "[CV] activation=relu, hidden_layer_sizes=(10,), learning_rate_init=0.001 \n"
     ]
    },
    {
     "name": "stderr",
     "output_type": "stream",
     "text": [
      "/home/fernando.favoretti/.local/lib/python3.6/site-packages/sklearn/neural_network/multilayer_perceptron.py:912: DataConversionWarning: A column-vector y was passed when a 1d array was expected. Please change the shape of y to (n_samples, ), for example using ravel().\n",
      "  y = column_or_1d(y, warn=True)\n"
     ]
    },
    {
     "name": "stdout",
     "output_type": "stream",
     "text": [
      "[CV]  activation=relu, hidden_layer_sizes=(10, 15), learning_rate_init=0.001, accuracy=0.46686746987951805, precision=0.47317073170731705, recall=0.5843373493975904, roc_auc=0.4322833502685441, total=   0.8s\n",
      "[CV] activation=relu, hidden_layer_sizes=(10, 15), learning_rate_init=0.01 \n",
      "[CV]  activation=logistic, hidden_layer_sizes=(10, 15), learning_rate_init=0.01, accuracy=0.5, precision=0.5, recall=1.0, roc_auc=0.46429089853389466, total=   0.2s\n"
     ]
    },
    {
     "name": "stderr",
     "output_type": "stream",
     "text": [
      "/home/fernando.favoretti/.local/lib/python3.6/site-packages/sklearn/neural_network/multilayer_perceptron.py:912: DataConversionWarning: A column-vector y was passed when a 1d array was expected. Please change the shape of y to (n_samples, ), for example using ravel().\n",
      "  y = column_or_1d(y, warn=True)\n",
      "/home/fernando.favoretti/.local/lib/python3.6/site-packages/sklearn/metrics/classification.py:1135: UndefinedMetricWarning: Precision is ill-defined and being set to 0.0 due to no predicted samples.\n",
      "  'precision', 'predicted', average, warn_for)\n"
     ]
    },
    {
     "name": "stdout",
     "output_type": "stream",
     "text": [
      "[CV]  activation=relu, hidden_layer_sizes=(10, 10, 10), learning_rate_init=0.5, accuracy=0.5, precision=0.0, recall=0.0, roc_auc=0.5, total=   0.1s\n",
      "[CV] activation=relu, hidden_layer_sizes=(10, 10, 10), learning_rate_init=0.9 \n"
     ]
    },
    {
     "name": "stderr",
     "output_type": "stream",
     "text": [
      "/home/fernando.favoretti/.local/lib/python3.6/site-packages/sklearn/neural_network/multilayer_perceptron.py:912: DataConversionWarning: A column-vector y was passed when a 1d array was expected. Please change the shape of y to (n_samples, ), for example using ravel().\n",
      "  y = column_or_1d(y, warn=True)\n"
     ]
    },
    {
     "name": "stdout",
     "output_type": "stream",
     "text": [
      "[CV]  activation=relu, hidden_layer_sizes=(10, 15), learning_rate_init=0.5, accuracy=0.5, precision=0.5, recall=1.0, roc_auc=0.45745028305995067, total=   0.1s\n",
      "[CV] activation=relu, hidden_layer_sizes=(10, 15), learning_rate_init=0.9 \n"
     ]
    },
    {
     "name": "stderr",
     "output_type": "stream",
     "text": [
      "/home/fernando.favoretti/.local/lib/python3.6/site-packages/sklearn/neural_network/multilayer_perceptron.py:912: DataConversionWarning: A column-vector y was passed when a 1d array was expected. Please change the shape of y to (n_samples, ), for example using ravel().\n",
      "  y = column_or_1d(y, warn=True)\n"
     ]
    },
    {
     "name": "stdout",
     "output_type": "stream",
     "text": [
      "[CV]  activation=relu, hidden_layer_sizes=(25,), learning_rate_init=0.9, accuracy=0.5, precision=0.5, recall=1.0, roc_auc=0.4971135573165047, total=   0.2s\n",
      "[CV]  activation=relu, hidden_layer_sizes=(10, 10, 10), learning_rate_init=0.1, accuracy=0.5029940119760479, precision=0.5017301038062284, recall=0.8682634730538922, roc_auc=0.5473484169385779, total=   0.2s\n",
      "[CV] activation=relu, hidden_layer_sizes=(10, 10, 10), learning_rate_init=0.1 \n"
     ]
    },
    {
     "name": "stderr",
     "output_type": "stream",
     "text": [
      "/home/fernando.favoretti/.local/lib/python3.6/site-packages/sklearn/metrics/classification.py:1135: UndefinedMetricWarning: Precision is ill-defined and being set to 0.0 due to no predicted samples.\n",
      "  'precision', 'predicted', average, warn_for)\n",
      "/home/fernando.favoretti/.local/lib/python3.6/site-packages/sklearn/metrics/classification.py:1135: UndefinedMetricWarning: Precision is ill-defined and being set to 0.0 due to no predicted samples.\n",
      "  'precision', 'predicted', average, warn_for)\n",
      "/home/fernando.favoretti/.local/lib/python3.6/site-packages/sklearn/neural_network/multilayer_perceptron.py:912: DataConversionWarning: A column-vector y was passed when a 1d array was expected. Please change the shape of y to (n_samples, ), for example using ravel().\n",
      "  y = column_or_1d(y, warn=True)\n"
     ]
    },
    {
     "name": "stdout",
     "output_type": "stream",
     "text": [
      "[CV]  activation=relu, hidden_layer_sizes=(10, 15), learning_rate_init=0.001, accuracy=0.5449101796407185, precision=0.5433526011560693, recall=0.562874251497006, roc_auc=0.5894438667575029, total=   0.5s\n"
     ]
    },
    {
     "name": "stderr",
     "output_type": "stream",
     "text": [
      "/home/fernando.favoretti/.local/lib/python3.6/site-packages/sklearn/metrics/classification.py:1135: UndefinedMetricWarning: Precision is ill-defined and being set to 0.0 due to no predicted samples.\n",
      "  'precision', 'predicted', average, warn_for)\n"
     ]
    },
    {
     "name": "stdout",
     "output_type": "stream",
     "text": [
      "[CV]  activation=relu, hidden_layer_sizes=(10, 15), learning_rate_init=0.9, accuracy=0.5, precision=0.0, recall=0.0, roc_auc=0.5, total=   0.1s\n",
      "[CV] activation=relu, hidden_layer_sizes=(10, 15), learning_rate_init=0.001 \n",
      "[CV]  activation=relu, hidden_layer_sizes=(10, 15), learning_rate_init=0.9, accuracy=0.5, precision=0.0, recall=0.0, roc_auc=0.5, total=   0.3s\n"
     ]
    },
    {
     "name": "stderr",
     "output_type": "stream",
     "text": [
      "/home/fernando.favoretti/.local/lib/python3.6/site-packages/sklearn/neural_network/multilayer_perceptron.py:912: DataConversionWarning: A column-vector y was passed when a 1d array was expected. Please change the shape of y to (n_samples, ), for example using ravel().\n",
      "  y = column_or_1d(y, warn=True)\n"
     ]
    },
    {
     "name": "stdout",
     "output_type": "stream",
     "text": [
      "[CV]  activation=relu, hidden_layer_sizes=(10, 10, 10), learning_rate_init=0.9, accuracy=0.5, precision=0.0, recall=0.0, roc_auc=0.5, total=   0.2s\n",
      "[CV] activation=relu, hidden_layer_sizes=(10, 15), learning_rate_init=0.9 \n",
      "[CV] activation=relu, hidden_layer_sizes=(10, 10, 10), learning_rate_init=0.9 \n"
     ]
    },
    {
     "name": "stderr",
     "output_type": "stream",
     "text": [
      "/home/fernando.favoretti/.local/lib/python3.6/site-packages/sklearn/neural_network/multilayer_perceptron.py:912: DataConversionWarning: A column-vector y was passed when a 1d array was expected. Please change the shape of y to (n_samples, ), for example using ravel().\n",
      "  y = column_or_1d(y, warn=True)\n"
     ]
    },
    {
     "name": "stdout",
     "output_type": "stream",
     "text": [
      "[CV] activation=relu, hidden_layer_sizes=(10, 10, 10), learning_rate_init=0.001 \n"
     ]
    },
    {
     "name": "stderr",
     "output_type": "stream",
     "text": [
      "/home/fernando.favoretti/.local/lib/python3.6/site-packages/sklearn/neural_network/multilayer_perceptron.py:912: DataConversionWarning: A column-vector y was passed when a 1d array was expected. Please change the shape of y to (n_samples, ), for example using ravel().\n",
      "  y = column_or_1d(y, warn=True)\n",
      "/home/fernando.favoretti/.local/lib/python3.6/site-packages/sklearn/neural_network/multilayer_perceptron.py:912: DataConversionWarning: A column-vector y was passed when a 1d array was expected. Please change the shape of y to (n_samples, ), for example using ravel().\n",
      "  y = column_or_1d(y, warn=True)\n",
      "/home/fernando.favoretti/.local/lib/python3.6/site-packages/sklearn/metrics/classification.py:1135: UndefinedMetricWarning: Precision is ill-defined and being set to 0.0 due to no predicted samples.\n",
      "  'precision', 'predicted', average, warn_for)\n"
     ]
    },
    {
     "name": "stdout",
     "output_type": "stream",
     "text": [
      "[CV]  activation=relu, hidden_layer_sizes=(10, 10, 10), learning_rate_init=0.1, accuracy=0.45481927710843373, precision=0.42990654205607476, recall=0.27710843373493976, roc_auc=0.4710407896646828, total=   0.1s\n"
     ]
    },
    {
     "name": "stderr",
     "output_type": "stream",
     "text": [
      "/home/fernando.favoretti/.local/lib/python3.6/site-packages/sklearn/metrics/classification.py:1135: UndefinedMetricWarning: Precision is ill-defined and being set to 0.0 due to no predicted samples.\n",
      "  'precision', 'predicted', average, warn_for)\n",
      "/home/fernando.favoretti/.local/lib/python3.6/site-packages/sklearn/metrics/classification.py:1135: UndefinedMetricWarning: Precision is ill-defined and being set to 0.0 due to no predicted samples.\n",
      "  'precision', 'predicted', average, warn_for)\n"
     ]
    },
    {
     "name": "stdout",
     "output_type": "stream",
     "text": [
      "[CV]  activation=relu, hidden_layer_sizes=(10, 15), learning_rate_init=0.9, accuracy=0.5, precision=0.0, recall=0.0, roc_auc=0.5029940119760479, total=   0.0s\n",
      "[CV]  activation=relu, hidden_layer_sizes=(10, 10, 10), learning_rate_init=0.9, accuracy=0.5, precision=0.0, recall=0.0, roc_auc=0.5, total=   0.1s\n",
      "[CV]  activation=logistic, hidden_layer_sizes=(10, 10, 10), learning_rate_init=0.001, accuracy=0.5, precision=0.0, recall=0.0, roc_auc=0.5384308317607781, total=   0.5s\n",
      "[CV] activation=relu, hidden_layer_sizes=(10, 10, 10), learning_rate_init=0.5 \n"
     ]
    },
    {
     "name": "stderr",
     "output_type": "stream",
     "text": [
      "/home/fernando.favoretti/.local/lib/python3.6/site-packages/sklearn/neural_network/multilayer_perceptron.py:912: DataConversionWarning: A column-vector y was passed when a 1d array was expected. Please change the shape of y to (n_samples, ), for example using ravel().\n",
      "  y = column_or_1d(y, warn=True)\n"
     ]
    },
    {
     "name": "stdout",
     "output_type": "stream",
     "text": [
      "[CV] activation=relu, hidden_layer_sizes=(10, 10, 10), learning_rate_init=0.9 \n"
     ]
    },
    {
     "name": "stderr",
     "output_type": "stream",
     "text": [
      "/home/fernando.favoretti/.local/lib/python3.6/site-packages/sklearn/neural_network/multilayer_perceptron.py:912: DataConversionWarning: A column-vector y was passed when a 1d array was expected. Please change the shape of y to (n_samples, ), for example using ravel().\n",
      "  y = column_or_1d(y, warn=True)\n",
      "[Parallel(n_jobs=-1)]: Done  64 out of 120 | elapsed:    1.9s remaining:    1.7s\n",
      "/home/fernando.favoretti/.local/lib/python3.6/site-packages/sklearn/metrics/classification.py:1135: UndefinedMetricWarning: Precision is ill-defined and being set to 0.0 due to no predicted samples.\n",
      "  'precision', 'predicted', average, warn_for)\n"
     ]
    },
    {
     "name": "stdout",
     "output_type": "stream",
     "text": [
      "[CV]  activation=relu, hidden_layer_sizes=(10, 10, 10), learning_rate_init=0.9, accuracy=0.5, precision=0.0, recall=0.0, roc_auc=0.5, total=   0.0s\n",
      "[CV]  activation=relu, hidden_layer_sizes=(10, 15), learning_rate_init=0.1, accuracy=0.5179640718562875, precision=0.5145631067961165, recall=0.6347305389221557, roc_auc=0.534619383986518, total=   0.4s\n",
      "[CV] activation=relu, hidden_layer_sizes=(10, 15), learning_rate_init=0.1 \n"
     ]
    },
    {
     "name": "stderr",
     "output_type": "stream",
     "text": [
      "/home/fernando.favoretti/.local/lib/python3.6/site-packages/sklearn/neural_network/multilayer_perceptron.py:912: DataConversionWarning: A column-vector y was passed when a 1d array was expected. Please change the shape of y to (n_samples, ), for example using ravel().\n",
      "  y = column_or_1d(y, warn=True)\n"
     ]
    },
    {
     "name": "stdout",
     "output_type": "stream",
     "text": [
      "[CV]  activation=relu, hidden_layer_sizes=(10, 10, 10), learning_rate_init=0.5, accuracy=0.5, precision=0.5, recall=1.0, roc_auc=0.5595037469970239, total=   0.1s\n",
      "[CV] activation=relu, hidden_layer_sizes=(10, 10, 10), learning_rate_init=0.5 \n"
     ]
    },
    {
     "name": "stderr",
     "output_type": "stream",
     "text": [
      "/home/fernando.favoretti/.local/lib/python3.6/site-packages/sklearn/neural_network/multilayer_perceptron.py:912: DataConversionWarning: A column-vector y was passed when a 1d array was expected. Please change the shape of y to (n_samples, ), for example using ravel().\n",
      "  y = column_or_1d(y, warn=True)\n"
     ]
    },
    {
     "name": "stdout",
     "output_type": "stream",
     "text": [
      "[CV]  activation=relu, hidden_layer_sizes=(10, 15), learning_rate_init=0.001, accuracy=0.5209580838323353, precision=0.5220125786163522, recall=0.49700598802395207, roc_auc=0.5174082971780989, total=   0.2s\n",
      "[CV]  activation=relu, hidden_layer_sizes=(10, 15), learning_rate_init=0.1, accuracy=0.47289156626506024, precision=0.449438202247191, recall=0.24096385542168675, roc_auc=0.4816736826825374, total=   0.1s\n"
     ]
    },
    {
     "name": "stderr",
     "output_type": "stream",
     "text": [
      "/home/fernando.favoretti/.local/lib/python3.6/site-packages/sklearn/metrics/classification.py:1135: UndefinedMetricWarning: Precision is ill-defined and being set to 0.0 due to no predicted samples.\n",
      "  'precision', 'predicted', average, warn_for)\n"
     ]
    },
    {
     "name": "stdout",
     "output_type": "stream",
     "text": [
      "[CV] activation=relu, hidden_layer_sizes=(10, 15), learning_rate_init=0.5 \n"
     ]
    },
    {
     "name": "stderr",
     "output_type": "stream",
     "text": [
      "/home/fernando.favoretti/.local/lib/python3.6/site-packages/sklearn/neural_network/multilayer_perceptron.py:912: DataConversionWarning: A column-vector y was passed when a 1d array was expected. Please change the shape of y to (n_samples, ), for example using ravel().\n",
      "  y = column_or_1d(y, warn=True)\n"
     ]
    },
    {
     "name": "stdout",
     "output_type": "stream",
     "text": [
      "[CV]  activation=relu, hidden_layer_sizes=(10, 10, 10), learning_rate_init=0.5, accuracy=0.5, precision=0.0, recall=0.0, roc_auc=0.4795797626304278, total=   0.1s\n",
      "[CV]  activation=relu, hidden_layer_sizes=(25,), learning_rate_init=0.001, accuracy=0.5479041916167665, precision=0.5470588235294118, recall=0.5568862275449101, roc_auc=0.5516511886406827, total=   1.7s\n",
      "[CV] activation=relu, hidden_layer_sizes=(25,), learning_rate_init=0.001 \n"
     ]
    },
    {
     "name": "stderr",
     "output_type": "stream",
     "text": [
      "/home/fernando.favoretti/.local/lib/python3.6/site-packages/sklearn/neural_network/multilayer_perceptron.py:912: DataConversionWarning: A column-vector y was passed when a 1d array was expected. Please change the shape of y to (n_samples, ), for example using ravel().\n",
      "  y = column_or_1d(y, warn=True)\n"
     ]
    },
    {
     "name": "stdout",
     "output_type": "stream",
     "text": [
      "[CV]  activation=relu, hidden_layer_sizes=(10, 15), learning_rate_init=0.5, accuracy=0.5179640718562875, precision=0.51171875, recall=0.7844311377245509, roc_auc=0.5052888235505038, total=   0.1s\n"
     ]
    },
    {
     "name": "stderr",
     "output_type": "stream",
     "text": [
      "/home/fernando.favoretti/.local/lib/python3.6/site-packages/sklearn/neural_network/multilayer_perceptron.py:564: ConvergenceWarning: Stochastic Optimizer: Maximum iterations (200) reached and the optimization hasn't converged yet.\n",
      "  % self.max_iter, ConvergenceWarning)\n"
     ]
    },
    {
     "name": "stdout",
     "output_type": "stream",
     "text": [
      "[CV]  activation=relu, hidden_layer_sizes=(10,), learning_rate_init=0.001, accuracy=0.4789156626506024, precision=0.4797687861271676, recall=0.5, roc_auc=0.48809696617796483, total=   0.8s\n",
      "[CV] activation=relu, hidden_layer_sizes=(10,), learning_rate_init=0.01 \n"
     ]
    },
    {
     "name": "stderr",
     "output_type": "stream",
     "text": [
      "/home/fernando.favoretti/.local/lib/python3.6/site-packages/sklearn/neural_network/multilayer_perceptron.py:912: DataConversionWarning: A column-vector y was passed when a 1d array was expected. Please change the shape of y to (n_samples, ), for example using ravel().\n",
      "  y = column_or_1d(y, warn=True)\n"
     ]
    },
    {
     "name": "stdout",
     "output_type": "stream",
     "text": [
      "[CV]  activation=relu, hidden_layer_sizes=(10, 10, 10), learning_rate_init=0.001, accuracy=0.5209580838323353, precision=0.519774011299435, recall=0.5508982035928144, roc_auc=0.5101652981462226, total=   0.5s\n",
      "[CV] activation=relu, hidden_layer_sizes=(10, 10, 10), learning_rate_init=0.001 \n",
      "[CV]  activation=relu, hidden_layer_sizes=(10, 10, 10), learning_rate_init=0.01, accuracy=0.5299401197604791, precision=0.5316455696202531, recall=0.5029940119760479, roc_auc=0.5695435476352684, total=   1.0s\n",
      "[CV] activation=relu, hidden_layer_sizes=(10, 10, 10), learning_rate_init=0.01 \n"
     ]
    },
    {
     "name": "stderr",
     "output_type": "stream",
     "text": [
      "/home/fernando.favoretti/.local/lib/python3.6/site-packages/sklearn/neural_network/multilayer_perceptron.py:912: DataConversionWarning: A column-vector y was passed when a 1d array was expected. Please change the shape of y to (n_samples, ), for example using ravel().\n",
      "  y = column_or_1d(y, warn=True)\n",
      "/home/fernando.favoretti/.local/lib/python3.6/site-packages/sklearn/neural_network/multilayer_perceptron.py:912: DataConversionWarning: A column-vector y was passed when a 1d array was expected. Please change the shape of y to (n_samples, ), for example using ravel().\n",
      "  y = column_or_1d(y, warn=True)\n"
     ]
    },
    {
     "name": "stdout",
     "output_type": "stream",
     "text": [
      "[CV]  activation=relu, hidden_layer_sizes=(25,), learning_rate_init=0.01, accuracy=0.5150602409638554, precision=0.5138121546961326, recall=0.5602409638554217, roc_auc=0.5211206270866598, total=   1.9s\n",
      "[CV] activation=relu, hidden_layer_sizes=(25,), learning_rate_init=0.1 \n",
      "[CV]  activation=relu, hidden_layer_sizes=(10, 10, 10), learning_rate_init=0.01, accuracy=0.5329341317365269, precision=0.5544554455445545, recall=0.33532934131736525, roc_auc=0.5286313600344222, total=   0.0s\n",
      "[CV] activation=relu, hidden_layer_sizes=(10, 10, 10), learning_rate_init=0.01 \n"
     ]
    },
    {
     "name": "stderr",
     "output_type": "stream",
     "text": [
      "/home/fernando.favoretti/.local/lib/python3.6/site-packages/sklearn/neural_network/multilayer_perceptron.py:912: DataConversionWarning: A column-vector y was passed when a 1d array was expected. Please change the shape of y to (n_samples, ), for example using ravel().\n",
      "  y = column_or_1d(y, warn=True)\n"
     ]
    },
    {
     "name": "stdout",
     "output_type": "stream",
     "text": [
      "[CV]  activation=relu, hidden_layer_sizes=(10, 15), learning_rate_init=0.01, accuracy=0.5359281437125748, precision=0.5225563909774437, recall=0.8323353293413174, roc_auc=0.5502169314066478, total=   0.8s\n",
      "[CV] activation=relu, hidden_layer_sizes=(10, 15), learning_rate_init=0.01 \n"
     ]
    },
    {
     "name": "stderr",
     "output_type": "stream",
     "text": [
      "/home/fernando.favoretti/.local/lib/python3.6/site-packages/sklearn/neural_network/multilayer_perceptron.py:912: DataConversionWarning: A column-vector y was passed when a 1d array was expected. Please change the shape of y to (n_samples, ), for example using ravel().\n",
      "  y = column_or_1d(y, warn=True)\n",
      "/home/fernando.favoretti/.local/lib/python3.6/site-packages/sklearn/neural_network/multilayer_perceptron.py:912: DataConversionWarning: A column-vector y was passed when a 1d array was expected. Please change the shape of y to (n_samples, ), for example using ravel().\n",
      "  y = column_or_1d(y, warn=True)\n"
     ]
    },
    {
     "name": "stdout",
     "output_type": "stream",
     "text": [
      "[CV]  activation=relu, hidden_layer_sizes=(10, 10, 10), learning_rate_init=0.001, accuracy=0.5149700598802395, precision=0.5076923076923077, recall=0.9880239520958084, roc_auc=0.5041414177632757, total=   0.2s\n",
      "[CV] activation=relu, hidden_layer_sizes=(10, 10, 10), learning_rate_init=0.001 \n"
     ]
    },
    {
     "name": "stderr",
     "output_type": "stream",
     "text": [
      "/home/fernando.favoretti/.local/lib/python3.6/site-packages/sklearn/neural_network/multilayer_perceptron.py:912: DataConversionWarning: A column-vector y was passed when a 1d array was expected. Please change the shape of y to (n_samples, ), for example using ravel().\n",
      "  y = column_or_1d(y, warn=True)\n",
      "/home/fernando.favoretti/.local/lib/python3.6/site-packages/sklearn/neural_network/multilayer_perceptron.py:564: ConvergenceWarning: Stochastic Optimizer: Maximum iterations (200) reached and the optimization hasn't converged yet.\n",
      "  % self.max_iter, ConvergenceWarning)\n"
     ]
    },
    {
     "name": "stdout",
     "output_type": "stream",
     "text": [
      "[CV]  activation=relu, hidden_layer_sizes=(10,), learning_rate_init=0.01, accuracy=0.5120481927710844, precision=0.5136986301369864, recall=0.45180722891566266, roc_auc=0.5310277253592685, total=   1.1s\n",
      "[CV] activation=relu, hidden_layer_sizes=(10,), learning_rate_init=0.1 \n",
      "[CV]  activation=relu, hidden_layer_sizes=(25,), learning_rate_init=0.001, accuracy=0.5778443113772455, precision=0.5730337078651685, recall=0.6107784431137725, roc_auc=0.6043242855606153, total=   1.6s\n"
     ]
    },
    {
     "name": "stderr",
     "output_type": "stream",
     "text": [
      "/home/fernando.favoretti/.local/lib/python3.6/site-packages/sklearn/neural_network/multilayer_perceptron.py:912: DataConversionWarning: A column-vector y was passed when a 1d array was expected. Please change the shape of y to (n_samples, ), for example using ravel().\n",
      "  y = column_or_1d(y, warn=True)\n"
     ]
    },
    {
     "name": "stdout",
     "output_type": "stream",
     "text": [
      "[CV]  activation=relu, hidden_layer_sizes=(25,), learning_rate_init=0.1, accuracy=0.5479041916167665, precision=0.5975609756097561, recall=0.2934131736526946, roc_auc=0.5718383592097243, total=   0.1s\n",
      "[CV] activation=relu, hidden_layer_sizes=(25,), learning_rate_init=0.1 \n"
     ]
    },
    {
     "name": "stderr",
     "output_type": "stream",
     "text": [
      "/home/fernando.favoretti/.local/lib/python3.6/site-packages/sklearn/neural_network/multilayer_perceptron.py:912: DataConversionWarning: A column-vector y was passed when a 1d array was expected. Please change the shape of y to (n_samples, ), for example using ravel().\n",
      "  y = column_or_1d(y, warn=True)\n"
     ]
    },
    {
     "name": "stdout",
     "output_type": "stream",
     "text": [
      "[CV]  activation=relu, hidden_layer_sizes=(10, 10, 10), learning_rate_init=0.001, accuracy=0.5120481927710844, precision=0.6428571428571429, recall=0.05421686746987952, roc_auc=0.5098345187980838, total=   0.2s\n",
      "[CV]  activation=relu, hidden_layer_sizes=(10,), learning_rate_init=0.1, accuracy=0.5359281437125748, precision=0.5238095238095238, recall=0.7904191616766467, roc_auc=0.5257628455663523, total=   0.2s\n",
      "[CV] activation=relu, hidden_layer_sizes=(10,), learning_rate_init=0.1 \n"
     ]
    },
    {
     "name": "stderr",
     "output_type": "stream",
     "text": [
      "/home/fernando.favoretti/.local/lib/python3.6/site-packages/sklearn/neural_network/multilayer_perceptron.py:912: DataConversionWarning: A column-vector y was passed when a 1d array was expected. Please change the shape of y to (n_samples, ), for example using ravel().\n",
      "  y = column_or_1d(y, warn=True)\n"
     ]
    },
    {
     "name": "stdout",
     "output_type": "stream",
     "text": [
      "[CV]  activation=relu, hidden_layer_sizes=(10,), learning_rate_init=0.1, accuracy=0.5089820359281437, precision=0.5055350553505535, recall=0.8203592814371258, roc_auc=0.5706909534224963, total=   0.1s\n",
      "[CV]  activation=relu, hidden_layer_sizes=(25,), learning_rate_init=0.1, accuracy=0.5149700598802395, precision=0.5098039215686274, recall=0.7784431137724551, roc_auc=0.5792606403958549, total=   0.1s\n",
      "[CV] activation=relu, hidden_layer_sizes=(25,), learning_rate_init=0.1 \n",
      "[CV]  activation=relu, hidden_layer_sizes=(10, 10, 10), learning_rate_init=0.01, accuracy=0.5542168674698795, precision=0.5391304347826087, recall=0.7469879518072289, roc_auc=0.5674626215706198, total=   0.4s\n",
      "[CV] activation=relu, hidden_layer_sizes=(10, 10, 10), learning_rate_init=0.1 \n"
     ]
    },
    {
     "name": "stderr",
     "output_type": "stream",
     "text": [
      "/home/fernando.favoretti/.local/lib/python3.6/site-packages/sklearn/neural_network/multilayer_perceptron.py:912: DataConversionWarning: A column-vector y was passed when a 1d array was expected. Please change the shape of y to (n_samples, ), for example using ravel().\n",
      "  y = column_or_1d(y, warn=True)\n",
      "/home/fernando.favoretti/.local/lib/python3.6/site-packages/sklearn/neural_network/multilayer_perceptron.py:912: DataConversionWarning: A column-vector y was passed when a 1d array was expected. Please change the shape of y to (n_samples, ), for example using ravel().\n",
      "  y = column_or_1d(y, warn=True)\n"
     ]
    },
    {
     "name": "stdout",
     "output_type": "stream",
     "text": [
      "[CV]  activation=relu, hidden_layer_sizes=(10,), learning_rate_init=0.01, accuracy=0.5479041916167665, precision=0.5533333333333333, recall=0.49700598802395207, roc_auc=0.5784359424862849, total=   0.5s\n",
      "[CV]  activation=relu, hidden_layer_sizes=(10, 15), learning_rate_init=0.01, accuracy=0.5329341317365269, precision=0.522633744855967, recall=0.7604790419161677, roc_auc=0.5815554519703109, total=   0.5s\n"
     ]
    },
    {
     "name": "stderr",
     "output_type": "stream",
     "text": [
      "/home/fernando.favoretti/.local/lib/python3.6/site-packages/sklearn/metrics/classification.py:1135: UndefinedMetricWarning: Precision is ill-defined and being set to 0.0 due to no predicted samples.\n",
      "  'precision', 'predicted', average, warn_for)\n"
     ]
    },
    {
     "name": "stdout",
     "output_type": "stream",
     "text": [
      "[CV]  activation=relu, hidden_layer_sizes=(10, 10, 10), learning_rate_init=0.1, accuracy=0.5, precision=0.0, recall=0.0, roc_auc=0.5403205564918068, total=   0.1s\n",
      "[CV] activation=relu, hidden_layer_sizes=(10, 15), learning_rate_init=0.01 \n"
     ]
    },
    {
     "name": "stderr",
     "output_type": "stream",
     "text": [
      "/home/fernando.favoretti/.local/lib/python3.6/site-packages/sklearn/neural_network/multilayer_perceptron.py:912: DataConversionWarning: A column-vector y was passed when a 1d array was expected. Please change the shape of y to (n_samples, ), for example using ravel().\n",
      "  y = column_or_1d(y, warn=True)\n"
     ]
    },
    {
     "name": "stdout",
     "output_type": "stream",
     "text": [
      "[CV]  activation=relu, hidden_layer_sizes=(25,), learning_rate_init=0.1, accuracy=0.536144578313253, precision=0.5303030303030303, recall=0.6325301204819277, roc_auc=0.5151691101756424, total=   0.1s\n",
      "[CV]  activation=relu, hidden_layer_sizes=(25,), learning_rate_init=0.001, accuracy=0.5692771084337349, precision=0.5782312925170068, recall=0.5120481927710844, roc_auc=0.5477572942371898, total=   0.8s\n",
      "[CV] activation=relu, hidden_layer_sizes=(25,), learning_rate_init=0.01 \n"
     ]
    },
    {
     "name": "stderr",
     "output_type": "stream",
     "text": [
      "/home/fernando.favoretti/.local/lib/python3.6/site-packages/sklearn/neural_network/multilayer_perceptron.py:912: DataConversionWarning: A column-vector y was passed when a 1d array was expected. Please change the shape of y to (n_samples, ), for example using ravel().\n",
      "  y = column_or_1d(y, warn=True)\n"
     ]
    },
    {
     "name": "stdout",
     "output_type": "stream",
     "text": [
      "[CV]  activation=relu, hidden_layer_sizes=(10, 15), learning_rate_init=0.01, accuracy=0.536144578313253, precision=0.5441176470588235, recall=0.4457831325301205, roc_auc=0.5408622441573523, total=   0.4s\n",
      "[CV]  activation=relu, hidden_layer_sizes=(25,), learning_rate_init=0.01, accuracy=0.5449101796407185, precision=0.5348837209302325, recall=0.688622754491018, roc_auc=0.5537308616300334, total=   0.3s\n",
      "[CV] activation=relu, hidden_layer_sizes=(25,), learning_rate_init=0.01 \n"
     ]
    },
    {
     "name": "stderr",
     "output_type": "stream",
     "text": [
      "/home/fernando.favoretti/.local/lib/python3.6/site-packages/sklearn/neural_network/multilayer_perceptron.py:912: DataConversionWarning: A column-vector y was passed when a 1d array was expected. Please change the shape of y to (n_samples, ), for example using ravel().\n",
      "  y = column_or_1d(y, warn=True)\n"
     ]
    },
    {
     "name": "stdout",
     "output_type": "stream",
     "text": [
      "[CV]  activation=relu, hidden_layer_sizes=(25,), learning_rate_init=0.01, accuracy=0.5598802395209581, precision=0.5515463917525774, recall=0.6407185628742516, roc_auc=0.5844956793000824, total=   0.3s\n"
     ]
    },
    {
     "name": "stderr",
     "output_type": "stream",
     "text": [
      "[Parallel(n_jobs=-1)]: Done 120 out of 120 | elapsed:    4.0s finished\n"
     ]
    },
    {
     "data": {
      "text/plain": [
       "GridSearchCV(cv=3, error_score='raise',\n",
       "       estimator=MLPClassifier(activation='relu', alpha=0.0001, batch_size='auto', beta_1=0.9,\n",
       "       beta_2=0.999, early_stopping=False, epsilon=1e-08,\n",
       "       hidden_layer_sizes=(100,), learning_rate='constant',\n",
       "       learning_rate_init=0.001, max_iter=200, momentum=0.9,\n",
       "       nesterovs_momentum=True, power_t=0.5, random_state=None,\n",
       "       shuffle=True, solver='sgd', tol=0.0001, validation_fraction=0.1,\n",
       "       verbose=False, warm_start=False),\n",
       "       fit_params=None, iid=True, n_jobs=-1,\n",
       "       param_grid=[{'hidden_layer_sizes': [(10,), (25,), (10, 15), (10, 10, 10)], 'learning_rate_init': [0.001, 0.01, 0.1, 0.5, 0.9], 'activation': ['logistic', 'relu']}],\n",
       "       pre_dispatch='2*n_jobs', refit=False, return_train_score='warn',\n",
       "       scoring=['accuracy', 'precision', 'recall', 'roc_auc'], verbose=5)"
      ]
     },
     "execution_count": 28,
     "metadata": {},
     "output_type": "execute_result"
    }
   ],
   "source": [
    "grid_search_mic.fit(X[mic_features], Y)"
   ]
  },
  {
   "cell_type": "code",
   "execution_count": 29,
   "metadata": {
    "scrolled": true
   },
   "outputs": [
    {
     "name": "stderr",
     "output_type": "stream",
     "text": [
      "/home/fernando.favoretti/.local/lib/python3.6/site-packages/sklearn/utils/deprecation.py:122: FutureWarning: You are accessing a training score ('split0_train_accuracy'), which will not be available by default any more in 0.21. If you need training scores, please set return_train_score=True\n",
      "  warnings.warn(*warn_args, **warn_kwargs)\n",
      "/home/fernando.favoretti/.local/lib/python3.6/site-packages/sklearn/utils/deprecation.py:122: FutureWarning: You are accessing a training score ('split1_train_accuracy'), which will not be available by default any more in 0.21. If you need training scores, please set return_train_score=True\n",
      "  warnings.warn(*warn_args, **warn_kwargs)\n",
      "/home/fernando.favoretti/.local/lib/python3.6/site-packages/sklearn/utils/deprecation.py:122: FutureWarning: You are accessing a training score ('split2_train_accuracy'), which will not be available by default any more in 0.21. If you need training scores, please set return_train_score=True\n",
      "  warnings.warn(*warn_args, **warn_kwargs)\n",
      "/home/fernando.favoretti/.local/lib/python3.6/site-packages/sklearn/utils/deprecation.py:122: FutureWarning: You are accessing a training score ('mean_train_accuracy'), which will not be available by default any more in 0.21. If you need training scores, please set return_train_score=True\n",
      "  warnings.warn(*warn_args, **warn_kwargs)\n",
      "/home/fernando.favoretti/.local/lib/python3.6/site-packages/sklearn/utils/deprecation.py:122: FutureWarning: You are accessing a training score ('std_train_accuracy'), which will not be available by default any more in 0.21. If you need training scores, please set return_train_score=True\n",
      "  warnings.warn(*warn_args, **warn_kwargs)\n",
      "/home/fernando.favoretti/.local/lib/python3.6/site-packages/sklearn/utils/deprecation.py:122: FutureWarning: You are accessing a training score ('split0_train_precision'), which will not be available by default any more in 0.21. If you need training scores, please set return_train_score=True\n",
      "  warnings.warn(*warn_args, **warn_kwargs)\n",
      "/home/fernando.favoretti/.local/lib/python3.6/site-packages/sklearn/utils/deprecation.py:122: FutureWarning: You are accessing a training score ('split1_train_precision'), which will not be available by default any more in 0.21. If you need training scores, please set return_train_score=True\n",
      "  warnings.warn(*warn_args, **warn_kwargs)\n",
      "/home/fernando.favoretti/.local/lib/python3.6/site-packages/sklearn/utils/deprecation.py:122: FutureWarning: You are accessing a training score ('split2_train_precision'), which will not be available by default any more in 0.21. If you need training scores, please set return_train_score=True\n",
      "  warnings.warn(*warn_args, **warn_kwargs)\n",
      "/home/fernando.favoretti/.local/lib/python3.6/site-packages/sklearn/utils/deprecation.py:122: FutureWarning: You are accessing a training score ('mean_train_precision'), which will not be available by default any more in 0.21. If you need training scores, please set return_train_score=True\n",
      "  warnings.warn(*warn_args, **warn_kwargs)\n",
      "/home/fernando.favoretti/.local/lib/python3.6/site-packages/sklearn/utils/deprecation.py:122: FutureWarning: You are accessing a training score ('std_train_precision'), which will not be available by default any more in 0.21. If you need training scores, please set return_train_score=True\n",
      "  warnings.warn(*warn_args, **warn_kwargs)\n",
      "/home/fernando.favoretti/.local/lib/python3.6/site-packages/sklearn/utils/deprecation.py:122: FutureWarning: You are accessing a training score ('split0_train_recall'), which will not be available by default any more in 0.21. If you need training scores, please set return_train_score=True\n",
      "  warnings.warn(*warn_args, **warn_kwargs)\n",
      "/home/fernando.favoretti/.local/lib/python3.6/site-packages/sklearn/utils/deprecation.py:122: FutureWarning: You are accessing a training score ('split1_train_recall'), which will not be available by default any more in 0.21. If you need training scores, please set return_train_score=True\n",
      "  warnings.warn(*warn_args, **warn_kwargs)\n",
      "/home/fernando.favoretti/.local/lib/python3.6/site-packages/sklearn/utils/deprecation.py:122: FutureWarning: You are accessing a training score ('split2_train_recall'), which will not be available by default any more in 0.21. If you need training scores, please set return_train_score=True\n",
      "  warnings.warn(*warn_args, **warn_kwargs)\n",
      "/home/fernando.favoretti/.local/lib/python3.6/site-packages/sklearn/utils/deprecation.py:122: FutureWarning: You are accessing a training score ('mean_train_recall'), which will not be available by default any more in 0.21. If you need training scores, please set return_train_score=True\n",
      "  warnings.warn(*warn_args, **warn_kwargs)\n",
      "/home/fernando.favoretti/.local/lib/python3.6/site-packages/sklearn/utils/deprecation.py:122: FutureWarning: You are accessing a training score ('std_train_recall'), which will not be available by default any more in 0.21. If you need training scores, please set return_train_score=True\n",
      "  warnings.warn(*warn_args, **warn_kwargs)\n",
      "/home/fernando.favoretti/.local/lib/python3.6/site-packages/sklearn/utils/deprecation.py:122: FutureWarning: You are accessing a training score ('split0_train_roc_auc'), which will not be available by default any more in 0.21. If you need training scores, please set return_train_score=True\n",
      "  warnings.warn(*warn_args, **warn_kwargs)\n",
      "/home/fernando.favoretti/.local/lib/python3.6/site-packages/sklearn/utils/deprecation.py:122: FutureWarning: You are accessing a training score ('split1_train_roc_auc'), which will not be available by default any more in 0.21. If you need training scores, please set return_train_score=True\n",
      "  warnings.warn(*warn_args, **warn_kwargs)\n",
      "/home/fernando.favoretti/.local/lib/python3.6/site-packages/sklearn/utils/deprecation.py:122: FutureWarning: You are accessing a training score ('split2_train_roc_auc'), which will not be available by default any more in 0.21. If you need training scores, please set return_train_score=True\n",
      "  warnings.warn(*warn_args, **warn_kwargs)\n",
      "/home/fernando.favoretti/.local/lib/python3.6/site-packages/sklearn/utils/deprecation.py:122: FutureWarning: You are accessing a training score ('mean_train_roc_auc'), which will not be available by default any more in 0.21. If you need training scores, please set return_train_score=True\n",
      "  warnings.warn(*warn_args, **warn_kwargs)\n",
      "/home/fernando.favoretti/.local/lib/python3.6/site-packages/sklearn/utils/deprecation.py:122: FutureWarning: You are accessing a training score ('std_train_roc_auc'), which will not be available by default any more in 0.21. If you need training scores, please set return_train_score=True\n",
      "  warnings.warn(*warn_args, **warn_kwargs)\n"
     ]
    }
   ],
   "source": [
    "mic_result = pd.DataFrame(grid_search_mic.cv_results_)[result_column_list]\n",
    "mic_result.to_csv(\"Sample_1000_MIC.csv\")"
   ]
  },
  {
   "cell_type": "markdown",
   "metadata": {},
   "source": [
    "#### Roda todas as combinações da rede neural para as features selecionadas pelo Algoritmo Genético (GA)"
   ]
  },
  {
   "cell_type": "code",
   "execution_count": 30,
   "metadata": {},
   "outputs": [],
   "source": [
    "grid_search_ga = GridSearchCV(mlp_classifier, parameters, verbose=5, n_jobs=-1, cv=3, scoring=scoring, refit=False)"
   ]
  },
  {
   "cell_type": "code",
   "execution_count": null,
   "metadata": {
    "scrolled": true
   },
   "outputs": [
    {
     "name": "stdout",
     "output_type": "stream",
     "text": [
      "Fitting 3 folds for each of 40 candidates, totalling 120 fits\n",
      "[CV] activation=logistic, hidden_layer_sizes=(10,), learning_rate_init=0.001 \n",
      "[CV] activation=logistic, hidden_layer_sizes=(10,), learning_rate_init=0.001 \n",
      "[CV] activation=logistic, hidden_layer_sizes=(10,), learning_rate_init=0.001 \n",
      "[CV] activation=logistic, hidden_layer_sizes=(10,), learning_rate_init=0.01 \n"
     ]
    },
    {
     "name": "stderr",
     "output_type": "stream",
     "text": [
      "/home/fernando.favoretti/.local/lib/python3.6/site-packages/sklearn/neural_network/multilayer_perceptron.py:912: DataConversionWarning: A column-vector y was passed when a 1d array was expected. Please change the shape of y to (n_samples, ), for example using ravel().\n",
      "  y = column_or_1d(y, warn=True)\n",
      "/home/fernando.favoretti/.local/lib/python3.6/site-packages/sklearn/neural_network/multilayer_perceptron.py:912: DataConversionWarning: A column-vector y was passed when a 1d array was expected. Please change the shape of y to (n_samples, ), for example using ravel().\n",
      "  y = column_or_1d(y, warn=True)\n"
     ]
    },
    {
     "name": "stdout",
     "output_type": "stream",
     "text": [
      "[CV] activation=logistic, hidden_layer_sizes=(10,), learning_rate_init=0.01 \n",
      "[CV] activation=logistic, hidden_layer_sizes=(10,), learning_rate_init=0.01 \n"
     ]
    },
    {
     "name": "stderr",
     "output_type": "stream",
     "text": [
      "/home/fernando.favoretti/.local/lib/python3.6/site-packages/sklearn/neural_network/multilayer_perceptron.py:912: DataConversionWarning: A column-vector y was passed when a 1d array was expected. Please change the shape of y to (n_samples, ), for example using ravel().\n",
      "  y = column_or_1d(y, warn=True)\n",
      "/home/fernando.favoretti/.local/lib/python3.6/site-packages/sklearn/neural_network/multilayer_perceptron.py:912: DataConversionWarning: A column-vector y was passed when a 1d array was expected. Please change the shape of y to (n_samples, ), for example using ravel().\n",
      "  y = column_or_1d(y, warn=True)\n"
     ]
    },
    {
     "name": "stdout",
     "output_type": "stream",
     "text": [
      "[CV] activation=logistic, hidden_layer_sizes=(10,), learning_rate_init=0.1 \n",
      "[CV] activation=logistic, hidden_layer_sizes=(10,), learning_rate_init=0.1 \n"
     ]
    },
    {
     "name": "stderr",
     "output_type": "stream",
     "text": [
      "/home/fernando.favoretti/.local/lib/python3.6/site-packages/sklearn/neural_network/multilayer_perceptron.py:912: DataConversionWarning: A column-vector y was passed when a 1d array was expected. Please change the shape of y to (n_samples, ), for example using ravel().\n",
      "  y = column_or_1d(y, warn=True)\n"
     ]
    },
    {
     "name": "stdout",
     "output_type": "stream",
     "text": [
      "[CV] activation=logistic, hidden_layer_sizes=(10,), learning_rate_init=0.1 \n"
     ]
    },
    {
     "name": "stderr",
     "output_type": "stream",
     "text": [
      "/home/fernando.favoretti/.local/lib/python3.6/site-packages/sklearn/neural_network/multilayer_perceptron.py:912: DataConversionWarning: A column-vector y was passed when a 1d array was expected. Please change the shape of y to (n_samples, ), for example using ravel().\n",
      "  y = column_or_1d(y, warn=True)\n"
     ]
    },
    {
     "name": "stdout",
     "output_type": "stream",
     "text": [
      "[CV] activation=logistic, hidden_layer_sizes=(10,), learning_rate_init=0.5 \n"
     ]
    },
    {
     "name": "stderr",
     "output_type": "stream",
     "text": [
      "/home/fernando.favoretti/.local/lib/python3.6/site-packages/sklearn/neural_network/multilayer_perceptron.py:912: DataConversionWarning: A column-vector y was passed when a 1d array was expected. Please change the shape of y to (n_samples, ), for example using ravel().\n",
      "  y = column_or_1d(y, warn=True)\n"
     ]
    },
    {
     "name": "stdout",
     "output_type": "stream",
     "text": [
      "[CV] activation=logistic, hidden_layer_sizes=(10,), learning_rate_init=0.5 \n",
      "[CV] activation=logistic, hidden_layer_sizes=(10,), learning_rate_init=0.5 \n"
     ]
    },
    {
     "name": "stderr",
     "output_type": "stream",
     "text": [
      "/home/fernando.favoretti/.local/lib/python3.6/site-packages/sklearn/neural_network/multilayer_perceptron.py:912: DataConversionWarning: A column-vector y was passed when a 1d array was expected. Please change the shape of y to (n_samples, ), for example using ravel().\n",
      "  y = column_or_1d(y, warn=True)\n",
      "/home/fernando.favoretti/.local/lib/python3.6/site-packages/sklearn/neural_network/multilayer_perceptron.py:912: DataConversionWarning: A column-vector y was passed when a 1d array was expected. Please change the shape of y to (n_samples, ), for example using ravel().\n",
      "  y = column_or_1d(y, warn=True)\n"
     ]
    },
    {
     "name": "stdout",
     "output_type": "stream",
     "text": [
      "[CV] activation=logistic, hidden_layer_sizes=(10,), learning_rate_init=0.9 \n"
     ]
    },
    {
     "name": "stderr",
     "output_type": "stream",
     "text": [
      "/home/fernando.favoretti/.local/lib/python3.6/site-packages/sklearn/neural_network/multilayer_perceptron.py:912: DataConversionWarning: A column-vector y was passed when a 1d array was expected. Please change the shape of y to (n_samples, ), for example using ravel().\n",
      "  y = column_or_1d(y, warn=True)\n"
     ]
    },
    {
     "name": "stdout",
     "output_type": "stream",
     "text": [
      "[CV] activation=logistic, hidden_layer_sizes=(10,), learning_rate_init=0.9 \n"
     ]
    },
    {
     "name": "stderr",
     "output_type": "stream",
     "text": [
      "/home/fernando.favoretti/.local/lib/python3.6/site-packages/sklearn/neural_network/multilayer_perceptron.py:912: DataConversionWarning: A column-vector y was passed when a 1d array was expected. Please change the shape of y to (n_samples, ), for example using ravel().\n",
      "  y = column_or_1d(y, warn=True)\n",
      "/home/fernando.favoretti/.local/lib/python3.6/site-packages/sklearn/neural_network/multilayer_perceptron.py:912: DataConversionWarning: A column-vector y was passed when a 1d array was expected. Please change the shape of y to (n_samples, ), for example using ravel().\n",
      "  y = column_or_1d(y, warn=True)\n",
      "/home/fernando.favoretti/.local/lib/python3.6/site-packages/sklearn/neural_network/multilayer_perceptron.py:912: DataConversionWarning: A column-vector y was passed when a 1d array was expected. Please change the shape of y to (n_samples, ), for example using ravel().\n",
      "  y = column_or_1d(y, warn=True)\n",
      "/home/fernando.favoretti/.local/lib/python3.6/site-packages/sklearn/neural_network/multilayer_perceptron.py:912: DataConversionWarning: A column-vector y was passed when a 1d array was expected. Please change the shape of y to (n_samples, ), for example using ravel().\n",
      "  y = column_or_1d(y, warn=True)\n"
     ]
    },
    {
     "name": "stdout",
     "output_type": "stream",
     "text": [
      "[CV]  activation=logistic, hidden_layer_sizes=(10,), learning_rate_init=0.9, accuracy=0.5149700598802395, precision=0.5135135135135135, recall=0.5688622754491018, roc_auc=0.5280755853562337, total=   0.1s\n",
      "[CV]  activation=logistic, hidden_layer_sizes=(10,), learning_rate_init=0.5, accuracy=0.5089820359281437, precision=0.5121951219512195, recall=0.3772455089820359, roc_auc=0.4882211624654882, total=   0.1s\n",
      "[CV] activation=logistic, hidden_layer_sizes=(10,), learning_rate_init=0.9 \n",
      "[CV] activation=logistic, hidden_layer_sizes=(25,), learning_rate_init=0.001 \n",
      "[CV] activation=logistic, hidden_layer_sizes=(25,), learning_rate_init=0.001 \n",
      "[CV] activation=logistic, hidden_layer_sizes=(25,), learning_rate_init=0.001 \n",
      "[CV]  activation=logistic, hidden_layer_sizes=(10,), learning_rate_init=0.5, accuracy=0.46987951807228917, precision=0.4744897959183674, recall=0.5602409638554217, roc_auc=0.49147191174335897, total=   0.1s\n"
     ]
    },
    {
     "name": "stderr",
     "output_type": "stream",
     "text": [
      "/home/fernando.favoretti/.local/lib/python3.6/site-packages/sklearn/neural_network/multilayer_perceptron.py:912: DataConversionWarning: A column-vector y was passed when a 1d array was expected. Please change the shape of y to (n_samples, ), for example using ravel().\n",
      "  y = column_or_1d(y, warn=True)\n"
     ]
    },
    {
     "name": "stdout",
     "output_type": "stream",
     "text": [
      "[CV] activation=logistic, hidden_layer_sizes=(25,), learning_rate_init=0.01 \n"
     ]
    },
    {
     "name": "stderr",
     "output_type": "stream",
     "text": [
      "/home/fernando.favoretti/.local/lib/python3.6/site-packages/sklearn/neural_network/multilayer_perceptron.py:912: DataConversionWarning: A column-vector y was passed when a 1d array was expected. Please change the shape of y to (n_samples, ), for example using ravel().\n",
      "  y = column_or_1d(y, warn=True)\n"
     ]
    },
    {
     "name": "stdout",
     "output_type": "stream",
     "text": [
      "[CV]  activation=logistic, hidden_layer_sizes=(10,), learning_rate_init=0.9, accuracy=0.4880239520958084, precision=0.4895833333333333, recall=0.562874251497006, roc_auc=0.5007709132632938, total=   0.1s\n"
     ]
    },
    {
     "name": "stderr",
     "output_type": "stream",
     "text": [
      "/home/fernando.favoretti/.local/lib/python3.6/site-packages/sklearn/neural_network/multilayer_perceptron.py:912: DataConversionWarning: A column-vector y was passed when a 1d array was expected. Please change the shape of y to (n_samples, ), for example using ravel().\n",
      "  y = column_or_1d(y, warn=True)\n"
     ]
    },
    {
     "name": "stdout",
     "output_type": "stream",
     "text": [
      "[CV] activation=logistic, hidden_layer_sizes=(25,), learning_rate_init=0.01 \n"
     ]
    },
    {
     "name": "stderr",
     "output_type": "stream",
     "text": [
      "/home/fernando.favoretti/.local/lib/python3.6/site-packages/sklearn/neural_network/multilayer_perceptron.py:912: DataConversionWarning: A column-vector y was passed when a 1d array was expected. Please change the shape of y to (n_samples, ), for example using ravel().\n",
      "  y = column_or_1d(y, warn=True)\n"
     ]
    },
    {
     "name": "stdout",
     "output_type": "stream",
     "text": [
      "[CV]  activation=logistic, hidden_layer_sizes=(10,), learning_rate_init=0.5, accuracy=0.5, precision=0.5, recall=0.4251497005988024, roc_auc=0.5037290688084908, total=   0.1s\n",
      "[CV] activation=logistic, hidden_layer_sizes=(25,), learning_rate_init=0.01 \n"
     ]
    },
    {
     "name": "stderr",
     "output_type": "stream",
     "text": [
      "/home/fernando.favoretti/.local/lib/python3.6/site-packages/sklearn/neural_network/multilayer_perceptron.py:912: DataConversionWarning: A column-vector y was passed when a 1d array was expected. Please change the shape of y to (n_samples, ), for example using ravel().\n",
      "  y = column_or_1d(y, warn=True)\n",
      "/home/fernando.favoretti/.local/lib/python3.6/site-packages/sklearn/neural_network/multilayer_perceptron.py:912: DataConversionWarning: A column-vector y was passed when a 1d array was expected. Please change the shape of y to (n_samples, ), for example using ravel().\n",
      "  y = column_or_1d(y, warn=True)\n"
     ]
    },
    {
     "name": "stdout",
     "output_type": "stream",
     "text": [
      "[CV]  activation=logistic, hidden_layer_sizes=(10,), learning_rate_init=0.1, accuracy=0.5149700598802395, precision=0.5142857142857142, recall=0.5389221556886228, roc_auc=0.5455555953960343, total=   0.2s\n"
     ]
    },
    {
     "name": "stderr",
     "output_type": "stream",
     "text": [
      "/home/fernando.favoretti/.local/lib/python3.6/site-packages/sklearn/neural_network/multilayer_perceptron.py:912: DataConversionWarning: A column-vector y was passed when a 1d array was expected. Please change the shape of y to (n_samples, ), for example using ravel().\n",
      "  y = column_or_1d(y, warn=True)\n"
     ]
    },
    {
     "name": "stdout",
     "output_type": "stream",
     "text": [
      "[CV]  activation=logistic, hidden_layer_sizes=(10,), learning_rate_init=0.9, accuracy=0.5030120481927711, precision=0.502127659574468, recall=0.7108433734939759, roc_auc=0.47980476121352883, total=   0.1s\n",
      "[CV] activation=logistic, hidden_layer_sizes=(25,), learning_rate_init=0.1 \n",
      "[CV] activation=logistic, hidden_layer_sizes=(25,), learning_rate_init=0.1 \n"
     ]
    },
    {
     "name": "stderr",
     "output_type": "stream",
     "text": [
      "/home/fernando.favoretti/.local/lib/python3.6/site-packages/sklearn/neural_network/multilayer_perceptron.py:912: DataConversionWarning: A column-vector y was passed when a 1d array was expected. Please change the shape of y to (n_samples, ), for example using ravel().\n",
      "  y = column_or_1d(y, warn=True)\n",
      "/home/fernando.favoretti/.local/lib/python3.6/site-packages/sklearn/neural_network/multilayer_perceptron.py:912: DataConversionWarning: A column-vector y was passed when a 1d array was expected. Please change the shape of y to (n_samples, ), for example using ravel().\n",
      "  y = column_or_1d(y, warn=True)\n"
     ]
    },
    {
     "name": "stdout",
     "output_type": "stream",
     "text": [
      "[CV]  activation=logistic, hidden_layer_sizes=(10,), learning_rate_init=0.1, accuracy=0.5451807228915663, precision=0.5483870967741935, recall=0.5120481927710844, roc_auc=0.5370518217448105, total=   0.4s\n",
      "[CV] activation=logistic, hidden_layer_sizes=(25,), learning_rate_init=0.1 \n"
     ]
    },
    {
     "name": "stderr",
     "output_type": "stream",
     "text": [
      "/home/fernando.favoretti/.local/lib/python3.6/site-packages/sklearn/neural_network/multilayer_perceptron.py:912: DataConversionWarning: A column-vector y was passed when a 1d array was expected. Please change the shape of y to (n_samples, ), for example using ravel().\n",
      "  y = column_or_1d(y, warn=True)\n"
     ]
    },
    {
     "name": "stdout",
     "output_type": "stream",
     "text": [
      "[CV]  activation=logistic, hidden_layer_sizes=(10,), learning_rate_init=0.1, accuracy=0.5149700598802395, precision=0.5159235668789809, recall=0.48502994011976047, roc_auc=0.5079063430026175, total=   0.5s\n",
      "[CV] activation=logistic, hidden_layer_sizes=(25,), learning_rate_init=0.5 \n"
     ]
    },
    {
     "name": "stderr",
     "output_type": "stream",
     "text": [
      "/home/fernando.favoretti/.local/lib/python3.6/site-packages/sklearn/neural_network/multilayer_perceptron.py:912: DataConversionWarning: A column-vector y was passed when a 1d array was expected. Please change the shape of y to (n_samples, ), for example using ravel().\n",
      "  y = column_or_1d(y, warn=True)\n",
      "/home/fernando.favoretti/.local/lib/python3.6/site-packages/sklearn/neural_network/multilayer_perceptron.py:564: ConvergenceWarning: Stochastic Optimizer: Maximum iterations (200) reached and the optimization hasn't converged yet.\n",
      "  % self.max_iter, ConvergenceWarning)\n",
      "/home/fernando.favoretti/.local/lib/python3.6/site-packages/sklearn/neural_network/multilayer_perceptron.py:564: ConvergenceWarning: Stochastic Optimizer: Maximum iterations (200) reached and the optimization hasn't converged yet.\n",
      "  % self.max_iter, ConvergenceWarning)\n"
     ]
    },
    {
     "name": "stdout",
     "output_type": "stream",
     "text": [
      "[CV]  activation=logistic, hidden_layer_sizes=(10,), learning_rate_init=0.01, accuracy=0.5119760479041916, precision=0.5126582278481012, recall=0.48502994011976047, roc_auc=0.5204560938004231, total=   0.5s\n"
     ]
    },
    {
     "name": "stderr",
     "output_type": "stream",
     "text": [
      "/home/fernando.favoretti/.local/lib/python3.6/site-packages/sklearn/neural_network/multilayer_perceptron.py:564: ConvergenceWarning: Stochastic Optimizer: Maximum iterations (200) reached and the optimization hasn't converged yet.\n",
      "  % self.max_iter, ConvergenceWarning)\n"
     ]
    },
    {
     "name": "stdout",
     "output_type": "stream",
     "text": [
      "[CV]  activation=logistic, hidden_layer_sizes=(10,), learning_rate_init=0.001, accuracy=0.5090361445783133, precision=0.5081967213114754, recall=0.5602409638554217, roc_auc=0.5280519669037597, total=   0.5s\n",
      "[CV] activation=logistic, hidden_layer_sizes=(25,), learning_rate_init=0.5 \n"
     ]
    },
    {
     "name": "stderr",
     "output_type": "stream",
     "text": [
      "/home/fernando.favoretti/.local/lib/python3.6/site-packages/sklearn/neural_network/multilayer_perceptron.py:564: ConvergenceWarning: Stochastic Optimizer: Maximum iterations (200) reached and the optimization hasn't converged yet.\n",
      "  % self.max_iter, ConvergenceWarning)\n"
     ]
    },
    {
     "name": "stdout",
     "output_type": "stream",
     "text": [
      "[CV]  activation=logistic, hidden_layer_sizes=(10,), learning_rate_init=0.001, accuracy=0.5, precision=0.5, recall=0.46706586826347307, roc_auc=0.5288823550503783, total=   0.6s\n",
      "[CV] activation=logistic, hidden_layer_sizes=(25,), learning_rate_init=0.5 \n"
     ]
    },
    {
     "name": "stderr",
     "output_type": "stream",
     "text": [
      "/home/fernando.favoretti/.local/lib/python3.6/site-packages/sklearn/neural_network/multilayer_perceptron.py:912: DataConversionWarning: A column-vector y was passed when a 1d array was expected. Please change the shape of y to (n_samples, ), for example using ravel().\n",
      "  y = column_or_1d(y, warn=True)\n",
      "/home/fernando.favoretti/.local/lib/python3.6/site-packages/sklearn/neural_network/multilayer_perceptron.py:912: DataConversionWarning: A column-vector y was passed when a 1d array was expected. Please change the shape of y to (n_samples, ), for example using ravel().\n",
      "  y = column_or_1d(y, warn=True)\n",
      "/home/fernando.favoretti/.local/lib/python3.6/site-packages/sklearn/neural_network/multilayer_perceptron.py:564: ConvergenceWarning: Stochastic Optimizer: Maximum iterations (200) reached and the optimization hasn't converged yet.\n",
      "  % self.max_iter, ConvergenceWarning)\n"
     ]
    },
    {
     "name": "stdout",
     "output_type": "stream",
     "text": [
      "[CV] activation=logistic, hidden_layer_sizes=(25,), learning_rate_init=0.9 \n",
      "[CV]  activation=logistic, hidden_layer_sizes=(10,), learning_rate_init=0.01, accuracy=0.5059880239520959, precision=0.5059523809523809, recall=0.5089820359281437, roc_auc=0.5330058445982286, total=   0.6s\n",
      "[CV]  activation=logistic, hidden_layer_sizes=(10,), learning_rate_init=0.01, accuracy=0.5030120481927711, precision=0.5028901734104047, recall=0.5240963855421686, roc_auc=0.5369066627957614, total=   0.6s\n"
     ]
    },
    {
     "name": "stderr",
     "output_type": "stream",
     "text": [
      "/home/fernando.favoretti/.local/lib/python3.6/site-packages/sklearn/neural_network/multilayer_perceptron.py:912: DataConversionWarning: A column-vector y was passed when a 1d array was expected. Please change the shape of y to (n_samples, ), for example using ravel().\n",
      "  y = column_or_1d(y, warn=True)\n"
     ]
    },
    {
     "name": "stdout",
     "output_type": "stream",
     "text": [
      "[CV] activation=logistic, hidden_layer_sizes=(25,), learning_rate_init=0.9 \n",
      "[CV] activation=logistic, hidden_layer_sizes=(25,), learning_rate_init=0.9 \n"
     ]
    },
    {
     "name": "stderr",
     "output_type": "stream",
     "text": [
      "/home/fernando.favoretti/.local/lib/python3.6/site-packages/sklearn/neural_network/multilayer_perceptron.py:912: DataConversionWarning: A column-vector y was passed when a 1d array was expected. Please change the shape of y to (n_samples, ), for example using ravel().\n",
      "  y = column_or_1d(y, warn=True)\n"
     ]
    },
    {
     "name": "stdout",
     "output_type": "stream",
     "text": [
      "[CV]  activation=logistic, hidden_layer_sizes=(25,), learning_rate_init=0.5, accuracy=0.5059880239520959, precision=0.5074626865671642, recall=0.40718562874251496, roc_auc=0.5262648355982645, total=   0.1s\n"
     ]
    },
    {
     "name": "stderr",
     "output_type": "stream",
     "text": [
      "/home/fernando.favoretti/.local/lib/python3.6/site-packages/sklearn/neural_network/multilayer_perceptron.py:912: DataConversionWarning: A column-vector y was passed when a 1d array was expected. Please change the shape of y to (n_samples, ), for example using ravel().\n",
      "  y = column_or_1d(y, warn=True)\n"
     ]
    },
    {
     "name": "stdout",
     "output_type": "stream",
     "text": [
      "[CV] activation=logistic, hidden_layer_sizes=(10, 15), learning_rate_init=0.001 \n"
     ]
    },
    {
     "name": "stderr",
     "output_type": "stream",
     "text": [
      "/home/fernando.favoretti/.local/lib/python3.6/site-packages/sklearn/neural_network/multilayer_perceptron.py:912: DataConversionWarning: A column-vector y was passed when a 1d array was expected. Please change the shape of y to (n_samples, ), for example using ravel().\n",
      "  y = column_or_1d(y, warn=True)\n",
      "/home/fernando.favoretti/.local/lib/python3.6/site-packages/sklearn/neural_network/multilayer_perceptron.py:564: ConvergenceWarning: Stochastic Optimizer: Maximum iterations (200) reached and the optimization hasn't converged yet.\n",
      "  % self.max_iter, ConvergenceWarning)\n"
     ]
    },
    {
     "name": "stdout",
     "output_type": "stream",
     "text": [
      "[CV]  activation=logistic, hidden_layer_sizes=(10,), learning_rate_init=0.001, accuracy=0.5658682634730539, precision=0.5585106382978723, recall=0.6287425149700598, roc_auc=0.5690057011725054, total=   0.7s\n",
      "[CV]  activation=logistic, hidden_layer_sizes=(25,), learning_rate_init=0.9, accuracy=0.49700598802395207, precision=0.4878048780487805, recall=0.11976047904191617, roc_auc=0.5243285883323174, total=   0.1s\n",
      "[CV] activation=logistic, hidden_layer_sizes=(10, 15), learning_rate_init=0.001 \n",
      "[CV]  activation=logistic, hidden_layer_sizes=(25,), learning_rate_init=0.1, accuracy=0.5210843373493976, precision=0.5228758169934641, recall=0.4819277108433735, roc_auc=0.5376687472782697, total=   0.2s\n",
      "[CV] activation=logistic, hidden_layer_sizes=(10, 15), learning_rate_init=0.01 \n",
      "[CV]  activation=logistic, hidden_layer_sizes=(25,), learning_rate_init=0.1, accuracy=0.5538922155688623, precision=0.5494505494505495, recall=0.5988023952095808, roc_auc=0.5621571228799886, total=   0.5s\n"
     ]
    },
    {
     "name": "stderr",
     "output_type": "stream",
     "text": [
      "/home/fernando.favoretti/.local/lib/python3.6/site-packages/sklearn/neural_network/multilayer_perceptron.py:912: DataConversionWarning: A column-vector y was passed when a 1d array was expected. Please change the shape of y to (n_samples, ), for example using ravel().\n",
      "  y = column_or_1d(y, warn=True)\n",
      "/home/fernando.favoretti/.local/lib/python3.6/site-packages/sklearn/neural_network/multilayer_perceptron.py:912: DataConversionWarning: A column-vector y was passed when a 1d array was expected. Please change the shape of y to (n_samples, ), for example using ravel().\n",
      "  y = column_or_1d(y, warn=True)\n"
     ]
    },
    {
     "name": "stdout",
     "output_type": "stream",
     "text": [
      "[CV]  activation=logistic, hidden_layer_sizes=(25,), learning_rate_init=0.9, accuracy=0.5, precision=0.5, recall=0.12574850299401197, roc_auc=0.4762451145612966, total=   0.1s\n",
      "[CV] activation=logistic, hidden_layer_sizes=(10, 15), learning_rate_init=0.001 \n"
     ]
    },
    {
     "name": "stderr",
     "output_type": "stream",
     "text": [
      "/home/fernando.favoretti/.local/lib/python3.6/site-packages/sklearn/neural_network/multilayer_perceptron.py:912: DataConversionWarning: A column-vector y was passed when a 1d array was expected. Please change the shape of y to (n_samples, ), for example using ravel().\n",
      "  y = column_or_1d(y, warn=True)\n"
     ]
    },
    {
     "name": "stdout",
     "output_type": "stream",
     "text": [
      "[CV] activation=logistic, hidden_layer_sizes=(10, 15), learning_rate_init=0.1 \n",
      "[CV]  activation=logistic, hidden_layer_sizes=(25,), learning_rate_init=0.5, accuracy=0.463855421686747, precision=0.4625, recall=0.4457831325301205, roc_auc=0.4664319930323705, total=   0.2s\n",
      "[CV] activation=logistic, hidden_layer_sizes=(10, 15), learning_rate_init=0.1 \n",
      "[CV]  activation=logistic, hidden_layer_sizes=(25,), learning_rate_init=0.1, accuracy=0.5389221556886228, precision=0.5419354838709678, recall=0.5029940119760479, roc_auc=0.5223206282046684, total=   0.5s\n"
     ]
    },
    {
     "name": "stderr",
     "output_type": "stream",
     "text": [
      "/home/fernando.favoretti/.local/lib/python3.6/site-packages/sklearn/neural_network/multilayer_perceptron.py:912: DataConversionWarning: A column-vector y was passed when a 1d array was expected. Please change the shape of y to (n_samples, ), for example using ravel().\n",
      "  y = column_or_1d(y, warn=True)\n",
      "/home/fernando.favoretti/.local/lib/python3.6/site-packages/sklearn/neural_network/multilayer_perceptron.py:912: DataConversionWarning: A column-vector y was passed when a 1d array was expected. Please change the shape of y to (n_samples, ), for example using ravel().\n",
      "  y = column_or_1d(y, warn=True)\n"
     ]
    },
    {
     "name": "stdout",
     "output_type": "stream",
     "text": [
      "[CV] activation=logistic, hidden_layer_sizes=(10, 15), learning_rate_init=0.5 \n"
     ]
    },
    {
     "name": "stderr",
     "output_type": "stream",
     "text": [
      "/home/fernando.favoretti/.local/lib/python3.6/site-packages/sklearn/neural_network/multilayer_perceptron.py:912: DataConversionWarning: A column-vector y was passed when a 1d array was expected. Please change the shape of y to (n_samples, ), for example using ravel().\n",
      "  y = column_or_1d(y, warn=True)\n"
     ]
    },
    {
     "name": "stdout",
     "output_type": "stream",
     "text": [
      "[CV]  activation=logistic, hidden_layer_sizes=(25,), learning_rate_init=0.9, accuracy=0.4879518072289157, precision=0.49230769230769234, recall=0.7710843373493976, roc_auc=0.5144433154303962, total=   0.1s\n",
      "[CV] activation=logistic, hidden_layer_sizes=(10, 15), learning_rate_init=0.9 \n"
     ]
    },
    {
     "name": "stderr",
     "output_type": "stream",
     "text": [
      "/home/fernando.favoretti/.local/lib/python3.6/site-packages/sklearn/neural_network/multilayer_perceptron.py:912: DataConversionWarning: A column-vector y was passed when a 1d array was expected. Please change the shape of y to (n_samples, ), for example using ravel().\n",
      "  y = column_or_1d(y, warn=True)\n"
     ]
    },
    {
     "name": "stdout",
     "output_type": "stream",
     "text": [
      "[CV] activation=logistic, hidden_layer_sizes=(10, 15), learning_rate_init=0.9 \n"
     ]
    },
    {
     "name": "stderr",
     "output_type": "stream",
     "text": [
      "/home/fernando.favoretti/.local/lib/python3.6/site-packages/sklearn/neural_network/multilayer_perceptron.py:564: ConvergenceWarning: Stochastic Optimizer: Maximum iterations (200) reached and the optimization hasn't converged yet.\n",
      "  % self.max_iter, ConvergenceWarning)\n"
     ]
    },
    {
     "name": "stdout",
     "output_type": "stream",
     "text": [
      "[CV]  activation=logistic, hidden_layer_sizes=(25,), learning_rate_init=0.5, accuracy=0.5029940119760479, precision=0.5031055900621118, recall=0.48502994011976047, roc_auc=0.5406074079386138, total=   0.1s\n",
      "[CV] activation=logistic, hidden_layer_sizes=(10, 10, 10), learning_rate_init=0.001 \n"
     ]
    },
    {
     "name": "stderr",
     "output_type": "stream",
     "text": [
      "/home/fernando.favoretti/.local/lib/python3.6/site-packages/sklearn/neural_network/multilayer_perceptron.py:912: DataConversionWarning: A column-vector y was passed when a 1d array was expected. Please change the shape of y to (n_samples, ), for example using ravel().\n",
      "  y = column_or_1d(y, warn=True)\n",
      "/home/fernando.favoretti/.local/lib/python3.6/site-packages/sklearn/neural_network/multilayer_perceptron.py:912: DataConversionWarning: A column-vector y was passed when a 1d array was expected. Please change the shape of y to (n_samples, ), for example using ravel().\n",
      "  y = column_or_1d(y, warn=True)\n"
     ]
    },
    {
     "name": "stdout",
     "output_type": "stream",
     "text": [
      "[CV]  activation=logistic, hidden_layer_sizes=(25,), learning_rate_init=0.001, accuracy=0.5059880239520959, precision=0.5056818181818182, recall=0.5329341317365269, roc_auc=0.49940836889096063, total=   0.8s\n",
      "[CV] activation=logistic, hidden_layer_sizes=(10, 10, 10), learning_rate_init=0.01 \n",
      "[CV]  activation=logistic, hidden_layer_sizes=(10, 15), learning_rate_init=0.001, accuracy=0.47305389221556887, precision=0.4745762711864407, recall=0.5029940119760479, roc_auc=0.45455197389651836, total=   0.1s\n"
     ]
    },
    {
     "name": "stderr",
     "output_type": "stream",
     "text": [
      "/home/fernando.favoretti/.local/lib/python3.6/site-packages/sklearn/neural_network/multilayer_perceptron.py:912: DataConversionWarning: A column-vector y was passed when a 1d array was expected. Please change the shape of y to (n_samples, ), for example using ravel().\n",
      "  y = column_or_1d(y, warn=True)\n"
     ]
    },
    {
     "name": "stdout",
     "output_type": "stream",
     "text": [
      "[CV] activation=logistic, hidden_layer_sizes=(10, 10, 10), learning_rate_init=0.01 \n"
     ]
    },
    {
     "name": "stderr",
     "output_type": "stream",
     "text": [
      "/home/fernando.favoretti/.local/lib/python3.6/site-packages/sklearn/neural_network/multilayer_perceptron.py:912: DataConversionWarning: A column-vector y was passed when a 1d array was expected. Please change the shape of y to (n_samples, ), for example using ravel().\n",
      "  y = column_or_1d(y, warn=True)\n"
     ]
    },
    {
     "name": "stdout",
     "output_type": "stream",
     "text": [
      "[CV]  activation=logistic, hidden_layer_sizes=(10, 15), learning_rate_init=0.9, accuracy=0.5301204819277109, precision=0.5284090909090909, recall=0.5602409638554217, roc_auc=0.5210843373493976, total=   0.1s\n"
     ]
    },
    {
     "name": "stderr",
     "output_type": "stream",
     "text": [
      "/home/fernando.favoretti/.local/lib/python3.6/site-packages/sklearn/metrics/classification.py:1135: UndefinedMetricWarning: Precision is ill-defined and being set to 0.0 due to no predicted samples.\n",
      "  'precision', 'predicted', average, warn_for)\n"
     ]
    },
    {
     "name": "stdout",
     "output_type": "stream",
     "text": [
      "[CV] activation=logistic, hidden_layer_sizes=(10, 10, 10), learning_rate_init=0.001 \n",
      "[CV]  activation=logistic, hidden_layer_sizes=(10, 15), learning_rate_init=0.9, accuracy=0.5508982035928144, precision=0.5825242718446602, recall=0.3592814371257485, roc_auc=0.5756749973107677, total=   0.2s\n",
      "[CV] activation=logistic, hidden_layer_sizes=(10, 15), learning_rate_init=0.9 \n"
     ]
    },
    {
     "name": "stderr",
     "output_type": "stream",
     "text": [
      "/home/fernando.favoretti/.local/lib/python3.6/site-packages/sklearn/neural_network/multilayer_perceptron.py:912: DataConversionWarning: A column-vector y was passed when a 1d array was expected. Please change the shape of y to (n_samples, ), for example using ravel().\n",
      "  y = column_or_1d(y, warn=True)\n",
      "/home/fernando.favoretti/.local/lib/python3.6/site-packages/sklearn/neural_network/multilayer_perceptron.py:912: DataConversionWarning: A column-vector y was passed when a 1d array was expected. Please change the shape of y to (n_samples, ), for example using ravel().\n",
      "  y = column_or_1d(y, warn=True)\n",
      "/home/fernando.favoretti/.local/lib/python3.6/site-packages/sklearn/neural_network/multilayer_perceptron.py:564: ConvergenceWarning: Stochastic Optimizer: Maximum iterations (200) reached and the optimization hasn't converged yet.\n",
      "  % self.max_iter, ConvergenceWarning)\n",
      "/home/fernando.favoretti/.local/lib/python3.6/site-packages/sklearn/metrics/classification.py:1135: UndefinedMetricWarning: Precision is ill-defined and being set to 0.0 due to no predicted samples.\n",
      "  'precision', 'predicted', average, warn_for)\n"
     ]
    },
    {
     "name": "stdout",
     "output_type": "stream",
     "text": [
      "[CV]  activation=logistic, hidden_layer_sizes=(10, 10, 10), learning_rate_init=0.01, accuracy=0.5, precision=0.0, recall=0.0, roc_auc=0.517695148624906, total=   0.2s\n",
      "[CV] activation=logistic, hidden_layer_sizes=(10, 10, 10), learning_rate_init=0.01 \n"
     ]
    },
    {
     "name": "stderr",
     "output_type": "stream",
     "text": [
      "/home/fernando.favoretti/.local/lib/python3.6/site-packages/sklearn/neural_network/multilayer_perceptron.py:912: DataConversionWarning: A column-vector y was passed when a 1d array was expected. Please change the shape of y to (n_samples, ), for example using ravel().\n",
      "  y = column_or_1d(y, warn=True)\n",
      "/home/fernando.favoretti/.local/lib/python3.6/site-packages/sklearn/neural_network/multilayer_perceptron.py:564: ConvergenceWarning: Stochastic Optimizer: Maximum iterations (200) reached and the optimization hasn't converged yet.\n",
      "  % self.max_iter, ConvergenceWarning)\n"
     ]
    },
    {
     "name": "stdout",
     "output_type": "stream",
     "text": [
      "[CV]  activation=logistic, hidden_layer_sizes=(10, 15), learning_rate_init=0.001, accuracy=0.5120481927710844, precision=0.5061349693251533, recall=0.9939759036144579, roc_auc=0.5951154013644941, total=   0.2s\n",
      "[CV]  activation=logistic, hidden_layer_sizes=(10, 10, 10), learning_rate_init=0.01, accuracy=0.5, precision=0.0, recall=0.0, roc_auc=0.49869356945855703, total=   0.1s\n"
     ]
    },
    {
     "name": "stderr",
     "output_type": "stream",
     "text": [
      "/home/fernando.favoretti/.local/lib/python3.6/site-packages/sklearn/neural_network/multilayer_perceptron.py:564: ConvergenceWarning: Stochastic Optimizer: Maximum iterations (200) reached and the optimization hasn't converged yet.\n",
      "  % self.max_iter, ConvergenceWarning)\n",
      "/home/fernando.favoretti/.local/lib/python3.6/site-packages/sklearn/metrics/classification.py:1135: UndefinedMetricWarning: Precision is ill-defined and being set to 0.0 due to no predicted samples.\n",
      "  'precision', 'predicted', average, warn_for)\n"
     ]
    },
    {
     "name": "stdout",
     "output_type": "stream",
     "text": [
      "[CV] activation=logistic, hidden_layer_sizes=(10, 15), learning_rate_init=0.01 \n",
      "[CV]  activation=logistic, hidden_layer_sizes=(10, 15), learning_rate_init=0.001, accuracy=0.5, precision=0.5, recall=0.20359281437125748, roc_auc=0.5079063430026175, total=   0.4s\n",
      "[CV] activation=logistic, hidden_layer_sizes=(10, 10, 10), learning_rate_init=0.1 \n"
     ]
    },
    {
     "name": "stderr",
     "output_type": "stream",
     "text": [
      "/home/fernando.favoretti/.local/lib/python3.6/site-packages/sklearn/neural_network/multilayer_perceptron.py:564: ConvergenceWarning: Stochastic Optimizer: Maximum iterations (200) reached and the optimization hasn't converged yet.\n",
      "  % self.max_iter, ConvergenceWarning)\n"
     ]
    },
    {
     "name": "stdout",
     "output_type": "stream",
     "text": [
      "[CV]  activation=logistic, hidden_layer_sizes=(10, 15), learning_rate_init=0.5, accuracy=0.49101796407185627, precision=0.4927536231884058, recall=0.6107784431137725, roc_auc=0.4797052601384058, total=   0.2s\n",
      "[CV] activation=logistic, hidden_layer_sizes=(10, 10, 10), learning_rate_init=0.1 \n",
      "[CV]  activation=logistic, hidden_layer_sizes=(10, 10, 10), learning_rate_init=0.001, accuracy=0.5, precision=0.0, recall=0.0, roc_auc=0.47771522822618234, total=   0.1s\n"
     ]
    },
    {
     "name": "stderr",
     "output_type": "stream",
     "text": [
      "/home/fernando.favoretti/.local/lib/python3.6/site-packages/sklearn/neural_network/multilayer_perceptron.py:912: DataConversionWarning: A column-vector y was passed when a 1d array was expected. Please change the shape of y to (n_samples, ), for example using ravel().\n",
      "  y = column_or_1d(y, warn=True)\n"
     ]
    },
    {
     "name": "stdout",
     "output_type": "stream",
     "text": [
      "[CV] activation=logistic, hidden_layer_sizes=(10, 10, 10), learning_rate_init=0.5 \n",
      "[CV]  activation=logistic, hidden_layer_sizes=(25,), learning_rate_init=0.001, accuracy=0.5331325301204819, precision=0.5345911949685535, recall=0.5120481927710844, roc_auc=0.5086006677311656, total=   1.0s\n"
     ]
    },
    {
     "name": "stderr",
     "output_type": "stream",
     "text": [
      "/home/fernando.favoretti/.local/lib/python3.6/site-packages/sklearn/neural_network/multilayer_perceptron.py:912: DataConversionWarning: A column-vector y was passed when a 1d array was expected. Please change the shape of y to (n_samples, ), for example using ravel().\n",
      "  y = column_or_1d(y, warn=True)\n",
      "/home/fernando.favoretti/.local/lib/python3.6/site-packages/sklearn/neural_network/multilayer_perceptron.py:912: DataConversionWarning: A column-vector y was passed when a 1d array was expected. Please change the shape of y to (n_samples, ), for example using ravel().\n",
      "  y = column_or_1d(y, warn=True)\n"
     ]
    },
    {
     "name": "stdout",
     "output_type": "stream",
     "text": [
      "[CV]  activation=logistic, hidden_layer_sizes=(10, 10, 10), learning_rate_init=0.01, accuracy=0.5, precision=0.5, recall=1.0, roc_auc=0.47814550539639283, total=   0.1s\n",
      "[CV]  activation=logistic, hidden_layer_sizes=(25,), learning_rate_init=0.001, accuracy=0.5269461077844312, precision=0.5272727272727272, recall=0.5209580838323353, roc_auc=0.5280935135716591, total=   1.0s\n",
      "[CV] activation=logistic, hidden_layer_sizes=(10, 10, 10), learning_rate_init=0.9 \n"
     ]
    },
    {
     "name": "stderr",
     "output_type": "stream",
     "text": [
      "/home/fernando.favoretti/.local/lib/python3.6/site-packages/sklearn/neural_network/multilayer_perceptron.py:912: DataConversionWarning: A column-vector y was passed when a 1d array was expected. Please change the shape of y to (n_samples, ), for example using ravel().\n",
      "  y = column_or_1d(y, warn=True)\n",
      "/home/fernando.favoretti/.local/lib/python3.6/site-packages/sklearn/neural_network/multilayer_perceptron.py:912: DataConversionWarning: A column-vector y was passed when a 1d array was expected. Please change the shape of y to (n_samples, ), for example using ravel().\n",
      "  y = column_or_1d(y, warn=True)\n"
     ]
    },
    {
     "name": "stdout",
     "output_type": "stream",
     "text": [
      "[CV] activation=relu, hidden_layer_sizes=(10,), learning_rate_init=0.001 \n",
      "[CV] activation=logistic, hidden_layer_sizes=(10, 10, 10), learning_rate_init=0.5 \n",
      "[CV] activation=logistic, hidden_layer_sizes=(10, 15), learning_rate_init=0.5 \n"
     ]
    },
    {
     "name": "stderr",
     "output_type": "stream",
     "text": [
      "/home/fernando.favoretti/.local/lib/python3.6/site-packages/sklearn/metrics/classification.py:1135: UndefinedMetricWarning: Precision is ill-defined and being set to 0.0 due to no predicted samples.\n",
      "  'precision', 'predicted', average, warn_for)\n"
     ]
    },
    {
     "name": "stdout",
     "output_type": "stream",
     "text": [
      "[CV]  activation=logistic, hidden_layer_sizes=(25,), learning_rate_init=0.01, accuracy=0.5149700598802395, precision=0.5161290322580645, recall=0.47904191616766467, roc_auc=0.5216034995876511, total=   1.1s\n"
     ]
    },
    {
     "name": "stderr",
     "output_type": "stream",
     "text": [
      "/home/fernando.favoretti/.local/lib/python3.6/site-packages/sklearn/neural_network/multilayer_perceptron.py:564: ConvergenceWarning: Stochastic Optimizer: Maximum iterations (200) reached and the optimization hasn't converged yet.\n",
      "  % self.max_iter, ConvergenceWarning)\n",
      "/home/fernando.favoretti/.local/lib/python3.6/site-packages/sklearn/neural_network/multilayer_perceptron.py:912: DataConversionWarning: A column-vector y was passed when a 1d array was expected. Please change the shape of y to (n_samples, ), for example using ravel().\n",
      "  y = column_or_1d(y, warn=True)\n"
     ]
    },
    {
     "name": "stdout",
     "output_type": "stream",
     "text": [
      "[CV]  activation=logistic, hidden_layer_sizes=(10, 10, 10), learning_rate_init=0.1, accuracy=0.5, precision=0.5, recall=1.0, roc_auc=0.5293126322205888, total=   0.1s\n"
     ]
    },
    {
     "name": "stderr",
     "output_type": "stream",
     "text": [
      "/home/fernando.favoretti/.local/lib/python3.6/site-packages/sklearn/neural_network/multilayer_perceptron.py:912: DataConversionWarning: A column-vector y was passed when a 1d array was expected. Please change the shape of y to (n_samples, ), for example using ravel().\n",
      "  y = column_or_1d(y, warn=True)\n"
     ]
    },
    {
     "name": "stdout",
     "output_type": "stream",
     "text": [
      "[CV] activation=relu, hidden_layer_sizes=(10,), learning_rate_init=0.001 \n"
     ]
    },
    {
     "name": "stderr",
     "output_type": "stream",
     "text": [
      "/home/fernando.favoretti/.local/lib/python3.6/site-packages/sklearn/neural_network/multilayer_perceptron.py:912: DataConversionWarning: A column-vector y was passed when a 1d array was expected. Please change the shape of y to (n_samples, ), for example using ravel().\n",
      "  y = column_or_1d(y, warn=True)\n"
     ]
    },
    {
     "name": "stdout",
     "output_type": "stream",
     "text": [
      "[CV] activation=relu, hidden_layer_sizes=(10,), learning_rate_init=0.01 \n"
     ]
    },
    {
     "name": "stderr",
     "output_type": "stream",
     "text": [
      "/home/fernando.favoretti/.local/lib/python3.6/site-packages/sklearn/neural_network/multilayer_perceptron.py:912: DataConversionWarning: A column-vector y was passed when a 1d array was expected. Please change the shape of y to (n_samples, ), for example using ravel().\n",
      "  y = column_or_1d(y, warn=True)\n"
     ]
    },
    {
     "name": "stdout",
     "output_type": "stream",
     "text": [
      "[CV]  activation=logistic, hidden_layer_sizes=(25,), learning_rate_init=0.01, accuracy=0.5090361445783133, precision=0.5096774193548387, recall=0.4759036144578313, roc_auc=0.5064595732326899, total=   1.0s\n",
      "[CV] activation=relu, hidden_layer_sizes=(10,), learning_rate_init=0.1 \n"
     ]
    },
    {
     "name": "stderr",
     "output_type": "stream",
     "text": [
      "/home/fernando.favoretti/.local/lib/python3.6/site-packages/sklearn/neural_network/multilayer_perceptron.py:912: DataConversionWarning: A column-vector y was passed when a 1d array was expected. Please change the shape of y to (n_samples, ), for example using ravel().\n",
      "  y = column_or_1d(y, warn=True)\n",
      "/home/fernando.favoretti/.local/lib/python3.6/site-packages/sklearn/neural_network/multilayer_perceptron.py:912: DataConversionWarning: A column-vector y was passed when a 1d array was expected. Please change the shape of y to (n_samples, ), for example using ravel().\n",
      "  y = column_or_1d(y, warn=True)\n"
     ]
    },
    {
     "name": "stdout",
     "output_type": "stream",
     "text": [
      "[CV]  activation=logistic, hidden_layer_sizes=(10, 15), learning_rate_init=0.01, accuracy=0.5718562874251497, precision=0.6111111111111112, recall=0.39520958083832336, roc_auc=0.6013482017999927, total=   0.1s\n",
      "[CV]  activation=logistic, hidden_layer_sizes=(10, 10, 10), learning_rate_init=0.1, accuracy=0.5, precision=0.5, recall=1.0, roc_auc=0.4906593997633475, total=   0.1s\n",
      "[CV]  activation=logistic, hidden_layer_sizes=(10, 10, 10), learning_rate_init=0.001, accuracy=0.5, precision=0.0, recall=0.0, roc_auc=0.514001936247266, total=   0.4s\n",
      "[CV] activation=logistic, hidden_layer_sizes=(10, 10, 10), learning_rate_init=0.001 \n",
      "[CV] activation=relu, hidden_layer_sizes=(10,), learning_rate_init=0.1 \n"
     ]
    },
    {
     "name": "stderr",
     "output_type": "stream",
     "text": [
      "/home/fernando.favoretti/.local/lib/python3.6/site-packages/sklearn/neural_network/multilayer_perceptron.py:912: DataConversionWarning: A column-vector y was passed when a 1d array was expected. Please change the shape of y to (n_samples, ), for example using ravel().\n",
      "  y = column_or_1d(y, warn=True)\n",
      "/home/fernando.favoretti/.local/lib/python3.6/site-packages/sklearn/metrics/classification.py:1135: UndefinedMetricWarning: Precision is ill-defined and being set to 0.0 due to no predicted samples.\n",
      "  'precision', 'predicted', average, warn_for)\n"
     ]
    },
    {
     "name": "stdout",
     "output_type": "stream",
     "text": [
      "[CV] activation=logistic, hidden_layer_sizes=(10, 10, 10), learning_rate_init=0.1 \n"
     ]
    },
    {
     "name": "stderr",
     "output_type": "stream",
     "text": [
      "/home/fernando.favoretti/.local/lib/python3.6/site-packages/sklearn/neural_network/multilayer_perceptron.py:912: DataConversionWarning: A column-vector y was passed when a 1d array was expected. Please change the shape of y to (n_samples, ), for example using ravel().\n",
      "  y = column_or_1d(y, warn=True)\n"
     ]
    },
    {
     "name": "stdout",
     "output_type": "stream",
     "text": [
      "[CV]  activation=logistic, hidden_layer_sizes=(25,), learning_rate_init=0.01, accuracy=0.562874251497006, precision=0.5586592178770949, recall=0.5988023952095808, roc_auc=0.5599340241672344, total=   1.1s\n",
      "[CV] activation=relu, hidden_layer_sizes=(10,), learning_rate_init=0.5 \n"
     ]
    },
    {
     "name": "stderr",
     "output_type": "stream",
     "text": [
      "/home/fernando.favoretti/.local/lib/python3.6/site-packages/sklearn/neural_network/multilayer_perceptron.py:912: DataConversionWarning: A column-vector y was passed when a 1d array was expected. Please change the shape of y to (n_samples, ), for example using ravel().\n",
      "  y = column_or_1d(y, warn=True)\n"
     ]
    },
    {
     "name": "stdout",
     "output_type": "stream",
     "text": [
      "[CV]  activation=relu, hidden_layer_sizes=(10,), learning_rate_init=0.1, accuracy=0.4939759036144578, precision=0.4965277777777778, recall=0.8614457831325302, roc_auc=0.49112715923936706, total=   0.0s\n",
      "[CV]  activation=logistic, hidden_layer_sizes=(10, 15), learning_rate_init=0.9, accuracy=0.46407185628742514, precision=0.4659090909090909, recall=0.49101796407185627, roc_auc=0.48800602388038294, total=   0.3s\n",
      "[CV] activation=relu, hidden_layer_sizes=(10,), learning_rate_init=0.5 \n",
      "[CV] activation=relu, hidden_layer_sizes=(10,), learning_rate_init=0.9 \n"
     ]
    },
    {
     "name": "stderr",
     "output_type": "stream",
     "text": [
      "/home/fernando.favoretti/.local/lib/python3.6/site-packages/sklearn/metrics/classification.py:1135: UndefinedMetricWarning: Precision is ill-defined and being set to 0.0 due to no predicted samples.\n",
      "  'precision', 'predicted', average, warn_for)\n",
      "/home/fernando.favoretti/.local/lib/python3.6/site-packages/sklearn/neural_network/multilayer_perceptron.py:912: DataConversionWarning: A column-vector y was passed when a 1d array was expected. Please change the shape of y to (n_samples, ), for example using ravel().\n",
      "  y = column_or_1d(y, warn=True)\n"
     ]
    },
    {
     "name": "stdout",
     "output_type": "stream",
     "text": [
      "[CV]  activation=relu, hidden_layer_sizes=(10,), learning_rate_init=0.5, accuracy=0.5, precision=0.5, recall=1.0, roc_auc=0.4850299401197605, total=   0.0s\n",
      "[CV]  activation=logistic, hidden_layer_sizes=(10, 10, 10), learning_rate_init=0.5, accuracy=0.5, precision=0.0, recall=0.0, roc_auc=0.5353006561726845, total=   0.2s\n",
      "[CV] activation=relu, hidden_layer_sizes=(10,), learning_rate_init=0.5 \n",
      "[CV] activation=logistic, hidden_layer_sizes=(10, 10, 10), learning_rate_init=0.5 \n"
     ]
    },
    {
     "name": "stderr",
     "output_type": "stream",
     "text": [
      "/home/fernando.favoretti/.local/lib/python3.6/site-packages/sklearn/neural_network/multilayer_perceptron.py:912: DataConversionWarning: A column-vector y was passed when a 1d array was expected. Please change the shape of y to (n_samples, ), for example using ravel().\n",
      "  y = column_or_1d(y, warn=True)\n",
      "/home/fernando.favoretti/.local/lib/python3.6/site-packages/sklearn/neural_network/multilayer_perceptron.py:912: DataConversionWarning: A column-vector y was passed when a 1d array was expected. Please change the shape of y to (n_samples, ), for example using ravel().\n",
      "  y = column_or_1d(y, warn=True)\n",
      "/home/fernando.favoretti/.local/lib/python3.6/site-packages/sklearn/neural_network/multilayer_perceptron.py:912: DataConversionWarning: A column-vector y was passed when a 1d array was expected. Please change the shape of y to (n_samples, ), for example using ravel().\n",
      "  y = column_or_1d(y, warn=True)\n",
      "/home/fernando.favoretti/.local/lib/python3.6/site-packages/sklearn/neural_network/multilayer_perceptron.py:912: DataConversionWarning: A column-vector y was passed when a 1d array was expected. Please change the shape of y to (n_samples, ), for example using ravel().\n",
      "  y = column_or_1d(y, warn=True)\n"
     ]
    },
    {
     "name": "stdout",
     "output_type": "stream",
     "text": [
      "[CV]  activation=relu, hidden_layer_sizes=(10,), learning_rate_init=0.5, accuracy=0.5059880239520959, precision=0.5034013605442177, recall=0.8862275449101796, roc_auc=0.4777331564416078, total=   0.0s\n",
      "[CV] activation=relu, hidden_layer_sizes=(10,), learning_rate_init=0.9 \n",
      "[CV]  activation=logistic, hidden_layer_sizes=(10, 10, 10), learning_rate_init=0.9, accuracy=0.5, precision=0.0, recall=0.0, roc_auc=0.49671913657714517, total=   0.2s\n"
     ]
    },
    {
     "name": "stderr",
     "output_type": "stream",
     "text": [
      "/home/fernando.favoretti/.local/lib/python3.6/site-packages/sklearn/neural_network/multilayer_perceptron.py:912: DataConversionWarning: A column-vector y was passed when a 1d array was expected. Please change the shape of y to (n_samples, ), for example using ravel().\n",
      "  y = column_or_1d(y, warn=True)\n"
     ]
    },
    {
     "name": "stdout",
     "output_type": "stream",
     "text": [
      "[CV]  activation=relu, hidden_layer_sizes=(10,), learning_rate_init=0.1, accuracy=0.5, precision=0.5, recall=1.0, roc_auc=0.4411237405428664, total=   0.1s\n",
      "[CV]  activation=logistic, hidden_layer_sizes=(10, 15), learning_rate_init=0.5, accuracy=0.5120481927710844, precision=0.5175438596491229, recall=0.35542168674698793, roc_auc=0.49807664392509793, total=   0.2s\n",
      "[CV]  activation=relu, hidden_layer_sizes=(10,), learning_rate_init=0.5, accuracy=0.5090361445783133, precision=0.6363636363636364, recall=0.04216867469879518, roc_auc=0.5090361445783134, total=   0.0s\n",
      "[CV]  activation=relu, hidden_layer_sizes=(10,), learning_rate_init=0.9, accuracy=0.4880239520958084, precision=0.4714285714285714, recall=0.19760479041916168, roc_auc=0.48802395209580846, total=   0.1s\n",
      "[CV] activation=logistic, hidden_layer_sizes=(10, 10, 10), learning_rate_init=0.9 \n",
      "[CV] activation=relu, hidden_layer_sizes=(10,), learning_rate_init=0.9 \n"
     ]
    },
    {
     "name": "stderr",
     "output_type": "stream",
     "text": [
      "/home/fernando.favoretti/.local/lib/python3.6/site-packages/sklearn/neural_network/multilayer_perceptron.py:912: DataConversionWarning: A column-vector y was passed when a 1d array was expected. Please change the shape of y to (n_samples, ), for example using ravel().\n",
      "  y = column_or_1d(y, warn=True)\n"
     ]
    },
    {
     "name": "stdout",
     "output_type": "stream",
     "text": [
      "[CV] activation=relu, hidden_layer_sizes=(25,), learning_rate_init=0.001 \n"
     ]
    },
    {
     "name": "stderr",
     "output_type": "stream",
     "text": [
      "/home/fernando.favoretti/.local/lib/python3.6/site-packages/sklearn/neural_network/multilayer_perceptron.py:912: DataConversionWarning: A column-vector y was passed when a 1d array was expected. Please change the shape of y to (n_samples, ), for example using ravel().\n",
      "  y = column_or_1d(y, warn=True)\n"
     ]
    },
    {
     "name": "stdout",
     "output_type": "stream",
     "text": [
      "[CV] activation=relu, hidden_layer_sizes=(25,), learning_rate_init=0.01 \n",
      "[CV]  activation=relu, hidden_layer_sizes=(10,), learning_rate_init=0.9, accuracy=0.5210843373493976, precision=0.5231788079470199, recall=0.4759036144578313, roc_auc=0.514896937146175, total=   0.0s\n",
      "[CV] activation=relu, hidden_layer_sizes=(10,), learning_rate_init=0.1 \n",
      "[CV] activation=relu, hidden_layer_sizes=(25,), learning_rate_init=0.001 \n",
      "[CV]  activation=relu, hidden_layer_sizes=(10,), learning_rate_init=0.9, accuracy=0.5029940119760479, precision=0.5029239766081871, recall=0.5149700598802395, roc_auc=0.5076194915558105, total=   0.0s\n"
     ]
    },
    {
     "name": "stderr",
     "output_type": "stream",
     "text": [
      "/home/fernando.favoretti/.local/lib/python3.6/site-packages/sklearn/neural_network/multilayer_perceptron.py:912: DataConversionWarning: A column-vector y was passed when a 1d array was expected. Please change the shape of y to (n_samples, ), for example using ravel().\n",
      "  y = column_or_1d(y, warn=True)\n",
      "/home/fernando.favoretti/.local/lib/python3.6/site-packages/sklearn/neural_network/multilayer_perceptron.py:912: DataConversionWarning: A column-vector y was passed when a 1d array was expected. Please change the shape of y to (n_samples, ), for example using ravel().\n",
      "  y = column_or_1d(y, warn=True)\n",
      "/home/fernando.favoretti/.local/lib/python3.6/site-packages/sklearn/neural_network/multilayer_perceptron.py:912: DataConversionWarning: A column-vector y was passed when a 1d array was expected. Please change the shape of y to (n_samples, ), for example using ravel().\n",
      "  y = column_or_1d(y, warn=True)\n"
     ]
    },
    {
     "name": "stdout",
     "output_type": "stream",
     "text": [
      "[CV] activation=relu, hidden_layer_sizes=(25,), learning_rate_init=0.01 \n",
      "[CV]  activation=logistic, hidden_layer_sizes=(10, 10, 10), learning_rate_init=0.5, accuracy=0.5, precision=0.5, recall=1.0, roc_auc=0.4989422352898993, total=   0.0s\n",
      "[CV]  activation=logistic, hidden_layer_sizes=(10, 10, 10), learning_rate_init=0.5, accuracy=0.5030120481927711, precision=0.5019157088122606, recall=0.7891566265060241, roc_auc=0.4800043547684715, total=   0.3s\n"
     ]
    },
    {
     "name": "stderr",
     "output_type": "stream",
     "text": [
      "/home/fernando.favoretti/.local/lib/python3.6/site-packages/sklearn/neural_network/multilayer_perceptron.py:912: DataConversionWarning: A column-vector y was passed when a 1d array was expected. Please change the shape of y to (n_samples, ), for example using ravel().\n",
      "  y = column_or_1d(y, warn=True)\n"
     ]
    },
    {
     "name": "stdout",
     "output_type": "stream",
     "text": [
      "[CV] activation=logistic, hidden_layer_sizes=(10, 10, 10), learning_rate_init=0.9 \n",
      "[CV] activation=relu, hidden_layer_sizes=(25,), learning_rate_init=0.1 \n"
     ]
    },
    {
     "name": "stderr",
     "output_type": "stream",
     "text": [
      "/home/fernando.favoretti/.local/lib/python3.6/site-packages/sklearn/metrics/classification.py:1135: UndefinedMetricWarning: Precision is ill-defined and being set to 0.0 due to no predicted samples.\n",
      "  'precision', 'predicted', average, warn_for)\n",
      "/home/fernando.favoretti/.local/lib/python3.6/site-packages/sklearn/neural_network/multilayer_perceptron.py:912: DataConversionWarning: A column-vector y was passed when a 1d array was expected. Please change the shape of y to (n_samples, ), for example using ravel().\n",
      "  y = column_or_1d(y, warn=True)\n",
      "/home/fernando.favoretti/.local/lib/python3.6/site-packages/sklearn/neural_network/multilayer_perceptron.py:912: DataConversionWarning: A column-vector y was passed when a 1d array was expected. Please change the shape of y to (n_samples, ), for example using ravel().\n",
      "  y = column_or_1d(y, warn=True)\n",
      "/home/fernando.favoretti/.local/lib/python3.6/site-packages/sklearn/neural_network/multilayer_perceptron.py:912: DataConversionWarning: A column-vector y was passed when a 1d array was expected. Please change the shape of y to (n_samples, ), for example using ravel().\n",
      "  y = column_or_1d(y, warn=True)\n"
     ]
    },
    {
     "name": "stdout",
     "output_type": "stream",
     "text": [
      "[CV]  activation=relu, hidden_layer_sizes=(10,), learning_rate_init=0.1, accuracy=0.4880239520958084, precision=0.4787234042553192, recall=0.2694610778443114, roc_auc=0.4910000358564308, total=   0.0s\n",
      "[CV]  activation=logistic, hidden_layer_sizes=(10, 10, 10), learning_rate_init=0.9, accuracy=0.5, precision=0.5, recall=1.0, roc_auc=0.5688779213238495, total=   0.1s\n",
      "[CV] activation=relu, hidden_layer_sizes=(25,), learning_rate_init=0.5 \n",
      "[CV]  activation=logistic, hidden_layer_sizes=(10, 15), learning_rate_init=0.1, accuracy=0.5898203592814372, precision=0.5852272727272727, recall=0.6167664670658682, roc_auc=0.5809100362149952, total=   0.8s\n",
      "[CV] activation=relu, hidden_layer_sizes=(25,), learning_rate_init=0.5 \n"
     ]
    },
    {
     "name": "stderr",
     "output_type": "stream",
     "text": [
      "/home/fernando.favoretti/.local/lib/python3.6/site-packages/sklearn/neural_network/multilayer_perceptron.py:912: DataConversionWarning: A column-vector y was passed when a 1d array was expected. Please change the shape of y to (n_samples, ), for example using ravel().\n",
      "  y = column_or_1d(y, warn=True)\n"
     ]
    },
    {
     "name": "stdout",
     "output_type": "stream",
     "text": [
      "[CV] activation=logistic, hidden_layer_sizes=(10, 15), learning_rate_init=0.1 \n"
     ]
    },
    {
     "name": "stderr",
     "output_type": "stream",
     "text": [
      "/home/fernando.favoretti/.local/lib/python3.6/site-packages/sklearn/neural_network/multilayer_perceptron.py:912: DataConversionWarning: A column-vector y was passed when a 1d array was expected. Please change the shape of y to (n_samples, ), for example using ravel().\n",
      "  y = column_or_1d(y, warn=True)\n"
     ]
    },
    {
     "name": "stdout",
     "output_type": "stream",
     "text": [
      "[CV]  activation=logistic, hidden_layer_sizes=(10, 10, 10), learning_rate_init=0.1, accuracy=0.5, precision=0.0, recall=0.0, roc_auc=0.5413340107417622, total=   0.2s\n",
      "[CV] activation=relu, hidden_layer_sizes=(25,), learning_rate_init=0.9 \n"
     ]
    },
    {
     "name": "stderr",
     "output_type": "stream",
     "text": [
      "/home/fernando.favoretti/.local/lib/python3.6/site-packages/sklearn/neural_network/multilayer_perceptron.py:912: DataConversionWarning: A column-vector y was passed when a 1d array was expected. Please change the shape of y to (n_samples, ), for example using ravel().\n",
      "  y = column_or_1d(y, warn=True)\n",
      "/home/fernando.favoretti/.local/lib/python3.6/site-packages/sklearn/neural_network/multilayer_perceptron.py:912: DataConversionWarning: A column-vector y was passed when a 1d array was expected. Please change the shape of y to (n_samples, ), for example using ravel().\n",
      "  y = column_or_1d(y, warn=True)\n",
      "/home/fernando.favoretti/.local/lib/python3.6/site-packages/sklearn/metrics/classification.py:1135: UndefinedMetricWarning: Precision is ill-defined and being set to 0.0 due to no predicted samples.\n",
      "  'precision', 'predicted', average, warn_for)\n"
     ]
    },
    {
     "name": "stdout",
     "output_type": "stream",
     "text": [
      "[CV]  activation=logistic, hidden_layer_sizes=(10, 10, 10), learning_rate_init=0.9, accuracy=0.5179640718562875, precision=0.5227272727272727, recall=0.41317365269461076, roc_auc=0.5188963390584101, total=   0.1s\n"
     ]
    },
    {
     "name": "stderr",
     "output_type": "stream",
     "text": [
      "[Parallel(n_jobs=-1)]: Done  48 tasks      | elapsed:    1.6s\n"
     ]
    },
    {
     "name": "stdout",
     "output_type": "stream",
     "text": [
      "[CV] activation=relu, hidden_layer_sizes=(10, 15), learning_rate_init=0.001 \n",
      "[CV]  activation=relu, hidden_layer_sizes=(25,), learning_rate_init=0.5, accuracy=0.5, precision=0.0, recall=0.0, roc_auc=0.5, total=   0.1s\n",
      "[CV] activation=relu, hidden_layer_sizes=(25,), learning_rate_init=0.9 \n"
     ]
    },
    {
     "name": "stderr",
     "output_type": "stream",
     "text": [
      "/home/fernando.favoretti/.local/lib/python3.6/site-packages/sklearn/neural_network/multilayer_perceptron.py:912: DataConversionWarning: A column-vector y was passed when a 1d array was expected. Please change the shape of y to (n_samples, ), for example using ravel().\n",
      "  y = column_or_1d(y, warn=True)\n",
      "/home/fernando.favoretti/.local/lib/python3.6/site-packages/sklearn/neural_network/multilayer_perceptron.py:912: DataConversionWarning: A column-vector y was passed when a 1d array was expected. Please change the shape of y to (n_samples, ), for example using ravel().\n",
      "  y = column_or_1d(y, warn=True)\n"
     ]
    },
    {
     "name": "stdout",
     "output_type": "stream",
     "text": [
      "[CV]  activation=relu, hidden_layer_sizes=(25,), learning_rate_init=0.1, accuracy=0.5359281437125748, precision=0.5967741935483871, recall=0.2215568862275449, roc_auc=0.5456093800423107, total=   0.0s\n",
      "[CV]  activation=relu, hidden_layer_sizes=(25,), learning_rate_init=0.5, accuracy=0.5089820359281437, precision=0.5046153846153846, recall=0.9820359281437125, roc_auc=0.5090896052206964, total=   0.0s\n",
      "[CV]  activation=relu, hidden_layer_sizes=(25,), learning_rate_init=0.9, accuracy=0.4820359281437126, precision=0.46875, recall=0.2694610778443114, roc_auc=0.4773566639176736, total=   0.1s\n",
      "[CV] activation=relu, hidden_layer_sizes=(25,), learning_rate_init=0.1 \n",
      "[CV] activation=relu, hidden_layer_sizes=(25,), learning_rate_init=0.5 \n",
      "[CV]  activation=relu, hidden_layer_sizes=(25,), learning_rate_init=0.9, accuracy=0.5299401197604791, precision=0.5294117647058824, recall=0.5389221556886228, roc_auc=0.5299401197604791, total=   0.0s\n"
     ]
    },
    {
     "name": "stderr",
     "output_type": "stream",
     "text": [
      "/home/fernando.favoretti/.local/lib/python3.6/site-packages/sklearn/neural_network/multilayer_perceptron.py:912: DataConversionWarning: A column-vector y was passed when a 1d array was expected. Please change the shape of y to (n_samples, ), for example using ravel().\n",
      "  y = column_or_1d(y, warn=True)\n",
      "/home/fernando.favoretti/.local/lib/python3.6/site-packages/sklearn/neural_network/multilayer_perceptron.py:564: ConvergenceWarning: Stochastic Optimizer: Maximum iterations (200) reached and the optimization hasn't converged yet.\n",
      "  % self.max_iter, ConvergenceWarning)\n",
      "/home/fernando.favoretti/.local/lib/python3.6/site-packages/sklearn/neural_network/multilayer_perceptron.py:912: DataConversionWarning: A column-vector y was passed when a 1d array was expected. Please change the shape of y to (n_samples, ), for example using ravel().\n",
      "  y = column_or_1d(y, warn=True)\n"
     ]
    },
    {
     "name": "stdout",
     "output_type": "stream",
     "text": [
      "[CV] activation=relu, hidden_layer_sizes=(25,), learning_rate_init=0.9 \n",
      "[CV]  activation=relu, hidden_layer_sizes=(10,), learning_rate_init=0.001, accuracy=0.5449101796407185, precision=0.5483870967741935, recall=0.5089820359281437, roc_auc=0.5674997310767687, total=   0.6s\n"
     ]
    },
    {
     "name": "stderr",
     "output_type": "stream",
     "text": [
      "/home/fernando.favoretti/.local/lib/python3.6/site-packages/sklearn/neural_network/multilayer_perceptron.py:912: DataConversionWarning: A column-vector y was passed when a 1d array was expected. Please change the shape of y to (n_samples, ), for example using ravel().\n",
      "  y = column_or_1d(y, warn=True)\n"
     ]
    },
    {
     "name": "stdout",
     "output_type": "stream",
     "text": [
      "[CV] activation=relu, hidden_layer_sizes=(10, 15), learning_rate_init=0.001 \n",
      "[CV] activation=relu, hidden_layer_sizes=(10,), learning_rate_init=0.001 \n"
     ]
    },
    {
     "name": "stderr",
     "output_type": "stream",
     "text": [
      "/home/fernando.favoretti/.local/lib/python3.6/site-packages/sklearn/neural_network/multilayer_perceptron.py:912: DataConversionWarning: A column-vector y was passed when a 1d array was expected. Please change the shape of y to (n_samples, ), for example using ravel().\n",
      "  y = column_or_1d(y, warn=True)\n",
      "/home/fernando.favoretti/.local/lib/python3.6/site-packages/sklearn/neural_network/multilayer_perceptron.py:912: DataConversionWarning: A column-vector y was passed when a 1d array was expected. Please change the shape of y to (n_samples, ), for example using ravel().\n",
      "  y = column_or_1d(y, warn=True)\n"
     ]
    },
    {
     "name": "stdout",
     "output_type": "stream",
     "text": [
      "[CV]  activation=relu, hidden_layer_sizes=(25,), learning_rate_init=0.9, accuracy=0.43373493975903615, precision=0.44329896907216493, recall=0.5180722891566265, roc_auc=0.43373493975903615, total=   0.0s\n",
      "[CV]  activation=relu, hidden_layer_sizes=(25,), learning_rate_init=0.1, accuracy=0.5180722891566265, precision=0.875, recall=0.04216867469879518, roc_auc=0.623203658005516, total=   0.1s\n",
      "[CV]  activation=relu, hidden_layer_sizes=(25,), learning_rate_init=0.5, accuracy=0.5239520958083832, precision=0.5126582278481012, recall=0.9700598802395209, roc_auc=0.5239520958083832, total=   0.1s\n",
      "[CV] activation=relu, hidden_layer_sizes=(10, 15), learning_rate_init=0.01 \n",
      "[CV] activation=relu, hidden_layer_sizes=(10, 15), learning_rate_init=0.1 \n",
      "[CV] activation=relu, hidden_layer_sizes=(10, 15), learning_rate_init=0.1 \n",
      "[CV]  activation=logistic, hidden_layer_sizes=(10, 15), learning_rate_init=0.1, accuracy=0.5301204819277109, precision=0.5280898876404494, recall=0.5662650602409639, roc_auc=0.5099433880098708, total=   1.1s\n",
      "[CV] activation=logistic, hidden_layer_sizes=(10, 15), learning_rate_init=0.5 \n"
     ]
    },
    {
     "name": "stderr",
     "output_type": "stream",
     "text": [
      "/home/fernando.favoretti/.local/lib/python3.6/site-packages/sklearn/neural_network/multilayer_perceptron.py:912: DataConversionWarning: A column-vector y was passed when a 1d array was expected. Please change the shape of y to (n_samples, ), for example using ravel().\n",
      "  y = column_or_1d(y, warn=True)\n",
      "/home/fernando.favoretti/.local/lib/python3.6/site-packages/sklearn/neural_network/multilayer_perceptron.py:912: DataConversionWarning: A column-vector y was passed when a 1d array was expected. Please change the shape of y to (n_samples, ), for example using ravel().\n",
      "  y = column_or_1d(y, warn=True)\n",
      "/home/fernando.favoretti/.local/lib/python3.6/site-packages/sklearn/neural_network/multilayer_perceptron.py:912: DataConversionWarning: A column-vector y was passed when a 1d array was expected. Please change the shape of y to (n_samples, ), for example using ravel().\n",
      "  y = column_or_1d(y, warn=True)\n",
      "/home/fernando.favoretti/.local/lib/python3.6/site-packages/sklearn/neural_network/multilayer_perceptron.py:912: DataConversionWarning: A column-vector y was passed when a 1d array was expected. Please change the shape of y to (n_samples, ), for example using ravel().\n",
      "  y = column_or_1d(y, warn=True)\n",
      "/home/fernando.favoretti/.local/lib/python3.6/site-packages/sklearn/metrics/classification.py:1135: UndefinedMetricWarning: Precision is ill-defined and being set to 0.0 due to no predicted samples.\n",
      "  'precision', 'predicted', average, warn_for)\n",
      "/home/fernando.favoretti/.local/lib/python3.6/site-packages/sklearn/metrics/classification.py:1135: UndefinedMetricWarning: Precision is ill-defined and being set to 0.0 due to no predicted samples.\n",
      "  'precision', 'predicted', average, warn_for)\n",
      "[Parallel(n_jobs=-1)]: Done  64 out of 120 | elapsed:    2.0s remaining:    1.8s\n"
     ]
    },
    {
     "name": "stdout",
     "output_type": "stream",
     "text": [
      "[CV]  activation=logistic, hidden_layer_sizes=(10, 10, 10), learning_rate_init=0.001, accuracy=0.5, precision=0.0, recall=0.0, roc_auc=0.480076934242996, total=   0.8s\n",
      "[CV]  activation=relu, hidden_layer_sizes=(25,), learning_rate_init=0.01, accuracy=0.5451807228915663, precision=0.5524475524475524, recall=0.4759036144578313, roc_auc=0.5514225577006822, total=   0.6s\n",
      "[CV]  activation=relu, hidden_layer_sizes=(10,), learning_rate_init=0.01, accuracy=0.5359281437125748, precision=0.5405405405405406, recall=0.47904191616766467, roc_auc=0.5389938685503244, total=   0.9s\n",
      "[CV] activation=relu, hidden_layer_sizes=(10, 15), learning_rate_init=0.5 \n",
      "[CV] activation=relu, hidden_layer_sizes=(25,), learning_rate_init=0.1 \n"
     ]
    },
    {
     "name": "stderr",
     "output_type": "stream",
     "text": [
      "/home/fernando.favoretti/.local/lib/python3.6/site-packages/sklearn/neural_network/multilayer_perceptron.py:912: DataConversionWarning: A column-vector y was passed when a 1d array was expected. Please change the shape of y to (n_samples, ), for example using ravel().\n",
      "  y = column_or_1d(y, warn=True)\n"
     ]
    },
    {
     "name": "stdout",
     "output_type": "stream",
     "text": [
      "[CV] activation=relu, hidden_layer_sizes=(10,), learning_rate_init=0.01 \n"
     ]
    },
    {
     "name": "stderr",
     "output_type": "stream",
     "text": [
      "/home/fernando.favoretti/.local/lib/python3.6/site-packages/sklearn/neural_network/multilayer_perceptron.py:912: DataConversionWarning: A column-vector y was passed when a 1d array was expected. Please change the shape of y to (n_samples, ), for example using ravel().\n",
      "  y = column_or_1d(y, warn=True)\n",
      "/home/fernando.favoretti/.local/lib/python3.6/site-packages/sklearn/neural_network/multilayer_perceptron.py:912: DataConversionWarning: A column-vector y was passed when a 1d array was expected. Please change the shape of y to (n_samples, ), for example using ravel().\n",
      "  y = column_or_1d(y, warn=True)\n",
      "/home/fernando.favoretti/.local/lib/python3.6/site-packages/sklearn/metrics/classification.py:1135: UndefinedMetricWarning: Precision is ill-defined and being set to 0.0 due to no predicted samples.\n",
      "  'precision', 'predicted', average, warn_for)\n",
      "/home/fernando.favoretti/.local/lib/python3.6/site-packages/sklearn/metrics/classification.py:1135: UndefinedMetricWarning: Precision is ill-defined and being set to 0.0 due to no predicted samples.\n",
      "  'precision', 'predicted', average, warn_for)\n"
     ]
    },
    {
     "name": "stdout",
     "output_type": "stream",
     "text": [
      "[CV]  activation=relu, hidden_layer_sizes=(10, 15), learning_rate_init=0.5, accuracy=0.5, precision=0.0, recall=0.0, roc_auc=0.5, total=   0.1s\n",
      "[CV]  activation=relu, hidden_layer_sizes=(25,), learning_rate_init=0.1, accuracy=0.5, precision=0.0, recall=0.0, roc_auc=0.5633045286672165, total=   0.1s\n",
      "[CV]  activation=relu, hidden_layer_sizes=(10, 15), learning_rate_init=0.1, accuracy=0.5059880239520959, precision=0.5033783783783784, recall=0.8922155688622755, roc_auc=0.5266592563376242, total=   0.2s\n",
      "[CV] activation=relu, hidden_layer_sizes=(10, 15), learning_rate_init=0.9 \n",
      "[CV] activation=relu, hidden_layer_sizes=(10, 15), learning_rate_init=0.1 \n",
      "[CV]  activation=logistic, hidden_layer_sizes=(10, 15), learning_rate_init=0.5, accuracy=0.47305389221556887, precision=0.4784688995215311, recall=0.5988023952095808, roc_auc=0.4740220158485424, total=   0.1s\n",
      "[CV]  activation=relu, hidden_layer_sizes=(10, 15), learning_rate_init=0.1, accuracy=0.5, precision=0.0, recall=0.0, roc_auc=0.5119756132965597, total=   0.1s\n"
     ]
    },
    {
     "name": "stderr",
     "output_type": "stream",
     "text": [
      "/home/fernando.favoretti/.local/lib/python3.6/site-packages/sklearn/neural_network/multilayer_perceptron.py:912: DataConversionWarning: A column-vector y was passed when a 1d array was expected. Please change the shape of y to (n_samples, ), for example using ravel().\n",
      "  y = column_or_1d(y, warn=True)\n"
     ]
    },
    {
     "name": "stdout",
     "output_type": "stream",
     "text": [
      "[CV] activation=relu, hidden_layer_sizes=(10, 15), learning_rate_init=0.5 \n",
      "[CV] activation=relu, hidden_layer_sizes=(10, 15), learning_rate_init=0.9 \n"
     ]
    },
    {
     "name": "stderr",
     "output_type": "stream",
     "text": [
      "/home/fernando.favoretti/.local/lib/python3.6/site-packages/sklearn/neural_network/multilayer_perceptron.py:912: DataConversionWarning: A column-vector y was passed when a 1d array was expected. Please change the shape of y to (n_samples, ), for example using ravel().\n",
      "  y = column_or_1d(y, warn=True)\n",
      "/home/fernando.favoretti/.local/lib/python3.6/site-packages/sklearn/neural_network/multilayer_perceptron.py:912: DataConversionWarning: A column-vector y was passed when a 1d array was expected. Please change the shape of y to (n_samples, ), for example using ravel().\n",
      "  y = column_or_1d(y, warn=True)\n"
     ]
    },
    {
     "name": "stdout",
     "output_type": "stream",
     "text": [
      "[CV] activation=relu, hidden_layer_sizes=(10, 15), learning_rate_init=0.5 \n"
     ]
    },
    {
     "name": "stderr",
     "output_type": "stream",
     "text": [
      "/home/fernando.favoretti/.local/lib/python3.6/site-packages/sklearn/neural_network/multilayer_perceptron.py:912: DataConversionWarning: A column-vector y was passed when a 1d array was expected. Please change the shape of y to (n_samples, ), for example using ravel().\n",
      "  y = column_or_1d(y, warn=True)\n",
      "/home/fernando.favoretti/.local/lib/python3.6/site-packages/sklearn/neural_network/multilayer_perceptron.py:912: DataConversionWarning: A column-vector y was passed when a 1d array was expected. Please change the shape of y to (n_samples, ), for example using ravel().\n",
      "  y = column_or_1d(y, warn=True)\n",
      "/home/fernando.favoretti/.local/lib/python3.6/site-packages/sklearn/metrics/classification.py:1135: UndefinedMetricWarning: Precision is ill-defined and being set to 0.0 due to no predicted samples.\n",
      "  'precision', 'predicted', average, warn_for)\n",
      "/home/fernando.favoretti/.local/lib/python3.6/site-packages/sklearn/metrics/classification.py:1135: UndefinedMetricWarning: Precision is ill-defined and being set to 0.0 due to no predicted samples.\n",
      "  'precision', 'predicted', average, warn_for)\n",
      "/home/fernando.favoretti/.local/lib/python3.6/site-packages/sklearn/metrics/classification.py:1135: UndefinedMetricWarning: Precision is ill-defined and being set to 0.0 due to no predicted samples.\n",
      "  'precision', 'predicted', average, warn_for)\n"
     ]
    },
    {
     "name": "stdout",
     "output_type": "stream",
     "text": [
      "[CV]  activation=relu, hidden_layer_sizes=(10, 15), learning_rate_init=0.9, accuracy=0.5, precision=0.0, recall=0.0, roc_auc=0.5, total=   0.1s\n",
      "[CV]  activation=relu, hidden_layer_sizes=(10, 15), learning_rate_init=0.9, accuracy=0.5, precision=0.0, recall=0.0, roc_auc=0.5, total=   0.1s\n",
      "[CV] activation=relu, hidden_layer_sizes=(10, 10, 10), learning_rate_init=0.001 \n",
      "[CV]  activation=relu, hidden_layer_sizes=(10, 15), learning_rate_init=0.5, accuracy=0.5, precision=0.0, recall=0.0, roc_auc=0.5, total=   0.1s\n",
      "[CV]  activation=logistic, hidden_layer_sizes=(10, 15), learning_rate_init=0.1, accuracy=0.5239520958083832, precision=0.5256410256410257, recall=0.49101796407185627, roc_auc=0.53264728028972, total=   0.9s\n",
      "[CV] activation=relu, hidden_layer_sizes=(10, 10, 10), learning_rate_init=0.001 \n"
     ]
    },
    {
     "name": "stderr",
     "output_type": "stream",
     "text": [
      "/home/fernando.favoretti/.local/lib/python3.6/site-packages/sklearn/neural_network/multilayer_perceptron.py:912: DataConversionWarning: A column-vector y was passed when a 1d array was expected. Please change the shape of y to (n_samples, ), for example using ravel().\n",
      "  y = column_or_1d(y, warn=True)\n"
     ]
    },
    {
     "name": "stdout",
     "output_type": "stream",
     "text": [
      "[CV]  activation=relu, hidden_layer_sizes=(10, 15), learning_rate_init=0.5, accuracy=0.49700598802395207, precision=0.0, recall=0.0, roc_auc=0.49700598802395207, total=   0.0s\n",
      "[CV] activation=relu, hidden_layer_sizes=(10, 15), learning_rate_init=0.9 \n",
      "[CV] activation=relu, hidden_layer_sizes=(10, 10, 10), learning_rate_init=0.01 \n"
     ]
    },
    {
     "name": "stderr",
     "output_type": "stream",
     "text": [
      "/home/fernando.favoretti/.local/lib/python3.6/site-packages/sklearn/neural_network/multilayer_perceptron.py:912: DataConversionWarning: A column-vector y was passed when a 1d array was expected. Please change the shape of y to (n_samples, ), for example using ravel().\n",
      "  y = column_or_1d(y, warn=True)\n"
     ]
    },
    {
     "name": "stdout",
     "output_type": "stream",
     "text": [
      "[CV] activation=relu, hidden_layer_sizes=(10, 10, 10), learning_rate_init=0.01 \n"
     ]
    },
    {
     "name": "stderr",
     "output_type": "stream",
     "text": [
      "/home/fernando.favoretti/.local/lib/python3.6/site-packages/sklearn/neural_network/multilayer_perceptron.py:912: DataConversionWarning: A column-vector y was passed when a 1d array was expected. Please change the shape of y to (n_samples, ), for example using ravel().\n",
      "  y = column_or_1d(y, warn=True)\n",
      "/home/fernando.favoretti/.local/lib/python3.6/site-packages/sklearn/neural_network/multilayer_perceptron.py:912: DataConversionWarning: A column-vector y was passed when a 1d array was expected. Please change the shape of y to (n_samples, ), for example using ravel().\n",
      "  y = column_or_1d(y, warn=True)\n",
      "/home/fernando.favoretti/.local/lib/python3.6/site-packages/sklearn/neural_network/multilayer_perceptron.py:912: DataConversionWarning: A column-vector y was passed when a 1d array was expected. Please change the shape of y to (n_samples, ), for example using ravel().\n",
      "  y = column_or_1d(y, warn=True)\n",
      "/home/fernando.favoretti/.local/lib/python3.6/site-packages/sklearn/neural_network/multilayer_perceptron.py:564: ConvergenceWarning: Stochastic Optimizer: Maximum iterations (200) reached and the optimization hasn't converged yet.\n",
      "  % self.max_iter, ConvergenceWarning)\n"
     ]
    },
    {
     "name": "stdout",
     "output_type": "stream",
     "text": [
      "[CV]  activation=relu, hidden_layer_sizes=(10,), learning_rate_init=0.001, accuracy=0.5481927710843374, precision=0.5512820512820513, recall=0.5180722891566265, roc_auc=0.5565757003919292, total=   1.4s\n",
      "[CV] activation=relu, hidden_layer_sizes=(10,), learning_rate_init=0.01 \n",
      "[CV]  activation=relu, hidden_layer_sizes=(10, 15), learning_rate_init=0.1, accuracy=0.4820359281437126, precision=0.2857142857142857, recall=0.023952095808383235, roc_auc=0.49768726021011866, total=   0.3s\n",
      "[CV]  activation=relu, hidden_layer_sizes=(25,), learning_rate_init=0.01, accuracy=0.5149700598802395, precision=0.5167785234899329, recall=0.46107784431137727, roc_auc=0.5316791566567464, total=   1.1s\n"
     ]
    },
    {
     "name": "stderr",
     "output_type": "stream",
     "text": [
      "/home/fernando.favoretti/.local/lib/python3.6/site-packages/sklearn/neural_network/multilayer_perceptron.py:564: ConvergenceWarning: Stochastic Optimizer: Maximum iterations (200) reached and the optimization hasn't converged yet.\n",
      "  % self.max_iter, ConvergenceWarning)\n"
     ]
    },
    {
     "name": "stdout",
     "output_type": "stream",
     "text": [
      "[CV] activation=relu, hidden_layer_sizes=(10, 10, 10), learning_rate_init=0.1 \n",
      "[CV]  activation=relu, hidden_layer_sizes=(10, 15), learning_rate_init=0.9, accuracy=0.5, precision=0.5, recall=1.0, roc_auc=0.5, total=   0.1s\n",
      "[CV] activation=relu, hidden_layer_sizes=(25,), learning_rate_init=0.01 \n",
      "[CV] activation=relu, hidden_layer_sizes=(10, 10, 10), learning_rate_init=0.5 \n"
     ]
    },
    {
     "name": "stderr",
     "output_type": "stream",
     "text": [
      "/home/fernando.favoretti/.local/lib/python3.6/site-packages/sklearn/neural_network/multilayer_perceptron.py:912: DataConversionWarning: A column-vector y was passed when a 1d array was expected. Please change the shape of y to (n_samples, ), for example using ravel().\n",
      "  y = column_or_1d(y, warn=True)\n",
      "/home/fernando.favoretti/.local/lib/python3.6/site-packages/sklearn/neural_network/multilayer_perceptron.py:912: DataConversionWarning: A column-vector y was passed when a 1d array was expected. Please change the shape of y to (n_samples, ), for example using ravel().\n",
      "  y = column_or_1d(y, warn=True)\n",
      "/home/fernando.favoretti/.local/lib/python3.6/site-packages/sklearn/neural_network/multilayer_perceptron.py:912: DataConversionWarning: A column-vector y was passed when a 1d array was expected. Please change the shape of y to (n_samples, ), for example using ravel().\n",
      "  y = column_or_1d(y, warn=True)\n",
      "/home/fernando.favoretti/.local/lib/python3.6/site-packages/sklearn/neural_network/multilayer_perceptron.py:912: DataConversionWarning: A column-vector y was passed when a 1d array was expected. Please change the shape of y to (n_samples, ), for example using ravel().\n",
      "  y = column_or_1d(y, warn=True)\n"
     ]
    },
    {
     "name": "stdout",
     "output_type": "stream",
     "text": [
      "[CV]  activation=relu, hidden_layer_sizes=(10, 10, 10), learning_rate_init=0.5, accuracy=0.5, precision=0.5, recall=1.0, roc_auc=0.5, total=   0.1s\n",
      "[CV] activation=relu, hidden_layer_sizes=(10, 10, 10), learning_rate_init=0.5 \n"
     ]
    },
    {
     "name": "stderr",
     "output_type": "stream",
     "text": [
      "/home/fernando.favoretti/.local/lib/python3.6/site-packages/sklearn/neural_network/multilayer_perceptron.py:912: DataConversionWarning: A column-vector y was passed when a 1d array was expected. Please change the shape of y to (n_samples, ), for example using ravel().\n",
      "  y = column_or_1d(y, warn=True)\n"
     ]
    },
    {
     "name": "stdout",
     "output_type": "stream",
     "text": [
      "[CV]  activation=logistic, hidden_layer_sizes=(10, 15), learning_rate_init=0.01, accuracy=0.4880239520958084, precision=0.4876543209876543, recall=0.47305389221556887, roc_auc=0.5129262433217397, total=   2.0s\n",
      "[CV] activation=logistic, hidden_layer_sizes=(10, 15), learning_rate_init=0.01 \n"
     ]
    },
    {
     "name": "stderr",
     "output_type": "stream",
     "text": [
      "/home/fernando.favoretti/.local/lib/python3.6/site-packages/sklearn/neural_network/multilayer_perceptron.py:912: DataConversionWarning: A column-vector y was passed when a 1d array was expected. Please change the shape of y to (n_samples, ), for example using ravel().\n",
      "  y = column_or_1d(y, warn=True)\n",
      "/home/fernando.favoretti/.local/lib/python3.6/site-packages/sklearn/metrics/classification.py:1135: UndefinedMetricWarning: Precision is ill-defined and being set to 0.0 due to no predicted samples.\n",
      "  'precision', 'predicted', average, warn_for)\n"
     ]
    },
    {
     "name": "stdout",
     "output_type": "stream",
     "text": [
      "[CV]  activation=relu, hidden_layer_sizes=(10, 10, 10), learning_rate_init=0.1, accuracy=0.5149700598802395, precision=0.5080385852090032, recall=0.9461077844311377, roc_auc=0.5143963569866256, total=   0.2s\n",
      "[CV]  activation=relu, hidden_layer_sizes=(10, 10, 10), learning_rate_init=0.5, accuracy=0.5, precision=0.0, recall=0.0, roc_auc=0.5, total=   0.1s\n",
      "[CV] activation=relu, hidden_layer_sizes=(10, 10, 10), learning_rate_init=0.1 \n",
      "[CV]  activation=relu, hidden_layer_sizes=(10,), learning_rate_init=0.01, accuracy=0.5, precision=0.5, recall=0.5481927710843374, roc_auc=0.5298301640296124, total=   0.7s\n",
      "[CV] activation=relu, hidden_layer_sizes=(10, 10, 10), learning_rate_init=0.5 \n"
     ]
    },
    {
     "name": "stderr",
     "output_type": "stream",
     "text": [
      "/home/fernando.favoretti/.local/lib/python3.6/site-packages/sklearn/neural_network/multilayer_perceptron.py:912: DataConversionWarning: A column-vector y was passed when a 1d array was expected. Please change the shape of y to (n_samples, ), for example using ravel().\n",
      "  y = column_or_1d(y, warn=True)\n"
     ]
    },
    {
     "name": "stdout",
     "output_type": "stream",
     "text": [
      "[CV] activation=relu, hidden_layer_sizes=(10, 10, 10), learning_rate_init=0.9 \n"
     ]
    },
    {
     "name": "stderr",
     "output_type": "stream",
     "text": [
      "/home/fernando.favoretti/.local/lib/python3.6/site-packages/sklearn/neural_network/multilayer_perceptron.py:912: DataConversionWarning: A column-vector y was passed when a 1d array was expected. Please change the shape of y to (n_samples, ), for example using ravel().\n",
      "  y = column_or_1d(y, warn=True)\n",
      "/home/fernando.favoretti/.local/lib/python3.6/site-packages/sklearn/neural_network/multilayer_perceptron.py:912: DataConversionWarning: A column-vector y was passed when a 1d array was expected. Please change the shape of y to (n_samples, ), for example using ravel().\n",
      "  y = column_or_1d(y, warn=True)\n",
      "/home/fernando.favoretti/.local/lib/python3.6/site-packages/sklearn/metrics/classification.py:1135: UndefinedMetricWarning: Precision is ill-defined and being set to 0.0 due to no predicted samples.\n",
      "  'precision', 'predicted', average, warn_for)\n"
     ]
    },
    {
     "name": "stdout",
     "output_type": "stream",
     "text": [
      "[CV]  activation=relu, hidden_layer_sizes=(10, 10, 10), learning_rate_init=0.5, accuracy=0.5, precision=0.5, recall=1.0, roc_auc=0.5, total=   0.0s\n",
      "[CV] activation=relu, hidden_layer_sizes=(10, 10, 10), learning_rate_init=0.9 \n",
      "[CV]  activation=relu, hidden_layer_sizes=(10, 10, 10), learning_rate_init=0.9, accuracy=0.5, precision=0.0, recall=0.0, roc_auc=0.5, total=   0.0s\n",
      "[CV] activation=relu, hidden_layer_sizes=(10, 10, 10), learning_rate_init=0.9 \n",
      "[CV]  activation=logistic, hidden_layer_sizes=(10, 15), learning_rate_init=0.01, accuracy=0.5, precision=0.5, recall=1.0, roc_auc=0.4817825518943244, total=   0.1s\n"
     ]
    },
    {
     "name": "stderr",
     "output_type": "stream",
     "text": [
      "/home/fernando.favoretti/.local/lib/python3.6/site-packages/sklearn/neural_network/multilayer_perceptron.py:912: DataConversionWarning: A column-vector y was passed when a 1d array was expected. Please change the shape of y to (n_samples, ), for example using ravel().\n",
      "  y = column_or_1d(y, warn=True)\n",
      "/home/fernando.favoretti/.local/lib/python3.6/site-packages/sklearn/neural_network/multilayer_perceptron.py:564: ConvergenceWarning: Stochastic Optimizer: Maximum iterations (200) reached and the optimization hasn't converged yet.\n",
      "  % self.max_iter, ConvergenceWarning)\n",
      "/home/fernando.favoretti/.local/lib/python3.6/site-packages/sklearn/neural_network/multilayer_perceptron.py:912: DataConversionWarning: A column-vector y was passed when a 1d array was expected. Please change the shape of y to (n_samples, ), for example using ravel().\n",
      "  y = column_or_1d(y, warn=True)\n",
      "/home/fernando.favoretti/.local/lib/python3.6/site-packages/sklearn/neural_network/multilayer_perceptron.py:564: ConvergenceWarning: Stochastic Optimizer: Maximum iterations (200) reached and the optimization hasn't converged yet.\n",
      "  % self.max_iter, ConvergenceWarning)\n",
      "/home/fernando.favoretti/.local/lib/python3.6/site-packages/sklearn/neural_network/multilayer_perceptron.py:564: ConvergenceWarning: Stochastic Optimizer: Maximum iterations (200) reached and the optimization hasn't converged yet.\n",
      "  % self.max_iter, ConvergenceWarning)\n"
     ]
    },
    {
     "name": "stdout",
     "output_type": "stream",
     "text": [
      "[CV]  activation=relu, hidden_layer_sizes=(10,), learning_rate_init=0.001, accuracy=0.5149700598802395, precision=0.5157232704402516, recall=0.49101796407185627, roc_auc=0.5019183190505218, total=   1.1s\n",
      "[CV]  activation=relu, hidden_layer_sizes=(10, 10, 10), learning_rate_init=0.9, accuracy=0.5, precision=0.5, recall=1.0, roc_auc=0.5, total=   0.0s\n"
     ]
    },
    {
     "name": "stderr",
     "output_type": "stream",
     "text": [
      "/home/fernando.favoretti/.local/lib/python3.6/site-packages/sklearn/metrics/classification.py:1135: UndefinedMetricWarning: Precision is ill-defined and being set to 0.0 due to no predicted samples.\n",
      "  'precision', 'predicted', average, warn_for)\n"
     ]
    },
    {
     "name": "stdout",
     "output_type": "stream",
     "text": [
      "[CV]  activation=relu, hidden_layer_sizes=(10, 10, 10), learning_rate_init=0.9, accuracy=0.5, precision=0.0, recall=0.0, roc_auc=0.5, total=   0.1s\n",
      "[CV]  activation=relu, hidden_layer_sizes=(25,), learning_rate_init=0.001, accuracy=0.5658682634730539, precision=0.569620253164557, recall=0.5389221556886228, roc_auc=0.6005593603212735, total=   1.5s\n"
     ]
    },
    {
     "name": "stderr",
     "output_type": "stream",
     "text": [
      "/home/fernando.favoretti/.local/lib/python3.6/site-packages/sklearn/neural_network/multilayer_perceptron.py:564: ConvergenceWarning: Stochastic Optimizer: Maximum iterations (200) reached and the optimization hasn't converged yet.\n",
      "  % self.max_iter, ConvergenceWarning)\n"
     ]
    },
    {
     "name": "stdout",
     "output_type": "stream",
     "text": [
      "[CV]  activation=relu, hidden_layer_sizes=(10, 15), learning_rate_init=0.001, accuracy=0.536144578313253, precision=0.532258064516129, recall=0.5963855421686747, roc_auc=0.5452895921033533, total=   1.2s\n",
      "[CV] activation=relu, hidden_layer_sizes=(10, 15), learning_rate_init=0.01 \n"
     ]
    },
    {
     "name": "stderr",
     "output_type": "stream",
     "text": [
      "/home/fernando.favoretti/.local/lib/python3.6/site-packages/sklearn/neural_network/multilayer_perceptron.py:912: DataConversionWarning: A column-vector y was passed when a 1d array was expected. Please change the shape of y to (n_samples, ), for example using ravel().\n",
      "  y = column_or_1d(y, warn=True)\n"
     ]
    },
    {
     "name": "stdout",
     "output_type": "stream",
     "text": [
      "[CV]  activation=relu, hidden_layer_sizes=(10, 15), learning_rate_init=0.001, accuracy=0.45808383233532934, precision=0.4588235294117647, recall=0.46706586826347307, roc_auc=0.4652730467209294, total=   1.4s\n",
      "[CV] activation=relu, hidden_layer_sizes=(10, 15), learning_rate_init=0.001 \n"
     ]
    },
    {
     "name": "stderr",
     "output_type": "stream",
     "text": [
      "/home/fernando.favoretti/.local/lib/python3.6/site-packages/sklearn/neural_network/multilayer_perceptron.py:564: ConvergenceWarning: Stochastic Optimizer: Maximum iterations (200) reached and the optimization hasn't converged yet.\n",
      "  % self.max_iter, ConvergenceWarning)\n",
      "/home/fernando.favoretti/.local/lib/python3.6/site-packages/sklearn/neural_network/multilayer_perceptron.py:912: DataConversionWarning: A column-vector y was passed when a 1d array was expected. Please change the shape of y to (n_samples, ), for example using ravel().\n",
      "  y = column_or_1d(y, warn=True)\n"
     ]
    },
    {
     "name": "stdout",
     "output_type": "stream",
     "text": [
      "[CV]  activation=relu, hidden_layer_sizes=(25,), learning_rate_init=0.001, accuracy=0.5508982035928144, precision=0.5497076023391813, recall=0.562874251497006, roc_auc=0.5377030370396931, total=   1.6s\n",
      "[CV] activation=relu, hidden_layer_sizes=(25,), learning_rate_init=0.001 \n"
     ]
    },
    {
     "name": "stderr",
     "output_type": "stream",
     "text": [
      "/home/fernando.favoretti/.local/lib/python3.6/site-packages/sklearn/neural_network/multilayer_perceptron.py:912: DataConversionWarning: A column-vector y was passed when a 1d array was expected. Please change the shape of y to (n_samples, ), for example using ravel().\n",
      "  y = column_or_1d(y, warn=True)\n"
     ]
    },
    {
     "name": "stdout",
     "output_type": "stream",
     "text": [
      "[CV]  activation=relu, hidden_layer_sizes=(10, 10, 10), learning_rate_init=0.1, accuracy=0.5030120481927711, precision=0.5027932960893855, recall=0.5421686746987951, roc_auc=0.5382856728117288, total=   0.3s\n",
      "[CV]  activation=relu, hidden_layer_sizes=(25,), learning_rate_init=0.01, accuracy=0.5419161676646707, precision=0.5421686746987951, recall=0.5389221556886228, roc_auc=0.5699738248054789, total=   0.5s\n",
      "[CV]  activation=relu, hidden_layer_sizes=(10, 10, 10), learning_rate_init=0.01, accuracy=0.5240963855421686, precision=0.527027027027027, recall=0.46987951807228917, roc_auc=0.5141892872695601, total=   0.7s\n",
      "[CV] activation=relu, hidden_layer_sizes=(10, 10, 10), learning_rate_init=0.1 \n",
      "[CV]  activation=relu, hidden_layer_sizes=(10, 10, 10), learning_rate_init=0.01, accuracy=0.5149700598802395, precision=0.5153374233128835, recall=0.5029940119760479, roc_auc=0.5299580479759044, total=   0.8s\n",
      "[CV] activation=relu, hidden_layer_sizes=(10, 10, 10), learning_rate_init=0.01 \n"
     ]
    },
    {
     "name": "stderr",
     "output_type": "stream",
     "text": [
      "/home/fernando.favoretti/.local/lib/python3.6/site-packages/sklearn/neural_network/multilayer_perceptron.py:912: DataConversionWarning: A column-vector y was passed when a 1d array was expected. Please change the shape of y to (n_samples, ), for example using ravel().\n",
      "  y = column_or_1d(y, warn=True)\n"
     ]
    },
    {
     "name": "stdout",
     "output_type": "stream",
     "text": [
      "[CV]  activation=relu, hidden_layer_sizes=(10, 15), learning_rate_init=0.01, accuracy=0.5479041916167665, precision=0.5465116279069767, recall=0.562874251497006, roc_auc=0.5787586503639428, total=   1.4s\n"
     ]
    },
    {
     "name": "stderr",
     "output_type": "stream",
     "text": [
      "/home/fernando.favoretti/.local/lib/python3.6/site-packages/sklearn/neural_network/multilayer_perceptron.py:912: DataConversionWarning: A column-vector y was passed when a 1d array was expected. Please change the shape of y to (n_samples, ), for example using ravel().\n",
      "  y = column_or_1d(y, warn=True)\n"
     ]
    },
    {
     "name": "stdout",
     "output_type": "stream",
     "text": [
      "[CV] activation=relu, hidden_layer_sizes=(10, 15), learning_rate_init=0.01 \n"
     ]
    },
    {
     "name": "stderr",
     "output_type": "stream",
     "text": [
      "/home/fernando.favoretti/.local/lib/python3.6/site-packages/sklearn/neural_network/multilayer_perceptron.py:912: DataConversionWarning: A column-vector y was passed when a 1d array was expected. Please change the shape of y to (n_samples, ), for example using ravel().\n",
      "  y = column_or_1d(y, warn=True)\n"
     ]
    },
    {
     "name": "stdout",
     "output_type": "stream",
     "text": [
      "[CV]  activation=relu, hidden_layer_sizes=(10,), learning_rate_init=0.01, accuracy=0.5179640718562875, precision=0.51875, recall=0.49700598802395207, roc_auc=0.5114919860877049, total=   0.6s\n",
      "[CV]  activation=relu, hidden_layer_sizes=(10, 10, 10), learning_rate_init=0.1, accuracy=0.5149700598802395, precision=0.5107296137339056, recall=0.7125748502994012, roc_auc=0.5042489870558284, total=   0.1s\n",
      "[CV]  activation=relu, hidden_layer_sizes=(10, 15), learning_rate_init=0.01, accuracy=0.5179640718562875, precision=0.5176470588235295, recall=0.5269461077844312, roc_auc=0.5286313600344221, total=   0.4s\n"
     ]
    },
    {
     "name": "stderr",
     "output_type": "stream",
     "text": [
      "/home/fernando.favoretti/.local/lib/python3.6/site-packages/sklearn/neural_network/multilayer_perceptron.py:564: ConvergenceWarning: Stochastic Optimizer: Maximum iterations (200) reached and the optimization hasn't converged yet.\n",
      "  % self.max_iter, ConvergenceWarning)\n",
      "/home/fernando.favoretti/.local/lib/python3.6/site-packages/sklearn/neural_network/multilayer_perceptron.py:564: ConvergenceWarning: Stochastic Optimizer: Maximum iterations (200) reached and the optimization hasn't converged yet.\n",
      "  % self.max_iter, ConvergenceWarning)\n"
     ]
    },
    {
     "name": "stdout",
     "output_type": "stream",
     "text": [
      "[CV]  activation=relu, hidden_layer_sizes=(10, 10, 10), learning_rate_init=0.001, accuracy=0.5299401197604791, precision=0.5357142857142857, recall=0.4491017964071856, roc_auc=0.5178744307791603, total=   1.1s\n",
      "[CV]  activation=relu, hidden_layer_sizes=(10, 10, 10), learning_rate_init=0.001, accuracy=0.5119760479041916, precision=0.5120481927710844, recall=0.5089820359281437, roc_auc=0.5193445444440461, total=   1.1s\n",
      "[CV] activation=relu, hidden_layer_sizes=(10, 10, 10), learning_rate_init=0.001 \n"
     ]
    },
    {
     "name": "stderr",
     "output_type": "stream",
     "text": [
      "/home/fernando.favoretti/.local/lib/python3.6/site-packages/sklearn/neural_network/multilayer_perceptron.py:912: DataConversionWarning: A column-vector y was passed when a 1d array was expected. Please change the shape of y to (n_samples, ), for example using ravel().\n",
      "  y = column_or_1d(y, warn=True)\n",
      "/home/fernando.favoretti/.local/lib/python3.6/site-packages/sklearn/neural_network/multilayer_perceptron.py:564: ConvergenceWarning: Stochastic Optimizer: Maximum iterations (200) reached and the optimization hasn't converged yet.\n",
      "  % self.max_iter, ConvergenceWarning)\n"
     ]
    }
   ],
   "source": [
    "grid_search_ga.fit(pca_components, Y)"
   ]
  },
  {
   "cell_type": "code",
   "execution_count": null,
   "metadata": {
    "scrolled": true
   },
   "outputs": [],
   "source": [
    "ga_result = pd.DataFrame(grid_search_ga.cv_results_)[result_column_list]\n",
    "ga_result.to_csv(\"Sample_400_GA.csv\")"
   ]
  },
  {
   "cell_type": "code",
   "execution_count": null,
   "metadata": {},
   "outputs": [],
   "source": []
  }
 ],
 "metadata": {
  "kernelspec": {
   "display_name": "Python 3",
   "language": "python",
   "name": "python3"
  },
  "language_info": {
   "codemirror_mode": {
    "name": "ipython",
    "version": 3
   },
   "file_extension": ".py",
   "mimetype": "text/x-python",
   "name": "python",
   "nbconvert_exporter": "python",
   "pygments_lexer": "ipython3",
   "version": "3.6.4"
  }
 },
 "nbformat": 4,
 "nbformat_minor": 2
}
