{
 "cells": [
  {
   "cell_type": "code",
   "execution_count": null,
   "metadata": {},
   "outputs": [],
   "source": [
    "# import das libs necessárias\n",
    "import pandas as pd # trabalhar com dataframes\n",
    "import numpy as np # realizacao de algumas operacoes com matrizes\n",
    "\n",
    "#imagens\n",
    "import cv2 # transformacoes faceis em imagens\n",
    "from PIL import Image # trabalhar com imagens\n",
    "\n",
    "# ferramentas\n",
    "import glob # exploracao de diretorios\n",
    "from pylab import *\n",
    "import tqdm\n",
    "import importlib\n",
    "import time\n",
    "\n",
    "# plot \n",
    "import matplotlib.pyplot as plt # plotagem\n",
    "%matplotlib inline\n",
    "\n",
    "# Machine Learning\n",
    "from sklearn.ensemble import RandomForestClassifier\n",
    "from sklearn.model_selection import GridSearchCV # Grid Search para rodar todos os parametros\n",
    "\n",
    "#importando ferramentas já implementadas anteriormente\n",
    "import sampling #retorna uma amostra para treino\n",
    "importlib.reload(sampling)\n",
    "import PCA_and_Inverse\n",
    "importlib.reload(PCA_and_Inverse)\n",
    "import feature_selection\n",
    "importlib.reload(feature_selection)\n",
    "import Utilities\n",
    "importlib.reload(Utilities)"
   ]
  },
  {
   "cell_type": "code",
   "execution_count": null,
   "metadata": {},
   "outputs": [],
   "source": [
    "time.sleep(5*60*60)"
   ]
  },
  {
   "cell_type": "markdown",
   "metadata": {},
   "source": [
    "## Cria uma amostra das imagens do tamanho definido e carrega em dataframes"
   ]
  },
  {
   "cell_type": "code",
   "execution_count": null,
   "metadata": {
    "scrolled": false
   },
   "outputs": [],
   "source": [
    "#carregando amostra dos dados\n",
    "sample_size = 1000\n",
    "X, Y = sampling.get_sample(sample_size)"
   ]
  },
  {
   "cell_type": "markdown",
   "metadata": {},
   "source": [
    "## Normaliza os dados"
   ]
  },
  {
   "cell_type": "code",
   "execution_count": null,
   "metadata": {},
   "outputs": [],
   "source": [
    "X = sampling.get_min_max_normalization(data=X)"
   ]
  },
  {
   "cell_type": "markdown",
   "metadata": {},
   "source": [
    "## Extração de características\n",
    "\n",
    "- Calcula as Componentes principais para os dados carregados"
   ]
  },
  {
   "cell_type": "code",
   "execution_count": null,
   "metadata": {},
   "outputs": [],
   "source": [
    "pca = PCA_and_Inverse.PCA_and_Inverse()\n",
    "pca_components = pca.get_PCA(X=X, n_components=64)"
   ]
  },
  {
   "cell_type": "markdown",
   "metadata": {},
   "source": [
    "## Seleção de características\n",
    "\n",
    "- Calcula as melhores features a serem utilizadas pelos métodos de:\n",
    "    - Informação Mútua\n",
    "    - Algoritmo Genético"
   ]
  },
  {
   "cell_type": "markdown",
   "metadata": {},
   "source": [
    "#### Informação Mútua"
   ]
  },
  {
   "cell_type": "code",
   "execution_count": null,
   "metadata": {
    "scrolled": true
   },
   "outputs": [],
   "source": [
    "mic_threshold = 0.05\n",
    "mic_features_df = feature_selection.get_MIC_features(X=X, Y=Y)\n",
    "mic_features = list(mic_features_df[mic_features_df[0] > mic_threshold].index)"
   ]
  },
  {
   "cell_type": "markdown",
   "metadata": {},
   "source": [
    "#### Algoritmo Genético"
   ]
  },
  {
   "cell_type": "code",
   "execution_count": null,
   "metadata": {
    "scrolled": true
   },
   "outputs": [],
   "source": [
    "ga_features = feature_selection.get_GA_features(X=X, Y=Y)\n",
    "ga_features"
   ]
  },
  {
   "cell_type": "markdown",
   "metadata": {},
   "source": [
    "## Gera as combinações de parâmetros para rodar a Random Forest"
   ]
  },
  {
   "cell_type": "code",
   "execution_count": null,
   "metadata": {
    "scrolled": true
   },
   "outputs": [],
   "source": [
    "rnd_forest_clf = RandomForestClassifier()\n",
    "parameters = [{\"n_estimators\":[100, 100000], \n",
    "               \"criterion\":[\"gini\", \"entropy\"],\n",
    "               \"max_depth\":[1000, None],\n",
    "               \"min_samples_split\":[2, 100],\n",
    "               \"min_samples_leaf\":[1, 50],\n",
    "               \"max_features\":[1000, \"auto\", \"log2\", None],\n",
    "               \"max_leaf_nodes\":[500, None]}]\n",
    "scoring = [\"accuracy\", \"precision\", \"recall\", \"roc_auc\"]\n",
    "\n",
    "if not isinstance(parameters, list):\n",
    "    parameters = [parameters]\n",
    "\n",
    "param_set = set()\n",
    "for dct in parameters:\n",
    "    param_set = param_set.union(set(dct.keys()))\n",
    "\n",
    "result_column_list= [f'param_{param}' for param in param_set] + [f'mean_test_{score}' for score in scoring]"
   ]
  },
  {
   "cell_type": "markdown",
   "metadata": {},
   "source": [
    "#### Roda todas as combinações da Random Forest para todas as features"
   ]
  },
  {
   "cell_type": "code",
   "execution_count": null,
   "metadata": {},
   "outputs": [],
   "source": [
    "grid_search_full = GridSearchCV(rnd_forest_clf, parameters, verbose=5, n_jobs=-1, cv=3, scoring=scoring, refit=False)"
   ]
  },
  {
   "cell_type": "code",
   "execution_count": null,
   "metadata": {},
   "outputs": [],
   "source": [
    "grid_search_full.fit(X, Y)"
   ]
  },
  {
   "cell_type": "code",
   "execution_count": null,
   "metadata": {
    "scrolled": true
   },
   "outputs": [],
   "source": [
    "full_result = pd.DataFrame(grid_search_full.cv_results_)[result_column_list]\n",
    "full_result.to_csv(f\"Sample_{sample_size}_Full.csv\")"
   ]
  },
  {
   "cell_type": "markdown",
   "metadata": {},
   "source": [
    "#### Roda todas as combinações da Random Forest para as features extraídas pelo PCA"
   ]
  },
  {
   "cell_type": "code",
   "execution_count": null,
   "metadata": {},
   "outputs": [],
   "source": [
    "grid_search_pca = GridSearchCV(rnd_forest_clf, parameters, verbose=5, n_jobs=-1, cv=3, scoring=scoring, refit=False)"
   ]
  },
  {
   "cell_type": "code",
   "execution_count": null,
   "metadata": {
    "scrolled": false
   },
   "outputs": [],
   "source": [
    "grid_search_pca.fit(pca_components, Y)"
   ]
  },
  {
   "cell_type": "code",
   "execution_count": null,
   "metadata": {
    "scrolled": true
   },
   "outputs": [],
   "source": [
    "pca_result = pd.DataFrame(grid_search_pca.cv_results_)[result_column_list]\n",
    "pca_result.to_csv(f\"Sample_{sample_size}_PCA.csv\")"
   ]
  },
  {
   "cell_type": "markdown",
   "metadata": {},
   "source": [
    "#### Roda todas as combinações da Random Forest para as features selecionadas pela Informação Mútua (MIC)"
   ]
  },
  {
   "cell_type": "code",
   "execution_count": null,
   "metadata": {},
   "outputs": [],
   "source": [
    "grid_search_mic = GridSearchCV(rnd_forest_clf, parameters, verbose=5, n_jobs=-1, cv=3, scoring=scoring, refit=False)"
   ]
  },
  {
   "cell_type": "code",
   "execution_count": null,
   "metadata": {
    "scrolled": true
   },
   "outputs": [],
   "source": [
    "grid_search_mic.fit(X[mic_features], Y)"
   ]
  },
  {
   "cell_type": "code",
   "execution_count": null,
   "metadata": {
    "scrolled": true
   },
   "outputs": [],
   "source": [
    "mic_result = pd.DataFrame(grid_search_mic.cv_results_)[result_column_list]\n",
    "mic_result.to_csv(f\"Sample_{sample_size}_MIC.csv\")"
   ]
  },
  {
   "cell_type": "markdown",
   "metadata": {},
   "source": [
    "#### Roda todas as combinações da Random Forest para as features selecionadas pelo Algoritmo Genético (GA)"
   ]
  },
  {
   "cell_type": "code",
   "execution_count": null,
   "metadata": {},
   "outputs": [],
   "source": [
    "grid_search_ga = GridSearchCV(rnd_forest_clf, parameters, verbose=5, n_jobs=-1, cv=3, scoring=scoring, refit=False)"
   ]
  },
  {
   "cell_type": "code",
   "execution_count": null,
   "metadata": {
    "scrolled": true
   },
   "outputs": [],
   "source": [
    "grid_search_ga.fit(pca_components, Y)"
   ]
  },
  {
   "cell_type": "code",
   "execution_count": null,
   "metadata": {
    "scrolled": true
   },
   "outputs": [],
   "source": [
    "ga_result = pd.DataFrame(grid_search_ga.cv_results_)[result_column_list]\n",
    "ga_result.to_csv(f\"Sample_{sample_size}_GA.csv\")"
   ]
  },
  {
   "cell_type": "markdown",
   "metadata": {},
   "source": [
    "#### Salva todas as informações geradas em um Excel"
   ]
  },
  {
   "cell_type": "code",
   "execution_count": null,
   "metadata": {},
   "outputs": [],
   "source": [
    "Utilities.to_excel(dataframe=pd.DataFrame([full_result, pca_result, mic_result, ga_result]),\n",
    "                   name=f\"Sample_{sample_size}\",\n",
    "                   sheet_name=\"Results\")"
   ]
  },
  {
   "cell_type": "code",
   "execution_count": null,
   "metadata": {},
   "outputs": [],
   "source": []
  }
 ],
 "metadata": {
  "kernelspec": {
   "display_name": "Python 3",
   "language": "python",
   "name": "python3"
  },
  "language_info": {
   "codemirror_mode": {
    "name": "ipython",
    "version": 3
   },
   "file_extension": ".py",
   "mimetype": "text/x-python",
   "name": "python",
   "nbconvert_exporter": "python",
   "pygments_lexer": "ipython3",
   "version": "3.7.0"
  }
 },
 "nbformat": 4,
 "nbformat_minor": 2
}
